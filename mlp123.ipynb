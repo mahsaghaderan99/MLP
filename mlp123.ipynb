{
  "nbformat": 4,
  "nbformat_minor": 0,
  "metadata": {
    "colab": {
      "name": "mlp123.ipynb",
      "provenance": [],
      "authorship_tag": "ABX9TyMSuXTWTEh12CAPaEkViN0Z",
      "include_colab_link": true
    },
    "kernelspec": {
      "name": "python3",
      "display_name": "Python 3"
    },
    "accelerator": "GPU"
  },
  "cells": [
    {
      "cell_type": "markdown",
      "metadata": {
        "id": "view-in-github",
        "colab_type": "text"
      },
      "source": [
        "<a href=\"https://colab.research.google.com/github/mahsaghaderan99/MLP/blob/backpropagation/mlp123.ipynb\" target=\"_parent\"><img src=\"https://colab.research.google.com/assets/colab-badge.svg\" alt=\"Open In Colab\"/></a>"
      ]
    },
    {
      "cell_type": "markdown",
      "metadata": {
        "id": "FLMaSYkcqa8E"
      },
      "source": [
        "Deep MLP project"
      ]
    },
    {
      "cell_type": "markdown",
      "metadata": {
        "id": "exTpYwTAYv5T"
      },
      "source": [
        "#Part1"
      ]
    },
    {
      "cell_type": "markdown",
      "metadata": {
        "id": "j_RbJtzbqhlj"
      },
      "source": [
        "##Import"
      ]
    },
    {
      "cell_type": "code",
      "metadata": {
        "id": "f4taA2mFqeFj"
      },
      "source": [
        "import tensorflow as tf\n",
        "from keras.utils.np_utils import to_categorical  \n",
        "from os import path, getcwd, chdir\n",
        "import numpy as np"
      ],
      "execution_count": 1,
      "outputs": []
    },
    {
      "cell_type": "markdown",
      "metadata": {
        "id": "d1qpr-LlZLh9"
      },
      "source": [
        "##Layer"
      ]
    },
    {
      "cell_type": "code",
      "metadata": {
        "id": "UpOmUK3WqN1U"
      },
      "source": [
        "class Layer:\n",
        "  def __init__(self,node_number,activation):\n",
        "    \n",
        "    self.node_num = node_number\n",
        "    self.delta = np.empty(node_number)\n",
        "    self.vj = np.empty(node_number)\n",
        "    self.outj = np.empty(node_number)\n",
        "    self.b = np.zeros((self.node_num, 1)) \n",
        "    if activation == 'sigmoid':\n",
        "      self.activation = self._sigmoid\n",
        "      self.d_activation = self._d_sigmoid \n",
        "    elif activation == 'relu':\n",
        "      self.activation = self._relu\n",
        "      self.d_activation =  self._d_relu\n",
        "    else:\n",
        "      self.activation = self._none\n",
        "      self.d_activation = self._none\n",
        "      \n",
        "  def define_weights(self,input_shape):\n",
        "    self.weights = np.random.uniform(low=0, high=1, size=(self.node_num,input_shape))\n",
        "\n",
        "  def _sigmoid(self,x):\n",
        "    return np.power(1+np.exp(-0.5*x),-1)\n",
        "    \n",
        "  def _d_sigmoid(self,x):\n",
        "    return self._sigmoid(x)*(1-self._sigmoid(x))\n",
        "\n",
        "  def _relu(self,x):\n",
        "    return x*(x>0)\n",
        "\n",
        "  def _d_relu(self,x):\n",
        "    return 1.*(x>0)\n",
        "\n",
        "  def _none(self,x):\n",
        "    return x\n",
        "   "
      ],
      "execution_count": 235,
      "outputs": []
    },
    {
      "cell_type": "markdown",
      "metadata": {
        "id": "vLyjRG01ZM99"
      },
      "source": [
        "##Model"
      ]
    },
    {
      "cell_type": "code",
      "metadata": {
        "id": "bM1Z3intquGw"
      },
      "source": [
        "class Model:\n",
        "  def __init__(self,learning_rate,epochs):\n",
        "    self.layers = np.empty(0,dtype=Layer)\n",
        "    self.lr = learning_rate\n",
        "    self.epochs = epochs\n",
        "\n",
        "  def Dense(self,node_number,activation_function):\n",
        "    self.layers = np.append(self.layers,Layer(node_number,activation_function))\n",
        "\n",
        "  def Train(self,training,training_y):\n",
        "    try:\n",
        "      self.training = training.reshape(training.shape[0],training.shape[1]*training.shape[2])\n",
        "    except:\n",
        "      self.training = np.expand_dims(training,1)\n",
        "    self.desiered_labels = training_y\n",
        "    self._define_weights()\n",
        "    errors = []\n",
        "    epoch = 1\n",
        "    while self.epochs>=epoch:\n",
        "      err = 0\n",
        "      for tr in range(0,self.training.shape[0]):\n",
        "        yhat = self._forward_propagation(tr)\n",
        "        err += self._update_weights(tr)\n",
        "      print(epoch,'-------total error:',err)\n",
        "      epoch +=1\n",
        "      errors.append(err)\n",
        "    return errors\n",
        "\n",
        "  def _define_weights(self):\n",
        "    self.layers[0].define_weights(self.training[0].shape[0])\n",
        "    for i in range(1,self.layers.shape[0]):\n",
        "      self.layers[i].define_weights(self.layers[i-1].node_num)\n",
        "\n",
        "  def _forward_propagation(self,tr):\n",
        "    yhat = self._layer_output(self.training[tr] ,0)\n",
        "    for i in range(1,self.layers.shape[0]):\n",
        "      yhat = self._layer_output(yhat ,i)\n",
        "    # print( yhat)\n",
        "    return yhat\n",
        "\n",
        "  def _layer_output(self,x,i):\n",
        "    yhat = np.dot(self.layers[i].weights,x)\n",
        "    if i!= self.layers.shape[0]:\n",
        "      yhat = self.layers[i].activation(yhat)\n",
        "    self.layers[i].yj = yhat\n",
        "    return yhat\n",
        "\n",
        "  def _update_weights(self,tr):\n",
        "    err = np.sum(np.power(self.desiered_labels[tr]-self.layers[-1].yj,2))/2\n",
        "    fiprim = self.layers[-1].d_activation(self.layers[-1-1].yj)\n",
        "    fiprim = np.expand_dims(fiprim,1).T\n",
        "    self.layers[-1].delta  = (fiprim * (self.desiered_labels[tr]-self.layers[-1].yj))\n",
        "    # print(self.desiered_labels[tr]-self.layers[-1-1].yj)\n",
        "    for i in range(len(self.layers)-2,-1,-1):\n",
        "      self._delta(i,tr)\n",
        "    for i in range(len(self.layers)-1,-1,-1):\n",
        "      yj =np.expand_dims(self.layers[i].yj,1)\n",
        "      delta = self.layers[i].delta\n",
        "      deltaw = self.lr * delta * yj\n",
        "      # print(delta)\n",
        "      self.layers[i].weights = self.layers[i].weights + deltaw\n",
        "      return err\n",
        "\n",
        "  def _delta(self,i,tr):\n",
        "    if i == 0: \n",
        "      input = self.training[tr]\n",
        "    else:\n",
        "      input = self.layers[i-1].yj\n",
        "    fiprim =  self.layers[i-1].d_activation(input)\n",
        "    fiprim = np.expand_dims(fiprim,1)\n",
        "    sum_delta_w = np.sum((self.layers[i+1].weights*self.layers[i+1].delta).T,1)\n",
        "    self.layers[i].delta =  (fiprim * sum_delta_w).T\n",
        "  \n",
        "  def Predict(self,test_images):\n",
        "    try:\n",
        "      testings = test_images.reshape(test_images.shape[0],test_images.shape[1]*test_images.shape[2])\n",
        "    except:\n",
        "      testings = test_images\n",
        "    predicts = []\n",
        "    for t in range(0,testings.shape[0]):\n",
        "      yhat = self._layer_output(testings[t] ,0)\n",
        "      for i in range(1,self.layers.shape[0]):\n",
        "        yhat = self._layer_output(yhat ,i)\n",
        "      predicts.append(yhat[0][0])\n",
        "    return np.array(predicts)\n",
        "\n",
        "  def Evaluate(self,x,y):\n",
        "    predictions = self.Predict(x)\n",
        "    return np.sum(np.power(predictions-y,2))/2, np.sum(np.abs(predictions-y))/y.shape[0]"
      ],
      "execution_count": 218,
      "outputs": []
    },
    {
      "cell_type": "markdown",
      "metadata": {
        "id": "wkaZCBs9ZTO0"
      },
      "source": [
        "#Part2"
      ]
    },
    {
      "cell_type": "code",
      "metadata": {
        "id": "VM4T2a0wqzDN"
      },
      "source": [
        "x = np.linspace(0,1,200,dtype=np.float16)\n",
        "xcopy = np.linspace(-1,1,200,dtype=np.float16)\n",
        "np.random.shuffle(x)\n"
      ],
      "execution_count": 245,
      "outputs": []
    },
    {
      "cell_type": "code",
      "metadata": {
        "id": "tOWGwQT8qyFf",
        "outputId": "6493b02a-e430-48d1-e7a5-b7bdb5fd3434",
        "colab": {
          "base_uri": "https://localhost:8080/",
          "height": 637
        }
      },
      "source": [
        "a = Model(0.01,20)\n",
        "a.Dense(4,'sigmoid')\n",
        "a.Dense(1,'None')\n",
        "err = a.Train(x,x)\n",
        "print(a.Evaluate(x, x))\n",
        "p = a.Predict(xcopy)\n",
        "plt.plot(p,'r')\n",
        "plt.plot(xcopy,'b')\n",
        "# plt.plot(xcopy,'b')\n",
        "plt.show()"
      ],
      "execution_count": 260,
      "outputs": [
        {
          "output_type": "stream",
          "text": [
            "1 -------total error: 13.454559718964068\n",
            "2 -------total error: 8.170520764227557\n",
            "3 -------total error: 7.890620775141616\n",
            "4 -------total error: 7.860910039019569\n",
            "5 -------total error: 7.854908824170586\n",
            "6 -------total error: 7.852067485770779\n",
            "7 -------total error: 7.849826524364514\n",
            "8 -------total error: 7.84773716033416\n",
            "9 -------total error: 7.84569228807782\n",
            "10 -------total error: 7.843661468410087\n",
            "11 -------total error: 7.841635420901068\n",
            "12 -------total error: 7.839611247485573\n",
            "13 -------total error: 7.837588036185026\n",
            "14 -------total error: 7.835565499283861\n",
            "15 -------total error: 7.833543545889022\n",
            "16 -------total error: 7.831522147217686\n",
            "17 -------total error: 7.829501294090485\n",
            "18 -------total error: 7.8274809835152315\n",
            "19 -------total error: 7.825461214452292\n",
            "20 -------total error: 7.823441986478234\n",
            "(7.775814647940471, 0.2414179509516299)\n"
          ],
          "name": "stdout"
        },
        {
          "output_type": "display_data",
          "data": {
            "image/png": "[encoded data removed]",
            "text/plain": [
              "<Figure size 432x288 with 1 Axes>"
            ]
          },
          "metadata": {
            "tags": [],
            "needs_background": "light"
          }
        }
      ]
    },
    {
      "cell_type": "code",
      "metadata": {
        "id": "TgL1bufPq4te",
        "outputId": "b969e542-0e19-4765-8eda-8ca6a4027707",
        "colab": {
          "base_uri": "https://localhost:8080/",
          "height": 282
        }
      },
      "source": [
        "#show classificaion and error\n",
        "import matplotlib.pyplot as plt\n",
        "err = np.array(err)\n",
        "nerr =np.arange(0,err.shape[0])\n",
        "print(err.shape[0]) \n",
        "plt.plot(nerr,err,'r')\n",
        "plt.show()"
      ],
      "execution_count": 248,
      "outputs": [
        {
          "output_type": "stream",
          "text": [
            "20\n"
          ],
          "name": "stdout"
        },
        {
          "output_type": "display_data",
          "data": {
            "image/png": "[encoded data removed]",
            "text/plain": [
              "<Figure size 432x288 with 1 Axes>"
            ]
          },
          "metadata": {
            "tags": [],
            "needs_background": "light"
          }
        }
      ]
    },
    {
      "cell_type": "code",
      "metadata": {
        "id": "xZwBcMaPnC0d",
        "outputId": "4c6abf3c-556f-4e30-cac3-6dacc5985812",
        "colab": {
          "base_uri": "https://localhost:8080/",
          "height": 1000
        }
      },
      "source": [
        "model = tf.keras.models.Sequential([\n",
        "        tf.keras.layers.Dense(2,activation='sigmoid'),\n",
        "        tf.keras.layers.Dense(5,activation='sigmoid'),\n",
        "        tf.keras.layers.Dense(4,activation='sigmoid'),\n",
        "        tf.keras.layers.Dense(1)\n",
        "])\n",
        "\n",
        "model.compile(loss ='mean_squared_error')\n",
        "history = model.fit(x,x,epochs=20)\n",
        "p = model.predict(xcopy)\n",
        "plt.plot(xcopy,p)\n",
        "plt.plot(xcopy,xcopy)\n",
        "plt.show()\n",
        "print(model.evaluate(x, x))"
      ],
      "execution_count": 262,
      "outputs": [
        {
          "output_type": "stream",
          "text": [
            "Epoch 1/20\n",
            "7/7 [==============================] - 0s 2ms/step - loss: 0.9219\n",
            "Epoch 2/20\n",
            "7/7 [==============================] - 0s 2ms/step - loss: 0.8215\n",
            "Epoch 3/20\n",
            "7/7 [==============================] - 0s 2ms/step - loss: 0.7526\n",
            "Epoch 4/20\n",
            "7/7 [==============================] - 0s 2ms/step - loss: 0.6911\n",
            "Epoch 5/20\n",
            "7/7 [==============================] - 0s 2ms/step - loss: 0.6366\n",
            "Epoch 6/20\n",
            "7/7 [==============================] - 0s 2ms/step - loss: 0.5854\n",
            "Epoch 7/20\n",
            "7/7 [==============================] - 0s 2ms/step - loss: 0.5377\n",
            "Epoch 8/20\n",
            "7/7 [==============================] - 0s 2ms/step - loss: 0.4922\n",
            "Epoch 9/20\n",
            "7/7 [==============================] - 0s 2ms/step - loss: 0.4515\n",
            "Epoch 10/20\n",
            "7/7 [==============================] - 0s 2ms/step - loss: 0.4124\n",
            "Epoch 11/20\n",
            "7/7 [==============================] - 0s 2ms/step - loss: 0.3747\n",
            "Epoch 12/20\n",
            "7/7 [==============================] - 0s 2ms/step - loss: 0.3409\n",
            "Epoch 13/20\n",
            "7/7 [==============================] - 0s 2ms/step - loss: 0.3101\n",
            "Epoch 14/20\n",
            "7/7 [==============================] - 0s 2ms/step - loss: 0.2806\n",
            "Epoch 15/20\n",
            "7/7 [==============================] - 0s 2ms/step - loss: 0.2540\n",
            "Epoch 16/20\n",
            "7/7 [==============================] - 0s 2ms/step - loss: 0.2286\n",
            "Epoch 17/20\n",
            "7/7 [==============================] - 0s 2ms/step - loss: 0.2061\n",
            "Epoch 18/20\n",
            "7/7 [==============================] - 0s 2ms/step - loss: 0.1878\n",
            "Epoch 19/20\n",
            "7/7 [==============================] - 0s 2ms/step - loss: 0.1691\n",
            "Epoch 20/20\n",
            "7/7 [==============================] - 0s 2ms/step - loss: 0.1533\n"
          ],
          "name": "stdout"
        },
        {
          "output_type": "display_data",
          "data": {
            "image/png": "[encoded data removed]",
            "text/plain": [
              "<Figure size 432x288 with 1 Axes>"
            ]
          },
          "metadata": {
            "tags": [],
            "needs_background": "light"
          }
        },
        {
          "output_type": "stream",
          "text": [
            "7/7 [==============================] - 0s 1ms/step - loss: 0.1437\n",
            "0.1436806321144104\n"
          ],
          "name": "stdout"
        }
      ]
    },
    {
      "cell_type": "code",
      "metadata": {
        "id": "WVhqVXfGofNF"
      },
      "source": [
        ""
      ],
      "execution_count": null,
      "outputs": []
    }
  ]
}