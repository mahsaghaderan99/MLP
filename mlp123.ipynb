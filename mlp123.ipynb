{
  "nbformat": 4,
  "nbformat_minor": 0,
  "metadata": {
    "colab": {
      "name": "mlp123.ipynb",
      "provenance": [],
      "authorship_tag": "ABX9TyO/tiEmlIIkxfmJ3yRINwF8",
      "include_colab_link": true
    },
    "kernelspec": {
      "name": "python3",
      "display_name": "Python 3"
    },
    "accelerator": "GPU"
  },
  "cells": [
    {
      "cell_type": "markdown",
      "metadata": {
        "id": "view-in-github",
        "colab_type": "text"
      },
      "source": [
        "<a href=\"https://colab.research.google.com/github/mahsaghaderan99/MLP/blob/backpropagation/mlp123.ipynb\" target=\"_parent\"><img src=\"https://colab.research.google.com/assets/colab-badge.svg\" alt=\"Open In Colab\"/></a>"
      ]
    },
    {
      "cell_type": "markdown",
      "metadata": {
        "id": "FLMaSYkcqa8E"
      },
      "source": [
        "Deep MLP project"
      ]
    },
    {
      "cell_type": "markdown",
      "metadata": {
        "id": "exTpYwTAYv5T"
      },
      "source": [
        "#Part1"
      ]
    },
    {
      "cell_type": "markdown",
      "metadata": {
        "id": "j_RbJtzbqhlj"
      },
      "source": [
        "##Import"
      ]
    },
    {
      "cell_type": "code",
      "metadata": {
        "id": "f4taA2mFqeFj"
      },
      "source": [
        "import tensorflow as tf\n",
        "from keras.utils.np_utils import to_categorical  \n",
        "from os import path, getcwd, chdir\n",
        "import numpy as np"
      ],
      "execution_count": 1,
      "outputs": []
    },
    {
      "cell_type": "markdown",
      "metadata": {
        "id": "d1qpr-LlZLh9"
      },
      "source": [
        "##Layer"
      ]
    },
    {
      "cell_type": "code",
      "metadata": {
        "id": "UpOmUK3WqN1U"
      },
      "source": [
        "class Layer:\n",
        "  def __init__(self,node_number,activation):\n",
        "    \n",
        "    self.node_num = node_number\n",
        "    self.delta = np.empty(node_number)\n",
        "    self.vj = np.empty(node_number)\n",
        "    self.outj = np.empty(node_number)\n",
        "    self.b = np.zeros((self.node_num, 1)) \n",
        "    self.activation = self._sigmoid if activation == 'sigmoid' else self._relu\n",
        "    self.d_activation = self._d_sigmoid if activation == 'sigmoid' else self._d_relu\n",
        "\n",
        "  def define_weights(self,input_shape):\n",
        "    self.weights = np.random.uniform(low=0, high=1, size=(self.node_num,input_shape))\n",
        "\n",
        "  def _sigmoid(self,x):\n",
        "    return np.power(1+np.exp(-0.5*x),-1)\n",
        "    \n",
        "  def _d_sigmoid(self,x):\n",
        "    return self._sigmoid(x)*(1-self._sigmoid(x))\n",
        "\n",
        "  def _relu(self,x):\n",
        "    return x*(x>0)\n",
        "\n",
        "  def _d_relu(self,x):\n",
        "    return 1.*(x>0)\n",
        "   "
      ],
      "execution_count": 137,
      "outputs": []
    },
    {
      "cell_type": "markdown",
      "metadata": {
        "id": "vLyjRG01ZM99"
      },
      "source": [
        "##Model"
      ]
    },
    {
      "cell_type": "code",
      "metadata": {
        "id": "bM1Z3intquGw"
      },
      "source": [
        "class Model:\n",
        "  def __init__(self,learning_rate,epochs):\n",
        "    self.layers = np.empty(0,dtype=Layer)\n",
        "    self.lr = learning_rate\n",
        "    self.epochs = epochs\n",
        "\n",
        "  def Dense(self,node_number,activation_function):\n",
        "    self.layers = np.append(self.layers,Layer(node_number,activation_function))\n",
        "\n",
        "  def Train(self,training,training_y):\n",
        "    try:\n",
        "      self.training = training.reshape(training.shape[0],training.shape[1]*training.shape[2])\n",
        "    except:\n",
        "      self.training = np.expand_dims(training,1)\n",
        "    self.desiered_labels = training_y\n",
        "    self._define_weights()\n",
        "    while self.epochs>0:\n",
        "      print(self.epochs)\n",
        "      self.epochs -=1\n",
        "      for tr in range(0,self.training.shape[0]):\n",
        "        yhat = self._forward_propagation(tr)\n",
        "        self._update_weights(yhat,tr)\n",
        "\n",
        "  def _define_weights(self):\n",
        "    self.layers[0].define_weights(self.training[0].shape[0])\n",
        "    for i in range(1,self.layers.shape[0]):\n",
        "      self.layers[i].define_weights(self.layers[i-1].node_num)\n",
        "\n",
        "  def _forward_propagation(self,tr):\n",
        "    yhat = self._layer_output(self.training[tr] ,0)\n",
        "    for i in range(1,self.layers.shape[0]):\n",
        "      yhat = self._layer_output(yhat ,i)\n",
        "    # print( yhat)\n",
        "    return yhat\n",
        "\n",
        "  def _layer_output(self,x,i):\n",
        "    yhat = np.dot(self.layers[i].weights,x)\n",
        "    if i!= self.layers.shape[0]:\n",
        "      yhat = self.layers[i].activation(yhat)\n",
        "    self.layers[i].yj = yhat\n",
        "    return yhat\n",
        "\n",
        "  def _update_weights(self,yhat,tr):\n",
        "    fiprim = self.layers[-1].d_activation(self.layers[-1-1].yj)\n",
        "    fiprim = np.expand_dims(fiprim,1).T\n",
        "    self.layers[-1].delta  = (fiprim * (self.desiered_labels[tr]-self.layers[-1].yj))\n",
        "    # print(self.desiered_labels[tr]-self.layers[-1-1].yj)\n",
        "    for i in range(len(self.layers)-2,-1,-1):\n",
        "      self._delta(i,tr)\n",
        "    for i in range(len(self.layers)-1,-1,-1):\n",
        "      yj =np.expand_dims(self.layers[i].yj,1)\n",
        "      delta = self.layers[i].delta\n",
        "      deltaw = self.lr * delta * yj\n",
        "      # print(delta)\n",
        "      self.layers[i].weights = self.layers[i].weights + deltaw\n",
        "\n",
        "  def _delta(self,i,tr):\n",
        "    if i == 0: \n",
        "      input = self.training[tr]\n",
        "    else:\n",
        "      input = self.layers[i-1].yj\n",
        "    fiprim =  self.layers[i-1].d_activation(input)\n",
        "    fiprim = np.expand_dims(fiprim,1)\n",
        "    sum_delta_w = np.sum((self.layers[i+1].weights*self.layers[i+1].delta).T,1)\n",
        "    self.layers[i].delta =  (fiprim * sum_delta_w).T\n",
        "  \n",
        "  def Predict(self,test_images):\n",
        "    try:\n",
        "      testings = test_images.reshape(test_images.shape[0],test_images.shape[1]*test_images.shape[2])\n",
        "    except:\n",
        "      testings = test_images\n",
        "    predicts = []\n",
        "    for t in range(0,testings.shape[0]):\n",
        "      yhat = self._layer_output(testings[t] ,0)\n",
        "      for i in range(1,self.layers.shape[0]):\n",
        "        yhat = self._layer_output(yhat ,i)\n",
        "      predicts.append(yhat[0][0])\n",
        "    return np.array(predicts)\n",
        "    \n",
        "  def Evaluate(self,x,y):\n",
        "    predictions = self.Predict(x)\n",
        "    return np.sum(np.power(predictions-y,2))/2, np.sum(np.abs(predictions-y))/y.shape[0]"
      ],
      "execution_count": 203,
      "outputs": []
    },
    {
      "cell_type": "markdown",
      "metadata": {
        "id": "wkaZCBs9ZTO0"
      },
      "source": [
        "#Part2"
      ]
    },
    {
      "cell_type": "code",
      "metadata": {
        "id": "VM4T2a0wqzDN"
      },
      "source": [
        "x = np.linspace(0,1,200,dtype=np.float16)\n",
        "np.random.shuffle(x)\n"
      ],
      "execution_count": 185,
      "outputs": []
    },
    {
      "cell_type": "code",
      "metadata": {
        "id": "tOWGwQT8qyFf",
        "outputId": "3df6438a-85c2-40d4-a4df-0451afae1e1b",
        "colab": {
          "base_uri": "https://localhost:8080/",
          "height": 941
        }
      },
      "source": [
        "a = Model(0.01,20)\n",
        "a.Dense(4,'relu')\n",
        "a.Dense(1,'relu')\n",
        "a.Train(x[10:40],x[10:40])\n",
        "# a.Test(x[10:40],x[10:40])\n",
        "print(a.Evaluate(x[10:40], x[10:40]))\n",
        "p = a.Predict(x[10:40])\n",
        "print(len(p))\n",
        "for i in range(len(p)):\n",
        "  print(p[i],x[i+10])\n",
        "# # to_categorical(training_y, num_classes)"
      ],
      "execution_count": 204,
      "outputs": [
        {
          "output_type": "stream",
          "text": [
            "20\n",
            "19\n",
            "18\n",
            "17\n",
            "16\n",
            "15\n",
            "14\n",
            "13\n",
            "12\n",
            "11\n",
            "10\n",
            "9\n",
            "8\n",
            "7\n",
            "6\n",
            "5\n",
            "4\n",
            "3\n",
            "2\n",
            "1\n",
            "(1.0297018896930208e-08, 2.2203289229272975e-05)\n",
            "30\n",
            "0.7739610099214337 0.774\n",
            "0.05526984972270175 0.05527\n",
            "0.276379767580777 0.2764\n",
            "0.38698050496071684 0.387\n",
            "0.24122191728781592 0.2412\n",
            "0.26636954631680887 0.2664\n",
            "0.5478765003986427 0.548\n",
            "0.2712525810797201 0.2712\n",
            "0.8594141182723807 0.8594\n",
            "0.5781513159286924 0.578\n",
            "0.9751420421533774 0.975\n",
            "0.1759113273338779 0.1759\n",
            "0.371843097195692 0.3718\n",
            "0.346695468166699 0.3467\n",
            "0.6333296087495895 0.6333\n",
            "0.477316648074575 0.4773\n",
            "0.41212813398970977 0.412\n",
            "0.05026473909071772 0.05026\n",
            "0.7388031596284726 0.739\n",
            "0.09546332961491502 0.09546\n",
            "0.35670568943066705 0.3567\n",
            "0.9800250769162886 0.98\n",
            "0.869180187798203 0.869\n",
            "0.6631161208033483 0.663\n",
            "0.17090621670189388 0.1709\n",
            "0.30152739660976996 0.3015\n",
            "0.9497502613862389 0.9497\n",
            "0.8091188602143946 0.809\n",
            "0.010048369973053313 0.01005\n",
            "0.989791146442111 0.9897\n"
          ],
          "name": "stdout"
        }
      ]
    },
    {
      "cell_type": "code",
      "metadata": {
        "id": "TgL1bufPq4te"
      },
      "source": [
        "#show classificaion and error\n",
        "import matplotlib.pyplot as plt\n",
        "\n",
        "nerr =np.arange(0,a.err.shape[0])\n",
        "print(a.err.shape[0]) \n",
        "plt.plot(nerr,a.err,'r')\n",
        "plt.show()"
      ],
      "execution_count": null,
      "outputs": []
    }
  ]
}