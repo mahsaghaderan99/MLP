{
  "nbformat": 4,
  "nbformat_minor": 0,
  "metadata": {
    "colab": {
      "name": "mlp123.ipynb",
      "provenance": [],
      "authorship_tag": "ABX9TyPT5JqwPXJXC8bLl7M/KjIL",
      "include_colab_link": true
    },
    "kernelspec": {
      "name": "python3",
      "display_name": "Python 3"
    },
    "accelerator": "GPU"
  },
  "cells": [
    {
      "cell_type": "markdown",
      "metadata": {
        "id": "view-in-github",
        "colab_type": "text"
      },
      "source": [
        "<a href=\"https://colab.research.google.com/github/mahsaghaderan99/MLP/blob/backpropagation/mlp123.ipynb\" target=\"_parent\"><img src=\"https://colab.research.google.com/assets/colab-badge.svg\" alt=\"Open In Colab\"/></a>"
      ]
    },
    {
      "cell_type": "markdown",
      "metadata": {
        "id": "FLMaSYkcqa8E"
      },
      "source": [
        "Deep MLP project"
      ]
    },
    {
      "cell_type": "markdown",
      "metadata": {
        "id": "j_RbJtzbqhlj"
      },
      "source": [
        "#Implement MLP"
      ]
    },
    {
      "cell_type": "code",
      "metadata": {
        "id": "f4taA2mFqeFj"
      },
      "source": [
        "import tensorflow as tf\n",
        "from keras.utils.np_utils import to_categorical  \n",
        "from os import path, getcwd, chdir\n",
        "import numpy as np"
      ],
      "execution_count": 1,
      "outputs": []
    },
    {
      "cell_type": "code",
      "metadata": {
        "id": "VM4T2a0wqzDN"
      },
      "source": [
        "x = np.linspace(0,1,200,dtype=np.float16)\n",
        "np.random.shuffle(x)\n"
      ],
      "execution_count": 110,
      "outputs": []
    },
    {
      "cell_type": "code",
      "metadata": {
        "id": "UpOmUK3WqN1U"
      },
      "source": [
        "class Layer:\n",
        "  def __init__(self,node_number,activation):\n",
        "    \n",
        "    self.node_num = node_number\n",
        "    self.delta = np.empty(node_number)\n",
        "    self.vj = np.empty(node_number)\n",
        "    self.outj = np.empty(node_number)\n",
        "    self.b = np.zeros((self.node_num, 1)) \n",
        "    self.activation = self._sigmoid if activation == 'sigmoid' else self._relu\n",
        "    self.d_activation = self._d_sigmoid if activation == 'sigmoid' else self._d_relu\n",
        "\n",
        "  def define_weights(self,input_shape):\n",
        "    self.weights = np.random.uniform(low=0, high=1, size=(self.node_num,input_shape))\n",
        "\n",
        "  def _sigmoid(self,x):\n",
        "    return np.power(1+np.exp(-0.5*x),-1)\n",
        "    \n",
        "  def _d_sigmoid(self,x):\n",
        "    return self._sigmoid(x)*(1-self._sigmoid(x))\n",
        "\n",
        "  def _relu(self,x):\n",
        "    return x*(x>0)\n",
        "\n",
        "  def _d_relu(self,x):\n",
        "    return 1.*(x>0)\n",
        "   "
      ],
      "execution_count": 137,
      "outputs": []
    },
    {
      "cell_type": "code",
      "metadata": {
        "id": "bM1Z3intquGw"
      },
      "source": [
        "import numpy as np\n",
        "\n",
        "class Model:\n",
        "  def __init__(self,learning_rate,epochs):\n",
        "    self.layers = np.empty(0,dtype=Layer)\n",
        "    self.lr = learning_rate\n",
        "    self.epochs = epochs\n",
        "\n",
        "  def Dense(self,node_number,activation_function):\n",
        "    self.layers = np.append(self.layers,Layer(node_number,activation_function))\n",
        "\n",
        "  def Train(self,training,training_y):\n",
        "    try:\n",
        "      self.training = training.reshape(training.shape[0],training.shape[1]*training.shape[2])\n",
        "    except:\n",
        "      self.training = np.expand_dims(training,1)\n",
        "    self.desiered_labels = training_y\n",
        "    self._define_weights()\n",
        "    while self.epochs>0:\n",
        "      print(self.epochs)\n",
        "      self.epochs -=1\n",
        "      for tr in range(0,self.training.shape[0]):\n",
        "        yhat = self._forward_propagation(tr)\n",
        "        self._update_weights(yhat,tr)\n",
        "\n",
        "  def _define_weights(self):\n",
        "    self.layers[0].define_weights(self.training[0].shape[0])\n",
        "    for i in range(1,self.layers.shape[0]):\n",
        "      self.layers[i].define_weights(self.layers[i-1].node_num)\n",
        "\n",
        "  def _forward_propagation(self,tr):\n",
        "    yhat = self._layer_output(self.training[tr] ,0)\n",
        "    for i in range(1,self.layers.shape[0]):\n",
        "      yhat = self._layer_output(yhat ,i)\n",
        "    # print( yhat)\n",
        "    return yhat\n",
        "\n",
        "  def _layer_output(self,x,i):\n",
        "    yhat = np.dot(self.layers[i].weights,x)\n",
        "    if i!= self.layers.shape[0]:\n",
        "      yhat = self.layers[i].activation(yhat)\n",
        "    self.layers[i].yj = yhat\n",
        "    return yhat\n",
        "\n",
        "  def _update_weights(self,yhat,tr):\n",
        "    fiprim = self.layers[-1].d_activation(self.layers[-1-1].yj)\n",
        "    fiprim = np.expand_dims(fiprim,1).T\n",
        "    self.layers[-1].delta  = (fiprim * (self.desiered_labels[tr]-self.layers[-1].yj))\n",
        "    # print(self.desiered_labels[tr]-self.layers[-1-1].yj)\n",
        "    for i in range(len(self.layers)-2,-1,-1):\n",
        "      self._delta(i,tr)\n",
        "    for i in range(len(self.layers)-1,-1,-1):\n",
        "      yj =np.expand_dims(self.layers[i].yj,1)\n",
        "      delta = self.layers[i].delta\n",
        "      deltaw = self.lr * delta * yj\n",
        "      # print(delta)\n",
        "      self.layers[i].weights = self.layers[i].weights + deltaw\n",
        "\n",
        "  def _delta(self,i,tr):\n",
        "    if i == 0: \n",
        "      input = self.training[tr]\n",
        "    else:\n",
        "      input = self.layers[i-1].yj\n",
        "    fiprim =  self.layers[i-1].d_activation(input)\n",
        "    fiprim = np.expand_dims(fiprim,1)\n",
        "    sum_delta_w = np.sum((self.layers[i+1].weights*self.layers[i+1].delta).T,1)\n",
        "    self.layers[i].delta =  (fiprim * sum_delta_w).T\n",
        "\n",
        "  def Test(self,test_images,testing_label):\n",
        "    try:\n",
        "      testings = test_images.reshape(test_images.shape[0],test_images.shape[1]*test_images.shape[2])\n",
        "    except:\n",
        "      testings = test_images\n",
        "    for t in range(0,testings.shape[0]):\n",
        "      yhat = self._layer_output(testings[t] ,0)\n",
        "      for i in range(1,self.layers.shape[0]):\n",
        "        yhat = self._layer_output(yhat ,i)\n",
        "      print(yhat , testing_label[t])"
      ],
      "execution_count": 141,
      "outputs": []
    },
    {
      "cell_type": "code",
      "metadata": {
        "id": "tOWGwQT8qyFf",
        "outputId": "08a5b2c3-4b50-4b7a-8360-f1a09e99ebf6",
        "colab": {
          "base_uri": "https://localhost:8080/",
          "height": 727
        }
      },
      "source": [
        "a = Model(0.01,10)\n",
        "a.Dense(4,'relu')\n",
        "a.Dense(4,'relu')\n",
        "a.Dense(1,'relu')\n",
        "a.Train(x[10:40],x[10:40])\n",
        "a.Test(x[10:40], x[10:40])\n",
        "# to_categorical(training_y, num_classes)"
      ],
      "execution_count": 143,
      "outputs": [
        {
          "output_type": "stream",
          "text": [
            "10\n",
            "9\n",
            "8\n",
            "7\n",
            "6\n",
            "5\n",
            "4\n",
            "3\n",
            "2\n",
            "1\n",
            "[[0.38721508]] 0.387\n",
            "[[0.40724766]] 0.407\n",
            "[[0.28167759]] 0.2815\n",
            "[[0.59853435]] 0.598\n",
            "[[0.22622155]] 0.2261\n",
            "[[0.08550491]] 0.08545\n",
            "[[0.32687304]] 0.3267\n",
            "[[0.43754082]] 0.4373\n",
            "[[0.24136814]] 0.2412\n",
            "[[0.97573314]] 0.975\n",
            "[[0.3671825]] 0.367\n",
            "[[0.55798059]] 0.5576\n",
            "[[0.90488621]] 0.9043\n",
            "[[0.66351808]] 0.663\n",
            "[[0.72899041]] 0.7285\n",
            "[[0.85993506]] 0.8594\n",
            "[[0.71921842]] 0.7188\n",
            "[[0.65374609]] 0.6533\n",
            "[[0.76416957]] 0.7637\n",
            "[[0.47271998]] 0.4724\n",
            "[[0.77931615]] 0.779\n",
            "[[0.79446273]] 0.794\n",
            "[[0.1106067]] 0.11053\n",
            "[[0.97035854]] 0.9697\n",
            "[[0.39723137]] 0.397\n",
            "[[0.16087137]] 0.1608\n",
            "[[0.15085509]] 0.1508\n",
            "[[0.76954416]] 0.769\n",
            "[[0.20618898]] 0.206\n",
            "[[0.01005446]] 0.01005\n"
          ],
          "name": "stdout"
        }
      ]
    },
    {
      "cell_type": "code",
      "metadata": {
        "id": "TgL1bufPq4te"
      },
      "source": [
        "#show classificaion and error\n",
        "import matplotlib.pyplot as plt\n",
        "\n",
        "nerr =np.arange(0,a.err.shape[0])\n",
        "print(a.err.shape[0])\n",
        "plt.plot(nerr,a.err,'r')\n",
        "plt.show()"
      ],
      "execution_count": null,
      "outputs": []
    }
  ]
}