{
  "nbformat": 4,
  "nbformat_minor": 0,
  "metadata": {
    "colab": {
      "name": "mlp123.ipynb",
      "provenance": [],
      "authorship_tag": "ABX9TyOY1F3Ft4FLKKTGnGAgTS6O",
      "include_colab_link": true
    },
    "kernelspec": {
      "name": "python3",
      "display_name": "Python 3"
    },
    "accelerator": "GPU"
  },
  "cells": [
    {
      "cell_type": "markdown",
      "metadata": {
        "id": "view-in-github",
        "colab_type": "text"
      },
      "source": [
        "<a href=\"https://colab.research.google.com/github/mahsaghaderan99/MLP/blob/backpropagation/mlp123.ipynb\" target=\"_parent\"><img src=\"https://colab.research.google.com/assets/colab-badge.svg\" alt=\"Open In Colab\"/></a>"
      ]
    },
    {
      "cell_type": "markdown",
      "metadata": {
        "id": "FLMaSYkcqa8E"
      },
      "source": [
        "Deep MLP project"
      ]
    },
    {
      "cell_type": "markdown",
      "metadata": {
        "id": "exTpYwTAYv5T"
      },
      "source": [
        "#Part1"
      ]
    },
    {
      "cell_type": "markdown",
      "metadata": {
        "id": "j_RbJtzbqhlj"
      },
      "source": [
        "##Import"
      ]
    },
    {
      "cell_type": "code",
      "metadata": {
        "id": "f4taA2mFqeFj"
      },
      "source": [
        "import tensorflow as tf\n",
        "from keras.utils.np_utils import to_categorical  \n",
        "from os import path, getcwd, chdir\n",
        "import numpy as np"
      ],
      "execution_count": 1,
      "outputs": []
    },
    {
      "cell_type": "markdown",
      "metadata": {
        "id": "d1qpr-LlZLh9"
      },
      "source": [
        "##Layer"
      ]
    },
    {
      "cell_type": "code",
      "metadata": {
        "id": "UpOmUK3WqN1U"
      },
      "source": [
        "class Layer:\n",
        "  def __init__(self,node_number,activation):\n",
        "    \n",
        "    self.node_num = node_number\n",
        "    self.delta = np.empty(node_number)\n",
        "    self.vj = np.empty(node_number)\n",
        "    self.outj = np.empty(node_number)\n",
        "    self.b = np.zeros((self.node_num, 1)) \n",
        "    self.activation = self._sigmoid if activation == 'sigmoid' else self._relu\n",
        "    self.d_activation = self._d_sigmoid if activation == 'sigmoid' else self._d_relu\n",
        "\n",
        "  def define_weights(self,input_shape):\n",
        "    self.weights = np.random.uniform(low=0, high=1, size=(self.node_num,input_shape))\n",
        "\n",
        "  def _sigmoid(self,x):\n",
        "    return np.power(1+np.exp(-0.5*x),-1)\n",
        "    \n",
        "  def _d_sigmoid(self,x):\n",
        "    return self._sigmoid(x)*(1-self._sigmoid(x))\n",
        "\n",
        "  def _relu(self,x):\n",
        "    return x*(x>0)\n",
        "\n",
        "  def _d_relu(self,x):\n",
        "    return 1.*(x>0)\n",
        "\n",
        "  def _none(self,x):\n",
        "    return x\n",
        "   "
      ],
      "execution_count": 137,
      "outputs": []
    },
    {
      "cell_type": "markdown",
      "metadata": {
        "id": "vLyjRG01ZM99"
      },
      "source": [
        "##Model"
      ]
    },
    {
      "cell_type": "code",
      "metadata": {
        "id": "bM1Z3intquGw"
      },
      "source": [
        "class Model:\n",
        "  def __init__(self,learning_rate,epochs):\n",
        "    self.layers = np.empty(0,dtype=Layer)\n",
        "    self.lr = learning_rate\n",
        "    self.epochs = epochs\n",
        "\n",
        "  def Dense(self,node_number,activation_function):\n",
        "    self.layers = np.append(self.layers,Layer(node_number,activation_function))\n",
        "\n",
        "  def Train(self,training,training_y):\n",
        "    try:\n",
        "      self.training = training.reshape(training.shape[0],training.shape[1]*training.shape[2])\n",
        "    except:\n",
        "      self.training = np.expand_dims(training,1)\n",
        "    self.desiered_labels = training_y\n",
        "    self._define_weights()\n",
        "    errors = []\n",
        "    epoch = 1\n",
        "    while self.epochs>=epoch:\n",
        "      err = 0\n",
        "      for tr in range(0,self.training.shape[0]):\n",
        "        yhat = self._forward_propagation(tr)\n",
        "        err += self._update_weights(tr)\n",
        "      print(epoch,'-------total error:',err)\n",
        "      epoch +=1\n",
        "      errors.append(err)\n",
        "    return errors\n",
        "\n",
        "  def _define_weights(self):\n",
        "    self.layers[0].define_weights(self.training[0].shape[0])\n",
        "    for i in range(1,self.layers.shape[0]):\n",
        "      self.layers[i].define_weights(self.layers[i-1].node_num)\n",
        "\n",
        "  def _forward_propagation(self,tr):\n",
        "    yhat = self._layer_output(self.training[tr] ,0)\n",
        "    for i in range(1,self.layers.shape[0]):\n",
        "      yhat = self._layer_output(yhat ,i)\n",
        "    # print( yhat)\n",
        "    return yhat\n",
        "\n",
        "  def _layer_output(self,x,i):\n",
        "    yhat = np.dot(self.layers[i].weights,x)\n",
        "    if i!= self.layers.shape[0]:\n",
        "      yhat = self.layers[i].activation(yhat)\n",
        "    self.layers[i].yj = yhat\n",
        "    return yhat\n",
        "\n",
        "  def _update_weights(self,tr):\n",
        "    err = np.sum(np.power(self.desiered_labels[tr]-self.layers[-1].yj,2))/2\n",
        "    fiprim = self.layers[-1].d_activation(self.layers[-1-1].yj)\n",
        "    fiprim = np.expand_dims(fiprim,1).T\n",
        "    self.layers[-1].delta  = (fiprim * (self.desiered_labels[tr]-self.layers[-1].yj))\n",
        "    # print(self.desiered_labels[tr]-self.layers[-1-1].yj)\n",
        "    for i in range(len(self.layers)-2,-1,-1):\n",
        "      self._delta(i,tr)\n",
        "    for i in range(len(self.layers)-1,-1,-1):\n",
        "      yj =np.expand_dims(self.layers[i].yj,1)\n",
        "      delta = self.layers[i].delta\n",
        "      deltaw = self.lr * delta * yj\n",
        "      # print(delta)\n",
        "      self.layers[i].weights = self.layers[i].weights + deltaw\n",
        "      return err\n",
        "\n",
        "  def _delta(self,i,tr):\n",
        "    if i == 0: \n",
        "      input = self.training[tr]\n",
        "    else:\n",
        "      input = self.layers[i-1].yj\n",
        "    fiprim =  self.layers[i-1].d_activation(input)\n",
        "    fiprim = np.expand_dims(fiprim,1)\n",
        "    sum_delta_w = np.sum((self.layers[i+1].weights*self.layers[i+1].delta).T,1)\n",
        "    self.layers[i].delta =  (fiprim * sum_delta_w).T\n",
        "  \n",
        "  def Predict(self,test_images):\n",
        "    try:\n",
        "      testings = test_images.reshape(test_images.shape[0],test_images.shape[1]*test_images.shape[2])\n",
        "    except:\n",
        "      testings = test_images\n",
        "    predicts = []\n",
        "    for t in range(0,testings.shape[0]):\n",
        "      yhat = self._layer_output(testings[t] ,0)\n",
        "      for i in range(1,self.layers.shape[0]):\n",
        "        yhat = self._layer_output(yhat ,i)\n",
        "      predicts.append(yhat[0][0])\n",
        "    return np.array(predicts)\n",
        "\n",
        "  def Evaluate(self,x,y):\n",
        "    predictions = self.Predict(x)\n",
        "    return np.sum(np.power(predictions-y,2))/2, np.sum(np.abs(predictions-y))/y.shape[0]"
      ],
      "execution_count": 218,
      "outputs": []
    },
    {
      "cell_type": "markdown",
      "metadata": {
        "id": "wkaZCBs9ZTO0"
      },
      "source": [
        "#Part2"
      ]
    },
    {
      "cell_type": "code",
      "metadata": {
        "id": "VM4T2a0wqzDN"
      },
      "source": [
        "x = np.linspace(-1,1,200,dtype=np.float16)\n",
        "xcopy = np.linspace(-1,1,200,dtype=np.float16)\n",
        "np.random.shuffle(x)\n"
      ],
      "execution_count": 231,
      "outputs": []
    },
    {
      "cell_type": "code",
      "metadata": {
        "id": "tOWGwQT8qyFf",
        "outputId": "10c5479d-3cca-4942-8c96-83abcc428fef",
        "colab": {
          "base_uri": "https://localhost:8080/",
          "height": 637
        }
      },
      "source": [
        "a = Model(0.01,20)\n",
        "a.Dense(16,'relu')\n",
        "a.Dense(4,'relu')\n",
        "a.Dense(1,'None')\n",
        "err = a.Train(x[10:40],x[10:40])\n",
        "print(a.Evaluate(x[10:40], x[10:40]))\n",
        "p = a.Predict(xcopy)\n",
        "plt.plot(p,'r')\n",
        "plt.plot(xcopy,'b')\n",
        "plt.show()"
      ],
      "execution_count": 233,
      "outputs": [
        {
          "output_type": "stream",
          "text": [
            "1 -------total error: 25.55907794599418\n",
            "2 -------total error: 3.072439993599146\n",
            "3 -------total error: 2.943531433875241\n",
            "4 -------total error: 2.9205980358077985\n",
            "5 -------total error: 2.915643259463682\n",
            "6 -------total error: 2.914482292968221\n",
            "7 -------total error: 2.914199853240261\n",
            "8 -------total error: 2.9141298833352867\n",
            "9 -------total error: 2.914112393755468\n",
            "10 -------total error: 2.914108002598006\n",
            "11 -------total error: 2.9141068976442446\n",
            "12 -------total error: 2.91410661929317\n",
            "13 -------total error: 2.9141065491340177\n",
            "14 -------total error: 2.914106531445252\n",
            "15 -------total error: 2.9141065269848716\n",
            "16 -------total error: 2.914106525860068\n",
            "17 -------total error: 2.9141065255764085\n",
            "18 -------total error: 2.914106525504873\n",
            "19 -------total error: 2.9141065254868317\n",
            "20 -------total error: 2.9141065254822816\n",
            "(2.914106525481399, 0.2783896108937948)\n"
          ],
          "name": "stdout"
        },
        {
          "output_type": "display_data",
          "data": {
            "image/png": "[encoded data removed]",
            "text/plain": [
              "<Figure size 432x288 with 1 Axes>"
            ]
          },
          "metadata": {
            "tags": [],
            "needs_background": "light"
          }
        }
      ]
    },
    {
      "cell_type": "code",
      "metadata": {
        "id": "TgL1bufPq4te",
        "outputId": "504fc202-ebba-4d41-d80f-bcfd6a8d3d0b",
        "colab": {
          "base_uri": "https://localhost:8080/",
          "height": 282
        }
      },
      "source": [
        "#show classificaion and error\n",
        "import matplotlib.pyplot as plt\n",
        "err = np.array(err)\n",
        "nerr =np.arange(0,err.shape[0])\n",
        "print(err.shape[0]) \n",
        "plt.plot(nerr,err,'r')\n",
        "plt.show()"
      ],
      "execution_count": 212,
      "outputs": [
        {
          "output_type": "stream",
          "text": [
            "20\n"
          ],
          "name": "stdout"
        },
        {
          "output_type": "display_data",
          "data": {
            "image/png": "[encoded data removed]",
            "text/plain": [
              "<Figure size 432x288 with 1 Axes>"
            ]
          },
          "metadata": {
            "tags": [],
            "needs_background": "light"
          }
        }
      ]
    }
  ]
}