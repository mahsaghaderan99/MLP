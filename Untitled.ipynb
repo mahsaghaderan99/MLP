{
  "nbformat": 4,
  "nbformat_minor": 0,
  "metadata": {
    "colab": {
      "name": "Untitled",
      "provenance": [],
      "authorship_tag": "ABX9TyM3lTVuqabFRNhjn2QAF+xm",
      "include_colab_link": true
    },
    "kernelspec": {
      "name": "python3",
      "display_name": "Python 3"
    },
    "accelerator": "GPU"
  },
  "cells": [
    {
      "cell_type": "markdown",
      "metadata": {
        "id": "view-in-github",
        "colab_type": "text"
      },
      "source": [
        "<a href=\"https://colab.research.google.com/github/mahsaghaderan99/MLP/blob/noise-detection/Untitled.ipynb\" target=\"_parent\"><img src=\"https://colab.research.google.com/assets/colab-badge.svg\" alt=\"Open In Colab\"/></a>"
      ]
    },
    {
      "cell_type": "markdown",
      "metadata": {
        "id": "CyK4A_cco_WC"
      },
      "source": [
        "*Deep* MLP project"
      ]
    },
    {
      "cell_type": "code",
      "metadata": {
        "id": "pI1xwS3FuFq-"
      },
      "source": [
        "def plotter(img_list, r, w, gray, wr, hr, fig_name = None):\n",
        "    '''\n",
        "    Plots images' list with its' caption and saves result image if you want.\n",
        "\n",
        "    Parameters:\n",
        "        img_list (list): The list of tuples of image and its' caption.\n",
        "        r (int): The number of row(s).\n",
        "        w (int): The number of colunm(s).\n",
        "        gray (bool): The flag for plotting images in grayscale mode.\n",
        "        wr (int): The width of one figure.\n",
        "        hr (int): The height of one figure.\n",
        "        fig_name (str): The name of the image of the plot. if not set this parameter the plot doesn't save.\n",
        "    '''\n",
        "    \n",
        "    plt.rcParams['figure.figsize'] = (wr, hr)\n",
        "    for i in range(len(img_list)):\n",
        "        plt.subplot(r, w, i + 1)\n",
        "        if img_list[i][2] == 'img':\n",
        "            if gray:\n",
        "                plt.imshow(img_list[i][0], cmap = 'gray')\n",
        "            else:\n",
        "                plt.imshow(img_list[i][0])\n",
        "            plt.xticks([])\n",
        "            plt.yticks([])\n",
        "        elif img_list[i][2] == 'hist':\n",
        "            plt.bar(np.arange(len(img_list[i][0])), img_list[i][0], color = 'c')\n",
        "        else:\n",
        "            raise Exception(\"Only image or histogram. Use third parameter of tuples in img_list and set it to img or hist.\")\n",
        "        plt.title(img_list[i][1])\n",
        "    if fig_name is not None:\n",
        "        plt.savefig(fig_name + '.png')\n",
        "    plt.show()"
      ],
      "execution_count": null,
      "outputs": []
    },
    {
      "cell_type": "markdown",
      "metadata": {
        "id": "iLbOIwajpMQ4"
      },
      "source": [
        "#PART5"
      ]
    },
    {
      "cell_type": "code",
      "metadata": {
        "id": "n5hYMfliqPnT"
      },
      "source": [
        "import tensorflow as tf\n",
        "from os import path, getcwd, chdir\n",
        "import cv2\n",
        "from skimage.util import random_noise\n",
        "import matplotlib.pyplot as plt\n",
        "import numpy as np\n",
        "from sklearn.model_selection import train_test_split"
      ],
      "execution_count": null,
      "outputs": []
    },
    {
      "cell_type": "markdown",
      "metadata": {
        "id": "mYnqhsleqMBd"
      },
      "source": [
        "## load dataset"
      ]
    },
    {
      "cell_type": "markdown",
      "metadata": {
        "id": "zR18wvxoqIeu"
      },
      "source": [
        "load mnist dataset "
      ]
    },
    {
      "cell_type": "code",
      "metadata": {
        "id": "_eed9kzdpLhl"
      },
      "source": [
        "path = f\"{getcwd()}/mnist.npz\""
      ],
      "execution_count": null,
      "outputs": []
    },
    {
      "cell_type": "code",
      "metadata": {
        "id": "9KdIqE9Fq1rC"
      },
      "source": [
        "mnist = tf.keras.datasets.mnist\n",
        "(training_images, training_labels), (test_images, test_labels) = mnist.load_data(path=path)\n",
        "x_train = training_images.reshape(60000,28,28)\n",
        "x_test = test_images.reshape(10000,28,28)"
      ],
      "execution_count": null,
      "outputs": []
    },
    {
      "cell_type": "markdown",
      "metadata": {
        "id": "BW2WLNjzwuSN"
      },
      "source": [
        "##Add noise"
      ]
    },
    {
      "cell_type": "code",
      "metadata": {
        "id": "qUpjR6qUq30E"
      },
      "source": [
        "def add_noise(data): \n",
        "  noisy_data = np.empty(data.shape)\n",
        "  for i in range(data.shape[0]):\n",
        "    noisy_data[i] = random_noise(data[i],'s&p',amount=0.2)\n",
        "  return noisy_data"
      ],
      "execution_count": null,
      "outputs": []
    },
    {
      "cell_type": "code",
      "metadata": {
        "id": "ABO1Dk0XscoL"
      },
      "source": [
        "noisy_train = add_noise(x_train)\n",
        "noisy_test = add_noise(x_test)"
      ],
      "execution_count": null,
      "outputs": []
    },
    {
      "cell_type": "code",
      "metadata": {
        "id": "vTsJYof3uHM7"
      },
      "source": [
        "# image_list = []\n",
        "# image_list.append([x_train[0], 'Original Image', 'img'])\n",
        "# image_list.append([noisy_train[0], 'Noisy Image', 'img'])\n",
        "# plotter(image_list,1,2,True,10,10)"
      ],
      "execution_count": null,
      "outputs": []
    },
    {
      "cell_type": "markdown",
      "metadata": {
        "id": "B2iH76eT0yg1"
      },
      "source": [
        "Normalize images --> map value into (0,1)"
      ]
    },
    {
      "cell_type": "code",
      "metadata": {
        "id": "DKk-v34vyqRr"
      },
      "source": [
        "noisy_train /= 255\n",
        "origin_train = x_train/255\n",
        "noisy_test /= 255\n",
        "origin_test = x_test/255"
      ],
      "execution_count": null,
      "outputs": []
    },
    {
      "cell_type": "code",
      "metadata": {
        "id": "SmMf79RDz0ml",
        "outputId": "36cd19b1-17d6-4a25-9f8f-d8dd5cad478d",
        "colab": {
          "base_uri": "https://localhost:8080/",
          "height": 34
        }
      },
      "source": [
        "m, n = x_train[0].shape[0], x_train[0].shape[1]\n",
        "print(m,n)"
      ],
      "execution_count": null,
      "outputs": [
        {
          "output_type": "stream",
          "text": [
            "28 28\n"
          ],
          "name": "stdout"
        }
      ]
    },
    {
      "cell_type": "markdown",
      "metadata": {
        "id": "1uM9gCkZ0iny"
      },
      "source": [
        "Flatten original image --> suitable for output of the network."
      ]
    },
    {
      "cell_type": "code",
      "metadata": {
        "id": "_hyog7sv0dIJ"
      },
      "source": [
        "x_train = np.reshape(noisy_train,(noisy_train.shape[0],m*n))\n",
        "noisy_test = np.reshape(noisy_test,(noisy_test.shape[0],m*n))\n",
        "y_train = np.reshape(origin_train,(origin_train.shape[0],m*n))\n",
        "origin_test = np.reshape(origin_test,(origin_test.shape[0],m*n))"
      ],
      "execution_count": null,
      "outputs": []
    },
    {
      "cell_type": "code",
      "metadata": {
        "id": "kb6Nzqop3zeN"
      },
      "source": [
        "x_test, x_val, y_test, y_val = train_test_split(noisy_test, origin_test, test_size=0.4, random_state=42)"
      ],
      "execution_count": null,
      "outputs": []
    },
    {
      "cell_type": "code",
      "metadata": {
        "id": "FS45sc-j1CP8",
        "outputId": "4b2d5340-95f6-4121-9f3c-ca0653e40314",
        "colab": {
          "base_uri": "https://localhost:8080/",
          "height": 70
        }
      },
      "source": [
        "print('train shape:',x_train.shape)\n",
        "print('train shape:',x_val.shape)\n",
        "print('test shape:',x_test.shape)"
      ],
      "execution_count": null,
      "outputs": [
        {
          "output_type": "stream",
          "text": [
            "train shape: (60000, 784)\n",
            "train shape: (4000, 784)\n",
            "test shape: (6000, 784)\n"
          ],
          "name": "stdout"
        }
      ]
    },
    {
      "cell_type": "code",
      "metadata": {
        "id": "JW6j67xiomRg",
        "outputId": "b2696549-6935-4c74-d6e4-bd43b1b46f85",
        "colab": {
          "base_uri": "https://localhost:8080/",
          "height": 1000
        }
      },
      "source": [
        "import tensorflow as tf \n",
        "class Mycallback(tf.keras.callbacks.Callback):\n",
        "  def on_epoch_end(self, epoch,logs={}):\n",
        "      if logs.get('accuracy')>=0.998:\n",
        "          self.model.stop_training = True\n",
        "\n",
        "callbacks = Mycallback() \n",
        "\n",
        "model = tf.keras.models.Sequential([\n",
        "        tf.keras.layers.Flatten(),\n",
        "        tf.keras.layers.Dense(m*n,activation=tf.nn.relu),\n",
        "        tf.keras.layers.Dense(128,activation=tf.nn.relu),\n",
        "        tf.keras.layers.Dropout(0.2),\n",
        "        tf.keras.layers.Dense(32,activation=tf.nn.softsign),\n",
        "        tf.keras.layers.Dense(m*n,activation=tf.nn.softmax)\n",
        "])\n",
        "mcp_save = tf.keras.callbacks.ModelCheckpoint('.mdl_wts.hdf5', save_best_only=True, monitor='val_cosine_similarity', mode='max')\n",
        "optimizer = tf.keras.optimizers.Adam()\n",
        "loss = tf.keras.losses.CosineSimilarity()\n",
        "model.compile(optimizer=optimizer, loss=loss, metrics=[tf.keras.metrics.CosineSimilarity(name='cosine_similarity')])\n",
        "history = model.fit(x_train,y_train,validation_data= (x_val,y_val), epochs=85,callbacks=[mcp_save] )\n",
        "\n"
      ],
      "execution_count": null,
      "outputs": [
        {
          "output_type": "stream",
          "text": [
            "Epoch 1/85\n",
            "1875/1875 [==============================] - 4s 2ms/step - loss: -0.6724 - cosine_similarity: 0.6724 - val_loss: -0.7435 - val_cosine_similarity: 0.7435\n",
            "Epoch 2/85\n",
            "1875/1875 [==============================] - 4s 2ms/step - loss: -0.7718 - cosine_similarity: 0.7718 - val_loss: -0.8078 - val_cosine_similarity: 0.8078\n",
            "Epoch 3/85\n",
            "1875/1875 [==============================] - 4s 2ms/step - loss: -0.8132 - cosine_similarity: 0.8132 - val_loss: -0.8331 - val_cosine_similarity: 0.8331\n",
            "Epoch 4/85\n",
            "1875/1875 [==============================] - 4s 2ms/step - loss: -0.8300 - cosine_similarity: 0.8300 - val_loss: -0.8460 - val_cosine_similarity: 0.8460\n",
            "Epoch 5/85\n",
            "1875/1875 [==============================] - 4s 2ms/step - loss: -0.8408 - cosine_similarity: 0.8408 - val_loss: -0.8570 - val_cosine_similarity: 0.8570\n",
            "Epoch 6/85\n",
            "1875/1875 [==============================] - 4s 2ms/step - loss: -0.8498 - cosine_similarity: 0.8498 - val_loss: -0.8660 - val_cosine_similarity: 0.8660\n",
            "Epoch 7/85\n",
            "1875/1875 [==============================] - 4s 2ms/step - loss: -0.8563 - cosine_similarity: 0.8563 - val_loss: -0.8719 - val_cosine_similarity: 0.8719\n",
            "Epoch 8/85\n",
            "1875/1875 [==============================] - 4s 2ms/step - loss: -0.8612 - cosine_similarity: 0.8612 - val_loss: -0.8769 - val_cosine_similarity: 0.8769\n",
            "Epoch 9/85\n",
            "1875/1875 [==============================] - 4s 2ms/step - loss: -0.8652 - cosine_similarity: 0.8652 - val_loss: -0.8814 - val_cosine_similarity: 0.8814\n",
            "Epoch 10/85\n",
            "1875/1875 [==============================] - 4s 2ms/step - loss: -0.8684 - cosine_similarity: 0.8684 - val_loss: -0.8842 - val_cosine_similarity: 0.8842\n",
            "Epoch 11/85\n",
            "1875/1875 [==============================] - 4s 2ms/step - loss: -0.8714 - cosine_similarity: 0.8714 - val_loss: -0.8874 - val_cosine_similarity: 0.8874\n",
            "Epoch 12/85\n",
            "1875/1875 [==============================] - 4s 2ms/step - loss: -0.8739 - cosine_similarity: 0.8739 - val_loss: -0.8897 - val_cosine_similarity: 0.8897\n",
            "Epoch 13/85\n",
            "1875/1875 [==============================] - 4s 2ms/step - loss: -0.8762 - cosine_similarity: 0.8762 - val_loss: -0.8921 - val_cosine_similarity: 0.8921\n",
            "Epoch 14/85\n",
            "1875/1875 [==============================] - 4s 2ms/step - loss: -0.8782 - cosine_similarity: 0.8782 - val_loss: -0.8937 - val_cosine_similarity: 0.8937\n",
            "Epoch 15/85\n",
            "1875/1875 [==============================] - 4s 2ms/step - loss: -0.8797 - cosine_similarity: 0.8797 - val_loss: -0.8951 - val_cosine_similarity: 0.8951\n",
            "Epoch 16/85\n",
            "1875/1875 [==============================] - 4s 2ms/step - loss: -0.8814 - cosine_similarity: 0.8814 - val_loss: -0.8971 - val_cosine_similarity: 0.8971\n",
            "Epoch 17/85\n",
            "1875/1875 [==============================] - 4s 2ms/step - loss: -0.8828 - cosine_similarity: 0.8828 - val_loss: -0.8983 - val_cosine_similarity: 0.8983\n",
            "Epoch 18/85\n",
            "1875/1875 [==============================] - 5s 2ms/step - loss: -0.8842 - cosine_similarity: 0.8842 - val_loss: -0.8996 - val_cosine_similarity: 0.8996\n",
            "Epoch 19/85\n",
            "1875/1875 [==============================] - 4s 2ms/step - loss: -0.8854 - cosine_similarity: 0.8854 - val_loss: -0.9007 - val_cosine_similarity: 0.9007\n",
            "Epoch 20/85\n",
            "1875/1875 [==============================] - 4s 2ms/step - loss: -0.8864 - cosine_similarity: 0.8864 - val_loss: -0.9016 - val_cosine_similarity: 0.9016\n",
            "Epoch 21/85\n",
            "1875/1875 [==============================] - 4s 2ms/step - loss: -0.8873 - cosine_similarity: 0.8873 - val_loss: -0.9025 - val_cosine_similarity: 0.9025\n",
            "Epoch 22/85\n",
            "1875/1875 [==============================] - 4s 2ms/step - loss: -0.8883 - cosine_similarity: 0.8883 - val_loss: -0.9031 - val_cosine_similarity: 0.9031\n",
            "Epoch 23/85\n",
            "1875/1875 [==============================] - 4s 2ms/step - loss: -0.8892 - cosine_similarity: 0.8892 - val_loss: -0.9041 - val_cosine_similarity: 0.9041\n",
            "Epoch 24/85\n",
            "1875/1875 [==============================] - 4s 2ms/step - loss: -0.8899 - cosine_similarity: 0.8899 - val_loss: -0.9048 - val_cosine_similarity: 0.9048\n",
            "Epoch 25/85\n",
            "1875/1875 [==============================] - 4s 2ms/step - loss: -0.8908 - cosine_similarity: 0.8908 - val_loss: -0.9053 - val_cosine_similarity: 0.9053\n",
            "Epoch 26/85\n",
            "1875/1875 [==============================] - 4s 2ms/step - loss: -0.8915 - cosine_similarity: 0.8915 - val_loss: -0.9058 - val_cosine_similarity: 0.9058\n",
            "Epoch 27/85\n",
            "1875/1875 [==============================] - 4s 2ms/step - loss: -0.8923 - cosine_similarity: 0.8923 - val_loss: -0.9068 - val_cosine_similarity: 0.9068\n",
            "Epoch 28/85\n",
            "1875/1875 [==============================] - 4s 2ms/step - loss: -0.8928 - cosine_similarity: 0.8928 - val_loss: -0.9067 - val_cosine_similarity: 0.9067\n",
            "Epoch 29/85\n",
            "1875/1875 [==============================] - 4s 2ms/step - loss: -0.8935 - cosine_similarity: 0.8935 - val_loss: -0.9072 - val_cosine_similarity: 0.9072\n",
            "Epoch 30/85\n",
            "1875/1875 [==============================] - 4s 2ms/step - loss: -0.8940 - cosine_similarity: 0.8940 - val_loss: -0.9080 - val_cosine_similarity: 0.9080\n",
            "Epoch 31/85\n",
            "1875/1875 [==============================] - 4s 2ms/step - loss: -0.8946 - cosine_similarity: 0.8946 - val_loss: -0.9084 - val_cosine_similarity: 0.9084\n",
            "Epoch 32/85\n",
            "1875/1875 [==============================] - 4s 2ms/step - loss: -0.8951 - cosine_similarity: 0.8951 - val_loss: -0.9086 - val_cosine_similarity: 0.9086\n",
            "Epoch 33/85\n",
            "1875/1875 [==============================] - 4s 2ms/step - loss: -0.8954 - cosine_similarity: 0.8954 - val_loss: -0.9090 - val_cosine_similarity: 0.9090\n",
            "Epoch 34/85\n",
            "1875/1875 [==============================] - 4s 2ms/step - loss: -0.8961 - cosine_similarity: 0.8961 - val_loss: -0.9094 - val_cosine_similarity: 0.9094\n",
            "Epoch 35/85\n",
            "1875/1875 [==============================] - 4s 2ms/step - loss: -0.8966 - cosine_similarity: 0.8966 - val_loss: -0.9097 - val_cosine_similarity: 0.9097\n",
            "Epoch 36/85\n",
            "1875/1875 [==============================] - 4s 2ms/step - loss: -0.8968 - cosine_similarity: 0.8968 - val_loss: -0.9102 - val_cosine_similarity: 0.9102\n",
            "Epoch 37/85\n",
            "1875/1875 [==============================] - 4s 2ms/step - loss: -0.8973 - cosine_similarity: 0.8973 - val_loss: -0.9103 - val_cosine_similarity: 0.9103\n",
            "Epoch 38/85\n",
            "1875/1875 [==============================] - 4s 2ms/step - loss: -0.8977 - cosine_similarity: 0.8977 - val_loss: -0.9107 - val_cosine_similarity: 0.9107\n",
            "Epoch 39/85\n",
            "1875/1875 [==============================] - 4s 2ms/step - loss: -0.8979 - cosine_similarity: 0.8979 - val_loss: -0.9110 - val_cosine_similarity: 0.9110\n",
            "Epoch 40/85\n",
            "1875/1875 [==============================] - 4s 2ms/step - loss: -0.8983 - cosine_similarity: 0.8983 - val_loss: -0.9114 - val_cosine_similarity: 0.9114\n",
            "Epoch 41/85\n",
            "1875/1875 [==============================] - 4s 2ms/step - loss: -0.8987 - cosine_similarity: 0.8987 - val_loss: -0.9114 - val_cosine_similarity: 0.9114\n",
            "Epoch 42/85\n",
            "1875/1875 [==============================] - 4s 2ms/step - loss: -0.8990 - cosine_similarity: 0.8990 - val_loss: -0.9120 - val_cosine_similarity: 0.9120\n",
            "Epoch 43/85\n",
            "1875/1875 [==============================] - 4s 2ms/step - loss: -0.8993 - cosine_similarity: 0.8993 - val_loss: -0.9119 - val_cosine_similarity: 0.9119\n",
            "Epoch 44/85\n",
            "1875/1875 [==============================] - 4s 2ms/step - loss: -0.8996 - cosine_similarity: 0.8996 - val_loss: -0.9119 - val_cosine_similarity: 0.9119\n",
            "Epoch 45/85\n",
            "1875/1875 [==============================] - 4s 2ms/step - loss: -0.8998 - cosine_similarity: 0.8998 - val_loss: -0.9122 - val_cosine_similarity: 0.9122\n",
            "Epoch 46/85\n",
            "1875/1875 [==============================] - 4s 2ms/step - loss: -0.9003 - cosine_similarity: 0.9003 - val_loss: -0.9123 - val_cosine_similarity: 0.9123\n",
            "Epoch 47/85\n",
            "1875/1875 [==============================] - 4s 2ms/step - loss: -0.9004 - cosine_similarity: 0.9004 - val_loss: -0.9123 - val_cosine_similarity: 0.9123\n",
            "Epoch 48/85\n",
            "1875/1875 [==============================] - 4s 2ms/step - loss: -0.9006 - cosine_similarity: 0.9006 - val_loss: -0.9125 - val_cosine_similarity: 0.9125\n",
            "Epoch 49/85\n",
            "1875/1875 [==============================] - 4s 2ms/step - loss: -0.9009 - cosine_similarity: 0.9009 - val_loss: -0.9132 - val_cosine_similarity: 0.9132\n",
            "Epoch 50/85\n",
            "1875/1875 [==============================] - 4s 2ms/step - loss: -0.9011 - cosine_similarity: 0.9011 - val_loss: -0.9130 - val_cosine_similarity: 0.9130\n",
            "Epoch 51/85\n",
            "1875/1875 [==============================] - 4s 2ms/step - loss: -0.9013 - cosine_similarity: 0.9013 - val_loss: -0.9132 - val_cosine_similarity: 0.9132\n",
            "Epoch 52/85\n",
            "1875/1875 [==============================] - 4s 2ms/step - loss: -0.9015 - cosine_similarity: 0.9015 - val_loss: -0.9133 - val_cosine_similarity: 0.9133\n",
            "Epoch 53/85\n",
            "1875/1875 [==============================] - 4s 2ms/step - loss: -0.9017 - cosine_similarity: 0.9017 - val_loss: -0.9129 - val_cosine_similarity: 0.9129\n",
            "Epoch 54/85\n",
            "1875/1875 [==============================] - 4s 2ms/step - loss: -0.9020 - cosine_similarity: 0.9020 - val_loss: -0.9132 - val_cosine_similarity: 0.9132\n",
            "Epoch 55/85\n",
            "1875/1875 [==============================] - 4s 2ms/step - loss: -0.9021 - cosine_similarity: 0.9021 - val_loss: -0.9134 - val_cosine_similarity: 0.9134\n",
            "Epoch 56/85\n",
            "1875/1875 [==============================] - 4s 2ms/step - loss: -0.9024 - cosine_similarity: 0.9024 - val_loss: -0.9135 - val_cosine_similarity: 0.9135\n",
            "Epoch 57/85\n",
            "1875/1875 [==============================] - 4s 2ms/step - loss: -0.9025 - cosine_similarity: 0.9025 - val_loss: -0.9140 - val_cosine_similarity: 0.9140\n",
            "Epoch 58/85\n",
            "1875/1875 [==============================] - 4s 2ms/step - loss: -0.9026 - cosine_similarity: 0.9026 - val_loss: -0.9137 - val_cosine_similarity: 0.9137\n",
            "Epoch 59/85\n",
            "1875/1875 [==============================] - 4s 2ms/step - loss: -0.9029 - cosine_similarity: 0.9029 - val_loss: -0.9137 - val_cosine_similarity: 0.9137\n",
            "Epoch 60/85\n",
            "1875/1875 [==============================] - 4s 2ms/step - loss: -0.9030 - cosine_similarity: 0.9030 - val_loss: -0.9141 - val_cosine_similarity: 0.9141\n",
            "Epoch 61/85\n",
            "1875/1875 [==============================] - 4s 2ms/step - loss: -0.9031 - cosine_similarity: 0.9031 - val_loss: -0.9144 - val_cosine_similarity: 0.9144\n",
            "Epoch 62/85\n",
            "1875/1875 [==============================] - 4s 2ms/step - loss: -0.9034 - cosine_similarity: 0.9034 - val_loss: -0.9145 - val_cosine_similarity: 0.9145\n",
            "Epoch 63/85\n",
            "1875/1875 [==============================] - 4s 2ms/step - loss: -0.9035 - cosine_similarity: 0.9035 - val_loss: -0.9144 - val_cosine_similarity: 0.9144\n",
            "Epoch 64/85\n",
            "1875/1875 [==============================] - 4s 2ms/step - loss: -0.9037 - cosine_similarity: 0.9037 - val_loss: -0.9142 - val_cosine_similarity: 0.9142\n",
            "Epoch 65/85\n",
            "1875/1875 [==============================] - 4s 2ms/step - loss: -0.9039 - cosine_similarity: 0.9039 - val_loss: -0.9144 - val_cosine_similarity: 0.9144\n",
            "Epoch 66/85\n",
            "1875/1875 [==============================] - 4s 2ms/step - loss: -0.9039 - cosine_similarity: 0.9039 - val_loss: -0.9148 - val_cosine_similarity: 0.9148\n",
            "Epoch 67/85\n",
            "1875/1875 [==============================] - 4s 2ms/step - loss: -0.9040 - cosine_similarity: 0.9040 - val_loss: -0.9147 - val_cosine_similarity: 0.9147\n",
            "Epoch 68/85\n",
            "1875/1875 [==============================] - 4s 2ms/step - loss: -0.9042 - cosine_similarity: 0.9042 - val_loss: -0.9149 - val_cosine_similarity: 0.9149\n",
            "Epoch 69/85\n",
            "1875/1875 [==============================] - 4s 2ms/step - loss: -0.9043 - cosine_similarity: 0.9043 - val_loss: -0.9147 - val_cosine_similarity: 0.9147\n",
            "Epoch 70/85\n",
            "1875/1875 [==============================] - 4s 2ms/step - loss: -0.9046 - cosine_similarity: 0.9046 - val_loss: -0.9149 - val_cosine_similarity: 0.9149\n",
            "Epoch 71/85\n",
            "1875/1875 [==============================] - 4s 2ms/step - loss: -0.9046 - cosine_similarity: 0.9046 - val_loss: -0.9153 - val_cosine_similarity: 0.9153\n",
            "Epoch 72/85\n",
            "1875/1875 [==============================] - 4s 2ms/step - loss: -0.9046 - cosine_similarity: 0.9046 - val_loss: -0.9151 - val_cosine_similarity: 0.9151\n",
            "Epoch 73/85\n",
            "1875/1875 [==============================] - 4s 2ms/step - loss: -0.9049 - cosine_similarity: 0.9049 - val_loss: -0.9155 - val_cosine_similarity: 0.9155\n",
            "Epoch 74/85\n",
            "1875/1875 [==============================] - 4s 2ms/step - loss: -0.9049 - cosine_similarity: 0.9049 - val_loss: -0.9154 - val_cosine_similarity: 0.9154\n",
            "Epoch 75/85\n",
            "1875/1875 [==============================] - 4s 2ms/step - loss: -0.9051 - cosine_similarity: 0.9051 - val_loss: -0.9151 - val_cosine_similarity: 0.9151\n",
            "Epoch 76/85\n",
            "1875/1875 [==============================] - 4s 2ms/step - loss: -0.9052 - cosine_similarity: 0.9052 - val_loss: -0.9152 - val_cosine_similarity: 0.9152\n",
            "Epoch 77/85\n",
            "1875/1875 [==============================] - 4s 2ms/step - loss: -0.9052 - cosine_similarity: 0.9052 - val_loss: -0.9156 - val_cosine_similarity: 0.9156\n",
            "Epoch 78/85\n",
            "1875/1875 [==============================] - 4s 2ms/step - loss: -0.9054 - cosine_similarity: 0.9054 - val_loss: -0.9155 - val_cosine_similarity: 0.9155\n",
            "Epoch 79/85\n",
            "1875/1875 [==============================] - 4s 2ms/step - loss: -0.9055 - cosine_similarity: 0.9055 - val_loss: -0.9153 - val_cosine_similarity: 0.9153\n",
            "Epoch 80/85\n",
            "1875/1875 [==============================] - 4s 2ms/step - loss: -0.9056 - cosine_similarity: 0.9056 - val_loss: -0.9154 - val_cosine_similarity: 0.9154\n",
            "Epoch 81/85\n",
            "1875/1875 [==============================] - 4s 2ms/step - loss: -0.9057 - cosine_similarity: 0.9057 - val_loss: -0.9158 - val_cosine_similarity: 0.9158\n",
            "Epoch 82/85\n",
            "1875/1875 [==============================] - 4s 2ms/step - loss: -0.9057 - cosine_similarity: 0.9057 - val_loss: -0.9157 - val_cosine_similarity: 0.9157\n",
            "Epoch 83/85\n",
            "1875/1875 [==============================] - 4s 2ms/step - loss: -0.9060 - cosine_similarity: 0.9060 - val_loss: -0.9154 - val_cosine_similarity: 0.9154\n",
            "Epoch 84/85\n",
            "1875/1875 [==============================] - 4s 2ms/step - loss: -0.9060 - cosine_similarity: 0.9060 - val_loss: -0.9156 - val_cosine_similarity: 0.9156\n",
            "Epoch 85/85\n",
            "1875/1875 [==============================] - 4s 2ms/step - loss: -0.9060 - cosine_similarity: 0.9060 - val_loss: -0.9157 - val_cosine_similarity: 0.9157\n"
          ],
          "name": "stdout"
        }
      ]
    },
    {
      "cell_type": "code",
      "metadata": {
        "id": "pbtP-a7lIreP"
      },
      "source": [
        "model.load_weights('.mdl_wts.hdf5')"
      ],
      "execution_count": 476,
      "outputs": []
    },
    {
      "cell_type": "code",
      "metadata": {
        "id": "gag2ZxtXzQ4e",
        "outputId": "453d3936-c575-431d-fb4c-d4926d10e1fc",
        "colab": {
          "base_uri": "https://localhost:8080/",
          "height": 52
        }
      },
      "source": [
        "print(model.evaluate(x_test, x_test))"
      ],
      "execution_count": 477,
      "outputs": [
        {
          "output_type": "stream",
          "text": [
            "188/188 [==============================] - 0s 2ms/step - loss: -0.6692 - cosine_similarity: 0.6692\n",
            "[-0.6691558361053467, 0.6691558361053467]\n"
          ],
          "name": "stdout"
        }
      ]
    },
    {
      "cell_type": "code",
      "metadata": {
        "id": "P_OeaO9n7-4G"
      },
      "source": [
        "y_pred = model.predict(x_test)\n",
        "y_pred0 = np.reshape(y_pred,(y_pred.shape[0],m,n))"
      ],
      "execution_count": 478,
      "outputs": []
    },
    {
      "cell_type": "code",
      "metadata": {
        "id": "HFmwlO9XywJ1"
      },
      "source": [
        "s = 1721"
      ],
      "execution_count": 497,
      "outputs": []
    },
    {
      "cell_type": "code",
      "metadata": {
        "id": "SwJZkBdIHkGq",
        "outputId": "f2479203-deb5-42ff-b1a4-5e62779e3283",
        "colab": {
          "base_uri": "https://localhost:8080/",
          "height": 214
        }
      },
      "source": [
        "image_list = []\n",
        "image_list.append([y_test[s].reshape((m,n)), 'Original Test Image', 'img'])\n",
        "image_list.append([x_test[s].reshape((m,n)), 'Noisy Test Image', 'img'])\n",
        "image_list.append([y_pred0[s], 'Predicted Image', 'img'])\n",
        "plotter(image_list,1,3 ,True,10,10)"
      ],
      "execution_count": 498,
      "outputs": [
        {
          "output_type": "display_data",
          "data": {
            "image/png": "[encoded data removed]",
            "text/plain": [
              "<Figure size 720x720 with 3 Axes>"
            ]
          },
          "metadata": {
            "tags": []
          }
        }
      ]
    },
    {
      "cell_type": "code",
      "metadata": {
        "id": "oOdjRIS2GP2N",
        "outputId": "8d38f9ed-6c52-4aed-8dbf-0508352567d0",
        "colab": {
          "base_uri": "https://localhost:8080/",
          "height": 34
        }
      },
      "source": [
        "np.max(y_val)"
      ],
      "execution_count": 499,
      "outputs": [
        {
          "output_type": "execute_result",
          "data": {
            "text/plain": [
              "1.0"
            ]
          },
          "metadata": {
            "tags": []
          },
          "execution_count": 499
        }
      ]
    }
  ]
}