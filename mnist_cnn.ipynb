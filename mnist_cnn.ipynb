{
  "nbformat": 4,
  "nbformat_minor": 0,
  "metadata": {
    "colab": {
      "name": "mnist_cnn.ipynb",
      "provenance": [],
      "authorship_tag": "ABX9TyOKlyVUpSIteV46FaW5wIgl",
      "include_colab_link": true
    },
    "kernelspec": {
      "name": "python3",
      "display_name": "Python 3"
    },
    "accelerator": "GPU"
  },
  "cells": [
    {
      "cell_type": "markdown",
      "metadata": {
        "id": "view-in-github",
        "colab_type": "text"
      },
      "source": [
        "<a href=\"https://colab.research.google.com/github/mahsaghaderan99/MLP/blob/cnn/mnist_cnn.ipynb\" target=\"_parent\"><img src=\"https://colab.research.google.com/assets/colab-badge.svg\" alt=\"Open In Colab\"/></a>"
      ]
    },
    {
      "cell_type": "code",
      "metadata": {
        "id": "zWRXTdI2pXsd"
      },
      "source": [
        "!pip install ipython-autotime"
      ],
      "execution_count": null,
      "outputs": []
    },
    {
      "cell_type": "code",
      "metadata": {
        "colab": {
          "base_uri": "https://localhost:8080/"
        },
        "id": "L-HuPqSEieSG",
        "outputId": "c61be0a7-e584-4ddc-c895-b1874e3cfb2b"
      },
      "source": [
        "import tensorflow as tf\n",
        "from os import path, getcwd, chdir\n",
        "path = f\"{getcwd()}/mnist.npz\"\n",
        "import matplotlib.pyplot as plt\n",
        "import sklearn.model_selection as sk"
      ],
      "execution_count": 42,
      "outputs": [
        {
          "output_type": "stream",
          "text": [
            "time: 1.37 ms\n"
          ],
          "name": "stdout"
        }
      ]
    },
    {
      "cell_type": "code",
      "metadata": {
        "colab": {
          "base_uri": "https://localhost:8080/"
        },
        "id": "LDTcwqd6it2y",
        "outputId": "f67fd2f1-3ded-4437-c155-8fc2a6f8dae7"
      },
      "source": [
        "# def train_mnist_conv():  \n",
        "class Mycallback(tf.keras.callbacks.Callback):\n",
        "  def on_epoch_end(self, epoch,logs={}):\n",
        "      if logs.get('accuracy')>=0.998:\n",
        "          self.model.stop_training = True\n",
        "\n",
        "callbacks = Mycallback() \n",
        "\n",
        "mnist = tf.keras.datasets.mnist\n",
        "(training_images, training_labels), (test_images, test_labels) = mnist.load_data(path=path)\n",
        "training_images = training_images.reshape(60000,28,28,1)\n",
        "training_images = training_images/255.\n",
        "test_images = test_images.reshape(10000,28,28,1)\n",
        "test_images = test_images/255.\n"
      ],
      "execution_count": 134,
      "outputs": [
        {
          "output_type": "stream",
          "text": [
            "time: 374 ms\n"
          ],
          "name": "stdout"
        }
      ]
    },
    {
      "cell_type": "code",
      "metadata": {
        "colab": {
          "base_uri": "https://localhost:8080/"
        },
        "id": "pK37H8dpHo_N",
        "outputId": "641513ba-0733-4eb0-b413-ac7588eccfd2"
      },
      "source": [
        "cat_training_labels = tf.keras.utils.to_categorical(\n",
        "    training_labels, num_classes=10, dtype='float32'\n",
        ")\n",
        "cat_test_labels = tf.keras.utils.to_categorical(\n",
        "    test_labels, num_classes=10, dtype='float32'\n",
        ")"
      ],
      "execution_count": 116,
      "outputs": [
        {
          "output_type": "stream",
          "text": [
            "time: 3.58 ms\n"
          ],
          "name": "stdout"
        }
      ]
    },
    {
      "cell_type": "code",
      "metadata": {
        "colab": {
          "base_uri": "https://localhost:8080/"
        },
        "id": "krkX9WGIJTrA",
        "outputId": "22f19881-bfaa-4253-9bc5-b78b7ff0a9ff"
      },
      "source": [
        "training_labels[0]"
      ],
      "execution_count": 129,
      "outputs": [
        {
          "output_type": "execute_result",
          "data": {
            "text/plain": [
              "5"
            ]
          },
          "metadata": {
            "tags": []
          },
          "execution_count": 129
        },
        {
          "output_type": "stream",
          "text": [
            "time: 3.21 ms\n"
          ],
          "name": "stdout"
        }
      ]
    },
    {
      "cell_type": "code",
      "metadata": {
        "colab": {
          "base_uri": "https://localhost:8080/"
        },
        "id": "3QbgC59xpsT1",
        "outputId": "a9a5e4f6-a573-4e59-c8b3-46a49300ab64"
      },
      "source": [
        "model = tf.keras.models.Sequential([\n",
        "  tf.keras.layers.Conv2D(32, (3,3), activation='relu', input_shape=training_images.shape[1:]),\n",
        "  tf.keras.layers.MaxPooling2D(3,3),\n",
        "  tf.keras.layers.Conv2D(16, (3,3), activation='relu', input_shape=training_images.shape[1:]),\n",
        "  tf.keras.layers.MaxPooling2D(2,2),\n",
        "  tf.keras.layers.Flatten(),\n",
        "  tf.keras.layers.Dropout(0.3),\n",
        "  tf.keras.layers.Dense(256, activation='relu'),\n",
        "  tf.keras.layers.Dropout(0.5),\n",
        "  tf.keras.layers.Dense(32, activation='relu'),\n",
        "  tf.keras.layers.Dense(10, activation='softmax')\n",
        "])\n",
        "\n",
        "model.compile(optimizer='adam', loss='sparse_categorical_crossentropy', metrics=['accuracy'])\n",
        "history = model.fit(\n",
        "    training_images,training_labels,validation_split = 0.2,epochs=40 ,callbacks =[callbacks]\n",
        ")\n",
        "print(model.evaluate(test_images, test_labels))\n",
        "# return history.epoch, history.history['accuracy'][-1]\n",
        "%load_ext autotime"
      ],
      "execution_count": 136,
      "outputs": [
        {
          "output_type": "stream",
          "text": [
            "Epoch 1/40\n",
            "1500/1500 [==============================] - 4s 3ms/step - loss: 0.4286 - accuracy: 0.8615 - val_loss: 0.0973 - val_accuracy: 0.9707\n",
            "Epoch 2/40\n",
            "1500/1500 [==============================] - 4s 3ms/step - loss: 0.1697 - accuracy: 0.9481 - val_loss: 0.0828 - val_accuracy: 0.9750\n",
            "Epoch 3/40\n",
            "1500/1500 [==============================] - 4s 3ms/step - loss: 0.1349 - accuracy: 0.9582 - val_loss: 0.0628 - val_accuracy: 0.9819\n",
            "Epoch 4/40\n",
            "1500/1500 [==============================] - 4s 3ms/step - loss: 0.1184 - accuracy: 0.9630 - val_loss: 0.0508 - val_accuracy: 0.9845\n",
            "Epoch 5/40\n",
            "1500/1500 [==============================] - 4s 3ms/step - loss: 0.1077 - accuracy: 0.9665 - val_loss: 0.0528 - val_accuracy: 0.9851\n",
            "Epoch 6/40\n",
            "1500/1500 [==============================] - 4s 3ms/step - loss: 0.1001 - accuracy: 0.9691 - val_loss: 0.0482 - val_accuracy: 0.9855\n",
            "Epoch 7/40\n",
            "1500/1500 [==============================] - 4s 3ms/step - loss: 0.0932 - accuracy: 0.9721 - val_loss: 0.0418 - val_accuracy: 0.9869\n",
            "Epoch 8/40\n",
            "1500/1500 [==============================] - 4s 3ms/step - loss: 0.0879 - accuracy: 0.9733 - val_loss: 0.0408 - val_accuracy: 0.9883\n",
            "Epoch 9/40\n",
            "1500/1500 [==============================] - 4s 3ms/step - loss: 0.0824 - accuracy: 0.9744 - val_loss: 0.0398 - val_accuracy: 0.9888\n",
            "Epoch 10/40\n",
            "1500/1500 [==============================] - 4s 3ms/step - loss: 0.0799 - accuracy: 0.9747 - val_loss: 0.0397 - val_accuracy: 0.9878\n",
            "Epoch 11/40\n",
            "1500/1500 [==============================] - 4s 3ms/step - loss: 0.0761 - accuracy: 0.9758 - val_loss: 0.0373 - val_accuracy: 0.9895\n",
            "Epoch 12/40\n",
            "1500/1500 [==============================] - 4s 3ms/step - loss: 0.0783 - accuracy: 0.9757 - val_loss: 0.0385 - val_accuracy: 0.9896\n",
            "Epoch 13/40\n",
            "1500/1500 [==============================] - 4s 3ms/step - loss: 0.0717 - accuracy: 0.9778 - val_loss: 0.0372 - val_accuracy: 0.9887\n",
            "Epoch 14/40\n",
            "1500/1500 [==============================] - 4s 3ms/step - loss: 0.0701 - accuracy: 0.9786 - val_loss: 0.0445 - val_accuracy: 0.9875\n",
            "Epoch 15/40\n",
            "1500/1500 [==============================] - 4s 3ms/step - loss: 0.0693 - accuracy: 0.9791 - val_loss: 0.0378 - val_accuracy: 0.9886\n",
            "Epoch 16/40\n",
            "1500/1500 [==============================] - 4s 3ms/step - loss: 0.0691 - accuracy: 0.9787 - val_loss: 0.0365 - val_accuracy: 0.9889\n",
            "Epoch 17/40\n",
            "1500/1500 [==============================] - 4s 3ms/step - loss: 0.0641 - accuracy: 0.9802 - val_loss: 0.0365 - val_accuracy: 0.9895\n",
            "Epoch 18/40\n",
            "1500/1500 [==============================] - 4s 3ms/step - loss: 0.0642 - accuracy: 0.9801 - val_loss: 0.0355 - val_accuracy: 0.9891\n",
            "Epoch 19/40\n",
            "1500/1500 [==============================] - 4s 3ms/step - loss: 0.0646 - accuracy: 0.9790 - val_loss: 0.0341 - val_accuracy: 0.9903\n",
            "Epoch 20/40\n",
            "1500/1500 [==============================] - 4s 3ms/step - loss: 0.0620 - accuracy: 0.9806 - val_loss: 0.0318 - val_accuracy: 0.9908\n",
            "Epoch 21/40\n",
            "1500/1500 [==============================] - 4s 3ms/step - loss: 0.0599 - accuracy: 0.9813 - val_loss: 0.0315 - val_accuracy: 0.9908\n",
            "Epoch 22/40\n",
            "1500/1500 [==============================] - 4s 3ms/step - loss: 0.0574 - accuracy: 0.9825 - val_loss: 0.0340 - val_accuracy: 0.9905\n",
            "Epoch 23/40\n",
            "1500/1500 [==============================] - 4s 3ms/step - loss: 0.0590 - accuracy: 0.9816 - val_loss: 0.0312 - val_accuracy: 0.9915\n",
            "Epoch 24/40\n",
            "1500/1500 [==============================] - 4s 3ms/step - loss: 0.0582 - accuracy: 0.9820 - val_loss: 0.0326 - val_accuracy: 0.9908\n",
            "Epoch 25/40\n",
            "1500/1500 [==============================] - 4s 3ms/step - loss: 0.0571 - accuracy: 0.9819 - val_loss: 0.0329 - val_accuracy: 0.9905\n",
            "Epoch 26/40\n",
            "1500/1500 [==============================] - 4s 3ms/step - loss: 0.0568 - accuracy: 0.9824 - val_loss: 0.0322 - val_accuracy: 0.9906\n",
            "Epoch 27/40\n",
            "1500/1500 [==============================] - 4s 3ms/step - loss: 0.0538 - accuracy: 0.9827 - val_loss: 0.0322 - val_accuracy: 0.9910\n",
            "Epoch 28/40\n",
            "1500/1500 [==============================] - 4s 3ms/step - loss: 0.0554 - accuracy: 0.9822 - val_loss: 0.0331 - val_accuracy: 0.9899\n",
            "Epoch 29/40\n",
            "1500/1500 [==============================] - 4s 3ms/step - loss: 0.0578 - accuracy: 0.9822 - val_loss: 0.0298 - val_accuracy: 0.9910\n",
            "Epoch 30/40\n",
            "1500/1500 [==============================] - 4s 3ms/step - loss: 0.0540 - accuracy: 0.9828 - val_loss: 0.0325 - val_accuracy: 0.9906\n",
            "Epoch 31/40\n",
            "1500/1500 [==============================] - 4s 3ms/step - loss: 0.0540 - accuracy: 0.9834 - val_loss: 0.0312 - val_accuracy: 0.9918\n",
            "Epoch 32/40\n",
            "1500/1500 [==============================] - 4s 3ms/step - loss: 0.0527 - accuracy: 0.9841 - val_loss: 0.0321 - val_accuracy: 0.9912\n",
            "Epoch 33/40\n",
            "1500/1500 [==============================] - 4s 3ms/step - loss: 0.0520 - accuracy: 0.9839 - val_loss: 0.0311 - val_accuracy: 0.9909\n",
            "Epoch 34/40\n",
            "1500/1500 [==============================] - 4s 3ms/step - loss: 0.0534 - accuracy: 0.9828 - val_loss: 0.0333 - val_accuracy: 0.9908\n",
            "Epoch 35/40\n",
            "1500/1500 [==============================] - 4s 3ms/step - loss: 0.0499 - accuracy: 0.9838 - val_loss: 0.0339 - val_accuracy: 0.9903\n",
            "Epoch 36/40\n",
            "1500/1500 [==============================] - 4s 3ms/step - loss: 0.0521 - accuracy: 0.9839 - val_loss: 0.0347 - val_accuracy: 0.9897\n",
            "Epoch 37/40\n",
            "1500/1500 [==============================] - 4s 3ms/step - loss: 0.0495 - accuracy: 0.9842 - val_loss: 0.0357 - val_accuracy: 0.9900\n",
            "Epoch 38/40\n",
            "1500/1500 [==============================] - 4s 3ms/step - loss: 0.0517 - accuracy: 0.9839 - val_loss: 0.0319 - val_accuracy: 0.9903\n",
            "Epoch 39/40\n",
            "1500/1500 [==============================] - 4s 3ms/step - loss: 0.0512 - accuracy: 0.9835 - val_loss: 0.0319 - val_accuracy: 0.9908\n",
            "Epoch 40/40\n",
            "1500/1500 [==============================] - 4s 3ms/step - loss: 0.0479 - accuracy: 0.9845 - val_loss: 0.0307 - val_accuracy: 0.9920\n",
            "313/313 [==============================] - 1s 2ms/step - loss: 0.0259 - accuracy: 0.9916\n",
            "[0.0258550476282835, 0.991599977016449]\n",
            "The autotime extension is already loaded. To reload it, use:\n",
            "  %reload_ext autotime\n",
            "time: 2min 44s\n"
          ],
          "name": "stdout"
        }
      ]
    },
    {
      "cell_type": "code",
      "metadata": {
        "colab": {
          "base_uri": "https://localhost:8080/"
        },
        "id": "LtAlFQdan1Nc",
        "outputId": "31ff9ef6-2033-4cfb-cf5b-11c1c740fba3"
      },
      "source": [
        "test_history = model.evaluate(x=test_images,y=test_labels )\n",
        "%load_ext autotime"
      ],
      "execution_count": 137,
      "outputs": [
        {
          "output_type": "stream",
          "text": [
            "313/313 [==============================] - 1s 2ms/step - loss: 0.0259 - accuracy: 0.9916\n",
            "The autotime extension is already loaded. To reload it, use:\n",
            "  %reload_ext autotime\n",
            "time: 730 ms\n"
          ],
          "name": "stdout"
        }
      ]
    },
    {
      "cell_type": "code",
      "metadata": {
        "colab": {
          "base_uri": "https://localhost:8080/",
          "height": 312
        },
        "id": "KpKGaX9_r9QR",
        "outputId": "175d3b05-0782-4d0f-df83-9adf382c6d24"
      },
      "source": [
        "plt.plot(history.history['accuracy'])\n",
        "plt.plot(history.history['val_accuracy'])\n",
        "plt.title('model accuracy')\n",
        "plt.ylabel('accuracy')\n",
        "plt.xlabel('epoch')\n",
        "plt.legend(['train', 'test'], loc='upper left')\n",
        "plt.show()"
      ],
      "execution_count": 138,
      "outputs": [
        {
          "output_type": "display_data",
          "data": {
            "image/png": "[encoded data removed]",
            "text/plain": [
              "<Figure size 432x288 with 1 Axes>"
            ]
          },
          "metadata": {
            "tags": [],
            "needs_background": "light"
          }
        },
        {
          "output_type": "stream",
          "text": [
            "time: 150 ms\n"
          ],
          "name": "stdout"
        }
      ]
    },
    {
      "cell_type": "code",
      "metadata": {
        "colab": {
          "base_uri": "https://localhost:8080/"
        },
        "id": "jPU3NYoziweR",
        "outputId": "fce7de54-d595-4c1d-e470-6bc742cdd45f"
      },
      "source": [
        "model.summary()"
      ],
      "execution_count": 98,
      "outputs": [
        {
          "output_type": "stream",
          "text": [
            "Model: \"sequential_26\"\n",
            "_________________________________________________________________\n",
            "Layer (type)                 Output Shape              Param #   \n",
            "=================================================================\n",
            "conv2d_70 (Conv2D)           (None, 26, 26, 512)       5120      \n",
            "_________________________________________________________________\n",
            "max_pooling2d_47 (MaxPooling (None, 13, 13, 512)       0         \n",
            "_________________________________________________________________\n",
            "conv2d_71 (Conv2D)           (None, 11, 11, 256)       1179904   \n",
            "_________________________________________________________________\n",
            "conv2d_72 (Conv2D)           (None, 9, 9, 32)          73760     \n",
            "_________________________________________________________________\n",
            "max_pooling2d_48 (MaxPooling (None, 4, 4, 32)          0         \n",
            "_________________________________________________________________\n",
            "flatten_26 (Flatten)         (None, 512)               0         \n",
            "_________________________________________________________________\n",
            "dropout_26 (Dropout)         (None, 512)               0         \n",
            "_________________________________________________________________\n",
            "dense_53 (Dense)             (None, 1024)              525312    \n",
            "_________________________________________________________________\n",
            "dense_54 (Dense)             (None, 256)               262400    \n",
            "_________________________________________________________________\n",
            "dense_55 (Dense)             (None, 10)                2570      \n",
            "=================================================================\n",
            "Total params: 2,049,066\n",
            "Trainable params: 2,049,066\n",
            "Non-trainable params: 0\n",
            "_________________________________________________________________\n",
            "time: 8.96 ms\n"
          ],
          "name": "stdout"
        }
      ]
    },
    {
      "cell_type": "markdown",
      "metadata": {
        "id": "w0KWEXGFRomf"
      },
      "source": [
        "#Cross validation"
      ]
    },
    {
      "cell_type": "code",
      "metadata": {
        "id": "YFeQxr1KSDdV"
      },
      "source": [
        "X = np.concatenate(training_images,test_images)\n",
        "X.shape"
      ],
      "execution_count": null,
      "outputs": []
    },
    {
      "cell_type": "code",
      "metadata": {
        "id": "rKYJeb-_RtB5"
      },
      "source": [
        "\n",
        "seed = 7\n",
        "np.random.seed(seed)\n",
        "kfold = StratifiedKFold(n_splits=5, shuffle=True, random_state=seed)\n",
        "\n",
        "cvscores = []\n",
        "step = 0\n",
        "for train, test in kfold.split(X, Y):\t\n",
        "  model.fit(X[train], Y[train], epochs=25, verbose=0)\n",
        "  scores = model.evaluate(X[test], Y[test], verbose=0)\n",
        "  print(\"step {0} ----- {1} is {2}\".format(step,model.metrics_names[1], scores[1]*100))\n",
        "  step += 1\n",
        "  cvscores.append(scores[1] * 100)\n",
        "print(\"The average of the model accuracy is {0} (+/- {1})\".format(np.mean(cvscores), np.std(cvscores)))"
      ],
      "execution_count": null,
      "outputs": []
    }
  ]
}