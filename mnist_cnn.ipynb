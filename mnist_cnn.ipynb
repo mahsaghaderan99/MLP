{
  "nbformat": 4,
  "nbformat_minor": 0,
  "metadata": {
    "colab": {
      "name": "mnist_cnn.ipynb",
      "provenance": [],
      "authorship_tag": "ABX9TyM0PIp/Aj18lWxi5IgbxtLD",
      "include_colab_link": true
    },
    "kernelspec": {
      "name": "python3",
      "display_name": "Python 3"
    },
    "accelerator": "GPU"
  },
  "cells": [
    {
      "cell_type": "markdown",
      "metadata": {
        "id": "view-in-github",
        "colab_type": "text"
      },
      "source": [
        "<a href=\"https://colab.research.google.com/github/mahsaghaderan99/MLP/blob/cnn/mnist_cnn.ipynb\" target=\"_parent\"><img src=\"https://colab.research.google.com/assets/colab-badge.svg\" alt=\"Open In Colab\"/></a>"
      ]
    },
    {
      "cell_type": "code",
      "metadata": {
        "id": "zWRXTdI2pXsd"
      },
      "source": [
        "!pip install ipython-autotime"
      ],
      "execution_count": null,
      "outputs": []
    },
    {
      "cell_type": "code",
      "metadata": {
        "colab": {
          "base_uri": "https://localhost:8080/"
        },
        "id": "L-HuPqSEieSG",
        "outputId": "c61be0a7-e584-4ddc-c895-b1874e3cfb2b"
      },
      "source": [
        "import tensorflow as tf\n",
        "from os import path, getcwd, chdir\n",
        "path = f\"{getcwd()}/mnist.npz\"\n",
        "import matplotlib.pyplot as plt\n",
        "import sklearn.model_selection as sk"
      ],
      "execution_count": 42,
      "outputs": [
        {
          "output_type": "stream",
          "text": [
            "time: 1.37 ms\n"
          ],
          "name": "stdout"
        }
      ]
    },
    {
      "cell_type": "code",
      "metadata": {
        "colab": {
          "base_uri": "https://localhost:8080/"
        },
        "id": "LDTcwqd6it2y",
        "outputId": "05552789-947e-4440-e24e-e065b5796dba"
      },
      "source": [
        "# def train_mnist_conv():  \n",
        "class Mycallback(tf.keras.callbacks.Callback):\n",
        "  def on_epoch_end(self, epoch,logs={}):\n",
        "      if logs.get('accuracy')>=0.998:\n",
        "          self.model.stop_training = True\n",
        "\n",
        "callbacks = Mycallback() \n",
        "\n",
        "mnist = tf.keras.datasets.mnist\n",
        "(training_images, training_labels), (test_images, test_labels) = mnist.load_data(path=path)\n",
        "training_images = training_images.reshape(60000,28,28,1)\n",
        "training_images = training_images/255.\n",
        "test_images = test_images.reshape(10000,28,28,1)\n",
        "test_images = test_images/255.\n"
      ],
      "execution_count": 45,
      "outputs": [
        {
          "output_type": "stream",
          "text": [
            "time: 367 ms\n"
          ],
          "name": "stdout"
        }
      ]
    },
    {
      "cell_type": "code",
      "metadata": {
        "colab": {
          "base_uri": "https://localhost:8080/"
        },
        "id": "x89GoL8PAAuN",
        "outputId": "5e7981a4-9448-4445-a014-0bf0870494d9"
      },
      "source": [
        "training_images.shape"
      ],
      "execution_count": 97,
      "outputs": [
        {
          "output_type": "execute_result",
          "data": {
            "text/plain": [
              "(60000, 28, 28, 1)"
            ]
          },
          "metadata": {
            "tags": []
          },
          "execution_count": 97
        },
        {
          "output_type": "stream",
          "text": [
            "time: 3.96 ms\n"
          ],
          "name": "stdout"
        }
      ]
    },
    {
      "cell_type": "code",
      "metadata": {
        "colab": {
          "base_uri": "https://localhost:8080/"
        },
        "id": "3QbgC59xpsT1",
        "outputId": "018994fd-0f0f-43e1-8317-197092c37589"
      },
      "source": [
        "model = tf.keras.models.Sequential([\n",
        "  tf.keras.layers.Conv2D(512, (3,3), activation='relu', input_shape=training_images.shape[1:]),\n",
        "  tf.keras.layers.MaxPooling2D(2,2),\n",
        "  tf.keras.layers.Conv2D(256, (3,3), activation='relu', input_shape=training_images.shape[1:]),\n",
        "  tf.keras.layers.Conv2D(32, (3,3), activation='relu', input_shape=training_images.shape[1:]),\n",
        "  tf.keras.layers.MaxPooling2D(2,2),\n",
        "  tf.keras.layers.Flatten(),\n",
        "  tf.keras.layers.Dropout(0.35),\n",
        "  tf.keras.layers.Dense(1024, activation='relu'),\n",
        "  tf.keras.layers.Dense(256, activation='relu'),\n",
        "  tf.keras.layers.Dense(10, activation='softmax')\n",
        "])\n",
        "\n",
        "model.compile(optimizer='adam', loss='sparse_categorical_crossentropy', metrics=['accuracy'])\n",
        "history = model.fit(\n",
        "    training_images[:1000],training_labels[:1000],validation_split = 0.2,epochs=80 ,callbacks =[callbacks]\n",
        ")\n",
        "print(model.evaluate(test_images, test_labels))\n",
        "# return history.epoch, history.history['accuracy'][-1]\n",
        "%load_ext autotime"
      ],
      "execution_count": 101,
      "outputs": [
        {
          "output_type": "stream",
          "text": [
            "Epoch 1/80\n",
            " 1/25 [>.............................] - ETA: 0s - loss: 2.3042 - accuracy: 0.0625WARNING:tensorflow:Callbacks method `on_train_batch_end` is slow compared to the batch time (batch time: 0.0041s vs `on_train_batch_end` time: 0.0093s). Check your callbacks.\n",
            "25/25 [==============================] - 0s 20ms/step - loss: 1.6543 - accuracy: 0.4638 - val_loss: 0.7198 - val_accuracy: 0.7700\n",
            "Epoch 2/80\n",
            "25/25 [==============================] - 0s 15ms/step - loss: 0.5403 - accuracy: 0.8338 - val_loss: 0.4679 - val_accuracy: 0.8900\n",
            "Epoch 3/80\n",
            "25/25 [==============================] - 0s 15ms/step - loss: 0.3515 - accuracy: 0.8900 - val_loss: 0.3769 - val_accuracy: 0.9150\n",
            "Epoch 4/80\n",
            "25/25 [==============================] - 0s 15ms/step - loss: 0.2350 - accuracy: 0.9225 - val_loss: 0.3178 - val_accuracy: 0.9300\n",
            "Epoch 5/80\n",
            "25/25 [==============================] - 0s 15ms/step - loss: 0.1695 - accuracy: 0.9413 - val_loss: 0.3348 - val_accuracy: 0.9100\n",
            "Epoch 6/80\n",
            "25/25 [==============================] - 0s 15ms/step - loss: 0.1270 - accuracy: 0.9550 - val_loss: 0.2712 - val_accuracy: 0.9350\n",
            "Epoch 7/80\n",
            "25/25 [==============================] - 0s 15ms/step - loss: 0.0659 - accuracy: 0.9862 - val_loss: 0.3060 - val_accuracy: 0.9300\n",
            "Epoch 8/80\n",
            "25/25 [==============================] - 0s 15ms/step - loss: 0.0838 - accuracy: 0.9737 - val_loss: 0.3895 - val_accuracy: 0.9250\n",
            "Epoch 9/80\n",
            "25/25 [==============================] - 0s 15ms/step - loss: 0.1144 - accuracy: 0.9625 - val_loss: 0.3202 - val_accuracy: 0.9400\n",
            "Epoch 10/80\n",
            "25/25 [==============================] - 0s 15ms/step - loss: 0.0648 - accuracy: 0.9800 - val_loss: 0.3835 - val_accuracy: 0.9400\n",
            "Epoch 11/80\n",
            "25/25 [==============================] - 0s 15ms/step - loss: 0.0672 - accuracy: 0.9787 - val_loss: 0.4038 - val_accuracy: 0.9100\n",
            "Epoch 12/80\n",
            "25/25 [==============================] - 0s 15ms/step - loss: 0.0997 - accuracy: 0.9675 - val_loss: 0.3532 - val_accuracy: 0.9350\n",
            "Epoch 13/80\n",
            "25/25 [==============================] - 0s 14ms/step - loss: 0.0567 - accuracy: 0.9800 - val_loss: 0.3013 - val_accuracy: 0.9350\n",
            "Epoch 14/80\n",
            "25/25 [==============================] - 0s 15ms/step - loss: 0.0557 - accuracy: 0.9825 - val_loss: 0.3042 - val_accuracy: 0.9450\n",
            "Epoch 15/80\n",
            "25/25 [==============================] - 0s 15ms/step - loss: 0.0291 - accuracy: 0.9950 - val_loss: 0.3711 - val_accuracy: 0.9500\n",
            "Epoch 16/80\n",
            "25/25 [==============================] - 0s 15ms/step - loss: 0.0104 - accuracy: 0.9937 - val_loss: 0.3868 - val_accuracy: 0.9400\n",
            "Epoch 17/80\n",
            "25/25 [==============================] - 0s 15ms/step - loss: 0.0241 - accuracy: 0.9900 - val_loss: 0.2745 - val_accuracy: 0.9650\n",
            "Epoch 18/80\n",
            "25/25 [==============================] - 0s 15ms/step - loss: 0.0363 - accuracy: 0.9862 - val_loss: 0.3663 - val_accuracy: 0.9350\n",
            "Epoch 19/80\n",
            "25/25 [==============================] - 0s 15ms/step - loss: 0.0473 - accuracy: 0.9812 - val_loss: 0.4378 - val_accuracy: 0.9300\n",
            "Epoch 20/80\n",
            "25/25 [==============================] - 0s 15ms/step - loss: 0.0752 - accuracy: 0.9775 - val_loss: 0.4303 - val_accuracy: 0.9350\n",
            "Epoch 21/80\n",
            "25/25 [==============================] - 0s 15ms/step - loss: 0.0423 - accuracy: 0.9837 - val_loss: 0.4305 - val_accuracy: 0.9550\n",
            "Epoch 22/80\n",
            "25/25 [==============================] - 0s 15ms/step - loss: 0.0491 - accuracy: 0.9850 - val_loss: 0.3878 - val_accuracy: 0.9450\n",
            "Epoch 23/80\n",
            "25/25 [==============================] - 0s 15ms/step - loss: 0.0505 - accuracy: 0.9825 - val_loss: 0.3685 - val_accuracy: 0.9450\n",
            "Epoch 24/80\n",
            "25/25 [==============================] - 0s 15ms/step - loss: 0.0443 - accuracy: 0.9862 - val_loss: 0.2797 - val_accuracy: 0.9650\n",
            "Epoch 25/80\n",
            "25/25 [==============================] - 0s 15ms/step - loss: 0.0434 - accuracy: 0.9825 - val_loss: 0.3403 - val_accuracy: 0.9500\n",
            "Epoch 26/80\n",
            "25/25 [==============================] - 0s 15ms/step - loss: 0.0385 - accuracy: 0.9850 - val_loss: 0.3305 - val_accuracy: 0.9450\n",
            "Epoch 27/80\n",
            "25/25 [==============================] - 0s 15ms/step - loss: 0.0457 - accuracy: 0.9875 - val_loss: 0.3985 - val_accuracy: 0.9350\n",
            "Epoch 28/80\n",
            "25/25 [==============================] - 0s 15ms/step - loss: 0.0455 - accuracy: 0.9875 - val_loss: 0.4254 - val_accuracy: 0.9250\n",
            "Epoch 29/80\n",
            "25/25 [==============================] - 0s 15ms/step - loss: 0.0143 - accuracy: 0.9925 - val_loss: 0.4333 - val_accuracy: 0.9400\n",
            "Epoch 30/80\n",
            "25/25 [==============================] - 0s 15ms/step - loss: 0.0128 - accuracy: 0.9950 - val_loss: 0.4681 - val_accuracy: 0.9450\n",
            "Epoch 31/80\n",
            "25/25 [==============================] - 0s 15ms/step - loss: 0.0327 - accuracy: 0.9900 - val_loss: 0.4261 - val_accuracy: 0.9300\n",
            "Epoch 32/80\n",
            "25/25 [==============================] - 0s 15ms/step - loss: 0.0528 - accuracy: 0.9862 - val_loss: 0.3516 - val_accuracy: 0.9500\n",
            "Epoch 33/80\n",
            "25/25 [==============================] - 0s 15ms/step - loss: 0.0158 - accuracy: 0.9962 - val_loss: 0.3931 - val_accuracy: 0.9450\n",
            "Epoch 34/80\n",
            "25/25 [==============================] - 0s 15ms/step - loss: 0.0067 - accuracy: 0.9987 - val_loss: 0.3968 - val_accuracy: 0.9550\n",
            "313/313 [==============================] - 2s 6ms/step - loss: 0.2237 - accuracy: 0.9557\n",
            "[0.22370027005672455, 0.9556999802589417]\n",
            "The autotime extension is already loaded. To reload it, use:\n",
            "  %reload_ext autotime\n",
            "time: 15.7 s\n"
          ],
          "name": "stdout"
        }
      ]
    },
    {
      "cell_type": "code",
      "metadata": {
        "colab": {
          "base_uri": "https://localhost:8080/"
        },
        "id": "LtAlFQdan1Nc",
        "outputId": "a4a9282a-dc5f-41de-bb51-af91d21ce326"
      },
      "source": [
        "test_history = model.evaluate(x=test_images,y=test_labels )\n",
        "%load_ext autotime"
      ],
      "execution_count": 102,
      "outputs": [
        {
          "output_type": "stream",
          "text": [
            "313/313 [==============================] - 2s 6ms/step - loss: 0.2237 - accuracy: 0.9557\n",
            "The autotime extension is already loaded. To reload it, use:\n",
            "  %reload_ext autotime\n",
            "time: 1.83 s\n"
          ],
          "name": "stdout"
        }
      ]
    },
    {
      "cell_type": "code",
      "metadata": {
        "colab": {
          "base_uri": "https://localhost:8080/",
          "height": 312
        },
        "id": "KpKGaX9_r9QR",
        "outputId": "e78cf57c-ac86-429e-ead4-0ca5c89bd100"
      },
      "source": [
        "plt.plot(history.history['accuracy'])\n",
        "plt.plot(history.history['val_accuracy'])\n",
        "plt.title('model accuracy')\n",
        "plt.ylabel('accuracy')\n",
        "plt.xlabel('epoch')\n",
        "plt.legend(['train', 'test'], loc='upper left')\n",
        "plt.show()"
      ],
      "execution_count": 103,
      "outputs": [
        {
          "output_type": "display_data",
          "data": {
            "image/png": "[encoded data removed]",
            "text/plain": [
              "<Figure size 432x288 with 1 Axes>"
            ]
          },
          "metadata": {
            "tags": [],
            "needs_background": "light"
          }
        },
        {
          "output_type": "stream",
          "text": [
            "time: 139 ms\n"
          ],
          "name": "stdout"
        }
      ]
    },
    {
      "cell_type": "code",
      "metadata": {
        "colab": {
          "base_uri": "https://localhost:8080/"
        },
        "id": "jPU3NYoziweR",
        "outputId": "fce7de54-d595-4c1d-e470-6bc742cdd45f"
      },
      "source": [
        "model.summary()"
      ],
      "execution_count": 98,
      "outputs": [
        {
          "output_type": "stream",
          "text": [
            "Model: \"sequential_26\"\n",
            "_________________________________________________________________\n",
            "Layer (type)                 Output Shape              Param #   \n",
            "=================================================================\n",
            "conv2d_70 (Conv2D)           (None, 26, 26, 512)       5120      \n",
            "_________________________________________________________________\n",
            "max_pooling2d_47 (MaxPooling (None, 13, 13, 512)       0         \n",
            "_________________________________________________________________\n",
            "conv2d_71 (Conv2D)           (None, 11, 11, 256)       1179904   \n",
            "_________________________________________________________________\n",
            "conv2d_72 (Conv2D)           (None, 9, 9, 32)          73760     \n",
            "_________________________________________________________________\n",
            "max_pooling2d_48 (MaxPooling (None, 4, 4, 32)          0         \n",
            "_________________________________________________________________\n",
            "flatten_26 (Flatten)         (None, 512)               0         \n",
            "_________________________________________________________________\n",
            "dropout_26 (Dropout)         (None, 512)               0         \n",
            "_________________________________________________________________\n",
            "dense_53 (Dense)             (None, 1024)              525312    \n",
            "_________________________________________________________________\n",
            "dense_54 (Dense)             (None, 256)               262400    \n",
            "_________________________________________________________________\n",
            "dense_55 (Dense)             (None, 10)                2570      \n",
            "=================================================================\n",
            "Total params: 2,049,066\n",
            "Trainable params: 2,049,066\n",
            "Non-trainable params: 0\n",
            "_________________________________________________________________\n",
            "time: 8.96 ms\n"
          ],
          "name": "stdout"
        }
      ]
    }
  ]
}