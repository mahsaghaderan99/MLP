{
  "nbformat": 4,
  "nbformat_minor": 0,
  "metadata": {
    "colab": {
      "name": "mnist_cnn.ipynb",
      "provenance": [],
      "authorship_tag": "ABX9TyNt9kZDfa4tr4atdRzEL0TS",
      "include_colab_link": true
    },
    "kernelspec": {
      "name": "python3",
      "display_name": "Python 3"
    },
    "accelerator": "GPU"
  },
  "cells": [
    {
      "cell_type": "markdown",
      "metadata": {
        "id": "view-in-github",
        "colab_type": "text"
      },
      "source": [
        "<a href=\"https://colab.research.google.com/github/mahsaghaderan99/MLP/blob/cnn/mnist_cnn.ipynb\" target=\"_parent\"><img src=\"https://colab.research.google.com/assets/colab-badge.svg\" alt=\"Open In Colab\"/></a>"
      ]
    },
    {
      "cell_type": "code",
      "metadata": {
        "id": "zWRXTdI2pXsd"
      },
      "source": [
        "!pip install ipython-autotime"
      ],
      "execution_count": null,
      "outputs": []
    },
    {
      "cell_type": "code",
      "metadata": {
        "colab": {
          "base_uri": "https://localhost:8080/"
        },
        "id": "L-HuPqSEieSG",
        "outputId": "c61be0a7-e584-4ddc-c895-b1874e3cfb2b"
      },
      "source": [
        "import tensorflow as tf\n",
        "from os import path, getcwd, chdir\n",
        "path = f\"{getcwd()}/mnist.npz\"\n",
        "import matplotlib.pyplot as plt\n",
        "import sklearn.model_selection as sk"
      ],
      "execution_count": 42,
      "outputs": [
        {
          "output_type": "stream",
          "text": [
            "time: 1.37 ms\n"
          ],
          "name": "stdout"
        }
      ]
    },
    {
      "cell_type": "code",
      "metadata": {
        "colab": {
          "base_uri": "https://localhost:8080/"
        },
        "id": "LDTcwqd6it2y",
        "outputId": "05552789-947e-4440-e24e-e065b5796dba"
      },
      "source": [
        "# def train_mnist_conv():  \n",
        "class Mycallback(tf.keras.callbacks.Callback):\n",
        "  def on_epoch_end(self, epoch,logs={}):\n",
        "      if logs.get('accuracy')>=0.998:\n",
        "          self.model.stop_training = True\n",
        "\n",
        "callbacks = Mycallback() \n",
        "\n",
        "mnist = tf.keras.datasets.mnist\n",
        "(training_images, training_labels), (test_images, test_labels) = mnist.load_data(path=path)\n",
        "training_images = training_images.reshape(60000,28,28,1)\n",
        "training_images = training_images/255.\n",
        "test_images = test_images.reshape(10000,28,28,1)\n",
        "test_images = test_images/255.\n"
      ],
      "execution_count": 45,
      "outputs": [
        {
          "output_type": "stream",
          "text": [
            "time: 367 ms\n"
          ],
          "name": "stdout"
        }
      ]
    },
    {
      "cell_type": "code",
      "metadata": {
        "colab": {
          "base_uri": "https://localhost:8080/"
        },
        "id": "3QbgC59xpsT1",
        "outputId": "e841d2ad-2316-4392-f481-58b05e391845"
      },
      "source": [
        "model = tf.keras.models.Sequential([\n",
        "  tf.keras.layers.Conv2D(16, (3,3), activation='relu', input_shape=training_images.shape[1:]),\n",
        "  tf.keras.layers.MaxPooling2D(2,2),\n",
        "  tf.keras.layers.Conv2D(16, (3,3), activation='relu', input_shape=training_images.shape[1:]),\n",
        "  tf.keras.layers.MaxPooling2D(2,2),\n",
        "  tf.keras.layers.Flatten(),\n",
        "  tf.keras.layers.Dropout(0.35),\n",
        "  tf.keras.layers.Dense(16, activation='relu'),\n",
        "  tf.keras.layers.Dense(10, activation='softmax')\n",
        "])\n",
        "\n",
        "model.compile(optimizer='adam', loss='sparse_categorical_crossentropy', metrics=['accuracy'])\n",
        "history = model.fit(\n",
        "    training_images,training_labels,validation_split = 0.2,epochs=15 ,callbacks =[callbacks]\n",
        ")\n",
        "print(model.evaluate(test_images, test_labels))\n",
        "# return history.epoch, history.history['accuracy'][-1]\n",
        "%load_ext autotime"
      ],
      "execution_count": 64,
      "outputs": [
        {
          "output_type": "stream",
          "text": [
            "Epoch 1/15\n",
            "1500/1500 [==============================] - 4s 3ms/step - loss: 0.3845 - accuracy: 0.8769 - val_loss: 0.1001 - val_accuracy: 0.9723\n",
            "Epoch 2/15\n",
            "1500/1500 [==============================] - 4s 3ms/step - loss: 0.1359 - accuracy: 0.9587 - val_loss: 0.0862 - val_accuracy: 0.9753\n",
            "Epoch 3/15\n",
            "1500/1500 [==============================] - 4s 2ms/step - loss: 0.1086 - accuracy: 0.9664 - val_loss: 0.0640 - val_accuracy: 0.9826\n",
            "Epoch 4/15\n",
            "1500/1500 [==============================] - 4s 3ms/step - loss: 0.0935 - accuracy: 0.9714 - val_loss: 0.0549 - val_accuracy: 0.9838\n",
            "Epoch 5/15\n",
            "1500/1500 [==============================] - 4s 2ms/step - loss: 0.0844 - accuracy: 0.9738 - val_loss: 0.0595 - val_accuracy: 0.9815\n",
            "Epoch 6/15\n",
            "1500/1500 [==============================] - 4s 3ms/step - loss: 0.0771 - accuracy: 0.9759 - val_loss: 0.0529 - val_accuracy: 0.9843\n",
            "Epoch 7/15\n",
            "1500/1500 [==============================] - 4s 2ms/step - loss: 0.0739 - accuracy: 0.9760 - val_loss: 0.0446 - val_accuracy: 0.9866\n",
            "Epoch 8/15\n",
            "1500/1500 [==============================] - 4s 2ms/step - loss: 0.0677 - accuracy: 0.9781 - val_loss: 0.0416 - val_accuracy: 0.9883\n",
            "Epoch 9/15\n",
            "1500/1500 [==============================] - 4s 2ms/step - loss: 0.0635 - accuracy: 0.9795 - val_loss: 0.0445 - val_accuracy: 0.9868\n",
            "Epoch 10/15\n",
            "1500/1500 [==============================] - 4s 2ms/step - loss: 0.0602 - accuracy: 0.9812 - val_loss: 0.0398 - val_accuracy: 0.9880\n",
            "Epoch 11/15\n",
            "1500/1500 [==============================] - 4s 2ms/step - loss: 0.0611 - accuracy: 0.9808 - val_loss: 0.0381 - val_accuracy: 0.9893\n",
            "Epoch 12/15\n",
            "1500/1500 [==============================] - 4s 3ms/step - loss: 0.0580 - accuracy: 0.9812 - val_loss: 0.0402 - val_accuracy: 0.9877\n",
            "Epoch 13/15\n",
            "1500/1500 [==============================] - 4s 2ms/step - loss: 0.0568 - accuracy: 0.9821 - val_loss: 0.0436 - val_accuracy: 0.9864\n",
            "Epoch 14/15\n",
            "1500/1500 [==============================] - 4s 2ms/step - loss: 0.0564 - accuracy: 0.9821 - val_loss: 0.0407 - val_accuracy: 0.9871\n",
            "Epoch 15/15\n",
            "1500/1500 [==============================] - 4s 2ms/step - loss: 0.0531 - accuracy: 0.9824 - val_loss: 0.0409 - val_accuracy: 0.9883\n",
            "313/313 [==============================] - 1s 2ms/step - loss: 0.0321 - accuracy: 0.9896\n",
            "[0.03212118148803711, 0.9896000027656555]\n",
            "The autotime extension is already loaded. To reload it, use:\n",
            "  %reload_ext autotime\n",
            "time: 57.1 s\n"
          ],
          "name": "stdout"
        }
      ]
    },
    {
      "cell_type": "code",
      "metadata": {
        "colab": {
          "base_uri": "https://localhost:8080/"
        },
        "id": "LtAlFQdan1Nc",
        "outputId": "5d1767a4-f9b0-4a10-c2c1-2f83b0128a09"
      },
      "source": [
        "test_history = model.evaluate(x=test_images,y=test_labels )\n",
        "%load_ext autotime"
      ],
      "execution_count": 65,
      "outputs": [
        {
          "output_type": "stream",
          "text": [
            "313/313 [==============================] - 1s 2ms/step - loss: 0.0321 - accuracy: 0.9896\n",
            "The autotime extension is already loaded. To reload it, use:\n",
            "  %reload_ext autotime\n",
            "time: 735 ms\n"
          ],
          "name": "stdout"
        }
      ]
    },
    {
      "cell_type": "code",
      "metadata": {
        "colab": {
          "base_uri": "https://localhost:8080/",
          "height": 312
        },
        "id": "KpKGaX9_r9QR",
        "outputId": "3494f3fa-61ca-421a-eeaa-d10e279365ef"
      },
      "source": [
        "plt.plot(history.history['accuracy'])\n",
        "plt.plot(history.history['val_accuracy'])\n",
        "plt.title('model accuracy')\n",
        "plt.ylabel('accuracy')\n",
        "plt.xlabel('epoch')\n",
        "plt.legend(['train', 'test'], loc='upper left')\n",
        "plt.show()"
      ],
      "execution_count": 68,
      "outputs": [
        {
          "output_type": "display_data",
          "data": {
            "image/png": "[encoded data removed]",
            "text/plain": [
              "<Figure size 432x288 with 1 Axes>"
            ]
          },
          "metadata": {
            "tags": [],
            "needs_background": "light"
          }
        },
        {
          "output_type": "stream",
          "text": [
            "time: 141 ms\n"
          ],
          "name": "stdout"
        }
      ]
    },
    {
      "cell_type": "code",
      "metadata": {
        "colab": {
          "base_uri": "https://localhost:8080/"
        },
        "id": "jPU3NYoziweR",
        "outputId": "a8a7c19d-aac3-41c1-d01c-1720d58ae194"
      },
      "source": [
        "model.summary()"
      ],
      "execution_count": 69,
      "outputs": [
        {
          "output_type": "stream",
          "text": [
            "Model: \"sequential_10\"\n",
            "_________________________________________________________________\n",
            "Layer (type)                 Output Shape              Param #   \n",
            "=================================================================\n",
            "conv2d_11 (Conv2D)           (None, 26, 26, 16)        160       \n",
            "_________________________________________________________________\n",
            "max_pooling2d_11 (MaxPooling (None, 13, 13, 16)        0         \n",
            "_________________________________________________________________\n",
            "conv2d_12 (Conv2D)           (None, 11, 11, 16)        2320      \n",
            "_________________________________________________________________\n",
            "max_pooling2d_12 (MaxPooling (None, 5, 5, 16)          0         \n",
            "_________________________________________________________________\n",
            "flatten_10 (Flatten)         (None, 400)               0         \n",
            "_________________________________________________________________\n",
            "dropout_10 (Dropout)         (None, 400)               0         \n",
            "_________________________________________________________________\n",
            "dense_20 (Dense)             (None, 16)                6416      \n",
            "_________________________________________________________________\n",
            "dense_21 (Dense)             (None, 10)                170       \n",
            "=================================================================\n",
            "Total params: 9,066\n",
            "Trainable params: 9,066\n",
            "Non-trainable params: 0\n",
            "_________________________________________________________________\n",
            "time: 7.94 ms\n"
          ],
          "name": "stdout"
        }
      ]
    }
  ]
}