{
  "nbformat": 4,
  "nbformat_minor": 0,
  "metadata": {
    "colab": {
      "name": "mnist_cnn.ipynb",
      "provenance": [],
      "authorship_tag": "ABX9TyNKW/DuBM5nIosyO9Yuqu4+",
      "include_colab_link": true
    },
    "kernelspec": {
      "name": "python3",
      "display_name": "Python 3"
    },
    "accelerator": "GPU"
  },
  "cells": [
    {
      "cell_type": "markdown",
      "metadata": {
        "id": "view-in-github",
        "colab_type": "text"
      },
      "source": [
        "<a href=\"https://colab.research.google.com/github/mahsaghaderan99/MLP/blob/cnn/mnist_cnn.ipynb\" target=\"_parent\"><img src=\"https://colab.research.google.com/assets/colab-badge.svg\" alt=\"Open In Colab\"/></a>"
      ]
    },
    {
      "cell_type": "code",
      "metadata": {
        "id": "zWRXTdI2pXsd"
      },
      "source": [
        "!pip install ipython-autotime"
      ],
      "execution_count": null,
      "outputs": []
    },
    {
      "cell_type": "code",
      "metadata": {
        "colab": {
          "base_uri": "https://localhost:8080/"
        },
        "id": "L-HuPqSEieSG",
        "outputId": "c61be0a7-e584-4ddc-c895-b1874e3cfb2b"
      },
      "source": [
        "import tensorflow as tf\n",
        "from os import path, getcwd, chdir\n",
        "path = f\"{getcwd()}/mnist.npz\"\n",
        "import matplotlib.pyplot as plt\n",
        "import sklearn.model_selection as sk"
      ],
      "execution_count": 42,
      "outputs": [
        {
          "output_type": "stream",
          "text": [
            "time: 1.37 ms\n"
          ],
          "name": "stdout"
        }
      ]
    },
    {
      "cell_type": "code",
      "metadata": {
        "colab": {
          "base_uri": "https://localhost:8080/"
        },
        "id": "LDTcwqd6it2y",
        "outputId": "05552789-947e-4440-e24e-e065b5796dba"
      },
      "source": [
        "# def train_mnist_conv():  \n",
        "class Mycallback(tf.keras.callbacks.Callback):\n",
        "  def on_epoch_end(self, epoch,logs={}):\n",
        "      if logs.get('accuracy')>=0.998:\n",
        "          self.model.stop_training = True\n",
        "\n",
        "callbacks = Mycallback() \n",
        "\n",
        "mnist = tf.keras.datasets.mnist\n",
        "(training_images, training_labels), (test_images, test_labels) = mnist.load_data(path=path)\n",
        "training_images = training_images.reshape(60000,28,28,1)\n",
        "training_images = training_images/255.\n",
        "test_images = test_images.reshape(10000,28,28,1)\n",
        "test_images = test_images/255.\n"
      ],
      "execution_count": 45,
      "outputs": [
        {
          "output_type": "stream",
          "text": [
            "time: 367 ms\n"
          ],
          "name": "stdout"
        }
      ]
    },
    {
      "cell_type": "code",
      "metadata": {
        "colab": {
          "base_uri": "https://localhost:8080/"
        },
        "id": "3QbgC59xpsT1",
        "outputId": "22162fd2-e266-48e9-a611-203cd0ab3939"
      },
      "source": [
        "model = tf.keras.models.Sequential([\n",
        "  tf.keras.layers.Conv2D(32, (3,3), activation='relu', input_shape=training_images.shape[1:]),\n",
        "  tf.keras.layers.MaxPooling2D(2,2),\n",
        "  tf.keras.layers.Flatten(),\n",
        "  tf.keras.layers.Dropout(0.35),\n",
        "  tf.keras.layers.Dense(16, activation='relu'),\n",
        "  tf.keras.layers.Dense(10, activation='softmax')\n",
        "])\n",
        "\n",
        "model.compile(optimizer='adam', loss='sparse_categorical_crossentropy', metrics=['accuracy'])\n",
        "history = model.fit(\n",
        "    training_images,training_labels,validation_split = 0.2,epochs=15 ,callbacks =[callbacks]\n",
        ")\n",
        "print(model.evaluate(test_images, test_labels))\n",
        "# return history.epoch, history.history['accuracy'][-1]\n",
        "%load_ext autotime"
      ],
      "execution_count": 59,
      "outputs": [
        {
          "output_type": "stream",
          "text": [
            "Epoch 1/15\n",
            "1500/1500 [==============================] - 4s 3ms/step - loss: 0.3201 - accuracy: 0.9037 - val_loss: 0.1433 - val_accuracy: 0.9602\n",
            "Epoch 2/15\n",
            "1500/1500 [==============================] - 4s 2ms/step - loss: 0.1316 - accuracy: 0.9607 - val_loss: 0.0908 - val_accuracy: 0.9753\n",
            "Epoch 3/15\n",
            "1500/1500 [==============================] - 4s 2ms/step - loss: 0.0982 - accuracy: 0.9701 - val_loss: 0.0801 - val_accuracy: 0.9765\n",
            "Epoch 4/15\n",
            "1500/1500 [==============================] - 4s 2ms/step - loss: 0.0831 - accuracy: 0.9742 - val_loss: 0.0740 - val_accuracy: 0.9771\n",
            "Epoch 5/15\n",
            "1500/1500 [==============================] - 4s 2ms/step - loss: 0.0720 - accuracy: 0.9778 - val_loss: 0.0640 - val_accuracy: 0.9811\n",
            "Epoch 6/15\n",
            "1500/1500 [==============================] - 4s 2ms/step - loss: 0.0631 - accuracy: 0.9802 - val_loss: 0.0612 - val_accuracy: 0.9820\n",
            "Epoch 7/15\n",
            "1500/1500 [==============================] - 4s 2ms/step - loss: 0.0552 - accuracy: 0.9829 - val_loss: 0.0658 - val_accuracy: 0.9800\n",
            "Epoch 8/15\n",
            "1500/1500 [==============================] - 4s 2ms/step - loss: 0.0492 - accuracy: 0.9846 - val_loss: 0.0529 - val_accuracy: 0.9848\n",
            "Epoch 9/15\n",
            "1500/1500 [==============================] - 4s 2ms/step - loss: 0.0445 - accuracy: 0.9861 - val_loss: 0.0576 - val_accuracy: 0.9829\n",
            "Epoch 10/15\n",
            "1500/1500 [==============================] - 4s 2ms/step - loss: 0.0401 - accuracy: 0.9876 - val_loss: 0.0574 - val_accuracy: 0.9833\n",
            "Epoch 11/15\n",
            "1500/1500 [==============================] - 4s 3ms/step - loss: 0.0380 - accuracy: 0.9876 - val_loss: 0.0552 - val_accuracy: 0.9858\n",
            "Epoch 12/15\n",
            "1500/1500 [==============================] - 4s 2ms/step - loss: 0.0341 - accuracy: 0.9890 - val_loss: 0.0558 - val_accuracy: 0.9844\n",
            "Epoch 13/15\n",
            "1500/1500 [==============================] - 4s 2ms/step - loss: 0.0332 - accuracy: 0.9896 - val_loss: 0.0525 - val_accuracy: 0.9853\n",
            "Epoch 14/15\n",
            "1500/1500 [==============================] - 4s 2ms/step - loss: 0.0297 - accuracy: 0.9901 - val_loss: 0.0601 - val_accuracy: 0.9836\n",
            "Epoch 15/15\n",
            "1500/1500 [==============================] - 4s 2ms/step - loss: 0.0283 - accuracy: 0.9906 - val_loss: 0.0533 - val_accuracy: 0.9862\n",
            "313/313 [==============================] - 1s 2ms/step - loss: 0.0477 - accuracy: 0.9853\n",
            "[0.04765443876385689, 0.9853000044822693]\n",
            "The autotime extension is already loaded. To reload it, use:\n",
            "  %reload_ext autotime\n",
            "time: 56.3 s\n"
          ],
          "name": "stdout"
        }
      ]
    },
    {
      "cell_type": "code",
      "metadata": {
        "colab": {
          "base_uri": "https://localhost:8080/"
        },
        "id": "LtAlFQdan1Nc",
        "outputId": "f56ce4a4-3620-44fb-dd70-ea8e1e55a46a"
      },
      "source": [
        "test_history = model.evaluate(x=test_images,y=test_labels )\n",
        "%load_ext autotime"
      ],
      "execution_count": 60,
      "outputs": [
        {
          "output_type": "stream",
          "text": [
            "313/313 [==============================] - 1s 2ms/step - loss: 0.0477 - accuracy: 0.9853\n",
            "The autotime extension is already loaded. To reload it, use:\n",
            "  %reload_ext autotime\n",
            "time: 782 ms\n"
          ],
          "name": "stdout"
        }
      ]
    },
    {
      "cell_type": "code",
      "metadata": {
        "colab": {
          "base_uri": "https://localhost:8080/",
          "height": 312
        },
        "id": "KpKGaX9_r9QR",
        "outputId": "809ace2b-68d7-470d-d865-6e2980eaf3b7"
      },
      "source": [
        "plt.plot(history.history['accuracy'])\n",
        "plt.plot(history.history['val_accuracy'])\n",
        "plt.title('model accuracy')\n",
        "plt.ylabel('accuracy')\n",
        "plt.xlabel('epoch')\n",
        "plt.legend(['train', 'test'], loc='upper left')\n",
        "plt.show()"
      ],
      "execution_count": 61,
      "outputs": [
        {
          "output_type": "display_data",
          "data": {
            "image/png": "[encoded data removed]",
            "text/plain": [
              "<Figure size 432x288 with 1 Axes>"
            ]
          },
          "metadata": {
            "tags": [],
            "needs_background": "light"
          }
        },
        {
          "output_type": "stream",
          "text": [
            "time: 135 ms\n"
          ],
          "name": "stdout"
        }
      ]
    },
    {
      "cell_type": "code",
      "metadata": {
        "colab": {
          "base_uri": "https://localhost:8080/"
        },
        "id": "jPU3NYoziweR",
        "outputId": "6d1596ba-1ceb-4eb7-fe4f-79d4502c0bd3"
      },
      "source": [
        "model.summary()"
      ],
      "execution_count": 62,
      "outputs": [
        {
          "output_type": "stream",
          "text": [
            "Model: \"sequential_8\"\n",
            "_________________________________________________________________\n",
            "Layer (type)                 Output Shape              Param #   \n",
            "=================================================================\n",
            "conv2d_8 (Conv2D)            (None, 26, 26, 32)        320       \n",
            "_________________________________________________________________\n",
            "max_pooling2d_8 (MaxPooling2 (None, 13, 13, 32)        0         \n",
            "_________________________________________________________________\n",
            "flatten_8 (Flatten)          (None, 5408)              0         \n",
            "_________________________________________________________________\n",
            "dropout_8 (Dropout)          (None, 5408)              0         \n",
            "_________________________________________________________________\n",
            "dense_16 (Dense)             (None, 16)                86544     \n",
            "_________________________________________________________________\n",
            "dense_17 (Dense)             (None, 10)                170       \n",
            "=================================================================\n",
            "Total params: 87,034\n",
            "Trainable params: 87,034\n",
            "Non-trainable params: 0\n",
            "_________________________________________________________________\n",
            "time: 2.66 ms\n"
          ],
          "name": "stdout"
        }
      ]
    }
  ]
}