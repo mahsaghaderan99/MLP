{
  "nbformat": 4,
  "nbformat_minor": 0,
  "metadata": {
    "colab": {
      "name": "mnist_cnn.ipynb",
      "provenance": [],
      "collapsed_sections": [
        "5j1vsenNTjcO",
        "LhfxHFD9Tmv4",
        "w0KWEXGFRomf"
      ],
      "authorship_tag": "ABX9TyMnq89LkAHcvTI4XYgsj8T6",
      "include_colab_link": true
    },
    "kernelspec": {
      "name": "python3",
      "display_name": "Python 3"
    },
    "accelerator": "GPU"
  },
  "cells": [
    {
      "cell_type": "markdown",
      "metadata": {
        "id": "view-in-github",
        "colab_type": "text"
      },
      "source": [
        "<a href=\"https://colab.research.google.com/github/mahsaghaderan99/MLP/blob/cnn/mnist_cnn.ipynb\" target=\"_parent\"><img src=\"https://colab.research.google.com/assets/colab-badge.svg\" alt=\"Open In Colab\"/></a>"
      ]
    },
    {
      "cell_type": "code",
      "metadata": {
        "colab": {
          "base_uri": "https://localhost:8080/"
        },
        "id": "zWRXTdI2pXsd",
        "outputId": "05aab43e-db0a-49bd-fb3f-e2034285a68d"
      },
      "source": [
        "!pip install ipython-autotime\n",
        "%load_ext autotime"
      ],
      "execution_count": 20,
      "outputs": [
        {
          "output_type": "stream",
          "text": [
            "Requirement already satisfied: ipython-autotime in /usr/local/lib/python3.6/dist-packages (0.2.0)\n",
            "Requirement already satisfied: ipython in /usr/local/lib/python3.6/dist-packages (from ipython-autotime) (5.5.0)\n",
            "Requirement already satisfied: simplegeneric>0.8 in /usr/local/lib/python3.6/dist-packages (from ipython->ipython-autotime) (0.8.1)\n",
            "Requirement already satisfied: traitlets>=4.2 in /usr/local/lib/python3.6/dist-packages (from ipython->ipython-autotime) (4.3.3)\n",
            "Requirement already satisfied: setuptools>=18.5 in /usr/local/lib/python3.6/dist-packages (from ipython->ipython-autotime) (50.3.2)\n",
            "Requirement already satisfied: pexpect; sys_platform != \"win32\" in /usr/local/lib/python3.6/dist-packages (from ipython->ipython-autotime) (4.8.0)\n",
            "Requirement already satisfied: prompt-toolkit<2.0.0,>=1.0.4 in /usr/local/lib/python3.6/dist-packages (from ipython->ipython-autotime) (1.0.18)\n",
            "Requirement already satisfied: decorator in /usr/local/lib/python3.6/dist-packages (from ipython->ipython-autotime) (4.4.2)\n",
            "Requirement already satisfied: pygments in /usr/local/lib/python3.6/dist-packages (from ipython->ipython-autotime) (2.6.1)\n",
            "Requirement already satisfied: pickleshare in /usr/local/lib/python3.6/dist-packages (from ipython->ipython-autotime) (0.7.5)\n",
            "Requirement already satisfied: ipython-genutils in /usr/local/lib/python3.6/dist-packages (from traitlets>=4.2->ipython->ipython-autotime) (0.2.0)\n",
            "Requirement already satisfied: six in /usr/local/lib/python3.6/dist-packages (from traitlets>=4.2->ipython->ipython-autotime) (1.15.0)\n",
            "Requirement already satisfied: ptyprocess>=0.5 in /usr/local/lib/python3.6/dist-packages (from pexpect; sys_platform != \"win32\"->ipython->ipython-autotime) (0.6.0)\n",
            "Requirement already satisfied: wcwidth in /usr/local/lib/python3.6/dist-packages (from prompt-toolkit<2.0.0,>=1.0.4->ipython->ipython-autotime) (0.2.5)\n",
            "time: 128 µs\n"
          ],
          "name": "stdout"
        }
      ]
    },
    {
      "cell_type": "code",
      "metadata": {
        "id": "L-HuPqSEieSG"
      },
      "source": [
        "import tensorflow as tf\n",
        "from os import path, getcwd, chdir\n",
        "path = f\"{getcwd()}/mnist.npz\"\n",
        "import matplotlib.pyplot as plt\n",
        "import sklearn.model_selection as sk\n",
        "import numpy as np\n",
        "from skimage.util import random_noise\n",
        "from scipy import spatial"
      ],
      "execution_count": 5,
      "outputs": []
    },
    {
      "cell_type": "markdown",
      "metadata": {
        "id": "5j1vsenNTjcO"
      },
      "source": [
        "#Load dataset"
      ]
    },
    {
      "cell_type": "code",
      "metadata": {
        "id": "LDTcwqd6it2y"
      },
      "source": [
        "# def train_mnist_conv():  \n",
        "class Mycallback(tf.keras.callbacks.Callback):\n",
        "  def on_epoch_end(self, epoch,logs={}):\n",
        "      if logs.get('accuracy')>=0.998:\n",
        "          self.model.stop_training = True\n",
        "\n",
        "callbacks = Mycallback() \n",
        "\n",
        "mnist = tf.keras.datasets.mnist\n",
        "(training_images, training_labels), (test_images, test_labels) = mnist.load_data(path=path)\n",
        "training_images = training_images.reshape(60000,28,28,1)\n",
        "training_images = training_images/255.\n",
        "test_images = test_images.reshape(10000,28,28,1)\n",
        "test_images = test_images/255.\n"
      ],
      "execution_count": 6,
      "outputs": []
    },
    {
      "cell_type": "code",
      "metadata": {
        "id": "pK37H8dpHo_N"
      },
      "source": [
        "cat_training_labels = tf.keras.utils.to_categorical(\n",
        "    training_labels, num_classes=10, dtype='float32'\n",
        ")\n",
        "cat_test_labels = tf.keras.utils.to_categorical(\n",
        "    test_labels, num_classes=10, dtype='float32'\n",
        ")"
      ],
      "execution_count": 7,
      "outputs": []
    },
    {
      "cell_type": "markdown",
      "metadata": {
        "id": "LhfxHFD9Tmv4"
      },
      "source": [
        "#CNN model"
      ]
    },
    {
      "cell_type": "code",
      "metadata": {
        "colab": {
          "base_uri": "https://localhost:8080/"
        },
        "id": "3QbgC59xpsT1",
        "outputId": "e20c0b62-943d-498a-e53a-e3caa300eebe"
      },
      "source": [
        "model = tf.keras.models.Sequential([\n",
        "  tf.keras.layers.Conv2D(32, (3,3), activation='relu', input_shape=training_images.shape[1:]),\n",
        "  tf.keras.layers.MaxPooling2D(3,3),\n",
        "  tf.keras.layers.Conv2D(16, (3,3), activation='relu', input_shape=training_images.shape[1:]),\n",
        "  tf.keras.layers.MaxPooling2D(2,2),\n",
        "  tf.keras.layers.Flatten(),\n",
        "  tf.keras.layers.Dropout(0.3),\n",
        "  tf.keras.layers.Dense(256, activation='relu'),\n",
        "  tf.keras.layers.Dropout(0.5),\n",
        "  tf.keras.layers.Dense(32, activation='relu'),\n",
        "  tf.keras.layers.Dense(10, activation='softmax')\n",
        "])\n",
        "\n",
        "model.compile(optimizer='adam', loss='sparse_categorical_crossentropy', metrics=['accuracy'])\n"
      ],
      "execution_count": 21,
      "outputs": [
        {
          "output_type": "stream",
          "text": [
            "time: 84 ms\n"
          ],
          "name": "stdout"
        }
      ]
    },
    {
      "cell_type": "code",
      "metadata": {
        "colab": {
          "base_uri": "https://localhost:8080/"
        },
        "id": "jPU3NYoziweR",
        "outputId": "775be994-1810-4982-ed9f-56b7f554fb4e"
      },
      "source": [
        "model.summary()"
      ],
      "execution_count": 22,
      "outputs": [
        {
          "output_type": "stream",
          "text": [
            "Model: \"sequential_1\"\n",
            "_________________________________________________________________\n",
            "Layer (type)                 Output Shape              Param #   \n",
            "=================================================================\n",
            "conv2d_2 (Conv2D)            (None, 26, 26, 32)        320       \n",
            "_________________________________________________________________\n",
            "max_pooling2d_2 (MaxPooling2 (None, 8, 8, 32)          0         \n",
            "_________________________________________________________________\n",
            "conv2d_3 (Conv2D)            (None, 6, 6, 16)          4624      \n",
            "_________________________________________________________________\n",
            "max_pooling2d_3 (MaxPooling2 (None, 3, 3, 16)          0         \n",
            "_________________________________________________________________\n",
            "flatten_1 (Flatten)          (None, 144)               0         \n",
            "_________________________________________________________________\n",
            "dropout_3 (Dropout)          (None, 144)               0         \n",
            "_________________________________________________________________\n",
            "dense_4 (Dense)              (None, 256)               37120     \n",
            "_________________________________________________________________\n",
            "dropout_4 (Dropout)          (None, 256)               0         \n",
            "_________________________________________________________________\n",
            "dense_5 (Dense)              (None, 32)                8224      \n",
            "_________________________________________________________________\n",
            "dense_6 (Dense)              (None, 10)                330       \n",
            "=================================================================\n",
            "Total params: 50,618\n",
            "Trainable params: 50,618\n",
            "Non-trainable params: 0\n",
            "_________________________________________________________________\n",
            "time: 5.46 ms\n"
          ],
          "name": "stdout"
        }
      ]
    },
    {
      "cell_type": "markdown",
      "metadata": {
        "id": "2PU9QvgcUMF7"
      },
      "source": [
        "#Non Cross validation"
      ]
    },
    {
      "cell_type": "code",
      "metadata": {
        "colab": {
          "base_uri": "https://localhost:8080/"
        },
        "id": "AmaSp3pZULmR",
        "outputId": "e290e918-f6c9-4244-884b-536c8d27f70e"
      },
      "source": [
        "history = model.fit(\n",
        "    training_images,training_labels,validation_split = 0.2,epochs=40 ,callbacks =[callbacks]\n",
        ")\n",
        "print(model.evaluate(test_images, test_labels))\n",
        "# return history.epoch, history.history['accuracy'][-1]\n",
        "%load_ext autotime"
      ],
      "execution_count": 160,
      "outputs": [
        {
          "output_type": "stream",
          "text": [
            "Epoch 1/40\n",
            "1500/1500 [==============================] - 4s 3ms/step - loss: 0.4301 - accuracy: 0.8587 - val_loss: 0.0930 - val_accuracy: 0.9722\n",
            "Epoch 2/40\n",
            "1500/1500 [==============================] - 4s 3ms/step - loss: 0.1640 - accuracy: 0.9494 - val_loss: 0.0696 - val_accuracy: 0.9784\n",
            "Epoch 3/40\n",
            "1500/1500 [==============================] - 4s 3ms/step - loss: 0.1306 - accuracy: 0.9596 - val_loss: 0.0538 - val_accuracy: 0.9848\n",
            "Epoch 4/40\n",
            "1500/1500 [==============================] - 4s 3ms/step - loss: 0.1123 - accuracy: 0.9650 - val_loss: 0.0504 - val_accuracy: 0.9853\n",
            "Epoch 5/40\n",
            "1500/1500 [==============================] - 4s 3ms/step - loss: 0.1007 - accuracy: 0.9692 - val_loss: 0.0490 - val_accuracy: 0.9853\n",
            "Epoch 6/40\n",
            "1500/1500 [==============================] - 4s 3ms/step - loss: 0.0936 - accuracy: 0.9708 - val_loss: 0.0440 - val_accuracy: 0.9866\n",
            "Epoch 7/40\n",
            "1500/1500 [==============================] - 4s 3ms/step - loss: 0.0859 - accuracy: 0.9735 - val_loss: 0.0433 - val_accuracy: 0.9868\n",
            "Epoch 8/40\n",
            "1500/1500 [==============================] - 4s 3ms/step - loss: 0.0840 - accuracy: 0.9741 - val_loss: 0.0394 - val_accuracy: 0.9887\n",
            "Epoch 9/40\n",
            "1500/1500 [==============================] - 4s 3ms/step - loss: 0.0816 - accuracy: 0.9755 - val_loss: 0.0400 - val_accuracy: 0.9877\n",
            "Epoch 10/40\n",
            "1500/1500 [==============================] - 4s 3ms/step - loss: 0.0772 - accuracy: 0.9762 - val_loss: 0.0377 - val_accuracy: 0.9891\n",
            "Epoch 11/40\n",
            "1500/1500 [==============================] - 4s 3ms/step - loss: 0.0753 - accuracy: 0.9769 - val_loss: 0.0391 - val_accuracy: 0.9887\n",
            "Epoch 12/40\n",
            "1500/1500 [==============================] - 4s 3ms/step - loss: 0.0738 - accuracy: 0.9772 - val_loss: 0.0374 - val_accuracy: 0.9895\n",
            "Epoch 13/40\n",
            "1500/1500 [==============================] - 4s 3ms/step - loss: 0.0717 - accuracy: 0.9776 - val_loss: 0.0393 - val_accuracy: 0.9877\n",
            "Epoch 14/40\n",
            "1500/1500 [==============================] - 4s 3ms/step - loss: 0.0701 - accuracy: 0.9778 - val_loss: 0.0333 - val_accuracy: 0.9903\n",
            "Epoch 15/40\n",
            "1500/1500 [==============================] - 4s 3ms/step - loss: 0.0672 - accuracy: 0.9798 - val_loss: 0.0366 - val_accuracy: 0.9886\n",
            "Epoch 16/40\n",
            "1500/1500 [==============================] - 4s 3ms/step - loss: 0.0665 - accuracy: 0.9788 - val_loss: 0.0349 - val_accuracy: 0.9898\n",
            "Epoch 17/40\n",
            "1500/1500 [==============================] - 4s 3ms/step - loss: 0.0631 - accuracy: 0.9804 - val_loss: 0.0339 - val_accuracy: 0.9904\n",
            "Epoch 18/40\n",
            "1500/1500 [==============================] - 4s 3ms/step - loss: 0.0631 - accuracy: 0.9803 - val_loss: 0.0350 - val_accuracy: 0.9899\n",
            "Epoch 19/40\n",
            "1500/1500 [==============================] - 4s 3ms/step - loss: 0.0615 - accuracy: 0.9810 - val_loss: 0.0336 - val_accuracy: 0.9901\n",
            "Epoch 20/40\n",
            "1500/1500 [==============================] - 4s 3ms/step - loss: 0.0609 - accuracy: 0.9815 - val_loss: 0.0335 - val_accuracy: 0.9909\n",
            "Epoch 21/40\n",
            "1500/1500 [==============================] - 4s 3ms/step - loss: 0.0594 - accuracy: 0.9816 - val_loss: 0.0321 - val_accuracy: 0.9905\n",
            "Epoch 22/40\n",
            "1500/1500 [==============================] - 4s 3ms/step - loss: 0.0597 - accuracy: 0.9814 - val_loss: 0.0341 - val_accuracy: 0.9907\n",
            "Epoch 23/40\n",
            "1500/1500 [==============================] - 4s 3ms/step - loss: 0.0588 - accuracy: 0.9819 - val_loss: 0.0359 - val_accuracy: 0.9905\n",
            "Epoch 24/40\n",
            "1500/1500 [==============================] - 4s 3ms/step - loss: 0.0591 - accuracy: 0.9812 - val_loss: 0.0408 - val_accuracy: 0.9877\n",
            "Epoch 25/40\n",
            "1500/1500 [==============================] - 4s 3ms/step - loss: 0.0558 - accuracy: 0.9834 - val_loss: 0.0346 - val_accuracy: 0.9899\n",
            "Epoch 26/40\n",
            "1500/1500 [==============================] - 4s 3ms/step - loss: 0.0556 - accuracy: 0.9827 - val_loss: 0.0325 - val_accuracy: 0.9908\n",
            "Epoch 27/40\n",
            "1500/1500 [==============================] - 4s 3ms/step - loss: 0.0553 - accuracy: 0.9823 - val_loss: 0.0356 - val_accuracy: 0.9894\n",
            "Epoch 28/40\n",
            "1500/1500 [==============================] - 4s 3ms/step - loss: 0.0553 - accuracy: 0.9835 - val_loss: 0.0341 - val_accuracy: 0.9898\n",
            "Epoch 29/40\n",
            "1500/1500 [==============================] - 4s 3ms/step - loss: 0.0575 - accuracy: 0.9822 - val_loss: 0.0354 - val_accuracy: 0.9896\n",
            "Epoch 30/40\n",
            "1500/1500 [==============================] - 4s 3ms/step - loss: 0.0541 - accuracy: 0.9836 - val_loss: 0.0332 - val_accuracy: 0.9902\n",
            "Epoch 31/40\n",
            "1500/1500 [==============================] - 4s 3ms/step - loss: 0.0521 - accuracy: 0.9840 - val_loss: 0.0319 - val_accuracy: 0.9908\n",
            "Epoch 32/40\n",
            "1500/1500 [==============================] - 4s 3ms/step - loss: 0.0512 - accuracy: 0.9835 - val_loss: 0.0331 - val_accuracy: 0.9899\n",
            "Epoch 33/40\n",
            "1500/1500 [==============================] - 4s 3ms/step - loss: 0.0501 - accuracy: 0.9846 - val_loss: 0.0361 - val_accuracy: 0.9902\n",
            "Epoch 34/40\n",
            "1500/1500 [==============================] - 4s 3ms/step - loss: 0.0505 - accuracy: 0.9841 - val_loss: 0.0370 - val_accuracy: 0.9896\n",
            "Epoch 35/40\n",
            "1500/1500 [==============================] - 4s 3ms/step - loss: 0.0515 - accuracy: 0.9842 - val_loss: 0.0341 - val_accuracy: 0.9907\n",
            "Epoch 36/40\n",
            "1500/1500 [==============================] - 4s 3ms/step - loss: 0.0481 - accuracy: 0.9842 - val_loss: 0.0361 - val_accuracy: 0.9900\n",
            "Epoch 37/40\n",
            "1500/1500 [==============================] - 4s 3ms/step - loss: 0.0504 - accuracy: 0.9842 - val_loss: 0.0308 - val_accuracy: 0.9912\n",
            "Epoch 38/40\n",
            "1500/1500 [==============================] - 4s 3ms/step - loss: 0.0514 - accuracy: 0.9831 - val_loss: 0.0334 - val_accuracy: 0.9904\n",
            "Epoch 39/40\n",
            "1500/1500 [==============================] - 4s 3ms/step - loss: 0.0471 - accuracy: 0.9858 - val_loss: 0.0331 - val_accuracy: 0.9904\n",
            "Epoch 40/40\n",
            "1500/1500 [==============================] - 4s 3ms/step - loss: 0.0470 - accuracy: 0.9861 - val_loss: 0.0329 - val_accuracy: 0.9898\n",
            "313/313 [==============================] - 1s 2ms/step - loss: 0.0270 - accuracy: 0.9917\n",
            "[0.027035323902964592, 0.9916999936103821]\n",
            "The autotime extension is already loaded. To reload it, use:\n",
            "  %reload_ext autotime\n",
            "time: 2min 44s\n"
          ],
          "name": "stdout"
        }
      ]
    },
    {
      "cell_type": "code",
      "metadata": {
        "colab": {
          "base_uri": "https://localhost:8080/"
        },
        "id": "LtAlFQdan1Nc",
        "outputId": "49806161-d334-49b4-e9d4-147bc56e1df4"
      },
      "source": [
        "test_history = model.evaluate(x=test_images,y=test_labels )\n",
        "%load_ext autotime"
      ],
      "execution_count": 161,
      "outputs": [
        {
          "output_type": "stream",
          "text": [
            "313/313 [==============================] - 1s 2ms/step - loss: 0.0270 - accuracy: 0.9917\n",
            "The autotime extension is already loaded. To reload it, use:\n",
            "  %reload_ext autotime\n",
            "time: 740 ms\n"
          ],
          "name": "stdout"
        }
      ]
    },
    {
      "cell_type": "code",
      "metadata": {
        "colab": {
          "base_uri": "https://localhost:8080/",
          "height": 312
        },
        "id": "KpKGaX9_r9QR",
        "outputId": "594e12e0-a55d-4284-dd8a-fa966e5079fe"
      },
      "source": [
        "plt.plot(history.history['accuracy'])\n",
        "plt.plot(history.history['val_accuracy'])\n",
        "plt.title('model accuracy')\n",
        "plt.ylabel('accuracy')\n",
        "plt.xlabel('epoch')\n",
        "plt.legend(['train', 'test'], loc='upper left')\n",
        "plt.show()"
      ],
      "execution_count": 162,
      "outputs": [
        {
          "output_type": "display_data",
          "data": {
            "image/png": "[encoded data removed]",
            "text/plain": [
              "<Figure size 432x288 with 1 Axes>"
            ]
          },
          "metadata": {
            "tags": [],
            "needs_background": "light"
          }
        },
        {
          "output_type": "stream",
          "text": [
            "time: 152 ms\n"
          ],
          "name": "stdout"
        }
      ]
    },
    {
      "cell_type": "markdown",
      "metadata": {
        "id": "w0KWEXGFRomf"
      },
      "source": [
        "#Cross validation"
      ]
    },
    {
      "cell_type": "code",
      "metadata": {
        "colab": {
          "base_uri": "https://localhost:8080/"
        },
        "id": "YFeQxr1KSDdV",
        "outputId": "b87d7cbb-6d4d-485c-bd70-c23876ed9777"
      },
      "source": [
        "X = np.append(training_images,test_images,axis=0)\n",
        "Y = np.append(training_labels,test_labels)"
      ],
      "execution_count": 163,
      "outputs": [
        {
          "output_type": "stream",
          "text": [
            "time: 92.4 ms\n"
          ],
          "name": "stdout"
        }
      ]
    },
    {
      "cell_type": "code",
      "metadata": {
        "colab": {
          "base_uri": "https://localhost:8080/"
        },
        "id": "rKYJeb-_RtB5",
        "outputId": "1fd86bd1-aae2-48f0-eee2-f57c13a3b75e"
      },
      "source": [
        "seed = 7\n",
        "np.random.seed(seed)\n",
        "kfold = sk.StratifiedKFold(n_splits=7, shuffle=True, random_state=seed)\n",
        "\n",
        "cvscores = []\n",
        "step = 0\n",
        "acc = 0\n",
        "for train, test in kfold.split(X, Y):\t\n",
        "  model.fit(X[train], Y[train],validation_split = 0.2,epochs=40 ,callbacks =[callbacks])\n",
        "  scores = model.evaluate(X[test], Y[test], verbose=0)\n",
        "  print(\"step {0} ----- {1} is {2}\".format(step,model.metrics_names[1], scores[1]*100))\n",
        "  step += 1\n",
        "  cvscores.append(scores[1] * 100)\n",
        "print(\"The average of the model accuracy is {0} (+/- {1})\".format(np.mean(cvscores), np.std(cvscores)))"
      ],
      "execution_count": 166,
      "outputs": [
        {
          "output_type": "stream",
          "text": [
            "Epoch 1/40\n",
            "1500/1500 [==============================] - 4s 3ms/step - loss: 0.0520 - accuracy: 0.9842 - val_loss: 0.0269 - val_accuracy: 0.9921\n",
            "Epoch 2/40\n",
            "1500/1500 [==============================] - 4s 3ms/step - loss: 0.0512 - accuracy: 0.9837 - val_loss: 0.0278 - val_accuracy: 0.9919\n",
            "Epoch 3/40\n",
            "1500/1500 [==============================] - 4s 3ms/step - loss: 0.0521 - accuracy: 0.9831 - val_loss: 0.0254 - val_accuracy: 0.9921\n",
            "Epoch 4/40\n",
            "1500/1500 [==============================] - 4s 3ms/step - loss: 0.0492 - accuracy: 0.9846 - val_loss: 0.0266 - val_accuracy: 0.9924\n",
            "Epoch 5/40\n",
            "1500/1500 [==============================] - 4s 3ms/step - loss: 0.0518 - accuracy: 0.9848 - val_loss: 0.0264 - val_accuracy: 0.9915\n",
            "Epoch 6/40\n",
            "1500/1500 [==============================] - 4s 3ms/step - loss: 0.0482 - accuracy: 0.9847 - val_loss: 0.0289 - val_accuracy: 0.9908\n",
            "Epoch 7/40\n",
            "1500/1500 [==============================] - 4s 3ms/step - loss: 0.0472 - accuracy: 0.9853 - val_loss: 0.0263 - val_accuracy: 0.9921\n",
            "Epoch 8/40\n",
            "1500/1500 [==============================] - 4s 3ms/step - loss: 0.0473 - accuracy: 0.9851 - val_loss: 0.0265 - val_accuracy: 0.9916\n",
            "Epoch 9/40\n",
            "1500/1500 [==============================] - 4s 3ms/step - loss: 0.0476 - accuracy: 0.9859 - val_loss: 0.0272 - val_accuracy: 0.9916\n",
            "Epoch 10/40\n",
            "1500/1500 [==============================] - 4s 3ms/step - loss: 0.0506 - accuracy: 0.9844 - val_loss: 0.0259 - val_accuracy: 0.9924\n",
            "Epoch 11/40\n",
            "1500/1500 [==============================] - 4s 3ms/step - loss: 0.0473 - accuracy: 0.9850 - val_loss: 0.0277 - val_accuracy: 0.9911\n",
            "Epoch 12/40\n",
            "1500/1500 [==============================] - 4s 3ms/step - loss: 0.0478 - accuracy: 0.9847 - val_loss: 0.0284 - val_accuracy: 0.9915\n",
            "Epoch 13/40\n",
            "1500/1500 [==============================] - 4s 3ms/step - loss: 0.0465 - accuracy: 0.9850 - val_loss: 0.0272 - val_accuracy: 0.9925\n",
            "Epoch 14/40\n",
            "1500/1500 [==============================] - 4s 3ms/step - loss: 0.0465 - accuracy: 0.9856 - val_loss: 0.0279 - val_accuracy: 0.9918\n",
            "Epoch 15/40\n",
            "1500/1500 [==============================] - 4s 3ms/step - loss: 0.0475 - accuracy: 0.9849 - val_loss: 0.0249 - val_accuracy: 0.9921\n",
            "Epoch 16/40\n",
            "1500/1500 [==============================] - 4s 3ms/step - loss: 0.0459 - accuracy: 0.9852 - val_loss: 0.0248 - val_accuracy: 0.9920\n",
            "Epoch 17/40\n",
            "1500/1500 [==============================] - 4s 3ms/step - loss: 0.0453 - accuracy: 0.9863 - val_loss: 0.0256 - val_accuracy: 0.9918\n",
            "Epoch 18/40\n",
            "1500/1500 [==============================] - 4s 3ms/step - loss: 0.0440 - accuracy: 0.9862 - val_loss: 0.0237 - val_accuracy: 0.9928\n",
            "Epoch 19/40\n",
            "1500/1500 [==============================] - 4s 3ms/step - loss: 0.0458 - accuracy: 0.9862 - val_loss: 0.0273 - val_accuracy: 0.9914\n",
            "Epoch 20/40\n",
            "1500/1500 [==============================] - 4s 3ms/step - loss: 0.0450 - accuracy: 0.9865 - val_loss: 0.0263 - val_accuracy: 0.9920\n",
            "Epoch 21/40\n",
            "1500/1500 [==============================] - 4s 3ms/step - loss: 0.0458 - accuracy: 0.9862 - val_loss: 0.0242 - val_accuracy: 0.9927\n",
            "Epoch 22/40\n",
            "1500/1500 [==============================] - 4s 3ms/step - loss: 0.0458 - accuracy: 0.9860 - val_loss: 0.0257 - val_accuracy: 0.9929\n",
            "Epoch 23/40\n",
            "1500/1500 [==============================] - 4s 3ms/step - loss: 0.0450 - accuracy: 0.9860 - val_loss: 0.0271 - val_accuracy: 0.9925\n",
            "Epoch 24/40\n",
            "1500/1500 [==============================] - 4s 3ms/step - loss: 0.0449 - accuracy: 0.9866 - val_loss: 0.0255 - val_accuracy: 0.9922\n",
            "Epoch 25/40\n",
            "1500/1500 [==============================] - 4s 3ms/step - loss: 0.0416 - accuracy: 0.9861 - val_loss: 0.0263 - val_accuracy: 0.9920\n",
            "Epoch 26/40\n",
            "1500/1500 [==============================] - 4s 3ms/step - loss: 0.0454 - accuracy: 0.9862 - val_loss: 0.0270 - val_accuracy: 0.9923\n",
            "Epoch 27/40\n",
            "1500/1500 [==============================] - 4s 3ms/step - loss: 0.0443 - accuracy: 0.9862 - val_loss: 0.0266 - val_accuracy: 0.9916\n",
            "Epoch 28/40\n",
            "1500/1500 [==============================] - 4s 3ms/step - loss: 0.0434 - accuracy: 0.9869 - val_loss: 0.0277 - val_accuracy: 0.9921\n",
            "Epoch 29/40\n",
            "1500/1500 [==============================] - 4s 3ms/step - loss: 0.0470 - accuracy: 0.9859 - val_loss: 0.0264 - val_accuracy: 0.9909\n",
            "Epoch 30/40\n",
            "1500/1500 [==============================] - 4s 3ms/step - loss: 0.0416 - accuracy: 0.9876 - val_loss: 0.0246 - val_accuracy: 0.9919\n",
            "Epoch 31/40\n",
            "1500/1500 [==============================] - 4s 3ms/step - loss: 0.0442 - accuracy: 0.9862 - val_loss: 0.0263 - val_accuracy: 0.9921\n",
            "Epoch 32/40\n",
            "1500/1500 [==============================] - 4s 3ms/step - loss: 0.0427 - accuracy: 0.9866 - val_loss: 0.0263 - val_accuracy: 0.9918\n",
            "Epoch 33/40\n",
            "1500/1500 [==============================] - 4s 3ms/step - loss: 0.0423 - accuracy: 0.9869 - val_loss: 0.0313 - val_accuracy: 0.9905\n",
            "Epoch 34/40\n",
            "1500/1500 [==============================] - 4s 3ms/step - loss: 0.0433 - accuracy: 0.9868 - val_loss: 0.0240 - val_accuracy: 0.9933\n",
            "Epoch 35/40\n",
            "1500/1500 [==============================] - 4s 3ms/step - loss: 0.0412 - accuracy: 0.9875 - val_loss: 0.0252 - val_accuracy: 0.9917\n",
            "Epoch 36/40\n",
            "1500/1500 [==============================] - 4s 3ms/step - loss: 0.0401 - accuracy: 0.9875 - val_loss: 0.0276 - val_accuracy: 0.9921\n",
            "Epoch 37/40\n",
            "1500/1500 [==============================] - 4s 3ms/step - loss: 0.0416 - accuracy: 0.9871 - val_loss: 0.0292 - val_accuracy: 0.9909\n",
            "Epoch 38/40\n",
            "1500/1500 [==============================] - 4s 3ms/step - loss: 0.0402 - accuracy: 0.9874 - val_loss: 0.0278 - val_accuracy: 0.9919\n",
            "Epoch 39/40\n",
            "1500/1500 [==============================] - 4s 3ms/step - loss: 0.0398 - accuracy: 0.9873 - val_loss: 0.0247 - val_accuracy: 0.9927\n",
            "Epoch 40/40\n",
            "1500/1500 [==============================] - 4s 3ms/step - loss: 0.0389 - accuracy: 0.9876 - val_loss: 0.0276 - val_accuracy: 0.9917\n",
            "step 0 ----- accuracy is 99.36000108718872\n",
            "Epoch 1/40\n",
            "1500/1500 [==============================] - 4s 3ms/step - loss: 0.0471 - accuracy: 0.9855 - val_loss: 0.0263 - val_accuracy: 0.9918\n",
            "Epoch 2/40\n",
            "1500/1500 [==============================] - 4s 3ms/step - loss: 0.0425 - accuracy: 0.9867 - val_loss: 0.0269 - val_accuracy: 0.9923\n",
            "Epoch 3/40\n",
            "1500/1500 [==============================] - 4s 3ms/step - loss: 0.0390 - accuracy: 0.9872 - val_loss: 0.0233 - val_accuracy: 0.9940\n",
            "Epoch 4/40\n",
            "1500/1500 [==============================] - 4s 3ms/step - loss: 0.0394 - accuracy: 0.9879 - val_loss: 0.0281 - val_accuracy: 0.9917\n",
            "Epoch 5/40\n",
            "1500/1500 [==============================] - 4s 3ms/step - loss: 0.0413 - accuracy: 0.9869 - val_loss: 0.0265 - val_accuracy: 0.9920\n",
            "Epoch 6/40\n",
            "1500/1500 [==============================] - 4s 3ms/step - loss: 0.0438 - accuracy: 0.9869 - val_loss: 0.0259 - val_accuracy: 0.9920\n",
            "Epoch 7/40\n",
            "1500/1500 [==============================] - 4s 3ms/step - loss: 0.0405 - accuracy: 0.9879 - val_loss: 0.0258 - val_accuracy: 0.9925\n",
            "Epoch 8/40\n",
            "1500/1500 [==============================] - 4s 3ms/step - loss: 0.0399 - accuracy: 0.9870 - val_loss: 0.0251 - val_accuracy: 0.9927\n",
            "Epoch 9/40\n",
            "1500/1500 [==============================] - 4s 3ms/step - loss: 0.0428 - accuracy: 0.9861 - val_loss: 0.0255 - val_accuracy: 0.9922\n",
            "Epoch 10/40\n",
            "1500/1500 [==============================] - 4s 3ms/step - loss: 0.0391 - accuracy: 0.9872 - val_loss: 0.0288 - val_accuracy: 0.9918\n",
            "Epoch 11/40\n",
            "1500/1500 [==============================] - 4s 3ms/step - loss: 0.0421 - accuracy: 0.9871 - val_loss: 0.0253 - val_accuracy: 0.9925\n",
            "Epoch 12/40\n",
            "1500/1500 [==============================] - 4s 3ms/step - loss: 0.0409 - accuracy: 0.9871 - val_loss: 0.0283 - val_accuracy: 0.9914\n",
            "Epoch 13/40\n",
            "1500/1500 [==============================] - 4s 3ms/step - loss: 0.0409 - accuracy: 0.9870 - val_loss: 0.0277 - val_accuracy: 0.9919\n",
            "Epoch 14/40\n",
            "1500/1500 [==============================] - 4s 3ms/step - loss: 0.0440 - accuracy: 0.9864 - val_loss: 0.0277 - val_accuracy: 0.9915\n",
            "Epoch 15/40\n",
            "1500/1500 [==============================] - 4s 3ms/step - loss: 0.0418 - accuracy: 0.9870 - val_loss: 0.0267 - val_accuracy: 0.9923\n",
            "Epoch 16/40\n",
            "1500/1500 [==============================] - 4s 3ms/step - loss: 0.0421 - accuracy: 0.9870 - val_loss: 0.0267 - val_accuracy: 0.9920\n",
            "Epoch 17/40\n",
            "1500/1500 [==============================] - 4s 3ms/step - loss: 0.0400 - accuracy: 0.9879 - val_loss: 0.0254 - val_accuracy: 0.9921\n",
            "Epoch 18/40\n",
            "1500/1500 [==============================] - 4s 3ms/step - loss: 0.0418 - accuracy: 0.9871 - val_loss: 0.0249 - val_accuracy: 0.9922\n",
            "Epoch 19/40\n",
            "1500/1500 [==============================] - 4s 3ms/step - loss: 0.0394 - accuracy: 0.9887 - val_loss: 0.0293 - val_accuracy: 0.9922\n",
            "Epoch 20/40\n",
            "1500/1500 [==============================] - 4s 3ms/step - loss: 0.0382 - accuracy: 0.9881 - val_loss: 0.0268 - val_accuracy: 0.9927\n",
            "Epoch 21/40\n",
            "1500/1500 [==============================] - 4s 3ms/step - loss: 0.0393 - accuracy: 0.9877 - val_loss: 0.0273 - val_accuracy: 0.9920\n",
            "Epoch 22/40\n",
            "1500/1500 [==============================] - 4s 3ms/step - loss: 0.0415 - accuracy: 0.9870 - val_loss: 0.0250 - val_accuracy: 0.9926\n",
            "Epoch 23/40\n",
            "1500/1500 [==============================] - 4s 3ms/step - loss: 0.0384 - accuracy: 0.9881 - val_loss: 0.0254 - val_accuracy: 0.9925\n",
            "Epoch 24/40\n",
            "1500/1500 [==============================] - 4s 3ms/step - loss: 0.0398 - accuracy: 0.9880 - val_loss: 0.0257 - val_accuracy: 0.9918\n",
            "Epoch 25/40\n",
            "1500/1500 [==============================] - 4s 3ms/step - loss: 0.0389 - accuracy: 0.9881 - val_loss: 0.0241 - val_accuracy: 0.9927\n",
            "Epoch 26/40\n",
            "1500/1500 [==============================] - 4s 3ms/step - loss: 0.0390 - accuracy: 0.9879 - val_loss: 0.0246 - val_accuracy: 0.9929\n",
            "Epoch 27/40\n",
            "1500/1500 [==============================] - 4s 3ms/step - loss: 0.0409 - accuracy: 0.9871 - val_loss: 0.0257 - val_accuracy: 0.9931\n",
            "Epoch 28/40\n",
            "1500/1500 [==============================] - 4s 3ms/step - loss: 0.0392 - accuracy: 0.9880 - val_loss: 0.0284 - val_accuracy: 0.9919\n",
            "Epoch 29/40\n",
            "1500/1500 [==============================] - 4s 3ms/step - loss: 0.0388 - accuracy: 0.9876 - val_loss: 0.0248 - val_accuracy: 0.9932\n",
            "Epoch 30/40\n",
            "1500/1500 [==============================] - 4s 3ms/step - loss: 0.0369 - accuracy: 0.9888 - val_loss: 0.0267 - val_accuracy: 0.9925\n",
            "Epoch 31/40\n",
            "1500/1500 [==============================] - 4s 3ms/step - loss: 0.0395 - accuracy: 0.9886 - val_loss: 0.0245 - val_accuracy: 0.9928\n",
            "Epoch 32/40\n",
            "1500/1500 [==============================] - 4s 3ms/step - loss: 0.0379 - accuracy: 0.9877 - val_loss: 0.0301 - val_accuracy: 0.9913\n",
            "Epoch 33/40\n",
            "1500/1500 [==============================] - 4s 3ms/step - loss: 0.0400 - accuracy: 0.9876 - val_loss: 0.0270 - val_accuracy: 0.9923\n",
            "Epoch 34/40\n",
            "1500/1500 [==============================] - 4s 3ms/step - loss: 0.0372 - accuracy: 0.9883 - val_loss: 0.0318 - val_accuracy: 0.9902\n",
            "Epoch 35/40\n",
            "1500/1500 [==============================] - 4s 3ms/step - loss: 0.0370 - accuracy: 0.9880 - val_loss: 0.0246 - val_accuracy: 0.9924\n",
            "Epoch 36/40\n",
            "1500/1500 [==============================] - 4s 3ms/step - loss: 0.0401 - accuracy: 0.9875 - val_loss: 0.0251 - val_accuracy: 0.9926\n",
            "Epoch 37/40\n",
            "1500/1500 [==============================] - 4s 3ms/step - loss: 0.0396 - accuracy: 0.9875 - val_loss: 0.0251 - val_accuracy: 0.9927\n",
            "Epoch 38/40\n",
            "1500/1500 [==============================] - 4s 3ms/step - loss: 0.0368 - accuracy: 0.9884 - val_loss: 0.0295 - val_accuracy: 0.9913\n",
            "Epoch 39/40\n",
            "1500/1500 [==============================] - 4s 3ms/step - loss: 0.0367 - accuracy: 0.9887 - val_loss: 0.0267 - val_accuracy: 0.9918\n",
            "Epoch 40/40\n",
            "1500/1500 [==============================] - 4s 3ms/step - loss: 0.0358 - accuracy: 0.9888 - val_loss: 0.0273 - val_accuracy: 0.9922\n",
            "step 1 ----- accuracy is 99.4700014591217\n",
            "Epoch 1/40\n",
            "1500/1500 [==============================] - 4s 3ms/step - loss: 0.0384 - accuracy: 0.9876 - val_loss: 0.0285 - val_accuracy: 0.9926\n",
            "Epoch 2/40\n",
            "1500/1500 [==============================] - 4s 3ms/step - loss: 0.0411 - accuracy: 0.9876 - val_loss: 0.0258 - val_accuracy: 0.9924\n",
            "Epoch 3/40\n",
            "1500/1500 [==============================] - 4s 3ms/step - loss: 0.0376 - accuracy: 0.9884 - val_loss: 0.0278 - val_accuracy: 0.9924\n",
            "Epoch 4/40\n",
            "1500/1500 [==============================] - 4s 3ms/step - loss: 0.0398 - accuracy: 0.9880 - val_loss: 0.0269 - val_accuracy: 0.9924\n",
            "Epoch 5/40\n",
            "1500/1500 [==============================] - 4s 3ms/step - loss: 0.0367 - accuracy: 0.9890 - val_loss: 0.0261 - val_accuracy: 0.9927\n",
            "Epoch 6/40\n",
            "1500/1500 [==============================] - 5s 3ms/step - loss: 0.0379 - accuracy: 0.9882 - val_loss: 0.0256 - val_accuracy: 0.9917\n",
            "Epoch 7/40\n",
            "1500/1500 [==============================] - 4s 3ms/step - loss: 0.0379 - accuracy: 0.9887 - val_loss: 0.0243 - val_accuracy: 0.9924\n",
            "Epoch 8/40\n",
            "1500/1500 [==============================] - 4s 3ms/step - loss: 0.0340 - accuracy: 0.9890 - val_loss: 0.0267 - val_accuracy: 0.9924\n",
            "Epoch 9/40\n",
            "1500/1500 [==============================] - 4s 3ms/step - loss: 0.0371 - accuracy: 0.9884 - val_loss: 0.0267 - val_accuracy: 0.9923\n",
            "Epoch 10/40\n",
            "1500/1500 [==============================] - 4s 3ms/step - loss: 0.0408 - accuracy: 0.9877 - val_loss: 0.0265 - val_accuracy: 0.9927\n",
            "Epoch 11/40\n",
            "1500/1500 [==============================] - 4s 3ms/step - loss: 0.0369 - accuracy: 0.9889 - val_loss: 0.0291 - val_accuracy: 0.9922\n",
            "Epoch 12/40\n",
            "1500/1500 [==============================] - 4s 3ms/step - loss: 0.0374 - accuracy: 0.9882 - val_loss: 0.0261 - val_accuracy: 0.9919\n",
            "Epoch 20/40\n",
            "1500/1500 [==============================] - 4s 3ms/step - loss: 0.0347 - accuracy: 0.9895 - val_loss: 0.0263 - val_accuracy: 0.9927\n",
            "Epoch 21/40\n",
            "1500/1500 [==============================] - 4s 3ms/step - loss: 0.0342 - accuracy: 0.9892 - val_loss: 0.0256 - val_accuracy: 0.9929\n",
            "Epoch 22/40\n",
            "1500/1500 [==============================] - 4s 3ms/step - loss: 0.0336 - accuracy: 0.9891 - val_loss: 0.0271 - val_accuracy: 0.9912\n",
            "Epoch 23/40\n",
            "1500/1500 [==============================] - 4s 3ms/step - loss: 0.0370 - accuracy: 0.9890 - val_loss: 0.0265 - val_accuracy: 0.9920\n",
            "Epoch 24/40\n",
            "1500/1500 [==============================] - 4s 3ms/step - loss: 0.0335 - accuracy: 0.9896 - val_loss: 0.0273 - val_accuracy: 0.9925\n",
            "Epoch 25/40\n",
            "1500/1500 [==============================] - 4s 3ms/step - loss: 0.0375 - accuracy: 0.9886 - val_loss: 0.0276 - val_accuracy: 0.9920\n",
            "Epoch 26/40\n",
            "1500/1500 [==============================] - 4s 3ms/step - loss: 0.0332 - accuracy: 0.9897 - val_loss: 0.0277 - val_accuracy: 0.9923\n",
            "Epoch 27/40\n",
            "1500/1500 [==============================] - 4s 3ms/step - loss: 0.0378 - accuracy: 0.9887 - val_loss: 0.0239 - val_accuracy: 0.9927\n",
            "Epoch 28/40\n",
            "1500/1500 [==============================] - 4s 3ms/step - loss: 0.0335 - accuracy: 0.9897 - val_loss: 0.0272 - val_accuracy: 0.9931\n",
            "Epoch 29/40\n",
            "1500/1500 [==============================] - 5s 3ms/step - loss: 0.0368 - accuracy: 0.9887 - val_loss: 0.0247 - val_accuracy: 0.9931\n",
            "Epoch 30/40\n",
            "1500/1500 [==============================] - 4s 3ms/step - loss: 0.0340 - accuracy: 0.9892 - val_loss: 0.0257 - val_accuracy: 0.9927\n",
            "Epoch 31/40\n",
            "1500/1500 [==============================] - 4s 3ms/step - loss: 0.0380 - accuracy: 0.9881 - val_loss: 0.0268 - val_accuracy: 0.9923\n",
            "Epoch 32/40\n",
            "1500/1500 [==============================] - 4s 3ms/step - loss: 0.0353 - accuracy: 0.9891 - val_loss: 0.0264 - val_accuracy: 0.9927\n",
            "Epoch 33/40\n",
            "1500/1500 [==============================] - 4s 3ms/step - loss: 0.0342 - accuracy: 0.9889 - val_loss: 0.0274 - val_accuracy: 0.9918\n",
            "Epoch 34/40\n",
            "1500/1500 [==============================] - 4s 3ms/step - loss: 0.0361 - accuracy: 0.9889 - val_loss: 0.0262 - val_accuracy: 0.9924\n",
            "Epoch 35/40\n",
            "1500/1500 [==============================] - 4s 3ms/step - loss: 0.0345 - accuracy: 0.9896 - val_loss: 0.0285 - val_accuracy: 0.9913\n",
            "Epoch 36/40\n",
            "1500/1500 [==============================] - 4s 3ms/step - loss: 0.0367 - accuracy: 0.9888 - val_loss: 0.0270 - val_accuracy: 0.9918\n",
            "Epoch 37/40\n",
            "1500/1500 [==============================] - 4s 3ms/step - loss: 0.0348 - accuracy: 0.9895 - val_loss: 0.0261 - val_accuracy: 0.9927\n",
            "Epoch 38/40\n",
            "1500/1500 [==============================] - 4s 3ms/step - loss: 0.0341 - accuracy: 0.9893 - val_loss: 0.0262 - val_accuracy: 0.9932\n",
            "Epoch 39/40\n",
            "1500/1500 [==============================] - 4s 3ms/step - loss: 0.0335 - accuracy: 0.9897 - val_loss: 0.0263 - val_accuracy: 0.9933\n",
            "Epoch 40/40\n",
            "1500/1500 [==============================] - 4s 3ms/step - loss: 0.0330 - accuracy: 0.9893 - val_loss: 0.0252 - val_accuracy: 0.9937\n",
            "step 2 ----- accuracy is 99.30999875068665\n",
            "Epoch 1/40\n",
            "1500/1500 [==============================] - 4s 3ms/step - loss: 0.0393 - accuracy: 0.9887 - val_loss: 0.0236 - val_accuracy: 0.9931\n",
            "Epoch 2/40\n",
            "1500/1500 [==============================] - 4s 3ms/step - loss: 0.0389 - accuracy: 0.9881 - val_loss: 0.0245 - val_accuracy: 0.9931\n",
            "Epoch 3/40\n",
            "1500/1500 [==============================] - 4s 3ms/step - loss: 0.0368 - accuracy: 0.9889 - val_loss: 0.0250 - val_accuracy: 0.9927\n",
            "Epoch 4/40\n",
            "1500/1500 [==============================] - 4s 3ms/step - loss: 0.0382 - accuracy: 0.9887 - val_loss: 0.0244 - val_accuracy: 0.9934\n",
            "Epoch 5/40\n",
            "1500/1500 [==============================] - 4s 3ms/step - loss: 0.0371 - accuracy: 0.9884 - val_loss: 0.0263 - val_accuracy: 0.9929\n",
            "Epoch 6/40\n",
            "1500/1500 [==============================] - 4s 3ms/step - loss: 0.0369 - accuracy: 0.9886 - val_loss: 0.0242 - val_accuracy: 0.9937\n",
            "Epoch 7/40\n",
            "1500/1500 [==============================] - 4s 3ms/step - loss: 0.0383 - accuracy: 0.9884 - val_loss: 0.0231 - val_accuracy: 0.9932\n",
            "Epoch 8/40\n",
            "1500/1500 [==============================] - 4s 3ms/step - loss: 0.0361 - accuracy: 0.9888 - val_loss: 0.0249 - val_accuracy: 0.9931\n",
            "Epoch 9/40\n",
            "1500/1500 [==============================] - 4s 3ms/step - loss: 0.0359 - accuracy: 0.9888 - val_loss: 0.0306 - val_accuracy: 0.9920\n",
            "Epoch 10/40\n",
            "1500/1500 [==============================] - 4s 3ms/step - loss: 0.0369 - accuracy: 0.9887 - val_loss: 0.0237 - val_accuracy: 0.9932\n",
            "Epoch 11/40\n",
            "1500/1500 [==============================] - 4s 3ms/step - loss: 0.0367 - accuracy: 0.9888 - val_loss: 0.0266 - val_accuracy: 0.9921\n",
            "Epoch 12/40\n",
            "1500/1500 [==============================] - 4s 3ms/step - loss: 0.0363 - accuracy: 0.9885 - val_loss: 0.0261 - val_accuracy: 0.9927\n",
            "Epoch 13/40\n",
            "1500/1500 [==============================] - 4s 3ms/step - loss: 0.0384 - accuracy: 0.9883 - val_loss: 0.0264 - val_accuracy: 0.9929\n",
            "Epoch 14/40\n",
            "1500/1500 [==============================] - 4s 3ms/step - loss: 0.0365 - accuracy: 0.9884 - val_loss: 0.0255 - val_accuracy: 0.9927\n",
            "Epoch 15/40\n",
            "1500/1500 [==============================] - 4s 3ms/step - loss: 0.0379 - accuracy: 0.9886 - val_loss: 0.0274 - val_accuracy: 0.9922\n",
            "Epoch 16/40\n",
            "1500/1500 [==============================] - 4s 3ms/step - loss: 0.0369 - accuracy: 0.9887 - val_loss: 0.0247 - val_accuracy: 0.9931\n",
            "Epoch 17/40\n",
            "1500/1500 [==============================] - 4s 3ms/step - loss: 0.0353 - accuracy: 0.9886 - val_loss: 0.0274 - val_accuracy: 0.9924\n",
            "Epoch 18/40\n",
            "1500/1500 [==============================] - 4s 3ms/step - loss: 0.0375 - accuracy: 0.9885 - val_loss: 0.0242 - val_accuracy: 0.9937\n",
            "Epoch 19/40\n",
            "1500/1500 [==============================] - 4s 3ms/step - loss: 0.0363 - accuracy: 0.9889 - val_loss: 0.0244 - val_accuracy: 0.9933\n",
            "Epoch 20/40\n",
            "1500/1500 [==============================] - 4s 3ms/step - loss: 0.0384 - accuracy: 0.9884 - val_loss: 0.0255 - val_accuracy: 0.9932\n",
            "Epoch 21/40\n",
            "1500/1500 [==============================] - 4s 3ms/step - loss: 0.0359 - accuracy: 0.9889 - val_loss: 0.0268 - val_accuracy: 0.9921\n",
            "Epoch 22/40\n",
            "1500/1500 [==============================] - 4s 3ms/step - loss: 0.0345 - accuracy: 0.9893 - val_loss: 0.0260 - val_accuracy: 0.9927\n",
            "Epoch 23/40\n",
            "1500/1500 [==============================] - 4s 3ms/step - loss: 0.0339 - accuracy: 0.9894 - val_loss: 0.0236 - val_accuracy: 0.9938\n",
            "Epoch 24/40\n",
            "1500/1500 [==============================] - 4s 3ms/step - loss: 0.0367 - accuracy: 0.9881 - val_loss: 0.0274 - val_accuracy: 0.9925\n",
            "Epoch 25/40\n",
            "1500/1500 [==============================] - 4s 3ms/step - loss: 0.0338 - accuracy: 0.9898 - val_loss: 0.0287 - val_accuracy: 0.9920\n",
            "Epoch 26/40\n",
            "1500/1500 [==============================] - 4s 3ms/step - loss: 0.0338 - accuracy: 0.9895 - val_loss: 0.0318 - val_accuracy: 0.9917\n",
            "Epoch 27/40\n",
            "1500/1500 [==============================] - 4s 3ms/step - loss: 0.0350 - accuracy: 0.9891 - val_loss: 0.0243 - val_accuracy: 0.9931\n",
            "Epoch 28/40\n",
            "1500/1500 [==============================] - 4s 3ms/step - loss: 0.0331 - accuracy: 0.9897 - val_loss: 0.0250 - val_accuracy: 0.9924\n",
            "Epoch 29/40\n",
            "1500/1500 [==============================] - 4s 3ms/step - loss: 0.0354 - accuracy: 0.9884 - val_loss: 0.0267 - val_accuracy: 0.9927\n",
            "Epoch 30/40\n",
            "1500/1500 [==============================] - 4s 3ms/step - loss: 0.0332 - accuracy: 0.9894 - val_loss: 0.0295 - val_accuracy: 0.9918\n",
            "Epoch 31/40\n",
            "1500/1500 [==============================] - 4s 3ms/step - loss: 0.0365 - accuracy: 0.9885 - val_loss: 0.0286 - val_accuracy: 0.9930\n",
            "Epoch 32/40\n",
            "1500/1500 [==============================] - 4s 3ms/step - loss: 0.0349 - accuracy: 0.9892 - val_loss: 0.0247 - val_accuracy: 0.9931\n",
            "Epoch 33/40\n",
            "1500/1500 [==============================] - 4s 3ms/step - loss: 0.0345 - accuracy: 0.9895 - val_loss: 0.0267 - val_accuracy: 0.9928\n",
            "Epoch 34/40\n",
            "1500/1500 [==============================] - 4s 3ms/step - loss: 0.0333 - accuracy: 0.9896 - val_loss: 0.0261 - val_accuracy: 0.9927\n",
            "Epoch 35/40\n",
            "1500/1500 [==============================] - 4s 3ms/step - loss: 0.0344 - accuracy: 0.9893 - val_loss: 0.0281 - val_accuracy: 0.9918\n",
            "Epoch 36/40\n",
            "1500/1500 [==============================] - 4s 3ms/step - loss: 0.0329 - accuracy: 0.9895 - val_loss: 0.0318 - val_accuracy: 0.9919\n",
            "Epoch 37/40\n",
            "1500/1500 [==============================] - 4s 3ms/step - loss: 0.0321 - accuracy: 0.9900 - val_loss: 0.0306 - val_accuracy: 0.9922\n",
            "Epoch 38/40\n",
            "1500/1500 [==============================] - 4s 3ms/step - loss: 0.0347 - accuracy: 0.9893 - val_loss: 0.0270 - val_accuracy: 0.9923\n",
            "Epoch 39/40\n",
            "1500/1500 [==============================] - 4s 3ms/step - loss: 0.0363 - accuracy: 0.9891 - val_loss: 0.0288 - val_accuracy: 0.9918\n",
            "Epoch 40/40\n",
            "1500/1500 [==============================] - 4s 3ms/step - loss: 0.0358 - accuracy: 0.9886 - val_loss: 0.0272 - val_accuracy: 0.9921\n",
            "step 3 ----- accuracy is 99.50000047683716\n",
            "Epoch 1/40\n",
            "1500/1500 [==============================] - 4s 3ms/step - loss: 0.0371 - accuracy: 0.9893 - val_loss: 0.0262 - val_accuracy: 0.9927\n",
            "Epoch 2/40\n",
            "1500/1500 [==============================] - 4s 3ms/step - loss: 0.0388 - accuracy: 0.9885 - val_loss: 0.0317 - val_accuracy: 0.9914\n",
            "Epoch 3/40\n",
            "1500/1500 [==============================] - 4s 3ms/step - loss: 0.0351 - accuracy: 0.9891 - val_loss: 0.0284 - val_accuracy: 0.9920\n",
            "Epoch 4/40\n",
            "1500/1500 [==============================] - 4s 3ms/step - loss: 0.0355 - accuracy: 0.9887 - val_loss: 0.0272 - val_accuracy: 0.9931\n",
            "Epoch 5/40\n",
            "1500/1500 [==============================] - 4s 3ms/step - loss: 0.0352 - accuracy: 0.9892 - val_loss: 0.0290 - val_accuracy: 0.9926\n",
            "Epoch 6/40\n",
            "1500/1500 [==============================] - 4s 3ms/step - loss: 0.0367 - accuracy: 0.9888 - val_loss: 0.0287 - val_accuracy: 0.9916\n",
            "Epoch 7/40\n",
            "1500/1500 [==============================] - 4s 3ms/step - loss: 0.0350 - accuracy: 0.9889 - val_loss: 0.0329 - val_accuracy: 0.9918\n",
            "Epoch 8/40\n",
            "1500/1500 [==============================] - 4s 3ms/step - loss: 0.0365 - accuracy: 0.9891 - val_loss: 0.0320 - val_accuracy: 0.9912\n",
            "Epoch 9/40\n",
            "1500/1500 [==============================] - 4s 3ms/step - loss: 0.0351 - accuracy: 0.9889 - val_loss: 0.0308 - val_accuracy: 0.9911\n",
            "Epoch 10/40\n",
            "1500/1500 [==============================] - 4s 3ms/step - loss: 0.0341 - accuracy: 0.9895 - val_loss: 0.0276 - val_accuracy: 0.9919\n",
            "Epoch 11/40\n",
            "1500/1500 [==============================] - 4s 3ms/step - loss: 0.0350 - accuracy: 0.9888 - val_loss: 0.0335 - val_accuracy: 0.9906\n",
            "Epoch 12/40\n",
            "1500/1500 [==============================] - 4s 3ms/step - loss: 0.0349 - accuracy: 0.9895 - val_loss: 0.0287 - val_accuracy: 0.9918\n",
            "Epoch 13/40\n",
            "1500/1500 [==============================] - 4s 3ms/step - loss: 0.0346 - accuracy: 0.9894 - val_loss: 0.0310 - val_accuracy: 0.9920\n",
            "Epoch 14/40\n",
            "1500/1500 [==============================] - 4s 3ms/step - loss: 0.0327 - accuracy: 0.9895 - val_loss: 0.0339 - val_accuracy: 0.9918\n",
            "Epoch 15/40\n",
            "1500/1500 [==============================] - 4s 3ms/step - loss: 0.0331 - accuracy: 0.9898 - val_loss: 0.0255 - val_accuracy: 0.9933\n",
            "Epoch 16/40\n",
            "1500/1500 [==============================] - 4s 3ms/step - loss: 0.0343 - accuracy: 0.9893 - val_loss: 0.0311 - val_accuracy: 0.9923\n",
            "Epoch 17/40\n",
            "1500/1500 [==============================] - 4s 3ms/step - loss: 0.0349 - accuracy: 0.9894 - val_loss: 0.0276 - val_accuracy: 0.9923\n",
            "Epoch 18/40\n",
            "1500/1500 [==============================] - 4s 3ms/step - loss: 0.0344 - accuracy: 0.9896 - val_loss: 0.0315 - val_accuracy: 0.9914\n",
            "Epoch 19/40\n",
            "1500/1500 [==============================] - 4s 3ms/step - loss: 0.0351 - accuracy: 0.9893 - val_loss: 0.0310 - val_accuracy: 0.9918\n",
            "Epoch 20/40\n",
            "1500/1500 [==============================] - 4s 3ms/step - loss: 0.0331 - accuracy: 0.9898 - val_loss: 0.0282 - val_accuracy: 0.9924\n",
            "Epoch 21/40\n",
            "1500/1500 [==============================] - 4s 3ms/step - loss: 0.0355 - accuracy: 0.9892 - val_loss: 0.0273 - val_accuracy: 0.9924\n",
            "Epoch 22/40\n",
            "1500/1500 [==============================] - 4s 3ms/step - loss: 0.0365 - accuracy: 0.9894 - val_loss: 0.0307 - val_accuracy: 0.9918\n",
            "Epoch 23/40\n",
            "1500/1500 [==============================] - 4s 3ms/step - loss: 0.0342 - accuracy: 0.9893 - val_loss: 0.0331 - val_accuracy: 0.9916\n",
            "Epoch 24/40\n",
            "1500/1500 [==============================] - 5s 3ms/step - loss: 0.0349 - accuracy: 0.9899 - val_loss: 0.0294 - val_accuracy: 0.9915\n",
            "Epoch 25/40\n",
            "1500/1500 [==============================] - 5s 3ms/step - loss: 0.0324 - accuracy: 0.9896 - val_loss: 0.0311 - val_accuracy: 0.9919\n",
            "Epoch 26/40\n",
            "1500/1500 [==============================] - 4s 3ms/step - loss: 0.0333 - accuracy: 0.9900 - val_loss: 0.0311 - val_accuracy: 0.9916\n",
            "Epoch 27/40\n",
            "1500/1500 [==============================] - 4s 3ms/step - loss: 0.0349 - accuracy: 0.9900 - val_loss: 0.0291 - val_accuracy: 0.9927\n",
            "Epoch 28/40\n",
            "1500/1500 [==============================] - 4s 3ms/step - loss: 0.0311 - accuracy: 0.9910 - val_loss: 0.0335 - val_accuracy: 0.9914\n",
            "Epoch 29/40\n",
            "1500/1500 [==============================] - 4s 3ms/step - loss: 0.0348 - accuracy: 0.9896 - val_loss: 0.0303 - val_accuracy: 0.9923\n",
            "Epoch 30/40\n",
            "1500/1500 [==============================] - 4s 3ms/step - loss: 0.0322 - accuracy: 0.9898 - val_loss: 0.0316 - val_accuracy: 0.9925\n",
            "Epoch 31/40\n",
            "1500/1500 [==============================] - 4s 3ms/step - loss: 0.0360 - accuracy: 0.9892 - val_loss: 0.0352 - val_accuracy: 0.9908\n",
            "Epoch 32/40\n",
            "1500/1500 [==============================] - 4s 3ms/step - loss: 0.0372 - accuracy: 0.9891 - val_loss: 0.0293 - val_accuracy: 0.9920\n",
            "Epoch 33/40\n",
            "1500/1500 [==============================] - 4s 3ms/step - loss: 0.0338 - accuracy: 0.9899 - val_loss: 0.0338 - val_accuracy: 0.9922\n",
            "Epoch 34/40\n",
            "1500/1500 [==============================] - 4s 3ms/step - loss: 0.0339 - accuracy: 0.9895 - val_loss: 0.0286 - val_accuracy: 0.9924\n",
            "Epoch 35/40\n",
            "1500/1500 [==============================] - 4s 3ms/step - loss: 0.0338 - accuracy: 0.9895 - val_loss: 0.0287 - val_accuracy: 0.9927\n",
            "Epoch 36/40\n",
            "1500/1500 [==============================] - 4s 3ms/step - loss: 0.0336 - accuracy: 0.9896 - val_loss: 0.0304 - val_accuracy: 0.9920\n",
            "Epoch 37/40\n",
            "1500/1500 [==============================] - 4s 3ms/step - loss: 0.0331 - accuracy: 0.9896 - val_loss: 0.0293 - val_accuracy: 0.9931\n",
            "Epoch 38/40\n",
            "1500/1500 [==============================] - 4s 3ms/step - loss: 0.0325 - accuracy: 0.9901 - val_loss: 0.0306 - val_accuracy: 0.9912\n",
            "Epoch 39/40\n",
            "1500/1500 [==============================] - 4s 3ms/step - loss: 0.0332 - accuracy: 0.9896 - val_loss: 0.0325 - val_accuracy: 0.9914\n",
            "Epoch 40/40\n",
            "1500/1500 [==============================] - 4s 3ms/step - loss: 0.0315 - accuracy: 0.9906 - val_loss: 0.0293 - val_accuracy: 0.9927\n",
            "step 4 ----- accuracy is 99.6399998664856\n",
            "Epoch 1/40\n",
            "1500/1500 [==============================] - 4s 3ms/step - loss: 0.0376 - accuracy: 0.9887 - val_loss: 0.0251 - val_accuracy: 0.9934\n",
            "Epoch 2/40\n",
            "1500/1500 [==============================] - 4s 3ms/step - loss: 0.0343 - accuracy: 0.9895 - val_loss: 0.0233 - val_accuracy: 0.9932\n",
            "Epoch 3/40\n",
            "1500/1500 [==============================] - 4s 3ms/step - loss: 0.0367 - accuracy: 0.9891 - val_loss: 0.0243 - val_accuracy: 0.9930\n",
            "Epoch 4/40\n",
            "1500/1500 [==============================] - 4s 3ms/step - loss: 0.0385 - accuracy: 0.9889 - val_loss: 0.0237 - val_accuracy: 0.9930\n",
            "Epoch 5/40\n",
            "1500/1500 [==============================] - 4s 3ms/step - loss: 0.0347 - accuracy: 0.9894 - val_loss: 0.0297 - val_accuracy: 0.9918\n",
            "Epoch 6/40\n",
            "1500/1500 [==============================] - 4s 3ms/step - loss: 0.0325 - accuracy: 0.9903 - val_loss: 0.0268 - val_accuracy: 0.9927\n",
            "Epoch 7/40\n",
            "1500/1500 [==============================] - 4s 3ms/step - loss: 0.0322 - accuracy: 0.9900 - val_loss: 0.0249 - val_accuracy: 0.9925\n",
            "Epoch 8/40\n",
            "1500/1500 [==============================] - 4s 3ms/step - loss: 0.0351 - accuracy: 0.9891 - val_loss: 0.0251 - val_accuracy: 0.9932\n",
            "Epoch 9/40\n",
            "1500/1500 [==============================] - 4s 3ms/step - loss: 0.0340 - accuracy: 0.9899 - val_loss: 0.0280 - val_accuracy: 0.9923\n",
            "Epoch 10/40\n",
            "1500/1500 [==============================] - 4s 3ms/step - loss: 0.0338 - accuracy: 0.9899 - val_loss: 0.0279 - val_accuracy: 0.9924\n",
            "Epoch 11/40\n",
            "1500/1500 [==============================] - 5s 3ms/step - loss: 0.0342 - accuracy: 0.9895 - val_loss: 0.0279 - val_accuracy: 0.9926\n",
            "Epoch 12/40\n",
            "1500/1500 [==============================] - 4s 3ms/step - loss: 0.0385 - accuracy: 0.9891 - val_loss: 0.0264 - val_accuracy: 0.9931\n",
            "Epoch 13/40\n",
            "1500/1500 [==============================] - 4s 3ms/step - loss: 0.0314 - accuracy: 0.9904 - val_loss: 0.0275 - val_accuracy: 0.9929\n",
            "Epoch 14/40\n",
            "1500/1500 [==============================] - 5s 3ms/step - loss: 0.0363 - accuracy: 0.9890 - val_loss: 0.0285 - val_accuracy: 0.9933\n",
            "Epoch 15/40\n",
            "1500/1500 [==============================] - 4s 3ms/step - loss: 0.0356 - accuracy: 0.9889 - val_loss: 0.0249 - val_accuracy: 0.9925\n",
            "Epoch 16/40\n",
            "1500/1500 [==============================] - 4s 3ms/step - loss: 0.0342 - accuracy: 0.9895 - val_loss: 0.0266 - val_accuracy: 0.9924\n",
            "Epoch 17/40\n",
            "1500/1500 [==============================] - 4s 3ms/step - loss: 0.0315 - accuracy: 0.9904 - val_loss: 0.0256 - val_accuracy: 0.9928\n",
            "Epoch 18/40\n",
            "1500/1500 [==============================] - 4s 3ms/step - loss: 0.0344 - accuracy: 0.9898 - val_loss: 0.0268 - val_accuracy: 0.9916\n",
            "Epoch 19/40\n",
            "1500/1500 [==============================] - 4s 3ms/step - loss: 0.0325 - accuracy: 0.9901 - val_loss: 0.0259 - val_accuracy: 0.9928\n",
            "Epoch 20/40\n",
            "1500/1500 [==============================] - 4s 3ms/step - loss: 0.0321 - accuracy: 0.9901 - val_loss: 0.0267 - val_accuracy: 0.9916\n",
            "Epoch 21/40\n",
            "1500/1500 [==============================] - 4s 3ms/step - loss: 0.0352 - accuracy: 0.9894 - val_loss: 0.0258 - val_accuracy: 0.9925\n",
            "Epoch 22/40\n",
            "1500/1500 [==============================] - 4s 3ms/step - loss: 0.0337 - accuracy: 0.9897 - val_loss: 0.0260 - val_accuracy: 0.9927\n",
            "Epoch 23/40\n",
            "1500/1500 [==============================] - 4s 3ms/step - loss: 0.0341 - accuracy: 0.9896 - val_loss: 0.0276 - val_accuracy: 0.9921\n",
            "Epoch 24/40\n",
            "1500/1500 [==============================] - 4s 3ms/step - loss: 0.0330 - accuracy: 0.9897 - val_loss: 0.0273 - val_accuracy: 0.9925\n",
            "Epoch 25/40\n",
            "1500/1500 [==============================] - 4s 3ms/step - loss: 0.0333 - accuracy: 0.9898 - val_loss: 0.0264 - val_accuracy: 0.9927\n",
            "Epoch 26/40\n",
            "1500/1500 [==============================] - 5s 3ms/step - loss: 0.0317 - accuracy: 0.9901 - val_loss: 0.0256 - val_accuracy: 0.9931\n",
            "Epoch 27/40\n",
            "1500/1500 [==============================] - 4s 3ms/step - loss: 0.0341 - accuracy: 0.9897 - val_loss: 0.0313 - val_accuracy: 0.9921\n",
            "Epoch 28/40\n",
            "1500/1500 [==============================] - 4s 3ms/step - loss: 0.0306 - accuracy: 0.9904 - val_loss: 0.0286 - val_accuracy: 0.9923\n",
            "Epoch 29/40\n",
            "1500/1500 [==============================] - 4s 3ms/step - loss: 0.0334 - accuracy: 0.9897 - val_loss: 0.0280 - val_accuracy: 0.9923\n",
            "Epoch 30/40\n",
            "1500/1500 [==============================] - 4s 3ms/step - loss: 0.0335 - accuracy: 0.9896 - val_loss: 0.0267 - val_accuracy: 0.9926\n",
            "Epoch 31/40\n",
            "1500/1500 [==============================] - 4s 3ms/step - loss: 0.0323 - accuracy: 0.9902 - val_loss: 0.0261 - val_accuracy: 0.9927\n",
            "Epoch 32/40\n",
            "1500/1500 [==============================] - 4s 3ms/step - loss: 0.0321 - accuracy: 0.9906 - val_loss: 0.0279 - val_accuracy: 0.9928\n",
            "Epoch 33/40\n",
            "1500/1500 [==============================] - 4s 3ms/step - loss: 0.0329 - accuracy: 0.9900 - val_loss: 0.0247 - val_accuracy: 0.9930\n",
            "Epoch 34/40\n",
            "1500/1500 [==============================] - 4s 3ms/step - loss: 0.0321 - accuracy: 0.9901 - val_loss: 0.0246 - val_accuracy: 0.9932\n",
            "Epoch 35/40\n",
            "1500/1500 [==============================] - 4s 3ms/step - loss: 0.0314 - accuracy: 0.9905 - val_loss: 0.0269 - val_accuracy: 0.9929\n",
            "Epoch 36/40\n",
            "1500/1500 [==============================] - 4s 3ms/step - loss: 0.0344 - accuracy: 0.9895 - val_loss: 0.0280 - val_accuracy: 0.9923\n",
            "Epoch 37/40\n",
            "1500/1500 [==============================] - 4s 3ms/step - loss: 0.0325 - accuracy: 0.9899 - val_loss: 0.0291 - val_accuracy: 0.9925\n",
            "Epoch 38/40\n",
            "1500/1500 [==============================] - 4s 3ms/step - loss: 0.0323 - accuracy: 0.9904 - val_loss: 0.0256 - val_accuracy: 0.9930\n",
            "Epoch 39/40\n",
            "1500/1500 [==============================] - 4s 3ms/step - loss: 0.0330 - accuracy: 0.9899 - val_loss: 0.0280 - val_accuracy: 0.9931\n",
            "Epoch 40/40\n",
            "1500/1500 [==============================] - 4s 3ms/step - loss: 0.0350 - accuracy: 0.9894 - val_loss: 0.0272 - val_accuracy: 0.9924\n",
            "step 5 ----- accuracy is 99.6500015258789\n",
            "Epoch 1/40\n",
            "1500/1500 [==============================] - 4s 3ms/step - loss: 0.0357 - accuracy: 0.9897 - val_loss: 0.0269 - val_accuracy: 0.9923\n",
            "Epoch 2/40\n",
            "1500/1500 [==============================] - 4s 3ms/step - loss: 0.0336 - accuracy: 0.9896 - val_loss: 0.0309 - val_accuracy: 0.9918\n",
            "Epoch 3/40\n",
            "1500/1500 [==============================] - 4s 3ms/step - loss: 0.0328 - accuracy: 0.9894 - val_loss: 0.0254 - val_accuracy: 0.9932\n",
            "Epoch 4/40\n",
            "1500/1500 [==============================] - 4s 3ms/step - loss: 0.0336 - accuracy: 0.9898 - val_loss: 0.0287 - val_accuracy: 0.9924\n",
            "Epoch 5/40\n",
            "1500/1500 [==============================] - 4s 3ms/step - loss: 0.0317 - accuracy: 0.9905 - val_loss: 0.0251 - val_accuracy: 0.9929\n",
            "Epoch 6/40\n",
            "1500/1500 [==============================] - 4s 3ms/step - loss: 0.0326 - accuracy: 0.9901 - val_loss: 0.0304 - val_accuracy: 0.9913\n",
            "Epoch 7/40\n",
            "1500/1500 [==============================] - 4s 3ms/step - loss: 0.0323 - accuracy: 0.9905 - val_loss: 0.0252 - val_accuracy: 0.9936\n",
            "Epoch 8/40\n",
            "1500/1500 [==============================] - 4s 3ms/step - loss: 0.0324 - accuracy: 0.9906 - val_loss: 0.0259 - val_accuracy: 0.9929\n",
            "Epoch 9/40\n",
            "1500/1500 [==============================] - 4s 3ms/step - loss: 0.0310 - accuracy: 0.9905 - val_loss: 0.0274 - val_accuracy: 0.9931\n",
            "Epoch 10/40\n",
            "1500/1500 [==============================] - 4s 3ms/step - loss: 0.0345 - accuracy: 0.9898 - val_loss: 0.0254 - val_accuracy: 0.9929\n",
            "Epoch 11/40\n",
            "1500/1500 [==============================] - 4s 3ms/step - loss: 0.0346 - accuracy: 0.9893 - val_loss: 0.0273 - val_accuracy: 0.9931\n",
            "Epoch 12/40\n",
            "1500/1500 [==============================] - 4s 3ms/step - loss: 0.0335 - accuracy: 0.9900 - val_loss: 0.0289 - val_accuracy: 0.9924\n",
            "Epoch 13/40\n",
            "1500/1500 [==============================] - 4s 3ms/step - loss: 0.0344 - accuracy: 0.9899 - val_loss: 0.0242 - val_accuracy: 0.9933\n",
            "Epoch 14/40\n",
            "1500/1500 [==============================] - 4s 3ms/step - loss: 0.0334 - accuracy: 0.9902 - val_loss: 0.0272 - val_accuracy: 0.9929\n",
            "Epoch 15/40\n",
            "1500/1500 [==============================] - 4s 3ms/step - loss: 0.0325 - accuracy: 0.9900 - val_loss: 0.0288 - val_accuracy: 0.9923\n",
            "Epoch 16/40\n",
            "1500/1500 [==============================] - 4s 3ms/step - loss: 0.0311 - accuracy: 0.9908 - val_loss: 0.0308 - val_accuracy: 0.9925\n",
            "Epoch 17/40\n",
            "1500/1500 [==============================] - 5s 3ms/step - loss: 0.0314 - accuracy: 0.9905 - val_loss: 0.0292 - val_accuracy: 0.9915\n",
            "Epoch 18/40\n",
            "1500/1500 [==============================] - 5s 3ms/step - loss: 0.0336 - accuracy: 0.9897 - val_loss: 0.0287 - val_accuracy: 0.9928\n",
            "Epoch 19/40\n",
            "1500/1500 [==============================] - 4s 3ms/step - loss: 0.0308 - accuracy: 0.9901 - val_loss: 0.0287 - val_accuracy: 0.9924\n",
            "Epoch 20/40\n",
            "1500/1500 [==============================] - 4s 3ms/step - loss: 0.0336 - accuracy: 0.9898 - val_loss: 0.0294 - val_accuracy: 0.9926\n",
            "Epoch 21/40\n",
            "1500/1500 [==============================] - 4s 3ms/step - loss: 0.0309 - accuracy: 0.9903 - val_loss: 0.0301 - val_accuracy: 0.9923\n",
            "Epoch 22/40\n",
            "1500/1500 [==============================] - 4s 3ms/step - loss: 0.0319 - accuracy: 0.9906 - val_loss: 0.0288 - val_accuracy: 0.9923\n",
            "Epoch 23/40\n",
            "1500/1500 [==============================] - 4s 3ms/step - loss: 0.0299 - accuracy: 0.9908 - val_loss: 0.0301 - val_accuracy: 0.9926\n",
            "Epoch 24/40\n",
            "1500/1500 [==============================] - 4s 3ms/step - loss: 0.0333 - accuracy: 0.9894 - val_loss: 0.0314 - val_accuracy: 0.9923\n",
            "Epoch 25/40\n",
            "1500/1500 [==============================] - 4s 3ms/step - loss: 0.0333 - accuracy: 0.9901 - val_loss: 0.0244 - val_accuracy: 0.9934\n",
            "Epoch 26/40\n",
            "1500/1500 [==============================] - 4s 3ms/step - loss: 0.0345 - accuracy: 0.9898 - val_loss: 0.0244 - val_accuracy: 0.9933\n",
            "Epoch 27/40\n",
            "1500/1500 [==============================] - 4s 3ms/step - loss: 0.0322 - accuracy: 0.9905 - val_loss: 0.0264 - val_accuracy: 0.9922\n",
            "Epoch 28/40\n",
            "1500/1500 [==============================] - 4s 3ms/step - loss: 0.0315 - accuracy: 0.9903 - val_loss: 0.0283 - val_accuracy: 0.9932\n",
            "Epoch 29/40\n",
            "1500/1500 [==============================] - 4s 3ms/step - loss: 0.0324 - accuracy: 0.9903 - val_loss: 0.0315 - val_accuracy: 0.9914\n",
            "Epoch 30/40\n",
            "1500/1500 [==============================] - 4s 3ms/step - loss: 0.0341 - accuracy: 0.9891 - val_loss: 0.0241 - val_accuracy: 0.9936\n",
            "Epoch 31/40\n",
            "1500/1500 [==============================] - 4s 3ms/step - loss: 0.0311 - accuracy: 0.9907 - val_loss: 0.0274 - val_accuracy: 0.9929\n",
            "Epoch 32/40\n",
            "1500/1500 [==============================] - 4s 3ms/step - loss: 0.0317 - accuracy: 0.9905 - val_loss: 0.0281 - val_accuracy: 0.9927\n",
            "Epoch 33/40\n",
            "1500/1500 [==============================] - 4s 3ms/step - loss: 0.0312 - accuracy: 0.9899 - val_loss: 0.0275 - val_accuracy: 0.9924\n",
            "Epoch 34/40\n",
            "1500/1500 [==============================] - 4s 3ms/step - loss: 0.0330 - accuracy: 0.9899 - val_loss: 0.0266 - val_accuracy: 0.9925\n",
            "Epoch 35/40\n",
            "1500/1500 [==============================] - 4s 3ms/step - loss: 0.0326 - accuracy: 0.9903 - val_loss: 0.0285 - val_accuracy: 0.9924\n",
            "Epoch 36/40\n",
            "1500/1500 [==============================] - 4s 3ms/step - loss: 0.0315 - accuracy: 0.9904 - val_loss: 0.0241 - val_accuracy: 0.9926\n",
            "Epoch 37/40\n",
            "1500/1500 [==============================] - 4s 3ms/step - loss: 0.0324 - accuracy: 0.9906 - val_loss: 0.0253 - val_accuracy: 0.9931\n",
            "Epoch 38/40\n",
            "1500/1500 [==============================] - 4s 3ms/step - loss: 0.0290 - accuracy: 0.9909 - val_loss: 0.0280 - val_accuracy: 0.9931\n",
            "Epoch 39/40\n",
            "1500/1500 [==============================] - 4s 3ms/step - loss: 0.0327 - accuracy: 0.9901 - val_loss: 0.0233 - val_accuracy: 0.9929\n",
            "Epoch 40/40\n",
            "1500/1500 [==============================] - 4s 3ms/step - loss: 0.0329 - accuracy: 0.9895 - val_loss: 0.0284 - val_accuracy: 0.9936\n",
            "step 6 ----- accuracy is 99.52999949455261\n",
            "The average of the model accuracy is 99.49428609439305 (+/- 0.11914692719401468)\n",
            "time: 19min 25s\n"
          ],
          "name": "stdout"
        }
      ]
    },
    {
      "cell_type": "markdown",
      "metadata": {
        "id": "zzlOu5HMitn2"
      },
      "source": [
        "#Noise handeling\n"
      ]
    },
    {
      "cell_type": "code",
      "metadata": {
        "colab": {
          "base_uri": "https://localhost:8080/"
        },
        "id": "vdLqMA-biyD8",
        "outputId": "3f85833e-5bad-4102-dad3-1e9d87b4243e"
      },
      "source": [
        "def make_noisydata(data,model,var,portion):\n",
        "  noisy_data = np.empty(data.shape)\n",
        "  if model == 'gaussian':\n",
        "    for i in range(data.shape[0]):\n",
        "      noisy_data[i] = random_noise(data[i],model,var = var)\n",
        "  elif model == 's&p':\n",
        "    for i in range(data.shape[0]):\n",
        "      noisy_data[i] = random_noise(data[i],model,amount=portion)\n",
        "  return noisy_data"
      ],
      "execution_count": 23,
      "outputs": [
        {
          "output_type": "stream",
          "text": [
            "time: 3.53 ms\n"
          ],
          "name": "stdout"
        }
      ]
    },
    {
      "cell_type": "code",
      "metadata": {
        "colab": {
          "base_uri": "https://localhost:8080/"
        },
        "id": "yZrUXsy2jAc7",
        "outputId": "d446758d-760f-46a9-e026-487e69772527"
      },
      "source": [
        "def add_noise(model= 'gaussian',var=0.5,portion=0.2):\n",
        "  noisy_train = make_noisydata(training_images,model,var,portion)\n",
        "  noisy_test = make_noisydata(test_images,model,var,portion)\n",
        "  return noisy_train,noisy_test\n"
      ],
      "execution_count": 24,
      "outputs": [
        {
          "output_type": "stream",
          "text": [
            "time: 2.38 ms\n"
          ],
          "name": "stdout"
        }
      ]
    },
    {
      "cell_type": "code",
      "metadata": {
        "colab": {
          "base_uri": "https://localhost:8080/"
        },
        "id": "zfTiS87mjGtq",
        "outputId": "b7aac577-3c65-439f-e36f-55c289670fc5"
      },
      "source": [
        "def RemoveNoise(model,epochs,train=True):\n",
        "  history = model.fit(n_train,training_labels,validation_split = 0.2,epochs=epochs ,callbacks =[callbacks],shuffle=True)\n",
        "  print('best accurasy on train data is:',model.evaluate(training_images, training_labels)[1],)\n",
        "  print('best accurasy on test data is:',model.evaluate(test_images, test_labels)[1],)\n",
        "  return history"
      ],
      "execution_count": 25,
      "outputs": [
        {
          "output_type": "stream",
          "text": [
            "time: 6.23 ms\n"
          ],
          "name": "stdout"
        }
      ]
    },
    {
      "cell_type": "code",
      "metadata": {
        "colab": {
          "base_uri": "https://localhost:8080/"
        },
        "id": "Hr2kerOnjL6v",
        "outputId": "0f6118bd-9d3f-4612-fdc7-1d13e03e7eb4"
      },
      "source": [
        "n_train, n_test = add_noise(model= 'gaussian',var=0.4,portion=0.2)\n",
        "best_model = RemoveNoise(model,epochs=35)"
      ],
      "execution_count": 26,
      "outputs": [
        {
          "output_type": "stream",
          "text": [
            "Epoch 1/35\n",
            "1500/1500 [==============================] - 4s 3ms/step - loss: 1.0177 - accuracy: 0.6507 - val_loss: 0.4694 - val_accuracy: 0.8503\n",
            "Epoch 2/35\n",
            "1500/1500 [==============================] - 4s 3ms/step - loss: 0.6200 - accuracy: 0.7946 - val_loss: 0.3597 - val_accuracy: 0.8924\n",
            "Epoch 3/35\n",
            "1500/1500 [==============================] - 4s 3ms/step - loss: 0.5563 - accuracy: 0.8169 - val_loss: 0.3126 - val_accuracy: 0.9024\n",
            "Epoch 4/35\n",
            "1500/1500 [==============================] - 4s 3ms/step - loss: 0.5158 - accuracy: 0.8312 - val_loss: 0.3274 - val_accuracy: 0.8947\n",
            "Epoch 5/35\n",
            "1500/1500 [==============================] - 4s 3ms/step - loss: 0.4883 - accuracy: 0.8411 - val_loss: 0.2926 - val_accuracy: 0.9075\n",
            "Epoch 6/35\n",
            "1500/1500 [==============================] - 4s 3ms/step - loss: 0.4695 - accuracy: 0.8461 - val_loss: 0.2700 - val_accuracy: 0.9126\n",
            "Epoch 7/35\n",
            "1500/1500 [==============================] - 4s 3ms/step - loss: 0.4575 - accuracy: 0.8505 - val_loss: 0.2736 - val_accuracy: 0.9144\n",
            "Epoch 8/35\n",
            "1500/1500 [==============================] - 4s 3ms/step - loss: 0.4509 - accuracy: 0.8525 - val_loss: 0.2703 - val_accuracy: 0.9153\n",
            "Epoch 9/35\n",
            "1500/1500 [==============================] - 4s 3ms/step - loss: 0.4454 - accuracy: 0.8539 - val_loss: 0.2703 - val_accuracy: 0.9137\n",
            "Epoch 10/35\n",
            "1500/1500 [==============================] - 4s 3ms/step - loss: 0.4366 - accuracy: 0.8564 - val_loss: 0.2697 - val_accuracy: 0.9138\n",
            "Epoch 11/35\n",
            "1500/1500 [==============================] - 4s 3ms/step - loss: 0.4301 - accuracy: 0.8611 - val_loss: 0.2669 - val_accuracy: 0.9158\n",
            "Epoch 12/35\n",
            "1500/1500 [==============================] - 4s 3ms/step - loss: 0.4292 - accuracy: 0.8598 - val_loss: 0.2588 - val_accuracy: 0.9158\n",
            "Epoch 13/35\n",
            "1500/1500 [==============================] - 4s 3ms/step - loss: 0.4253 - accuracy: 0.8595 - val_loss: 0.2619 - val_accuracy: 0.9174\n",
            "Epoch 14/35\n",
            "1500/1500 [==============================] - 4s 3ms/step - loss: 0.4245 - accuracy: 0.8587 - val_loss: 0.2528 - val_accuracy: 0.9197\n",
            "Epoch 15/35\n",
            "1500/1500 [==============================] - 4s 3ms/step - loss: 0.4195 - accuracy: 0.8633 - val_loss: 0.2701 - val_accuracy: 0.9133\n",
            "Epoch 16/35\n",
            "1500/1500 [==============================] - 4s 3ms/step - loss: 0.4181 - accuracy: 0.8644 - val_loss: 0.2585 - val_accuracy: 0.9161\n",
            "Epoch 17/35\n",
            "1500/1500 [==============================] - 4s 3ms/step - loss: 0.4128 - accuracy: 0.8652 - val_loss: 0.2579 - val_accuracy: 0.9177\n",
            "Epoch 18/35\n",
            "1500/1500 [==============================] - 4s 3ms/step - loss: 0.4146 - accuracy: 0.8644 - val_loss: 0.2671 - val_accuracy: 0.9158\n",
            "Epoch 19/35\n",
            "1500/1500 [==============================] - 4s 3ms/step - loss: 0.4101 - accuracy: 0.8646 - val_loss: 0.2503 - val_accuracy: 0.9199\n",
            "Epoch 20/35\n",
            "1500/1500 [==============================] - 4s 3ms/step - loss: 0.4056 - accuracy: 0.8674 - val_loss: 0.2571 - val_accuracy: 0.9165\n",
            "Epoch 21/35\n",
            "1500/1500 [==============================] - 4s 3ms/step - loss: 0.4019 - accuracy: 0.8673 - val_loss: 0.2536 - val_accuracy: 0.9188\n",
            "Epoch 22/35\n",
            "1500/1500 [==============================] - 4s 3ms/step - loss: 0.4056 - accuracy: 0.8674 - val_loss: 0.2504 - val_accuracy: 0.9190\n",
            "Epoch 23/35\n",
            "1500/1500 [==============================] - 4s 3ms/step - loss: 0.3944 - accuracy: 0.8704 - val_loss: 0.2680 - val_accuracy: 0.9135\n",
            "Epoch 24/35\n",
            "1500/1500 [==============================] - 4s 3ms/step - loss: 0.4008 - accuracy: 0.8692 - val_loss: 0.2524 - val_accuracy: 0.9170\n",
            "Epoch 25/35\n",
            "1500/1500 [==============================] - 4s 3ms/step - loss: 0.3952 - accuracy: 0.8717 - val_loss: 0.2586 - val_accuracy: 0.9162\n",
            "Epoch 26/35\n",
            "1500/1500 [==============================] - 4s 3ms/step - loss: 0.3948 - accuracy: 0.8719 - val_loss: 0.2564 - val_accuracy: 0.9185\n",
            "Epoch 27/35\n",
            "1500/1500 [==============================] - 4s 3ms/step - loss: 0.3906 - accuracy: 0.8712 - val_loss: 0.2533 - val_accuracy: 0.9181\n",
            "Epoch 28/35\n",
            "1500/1500 [==============================] - 4s 3ms/step - loss: 0.3910 - accuracy: 0.8713 - val_loss: 0.2549 - val_accuracy: 0.9187\n",
            "Epoch 29/35\n",
            "1500/1500 [==============================] - 4s 3ms/step - loss: 0.3927 - accuracy: 0.8708 - val_loss: 0.2496 - val_accuracy: 0.9196\n",
            "Epoch 30/35\n",
            "1500/1500 [==============================] - 4s 3ms/step - loss: 0.3873 - accuracy: 0.8734 - val_loss: 0.2573 - val_accuracy: 0.9176\n",
            "Epoch 31/35\n",
            "1500/1500 [==============================] - 4s 3ms/step - loss: 0.3855 - accuracy: 0.8736 - val_loss: 0.2455 - val_accuracy: 0.9211\n",
            "Epoch 32/35\n",
            "1500/1500 [==============================] - 4s 3ms/step - loss: 0.3884 - accuracy: 0.8724 - val_loss: 0.2503 - val_accuracy: 0.9199\n",
            "Epoch 33/35\n",
            "1500/1500 [==============================] - 4s 3ms/step - loss: 0.3881 - accuracy: 0.8726 - val_loss: 0.2458 - val_accuracy: 0.9212\n",
            "Epoch 34/35\n",
            "1500/1500 [==============================] - 4s 3ms/step - loss: 0.3873 - accuracy: 0.8726 - val_loss: 0.2554 - val_accuracy: 0.9182\n",
            "Epoch 35/35\n",
            "1500/1500 [==============================] - 4s 3ms/step - loss: 0.3794 - accuracy: 0.8757 - val_loss: 0.2482 - val_accuracy: 0.9197\n",
            "1875/1875 [==============================] - 3s 2ms/step - loss: 0.1024 - accuracy: 0.9679\n",
            "best accurasy on train data is: 0.9679333567619324\n",
            "313/313 [==============================] - 1s 2ms/step - loss: 0.1013 - accuracy: 0.9672\n",
            "best accurasy on test data is: 0.967199981212616\n",
            "time: 2min 32s\n"
          ],
          "name": "stdout"
        }
      ]
    },
    {
      "cell_type": "code",
      "metadata": {
        "id": "CpEUingftjK3"
      },
      "source": [
        "def plotter(img_list, r, w, gray, wr, hr, fig_name = None):\n",
        "  plt.rcParams['figure.figsize'] = (wr, hr)\n",
        "  for i in range(len(img_list)):\n",
        "      plt.subplot(r, w, i + 1)\n",
        "      if img_list[i][2] == 'img':\n",
        "          if gray:\n",
        "              plt.imshow(img_list[i][0], cmap = 'gray')\n",
        "          else:\n",
        "              plt.imshow(img_list[i][0])\n",
        "          plt.xticks([])\n",
        "          plt.yticks([])\n",
        "      elif img_list[i][2] == 'hist':\n",
        "          plt.bar(np.arange(len(img_list[i][0])), img_list[i][0], color = 'c')\n",
        "      else:\n",
        "          raise Exception(\"Only image or histogram. Use third parameter of tuples in img_list and set it to img or hist.\")\n",
        "      plt.title(img_list[i][1])\n",
        "  if fig_name is not None:\n",
        "      plt.savefig(fig_name + '.png')\n",
        "  plt.show()"
      ],
      "execution_count": 11,
      "outputs": []
    },
    {
      "cell_type": "code",
      "metadata": {
        "id": "Qw-mZNpHjJnQ"
      },
      "source": [
        "def checktestsample(model,sample):\n",
        "  m = test_images[0].shape[0]\n",
        "  n = test_images[0].shape[1]\n",
        "  y_pred = model.predict(np.array([n_test[sample]]))\n",
        "  image_list = []\n",
        "  image_list.append([test_images[sample].reshape((m,n)), 'Original Test Image', 'img'])\n",
        "  image_list.append([n_test[sample].reshape((m,n)), 'Noisy Test Image', 'img'])\n",
        "  print('preditction is',np.argmax(y_pred))\n",
        "  plotter(image_list,1,2 ,True,10,10)"
      ],
      "execution_count": 12,
      "outputs": []
    },
    {
      "cell_type": "code",
      "metadata": {
        "colab": {
          "base_uri": "https://localhost:8080/",
          "height": 322
        },
        "id": "Ww7gJyBEjNk0",
        "outputId": "07788d6a-49e7-4f6c-b5e4-e22f6892aec9"
      },
      "source": [
        "checktestsample(model,7334)"
      ],
      "execution_count": 56,
      "outputs": [
        {
          "output_type": "stream",
          "text": [
            "preditction is 7\n"
          ],
          "name": "stdout"
        },
        {
          "output_type": "display_data",
          "data": {
            "image/png": "[encoded data removed]",
            "text/plain": [
              "<Figure size 720x720 with 2 Axes>"
            ]
          },
          "metadata": {
            "tags": []
          }
        }
      ]
    },
    {
      "cell_type": "markdown",
      "metadata": {
        "id": "v1Zb2QHUyAbE"
      },
      "source": [
        "#New model (more robust)"
      ]
    },
    {
      "cell_type": "code",
      "metadata": {
        "id": "GtGMXnE-x_8q"
      },
      "source": [
        "model = tf.keras.models.Sequential([\n",
        "  tf.keras.layers.Conv2D(64, (3,3), activation='relu', input_shape=training_images.shape[1:]),\n",
        "  tf.keras.layers.MaxPooling2D(3,3),\n",
        "  tf.keras.layers.Conv2D(32, (3,3), activation='relu', input_shape=training_images.shape[1:]),\n",
        "  tf.keras.layers.MaxPooling2D(2,2),\n",
        "  tf.keras.layers.Flatten(),\n",
        "  tf.keras.layers.Dropout(0.3),\n",
        "  tf.keras.layers.Dense(256, activation='relu'),\n",
        "  tf.keras.layers.Dropout(0.4),\n",
        "  tf.keras.layers.Dense(64, activation='relu'),\n",
        "  tf.keras.layers.Dropout(0.3),\n",
        "  tf.keras.layers.Dense(32, activation='relu'),\n",
        "  tf.keras.layers.Dense(10, activation='softmax')\n",
        "])\n",
        "\n",
        "model.compile(optimizer='adam', loss='sparse_categorical_crossentropy', metrics=['accuracy'])"
      ],
      "execution_count": 13,
      "outputs": []
    },
    {
      "cell_type": "code",
      "metadata": {
        "colab": {
          "base_uri": "https://localhost:8080/"
        },
        "id": "EWapNqd1yhFx",
        "outputId": "44d61e60-cf34-48f8-ab7b-67dacb07d11a"
      },
      "source": [
        "model.summary()"
      ],
      "execution_count": 18,
      "outputs": [
        {
          "output_type": "stream",
          "text": [
            "Model: \"sequential\"\n",
            "_________________________________________________________________\n",
            "Layer (type)                 Output Shape              Param #   \n",
            "=================================================================\n",
            "conv2d (Conv2D)              (None, 26, 26, 64)        640       \n",
            "_________________________________________________________________\n",
            "max_pooling2d (MaxPooling2D) (None, 8, 8, 64)          0         \n",
            "_________________________________________________________________\n",
            "conv2d_1 (Conv2D)            (None, 6, 6, 32)          18464     \n",
            "_________________________________________________________________\n",
            "max_pooling2d_1 (MaxPooling2 (None, 3, 3, 32)          0         \n",
            "_________________________________________________________________\n",
            "flatten (Flatten)            (None, 288)               0         \n",
            "_________________________________________________________________\n",
            "dropout (Dropout)            (None, 288)               0         \n",
            "_________________________________________________________________\n",
            "dense (Dense)                (None, 256)               73984     \n",
            "_________________________________________________________________\n",
            "dropout_1 (Dropout)          (None, 256)               0         \n",
            "_________________________________________________________________\n",
            "dense_1 (Dense)              (None, 64)                16448     \n",
            "_________________________________________________________________\n",
            "dropout_2 (Dropout)          (None, 64)                0         \n",
            "_________________________________________________________________\n",
            "dense_2 (Dense)              (None, 32)                2080      \n",
            "_________________________________________________________________\n",
            "dense_3 (Dense)              (None, 10)                330       \n",
            "=================================================================\n",
            "Total params: 111,946\n",
            "Trainable params: 111,946\n",
            "Non-trainable params: 0\n",
            "_________________________________________________________________\n"
          ],
          "name": "stdout"
        }
      ]
    },
    {
      "cell_type": "code",
      "metadata": {
        "colab": {
          "base_uri": "https://localhost:8080/"
        },
        "id": "mFEJQwiSyne3",
        "outputId": "a10a23da-e349-4e0e-ce07-ee7c7fd2e67e"
      },
      "source": [
        "#if the next step is not run in nosie handling part you should uncomment it\n",
        "# n_train, n_test = add_noise(model= 'gaussian',var=0.4,portion=0.2)\n",
        "best_model = RemoveNoise(model,epochs=75)"
      ],
      "execution_count": 28,
      "outputs": [
        {
          "output_type": "stream",
          "text": [
            "Epoch 1/75\n",
            "1500/1500 [==============================] - 4s 3ms/step - loss: 0.3829 - accuracy: 0.8726 - val_loss: 0.2493 - val_accuracy: 0.9190\n",
            "Epoch 2/75\n",
            "1500/1500 [==============================] - 4s 3ms/step - loss: 0.3789 - accuracy: 0.8746 - val_loss: 0.2392 - val_accuracy: 0.9239\n",
            "Epoch 3/75\n",
            "1500/1500 [==============================] - 4s 3ms/step - loss: 0.3786 - accuracy: 0.8764 - val_loss: 0.2360 - val_accuracy: 0.9231\n",
            "Epoch 4/75\n",
            "1500/1500 [==============================] - 4s 3ms/step - loss: 0.3728 - accuracy: 0.8760 - val_loss: 0.2437 - val_accuracy: 0.9230\n",
            "Epoch 5/75\n",
            "1500/1500 [==============================] - 4s 3ms/step - loss: 0.3783 - accuracy: 0.8748 - val_loss: 0.2447 - val_accuracy: 0.9226\n",
            "Epoch 6/75\n",
            "1500/1500 [==============================] - 4s 3ms/step - loss: 0.3754 - accuracy: 0.8752 - val_loss: 0.2543 - val_accuracy: 0.9163\n",
            "Epoch 7/75\n",
            "1500/1500 [==============================] - 4s 3ms/step - loss: 0.3712 - accuracy: 0.8776 - val_loss: 0.2437 - val_accuracy: 0.9212\n",
            "Epoch 8/75\n",
            "1500/1500 [==============================] - 4s 3ms/step - loss: 0.3755 - accuracy: 0.8762 - val_loss: 0.2507 - val_accuracy: 0.9187\n",
            "Epoch 9/75\n",
            "1500/1500 [==============================] - 4s 3ms/step - loss: 0.3760 - accuracy: 0.8751 - val_loss: 0.2505 - val_accuracy: 0.9200\n",
            "Epoch 10/75\n",
            "1500/1500 [==============================] - 4s 3ms/step - loss: 0.3825 - accuracy: 0.8742 - val_loss: 0.2382 - val_accuracy: 0.9212\n",
            "Epoch 11/75\n",
            "1500/1500 [==============================] - 4s 3ms/step - loss: 0.3763 - accuracy: 0.8757 - val_loss: 0.2414 - val_accuracy: 0.9233\n",
            "Epoch 12/75\n",
            "1500/1500 [==============================] - 4s 3ms/step - loss: 0.3741 - accuracy: 0.8789 - val_loss: 0.2386 - val_accuracy: 0.9233\n",
            "Epoch 13/75\n",
            "1500/1500 [==============================] - 4s 3ms/step - loss: 0.3704 - accuracy: 0.8781 - val_loss: 0.2378 - val_accuracy: 0.9243\n",
            "Epoch 14/75\n",
            "1500/1500 [==============================] - 4s 3ms/step - loss: 0.3723 - accuracy: 0.8766 - val_loss: 0.2408 - val_accuracy: 0.9217\n",
            "Epoch 15/75\n",
            "1500/1500 [==============================] - 4s 3ms/step - loss: 0.3719 - accuracy: 0.8763 - val_loss: 0.2402 - val_accuracy: 0.9238\n",
            "Epoch 16/75\n",
            "1500/1500 [==============================] - 4s 3ms/step - loss: 0.3673 - accuracy: 0.8795 - val_loss: 0.2442 - val_accuracy: 0.9206\n",
            "Epoch 17/75\n",
            "1500/1500 [==============================] - 4s 3ms/step - loss: 0.3710 - accuracy: 0.8757 - val_loss: 0.2372 - val_accuracy: 0.9239\n",
            "Epoch 18/75\n",
            "1500/1500 [==============================] - 4s 3ms/step - loss: 0.3657 - accuracy: 0.8794 - val_loss: 0.2357 - val_accuracy: 0.9247\n",
            "Epoch 19/75\n",
            "1500/1500 [==============================] - 4s 3ms/step - loss: 0.3670 - accuracy: 0.8792 - val_loss: 0.2330 - val_accuracy: 0.9243\n",
            "Epoch 20/75\n",
            "1500/1500 [==============================] - 4s 3ms/step - loss: 0.3689 - accuracy: 0.8778 - val_loss: 0.2766 - val_accuracy: 0.9101\n",
            "Epoch 21/75\n",
            "1500/1500 [==============================] - 4s 3ms/step - loss: 0.3637 - accuracy: 0.8794 - val_loss: 0.2348 - val_accuracy: 0.9238\n",
            "Epoch 22/75\n",
            "1500/1500 [==============================] - 4s 3ms/step - loss: 0.3641 - accuracy: 0.8803 - val_loss: 0.2664 - val_accuracy: 0.9153\n",
            "Epoch 23/75\n",
            "1500/1500 [==============================] - 4s 3ms/step - loss: 0.3698 - accuracy: 0.8780 - val_loss: 0.2422 - val_accuracy: 0.9219\n",
            "Epoch 24/75\n",
            "1500/1500 [==============================] - 4s 3ms/step - loss: 0.3663 - accuracy: 0.8794 - val_loss: 0.2346 - val_accuracy: 0.9247\n",
            "Epoch 25/75\n",
            "1500/1500 [==============================] - 4s 3ms/step - loss: 0.3638 - accuracy: 0.8820 - val_loss: 0.2357 - val_accuracy: 0.9239\n",
            "Epoch 26/75\n",
            "1500/1500 [==============================] - 4s 3ms/step - loss: 0.3659 - accuracy: 0.8783 - val_loss: 0.2474 - val_accuracy: 0.9195\n",
            "Epoch 27/75\n",
            "1500/1500 [==============================] - 4s 3ms/step - loss: 0.3705 - accuracy: 0.8784 - val_loss: 0.2354 - val_accuracy: 0.9239\n",
            "Epoch 28/75\n",
            "1500/1500 [==============================] - 4s 3ms/step - loss: 0.3647 - accuracy: 0.8804 - val_loss: 0.2515 - val_accuracy: 0.9168\n",
            "Epoch 29/75\n",
            "1500/1500 [==============================] - 4s 3ms/step - loss: 0.3570 - accuracy: 0.8804 - val_loss: 0.2307 - val_accuracy: 0.9256\n",
            "Epoch 30/75\n",
            "1500/1500 [==============================] - 4s 3ms/step - loss: 0.3639 - accuracy: 0.8809 - val_loss: 0.2327 - val_accuracy: 0.9256\n",
            "Epoch 31/75\n",
            "1500/1500 [==============================] - 4s 3ms/step - loss: 0.3634 - accuracy: 0.8795 - val_loss: 0.2508 - val_accuracy: 0.9200\n",
            "Epoch 32/75\n",
            "1500/1500 [==============================] - 4s 3ms/step - loss: 0.3576 - accuracy: 0.8805 - val_loss: 0.2394 - val_accuracy: 0.9236\n",
            "Epoch 33/75\n",
            "1500/1500 [==============================] - 4s 3ms/step - loss: 0.3599 - accuracy: 0.8805 - val_loss: 0.2517 - val_accuracy: 0.9202\n",
            "Epoch 34/75\n",
            "1500/1500 [==============================] - 4s 3ms/step - loss: 0.3628 - accuracy: 0.8797 - val_loss: 0.2321 - val_accuracy: 0.9251\n",
            "Epoch 35/75\n",
            "1500/1500 [==============================] - 4s 3ms/step - loss: 0.3626 - accuracy: 0.8795 - val_loss: 0.2387 - val_accuracy: 0.9243\n",
            "Epoch 36/75\n",
            "1500/1500 [==============================] - 4s 3ms/step - loss: 0.3569 - accuracy: 0.8813 - val_loss: 0.2406 - val_accuracy: 0.9228\n",
            "Epoch 37/75\n",
            "1500/1500 [==============================] - 4s 3ms/step - loss: 0.3613 - accuracy: 0.8784 - val_loss: 0.2353 - val_accuracy: 0.9234\n",
            "Epoch 38/75\n",
            "1500/1500 [==============================] - 4s 3ms/step - loss: 0.3617 - accuracy: 0.8805 - val_loss: 0.2376 - val_accuracy: 0.9247\n",
            "Epoch 39/75\n",
            "1500/1500 [==============================] - 4s 3ms/step - loss: 0.3579 - accuracy: 0.8816 - val_loss: 0.2344 - val_accuracy: 0.9252\n",
            "Epoch 40/75\n",
            "1500/1500 [==============================] - 4s 3ms/step - loss: 0.3528 - accuracy: 0.8838 - val_loss: 0.2452 - val_accuracy: 0.9202\n",
            "Epoch 41/75\n",
            "1500/1500 [==============================] - 4s 3ms/step - loss: 0.3660 - accuracy: 0.8796 - val_loss: 0.2356 - val_accuracy: 0.9254\n",
            "Epoch 42/75\n",
            "1500/1500 [==============================] - 4s 3ms/step - loss: 0.3563 - accuracy: 0.8828 - val_loss: 0.2422 - val_accuracy: 0.9233\n",
            "Epoch 43/75\n",
            "1500/1500 [==============================] - 4s 3ms/step - loss: 0.3574 - accuracy: 0.8814 - val_loss: 0.2331 - val_accuracy: 0.9233\n",
            "Epoch 44/75\n",
            "1500/1500 [==============================] - 4s 3ms/step - loss: 0.3576 - accuracy: 0.8821 - val_loss: 0.2328 - val_accuracy: 0.9261\n",
            "Epoch 45/75\n",
            "1500/1500 [==============================] - 4s 3ms/step - loss: 0.3616 - accuracy: 0.8796 - val_loss: 0.2358 - val_accuracy: 0.9247\n",
            "Epoch 46/75\n",
            "1500/1500 [==============================] - 4s 3ms/step - loss: 0.3492 - accuracy: 0.8836 - val_loss: 0.2436 - val_accuracy: 0.9219\n",
            "Epoch 47/75\n",
            "1500/1500 [==============================] - 4s 3ms/step - loss: 0.3587 - accuracy: 0.8824 - val_loss: 0.2374 - val_accuracy: 0.9240\n",
            "Epoch 48/75\n",
            "1500/1500 [==============================] - 4s 3ms/step - loss: 0.3510 - accuracy: 0.8844 - val_loss: 0.2282 - val_accuracy: 0.9266\n",
            "Epoch 49/75\n",
            "1500/1500 [==============================] - 4s 3ms/step - loss: 0.3605 - accuracy: 0.8828 - val_loss: 0.2378 - val_accuracy: 0.9223\n",
            "Epoch 50/75\n",
            "1500/1500 [==============================] - 4s 3ms/step - loss: 0.3558 - accuracy: 0.8835 - val_loss: 0.2365 - val_accuracy: 0.9225\n",
            "Epoch 51/75\n",
            "1500/1500 [==============================] - 4s 3ms/step - loss: 0.3570 - accuracy: 0.8819 - val_loss: 0.2530 - val_accuracy: 0.9166\n",
            "Epoch 52/75\n",
            "1500/1500 [==============================] - 5s 3ms/step - loss: 0.3486 - accuracy: 0.8845 - val_loss: 0.2315 - val_accuracy: 0.9255\n",
            "Epoch 53/75\n",
            "1500/1500 [==============================] - 5s 3ms/step - loss: 0.3548 - accuracy: 0.8829 - val_loss: 0.2377 - val_accuracy: 0.9208\n",
            "Epoch 54/75\n",
            "1500/1500 [==============================] - 4s 3ms/step - loss: 0.3523 - accuracy: 0.8842 - val_loss: 0.2305 - val_accuracy: 0.9239\n",
            "Epoch 55/75\n",
            "1500/1500 [==============================] - 4s 3ms/step - loss: 0.3573 - accuracy: 0.8827 - val_loss: 0.2342 - val_accuracy: 0.9251\n",
            "Epoch 56/75\n",
            "1500/1500 [==============================] - 4s 3ms/step - loss: 0.3528 - accuracy: 0.8826 - val_loss: 0.2348 - val_accuracy: 0.9238\n",
            "Epoch 57/75\n",
            "1500/1500 [==============================] - 4s 3ms/step - loss: 0.3518 - accuracy: 0.8827 - val_loss: 0.2424 - val_accuracy: 0.9228\n",
            "Epoch 58/75\n",
            "1500/1500 [==============================] - 4s 3ms/step - loss: 0.3539 - accuracy: 0.8823 - val_loss: 0.2395 - val_accuracy: 0.9235\n",
            "Epoch 59/75\n",
            "1500/1500 [==============================] - 4s 3ms/step - loss: 0.3479 - accuracy: 0.8847 - val_loss: 0.2368 - val_accuracy: 0.9211\n",
            "Epoch 60/75\n",
            "1500/1500 [==============================] - 4s 3ms/step - loss: 0.3518 - accuracy: 0.8821 - val_loss: 0.2339 - val_accuracy: 0.9230\n",
            "Epoch 61/75\n",
            "1500/1500 [==============================] - 4s 3ms/step - loss: 0.3535 - accuracy: 0.8841 - val_loss: 0.2398 - val_accuracy: 0.9225\n",
            "Epoch 62/75\n",
            "1500/1500 [==============================] - 4s 3ms/step - loss: 0.3510 - accuracy: 0.8847 - val_loss: 0.2401 - val_accuracy: 0.9247\n",
            "Epoch 63/75\n",
            "1500/1500 [==============================] - 4s 3ms/step - loss: 0.3492 - accuracy: 0.8834 - val_loss: 0.2365 - val_accuracy: 0.9256\n",
            "Epoch 64/75\n",
            "1500/1500 [==============================] - 4s 3ms/step - loss: 0.3494 - accuracy: 0.8839 - val_loss: 0.2344 - val_accuracy: 0.9258\n",
            "Epoch 65/75\n",
            "1500/1500 [==============================] - 4s 3ms/step - loss: 0.3538 - accuracy: 0.8829 - val_loss: 0.2425 - val_accuracy: 0.9222\n",
            "Epoch 66/75\n",
            "1500/1500 [==============================] - 4s 3ms/step - loss: 0.3514 - accuracy: 0.8826 - val_loss: 0.2459 - val_accuracy: 0.9215\n",
            "Epoch 67/75\n",
            "1500/1500 [==============================] - 4s 3ms/step - loss: 0.3527 - accuracy: 0.8821 - val_loss: 0.2400 - val_accuracy: 0.9226\n",
            "Epoch 68/75\n",
            "1500/1500 [==============================] - 4s 3ms/step - loss: 0.3515 - accuracy: 0.8842 - val_loss: 0.2415 - val_accuracy: 0.9216\n",
            "Epoch 69/75\n",
            "1500/1500 [==============================] - 4s 3ms/step - loss: 0.3524 - accuracy: 0.8837 - val_loss: 0.2392 - val_accuracy: 0.9223\n",
            "Epoch 70/75\n",
            "1500/1500 [==============================] - 4s 3ms/step - loss: 0.3490 - accuracy: 0.8857 - val_loss: 0.2495 - val_accuracy: 0.9210\n",
            "Epoch 71/75\n",
            "1500/1500 [==============================] - 4s 3ms/step - loss: 0.3488 - accuracy: 0.8849 - val_loss: 0.2318 - val_accuracy: 0.9262\n",
            "Epoch 72/75\n",
            "1500/1500 [==============================] - 4s 3ms/step - loss: 0.3473 - accuracy: 0.8843 - val_loss: 0.2372 - val_accuracy: 0.9226\n",
            "Epoch 73/75\n",
            "1500/1500 [==============================] - 4s 3ms/step - loss: 0.3523 - accuracy: 0.8849 - val_loss: 0.2419 - val_accuracy: 0.9229\n",
            "Epoch 74/75\n",
            "1500/1500 [==============================] - 4s 3ms/step - loss: 0.3501 - accuracy: 0.8863 - val_loss: 0.2327 - val_accuracy: 0.9260\n",
            "Epoch 75/75\n",
            "1500/1500 [==============================] - 4s 3ms/step - loss: 0.3480 - accuracy: 0.8862 - val_loss: 0.2363 - val_accuracy: 0.9232\n",
            "1875/1875 [==============================] - 3s 2ms/step - loss: 0.0954 - accuracy: 0.9701\n",
            "best accurasy on train data is: 0.9700833559036255\n",
            "313/313 [==============================] - 1s 2ms/step - loss: 0.0954 - accuracy: 0.9690\n",
            "best accurasy on test data is: 0.968999981880188\n",
            "time: 5min 7s\n"
          ],
          "name": "stdout"
        }
      ]
    },
    {
      "cell_type": "code",
      "metadata": {
        "colab": {
          "base_uri": "https://localhost:8080/",
          "height": 340
        },
        "id": "pVonbvMlyp_N",
        "outputId": "3e443020-6f46-4aa3-a385-a1318cdbb498"
      },
      "source": [
        "checktestsample(model,7334)"
      ],
      "execution_count": 27,
      "outputs": [
        {
          "output_type": "stream",
          "text": [
            "preditction is 7\n"
          ],
          "name": "stdout"
        },
        {
          "output_type": "display_data",
          "data": {
            "image/png": "[encoded data removed]",
            "text/plain": [
              "<Figure size 720x720 with 2 Axes>"
            ]
          },
          "metadata": {
            "tags": []
          }
        },
        {
          "output_type": "stream",
          "text": [
            "time: 240 ms\n"
          ],
          "name": "stdout"
        }
      ]
    },
    {
      "cell_type": "code",
      "metadata": {
        "id": "IIacZpLiTDXB"
      },
      "source": [
        ""
      ],
      "execution_count": null,
      "outputs": []
    }
  ]
}