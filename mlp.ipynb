{
  "nbformat": 4,
  "nbformat_minor": 0,
  "metadata": {
    "colab": {
      "name": "mlp",
      "provenance": [],
      "authorship_tag": "ABX9TyM/9zEyUT6V5futPtvlCJcG",
      "include_colab_link": true
    },
    "kernelspec": {
      "name": "python3",
      "display_name": "Python 3"
    },
    "accelerator": "GPU"
  },
  "cells": [
    {
      "cell_type": "markdown",
      "metadata": {
        "id": "view-in-github",
        "colab_type": "text"
      },
      "source": [
        "<a href=\"https://colab.research.google.com/github/mahsaghaderan99/MLP/blob/cross-validation/mlp.ipynb\" target=\"_parent\"><img src=\"https://colab.research.google.com/assets/colab-badge.svg\" alt=\"Open In Colab\"/></a>"
      ]
    },
    {
      "cell_type": "markdown",
      "metadata": {
        "id": "CyK4A_cco_WC"
      },
      "source": [
        "*Deep* MLP project"
      ]
    },
    {
      "cell_type": "code",
      "metadata": {
        "id": "pI1xwS3FuFq-"
      },
      "source": [
        "def plotter(img_list, r, w, gray, wr, hr, fig_name = None):\n",
        "    '''\n",
        "    Plots images' list with its' caption and saves result image if you want.\n",
        "\n",
        "    Parameters:\n",
        "        img_list (list): The list of tuples of image and its' caption.\n",
        "        r (int): The number of row(s).\n",
        "        w (int): The number of colunm(s).\n",
        "        gray (bool): The flag for plotting images in grayscale mode.\n",
        "        wr (int): The width of one figure.\n",
        "        hr (int): The height of one figure.\n",
        "        fig_name (str): The name of the image of the plot. if not set this parameter the plot doesn't save.\n",
        "    '''\n",
        "    \n",
        "    plt.rcParams['figure.figsize'] = (wr, hr)\n",
        "    for i in range(len(img_list)):\n",
        "        plt.subplot(r, w, i + 1)\n",
        "        if img_list[i][2] == 'img':\n",
        "            if gray:\n",
        "                plt.imshow(img_list[i][0], cmap = 'gray')\n",
        "            else:\n",
        "                plt.imshow(img_list[i][0])\n",
        "            plt.xticks([])\n",
        "            plt.yticks([])\n",
        "        elif img_list[i][2] == 'hist':\n",
        "            plt.bar(np.arange(len(img_list[i][0])), img_list[i][0], color = 'c')\n",
        "        else:\n",
        "            raise Exception(\"Only image or histogram. Use third parameter of tuples in img_list and set it to img or hist.\")\n",
        "        plt.title(img_list[i][1])\n",
        "    if fig_name is not None:\n",
        "        plt.savefig(fig_name + '.png')\n",
        "    plt.show()"
      ],
      "execution_count": 1,
      "outputs": []
    },
    {
      "cell_type": "markdown",
      "metadata": {
        "id": "PjXUnWd6YBZ2"
      },
      "source": [
        "#PART4"
      ]
    },
    {
      "cell_type": "markdown",
      "metadata": {
        "id": "vZWxh5qeYELz"
      },
      "source": [
        "##Imports"
      ]
    },
    {
      "cell_type": "code",
      "metadata": {
        "id": "KEoXOhINYBM0"
      },
      "source": [
        "from sklearn.model_selection import cross_val_score\n",
        "import tensorflow as tf\n",
        "from os import path\n",
        "import cv2\n",
        "from skimage.util import random_noise\n",
        "import matplotlib.pyplot as plt\n",
        "import numpy as np\n",
        "from sklearn.model_selection import train_test_split\n",
        "from sklearn.metrics.pairwise import cosine_similarity\n",
        "from scipy import spatial"
      ],
      "execution_count": 49,
      "outputs": []
    },
    {
      "cell_type": "markdown",
      "metadata": {
        "id": "ttuM4LyuaBN3"
      },
      "source": [
        "## load dataset"
      ]
    },
    {
      "cell_type": "markdown",
      "metadata": {
        "id": "y2DtliMeaBN5"
      },
      "source": [
        "load mnist dataset "
      ]
    },
    {
      "cell_type": "code",
      "metadata": {
        "id": "I8SXWA4UaBN6"
      },
      "source": [
        "path = f\"{getcwd()}/mnist.npz\""
      ],
      "execution_count": 50,
      "outputs": []
    },
    {
      "cell_type": "code",
      "metadata": {
        "id": "FASQKRhSaBN-"
      },
      "source": [
        "mnist = tf.keras.datasets.mnist\n",
        "(training_images, training_labels), (test_images, test_labels) = mnist.load_data(path=path)\n",
        "training_images = training_images.reshape(60000,28,28)\n",
        "test_images = test_images.reshape(10000,28,28)"
      ],
      "execution_count": 51,
      "outputs": []
    },
    {
      "cell_type": "code",
      "metadata": {
        "id": "8meLdvI5aBOB",
        "outputId": "82693bb6-2a77-440b-9bde-46d1f2acb610",
        "colab": {
          "base_uri": "https://localhost:8080/",
          "height": 34
        }
      },
      "source": [
        "m, n = training_images[0].shape[0], training_images[0].shape[1]\n",
        "print('The image is ({0}*{1})'.format(m,n))"
      ],
      "execution_count": 52,
      "outputs": [
        {
          "output_type": "stream",
          "text": [
            "The image is (28*28)\n"
          ],
          "name": "stdout"
        }
      ]
    },
    {
      "cell_type": "markdown",
      "metadata": {
        "id": "v4iiZwLNaHjE"
      },
      "source": [
        "##Preprocess Data"
      ]
    },
    {
      "cell_type": "markdown",
      "metadata": {
        "id": "hZ8iP4sMaHjI"
      },
      "source": [
        "Normalize images --> map value into (0,1)"
      ]
    },
    {
      "cell_type": "code",
      "metadata": {
        "id": "dDH2rkwIaHjL"
      },
      "source": [
        "training_images = np.array(training_images,np.float64)*(1/255)\n",
        "test_images = np.array(test_images,np.float64)*(1/255)"
      ],
      "execution_count": 53,
      "outputs": []
    },
    {
      "cell_type": "markdown",
      "metadata": {
        "id": "Wa_0_SONaHjX"
      },
      "source": [
        "Flatten original image --> suitable for output of the network."
      ]
    },
    {
      "cell_type": "code",
      "metadata": {
        "id": "_EsPGbfoaHjY"
      },
      "source": [
        "x_train = np.reshape(training_images,(training_images.shape[0],m*n))\n",
        "test_images = np.reshape(test_images,(test_images.shape[0],m*n))\n",
        "X = np.append(x_train,test_images,0)\n",
        "Y = np.append(training_labels,test_labels)"
      ],
      "execution_count": 70,
      "outputs": []
    },
    {
      "cell_type": "markdown",
      "metadata": {
        "id": "MM4og-26aNt4"
      },
      "source": [
        "##Generate Model"
      ]
    },
    {
      "cell_type": "code",
      "metadata": {
        "id": "hy1qgV5kYtD8"
      },
      "source": [
        "def generate_model(layers_number,layers_nodenum,dropout,optimizer,loss,accuracy):\n",
        "  layers = []\n",
        "  layers.append(tf.keras.layers.Flatten())\n",
        "  for i in range(layers_number):\n",
        "    layers.append(tf.keras.layers.Dense(layers_nodenum[i],activation=tf.nn.relu))\n",
        "    layers.append(tf.keras.layers.Dropout(dropout[i]))\n",
        "  layers.append(tf.keras.layers.Dense(10,activation=tf.nn.softmax))\n",
        "  model = tf.keras.models.Sequential(layers)\n",
        "  model.compile(optimizer=optimizer, loss=loss, metrics=[accuracy])\n",
        "  model.build((None,m*n))\n",
        "  model.summary()\n",
        "  return model\n"
      ],
      "execution_count": 72,
      "outputs": []
    },
    {
      "cell_type": "code",
      "metadata": {
        "id": "5CK6-kZsZC0A"
      },
      "source": [
        "def k_fold_train_test(X, Y, k_fold, model,):\n",
        "  model_name = model.__class__.__name__\n",
        "  accuracies = cross_val_score(model, X, Y, scoring = 'accuracy', cv= k_fold)\n",
        "  # result = []\n",
        "  # for fold_index, accuracy in enumerate(accuracies):\n",
        "  #   result.append((model_name, fold_index, accuracy))\n",
        "  print('Mean accuracy of the model in ' + str(k_fold) + ' fold is: ', np.average(accuracies, axis=0))\n",
        "  return accuracies"
      ],
      "execution_count": 76,
      "outputs": []
    },
    {
      "cell_type": "code",
      "metadata": {
        "id": "VT7YRbRzYQ4Z",
        "outputId": "7e70cd65-67ac-40ad-f87a-ef2b6b150e4a",
        "colab": {
          "base_uri": "https://localhost:8080/",
          "height": 814
        }
      },
      "source": [
        "model = generate_model(layers_number=2,\n",
        "                       layers_nodenum=[20,30],\n",
        "                       dropout=[0,0.1],\n",
        "                       optimizer='adam',\n",
        "                       loss='sparse_categorical_crossentropy',\n",
        "                       accuracy='accuracy')\n",
        "# accuracies = k_fold_train_test(X,Y,11,model)"
      ],
      "execution_count": 78,
      "outputs": [
        {
          "output_type": "stream",
          "text": [
            "Model: \"sequential_8\"\n",
            "_________________________________________________________________\n",
            "Layer (type)                 Output Shape              Param #   \n",
            "=================================================================\n",
            "flatten_8 (Flatten)          (None, 784)               0         \n",
            "_________________________________________________________________\n",
            "dense_29 (Dense)             (None, 20)                15700     \n",
            "_________________________________________________________________\n",
            "dropout_21 (Dropout)         (None, 20)                0         \n",
            "_________________________________________________________________\n",
            "dense_30 (Dense)             (None, 30)                630       \n",
            "_________________________________________________________________\n",
            "dropout_22 (Dropout)         (None, 30)                0         \n",
            "_________________________________________________________________\n",
            "dense_31 (Dense)             (None, 10)                310       \n",
            "=================================================================\n",
            "Total params: 16,640\n",
            "Trainable params: 16,640\n",
            "Non-trainable params: 0\n",
            "_________________________________________________________________\n"
          ],
          "name": "stdout"
        },
        {
          "output_type": "error",
          "ename": "TypeError",
          "evalue": "ignored",
          "traceback": [
            "\u001b[0;31m---------------------------------------------------------------------------\u001b[0m",
            "\u001b[0;31mEmpty\u001b[0m                                     Traceback (most recent call last)",
            "\u001b[0;32m/usr/local/lib/python3.6/dist-packages/joblib/parallel.py\u001b[0m in \u001b[0;36mdispatch_one_batch\u001b[0;34m(self, iterator)\u001b[0m\n\u001b[1;32m    826\u001b[0m             \u001b[0;32mtry\u001b[0m\u001b[0;34m:\u001b[0m\u001b[0;34m\u001b[0m\u001b[0;34m\u001b[0m\u001b[0m\n\u001b[0;32m--> 827\u001b[0;31m                 \u001b[0mtasks\u001b[0m \u001b[0;34m=\u001b[0m \u001b[0mself\u001b[0m\u001b[0;34m.\u001b[0m\u001b[0m_ready_batches\u001b[0m\u001b[0;34m.\u001b[0m\u001b[0mget\u001b[0m\u001b[0;34m(\u001b[0m\u001b[0mblock\u001b[0m\u001b[0;34m=\u001b[0m\u001b[0;32mFalse\u001b[0m\u001b[0;34m)\u001b[0m\u001b[0;34m\u001b[0m\u001b[0;34m\u001b[0m\u001b[0m\n\u001b[0m\u001b[1;32m    828\u001b[0m             \u001b[0;32mexcept\u001b[0m \u001b[0mqueue\u001b[0m\u001b[0;34m.\u001b[0m\u001b[0mEmpty\u001b[0m\u001b[0;34m:\u001b[0m\u001b[0;34m\u001b[0m\u001b[0;34m\u001b[0m\u001b[0m\n",
            "\u001b[0;32m/usr/lib/python3.6/queue.py\u001b[0m in \u001b[0;36mget\u001b[0;34m(self, block, timeout)\u001b[0m\n\u001b[1;32m    160\u001b[0m                 \u001b[0;32mif\u001b[0m \u001b[0;32mnot\u001b[0m \u001b[0mself\u001b[0m\u001b[0;34m.\u001b[0m\u001b[0m_qsize\u001b[0m\u001b[0;34m(\u001b[0m\u001b[0;34m)\u001b[0m\u001b[0;34m:\u001b[0m\u001b[0;34m\u001b[0m\u001b[0;34m\u001b[0m\u001b[0m\n\u001b[0;32m--> 161\u001b[0;31m                     \u001b[0;32mraise\u001b[0m \u001b[0mEmpty\u001b[0m\u001b[0;34m\u001b[0m\u001b[0;34m\u001b[0m\u001b[0m\n\u001b[0m\u001b[1;32m    162\u001b[0m             \u001b[0;32melif\u001b[0m \u001b[0mtimeout\u001b[0m \u001b[0;32mis\u001b[0m \u001b[0;32mNone\u001b[0m\u001b[0;34m:\u001b[0m\u001b[0;34m\u001b[0m\u001b[0;34m\u001b[0m\u001b[0m\n",
            "\u001b[0;31mEmpty\u001b[0m: ",
            "\nDuring handling of the above exception, another exception occurred:\n",
            "\u001b[0;31mTypeError\u001b[0m                                 Traceback (most recent call last)",
            "\u001b[0;32m<ipython-input-78-9116471b3472>\u001b[0m in \u001b[0;36m<module>\u001b[0;34m()\u001b[0m\n\u001b[1;32m      5\u001b[0m                        \u001b[0mloss\u001b[0m\u001b[0;34m=\u001b[0m\u001b[0;34m'sparse_categorical_crossentropy'\u001b[0m\u001b[0;34m,\u001b[0m\u001b[0;34m\u001b[0m\u001b[0;34m\u001b[0m\u001b[0m\n\u001b[1;32m      6\u001b[0m                        accuracy='accuracy')\n\u001b[0;32m----> 7\u001b[0;31m \u001b[0maccuracies\u001b[0m \u001b[0;34m=\u001b[0m \u001b[0mk_fold_train_test\u001b[0m\u001b[0;34m(\u001b[0m\u001b[0mX\u001b[0m\u001b[0;34m,\u001b[0m\u001b[0mY\u001b[0m\u001b[0;34m,\u001b[0m\u001b[0;36m11\u001b[0m\u001b[0;34m,\u001b[0m\u001b[0mmodel\u001b[0m\u001b[0;34m)\u001b[0m\u001b[0;34m\u001b[0m\u001b[0;34m\u001b[0m\u001b[0m\n\u001b[0m",
            "\u001b[0;32m<ipython-input-76-8995aade6707>\u001b[0m in \u001b[0;36mk_fold_train_test\u001b[0;34m(X, Y, k_fold, model)\u001b[0m\n\u001b[1;32m      1\u001b[0m \u001b[0;32mdef\u001b[0m \u001b[0mk_fold_train_test\u001b[0m\u001b[0;34m(\u001b[0m\u001b[0mX\u001b[0m\u001b[0;34m,\u001b[0m \u001b[0mY\u001b[0m\u001b[0;34m,\u001b[0m \u001b[0mk_fold\u001b[0m\u001b[0;34m,\u001b[0m \u001b[0mmodel\u001b[0m\u001b[0;34m,\u001b[0m\u001b[0;34m)\u001b[0m\u001b[0;34m:\u001b[0m\u001b[0;34m\u001b[0m\u001b[0;34m\u001b[0m\u001b[0m\n\u001b[1;32m      2\u001b[0m   \u001b[0mmodel_name\u001b[0m \u001b[0;34m=\u001b[0m \u001b[0mmodel\u001b[0m\u001b[0;34m.\u001b[0m\u001b[0m__class__\u001b[0m\u001b[0;34m.\u001b[0m\u001b[0m__name__\u001b[0m\u001b[0;34m\u001b[0m\u001b[0;34m\u001b[0m\u001b[0m\n\u001b[0;32m----> 3\u001b[0;31m   \u001b[0maccuracies\u001b[0m \u001b[0;34m=\u001b[0m \u001b[0mcross_val_score\u001b[0m\u001b[0;34m(\u001b[0m\u001b[0mmodel\u001b[0m\u001b[0;34m,\u001b[0m \u001b[0mX\u001b[0m\u001b[0;34m,\u001b[0m \u001b[0mY\u001b[0m\u001b[0;34m,\u001b[0m \u001b[0mscoring\u001b[0m \u001b[0;34m=\u001b[0m \u001b[0;34m'accuracy'\u001b[0m\u001b[0;34m,\u001b[0m \u001b[0mcv\u001b[0m\u001b[0;34m=\u001b[0m \u001b[0mk_fold\u001b[0m\u001b[0;34m)\u001b[0m\u001b[0;34m\u001b[0m\u001b[0;34m\u001b[0m\u001b[0m\n\u001b[0m\u001b[1;32m      4\u001b[0m   \u001b[0;31m# result = []\u001b[0m\u001b[0;34m\u001b[0m\u001b[0;34m\u001b[0m\u001b[0;34m\u001b[0m\u001b[0m\n\u001b[1;32m      5\u001b[0m   \u001b[0;31m# for fold_index, accuracy in enumerate(accuracies):\u001b[0m\u001b[0;34m\u001b[0m\u001b[0;34m\u001b[0m\u001b[0;34m\u001b[0m\u001b[0m\n",
            "\u001b[0;32m/usr/local/lib/python3.6/dist-packages/sklearn/model_selection/_validation.py\u001b[0m in \u001b[0;36mcross_val_score\u001b[0;34m(estimator, X, y, groups, scoring, cv, n_jobs, verbose, fit_params, pre_dispatch, error_score)\u001b[0m\n\u001b[1;32m    388\u001b[0m                                 \u001b[0mfit_params\u001b[0m\u001b[0;34m=\u001b[0m\u001b[0mfit_params\u001b[0m\u001b[0;34m,\u001b[0m\u001b[0;34m\u001b[0m\u001b[0;34m\u001b[0m\u001b[0m\n\u001b[1;32m    389\u001b[0m                                 \u001b[0mpre_dispatch\u001b[0m\u001b[0;34m=\u001b[0m\u001b[0mpre_dispatch\u001b[0m\u001b[0;34m,\u001b[0m\u001b[0;34m\u001b[0m\u001b[0;34m\u001b[0m\u001b[0m\n\u001b[0;32m--> 390\u001b[0;31m                                 error_score=error_score)\n\u001b[0m\u001b[1;32m    391\u001b[0m     \u001b[0;32mreturn\u001b[0m \u001b[0mcv_results\u001b[0m\u001b[0;34m[\u001b[0m\u001b[0;34m'test_score'\u001b[0m\u001b[0;34m]\u001b[0m\u001b[0;34m\u001b[0m\u001b[0;34m\u001b[0m\u001b[0m\n\u001b[1;32m    392\u001b[0m \u001b[0;34m\u001b[0m\u001b[0m\n",
            "\u001b[0;32m/usr/local/lib/python3.6/dist-packages/sklearn/model_selection/_validation.py\u001b[0m in \u001b[0;36mcross_validate\u001b[0;34m(estimator, X, y, groups, scoring, cv, n_jobs, verbose, fit_params, pre_dispatch, return_train_score, return_estimator, error_score)\u001b[0m\n\u001b[1;32m    234\u001b[0m             \u001b[0mreturn_times\u001b[0m\u001b[0;34m=\u001b[0m\u001b[0;32mTrue\u001b[0m\u001b[0;34m,\u001b[0m \u001b[0mreturn_estimator\u001b[0m\u001b[0;34m=\u001b[0m\u001b[0mreturn_estimator\u001b[0m\u001b[0;34m,\u001b[0m\u001b[0;34m\u001b[0m\u001b[0;34m\u001b[0m\u001b[0m\n\u001b[1;32m    235\u001b[0m             error_score=error_score)\n\u001b[0;32m--> 236\u001b[0;31m         for train, test in cv.split(X, y, groups))\n\u001b[0m\u001b[1;32m    237\u001b[0m \u001b[0;34m\u001b[0m\u001b[0m\n\u001b[1;32m    238\u001b[0m     \u001b[0mzipped_scores\u001b[0m \u001b[0;34m=\u001b[0m \u001b[0mlist\u001b[0m\u001b[0;34m(\u001b[0m\u001b[0mzip\u001b[0m\u001b[0;34m(\u001b[0m\u001b[0;34m*\u001b[0m\u001b[0mscores\u001b[0m\u001b[0;34m)\u001b[0m\u001b[0;34m)\u001b[0m\u001b[0;34m\u001b[0m\u001b[0;34m\u001b[0m\u001b[0m\n",
            "\u001b[0;32m/usr/local/lib/python3.6/dist-packages/joblib/parallel.py\u001b[0m in \u001b[0;36m__call__\u001b[0;34m(self, iterable)\u001b[0m\n\u001b[1;32m   1046\u001b[0m             \u001b[0;31m# remaining jobs.\u001b[0m\u001b[0;34m\u001b[0m\u001b[0;34m\u001b[0m\u001b[0;34m\u001b[0m\u001b[0m\n\u001b[1;32m   1047\u001b[0m             \u001b[0mself\u001b[0m\u001b[0;34m.\u001b[0m\u001b[0m_iterating\u001b[0m \u001b[0;34m=\u001b[0m \u001b[0;32mFalse\u001b[0m\u001b[0;34m\u001b[0m\u001b[0;34m\u001b[0m\u001b[0m\n\u001b[0;32m-> 1048\u001b[0;31m             \u001b[0;32mif\u001b[0m \u001b[0mself\u001b[0m\u001b[0;34m.\u001b[0m\u001b[0mdispatch_one_batch\u001b[0m\u001b[0;34m(\u001b[0m\u001b[0miterator\u001b[0m\u001b[0;34m)\u001b[0m\u001b[0;34m:\u001b[0m\u001b[0;34m\u001b[0m\u001b[0;34m\u001b[0m\u001b[0m\n\u001b[0m\u001b[1;32m   1049\u001b[0m                 \u001b[0mself\u001b[0m\u001b[0;34m.\u001b[0m\u001b[0m_iterating\u001b[0m \u001b[0;34m=\u001b[0m \u001b[0mself\u001b[0m\u001b[0;34m.\u001b[0m\u001b[0m_original_iterator\u001b[0m \u001b[0;32mis\u001b[0m \u001b[0;32mnot\u001b[0m \u001b[0;32mNone\u001b[0m\u001b[0;34m\u001b[0m\u001b[0;34m\u001b[0m\u001b[0m\n\u001b[1;32m   1050\u001b[0m \u001b[0;34m\u001b[0m\u001b[0m\n",
            "\u001b[0;32m/usr/local/lib/python3.6/dist-packages/joblib/parallel.py\u001b[0m in \u001b[0;36mdispatch_one_batch\u001b[0;34m(self, iterator)\u001b[0m\n\u001b[1;32m    836\u001b[0m                 \u001b[0mbig_batch_size\u001b[0m \u001b[0;34m=\u001b[0m \u001b[0mbatch_size\u001b[0m \u001b[0;34m*\u001b[0m \u001b[0mn_jobs\u001b[0m\u001b[0;34m\u001b[0m\u001b[0;34m\u001b[0m\u001b[0m\n\u001b[1;32m    837\u001b[0m \u001b[0;34m\u001b[0m\u001b[0m\n\u001b[0;32m--> 838\u001b[0;31m                 \u001b[0mislice\u001b[0m \u001b[0;34m=\u001b[0m \u001b[0mlist\u001b[0m\u001b[0;34m(\u001b[0m\u001b[0mitertools\u001b[0m\u001b[0;34m.\u001b[0m\u001b[0mislice\u001b[0m\u001b[0;34m(\u001b[0m\u001b[0miterator\u001b[0m\u001b[0;34m,\u001b[0m \u001b[0mbig_batch_size\u001b[0m\u001b[0;34m)\u001b[0m\u001b[0;34m)\u001b[0m\u001b[0;34m\u001b[0m\u001b[0;34m\u001b[0m\u001b[0m\n\u001b[0m\u001b[1;32m    839\u001b[0m                 \u001b[0;32mif\u001b[0m \u001b[0mlen\u001b[0m\u001b[0;34m(\u001b[0m\u001b[0mislice\u001b[0m\u001b[0;34m)\u001b[0m \u001b[0;34m==\u001b[0m \u001b[0;36m0\u001b[0m\u001b[0;34m:\u001b[0m\u001b[0;34m\u001b[0m\u001b[0;34m\u001b[0m\u001b[0m\n\u001b[1;32m    840\u001b[0m                     \u001b[0;32mreturn\u001b[0m \u001b[0;32mFalse\u001b[0m\u001b[0;34m\u001b[0m\u001b[0;34m\u001b[0m\u001b[0m\n",
            "\u001b[0;32m/usr/local/lib/python3.6/dist-packages/sklearn/model_selection/_validation.py\u001b[0m in \u001b[0;36m<genexpr>\u001b[0;34m(.0)\u001b[0m\n\u001b[1;32m    234\u001b[0m             \u001b[0mreturn_times\u001b[0m\u001b[0;34m=\u001b[0m\u001b[0;32mTrue\u001b[0m\u001b[0;34m,\u001b[0m \u001b[0mreturn_estimator\u001b[0m\u001b[0;34m=\u001b[0m\u001b[0mreturn_estimator\u001b[0m\u001b[0;34m,\u001b[0m\u001b[0;34m\u001b[0m\u001b[0;34m\u001b[0m\u001b[0m\n\u001b[1;32m    235\u001b[0m             error_score=error_score)\n\u001b[0;32m--> 236\u001b[0;31m         for train, test in cv.split(X, y, groups))\n\u001b[0m\u001b[1;32m    237\u001b[0m \u001b[0;34m\u001b[0m\u001b[0m\n\u001b[1;32m    238\u001b[0m     \u001b[0mzipped_scores\u001b[0m \u001b[0;34m=\u001b[0m \u001b[0mlist\u001b[0m\u001b[0;34m(\u001b[0m\u001b[0mzip\u001b[0m\u001b[0;34m(\u001b[0m\u001b[0;34m*\u001b[0m\u001b[0mscores\u001b[0m\u001b[0;34m)\u001b[0m\u001b[0;34m)\u001b[0m\u001b[0;34m\u001b[0m\u001b[0;34m\u001b[0m\u001b[0m\n",
            "\u001b[0;32m/usr/local/lib/python3.6/dist-packages/sklearn/base.py\u001b[0m in \u001b[0;36mclone\u001b[0;34m(estimator, safe)\u001b[0m\n\u001b[1;32m     65\u001b[0m                             \u001b[0;34m\"it does not seem to be a scikit-learn estimator \"\u001b[0m\u001b[0;34m\u001b[0m\u001b[0;34m\u001b[0m\u001b[0m\n\u001b[1;32m     66\u001b[0m                             \u001b[0;34m\"as it does not implement a 'get_params' methods.\"\u001b[0m\u001b[0;34m\u001b[0m\u001b[0;34m\u001b[0m\u001b[0m\n\u001b[0;32m---> 67\u001b[0;31m                             % (repr(estimator), type(estimator)))\n\u001b[0m\u001b[1;32m     68\u001b[0m     \u001b[0mklass\u001b[0m \u001b[0;34m=\u001b[0m \u001b[0mestimator\u001b[0m\u001b[0;34m.\u001b[0m\u001b[0m__class__\u001b[0m\u001b[0;34m\u001b[0m\u001b[0;34m\u001b[0m\u001b[0m\n\u001b[1;32m     69\u001b[0m     \u001b[0mnew_object_params\u001b[0m \u001b[0;34m=\u001b[0m \u001b[0mestimator\u001b[0m\u001b[0;34m.\u001b[0m\u001b[0mget_params\u001b[0m\u001b[0;34m(\u001b[0m\u001b[0mdeep\u001b[0m\u001b[0;34m=\u001b[0m\u001b[0;32mFalse\u001b[0m\u001b[0;34m)\u001b[0m\u001b[0;34m\u001b[0m\u001b[0;34m\u001b[0m\u001b[0m\n",
            "\u001b[0;31mTypeError\u001b[0m: Cannot clone object '<tensorflow.python.keras.engine.sequential.Sequential object at 0x7fe2a6438f60>' (type <class 'tensorflow.python.keras.engine.sequential.Sequential'>): it does not seem to be a scikit-learn estimator as it does not implement a 'get_params' methods."
          ]
        }
      ]
    },
    {
      "cell_type": "markdown",
      "metadata": {
        "id": "iLbOIwajpMQ4"
      },
      "source": [
        "#PART5"
      ]
    },
    {
      "cell_type": "markdown",
      "metadata": {
        "id": "5u60272Q-IG5"
      },
      "source": [
        "##imports"
      ]
    },
    {
      "cell_type": "code",
      "metadata": {
        "id": "n5hYMfliqPnT"
      },
      "source": [
        "import tensorflow as tf\n",
        "from os import path, getcwd, chdir\n",
        "import cv2\n",
        "from skimage.util import random_noise\n",
        "import matplotlib.pyplot as plt\n",
        "import numpy as np\n",
        "from sklearn.model_selection import train_test_split\n",
        "from sklearn.metrics.pairwise import cosine_similarity\n",
        "from scipy import spatial\n"
      ],
      "execution_count": 2,
      "outputs": []
    },
    {
      "cell_type": "markdown",
      "metadata": {
        "id": "mYnqhsleqMBd"
      },
      "source": [
        "## load dataset"
      ]
    },
    {
      "cell_type": "markdown",
      "metadata": {
        "id": "zR18wvxoqIeu"
      },
      "source": [
        "load mnist dataset "
      ]
    },
    {
      "cell_type": "code",
      "metadata": {
        "id": "_eed9kzdpLhl"
      },
      "source": [
        "path = f\"{getcwd()}/mnist.npz\""
      ],
      "execution_count": 3,
      "outputs": []
    },
    {
      "cell_type": "code",
      "metadata": {
        "id": "9KdIqE9Fq1rC"
      },
      "source": [
        "mnist = tf.keras.datasets.mnist\n",
        "(training_images, training_labels), (test_images, test_labels) = mnist.load_data(path=path)\n",
        "training_images = training_images.reshape(60000,28,28)\n",
        "test_images = test_images.reshape(10000,28,28)"
      ],
      "execution_count": 4,
      "outputs": []
    },
    {
      "cell_type": "code",
      "metadata": {
        "id": "SmMf79RDz0ml",
        "outputId": "9ed2cfd6-e07b-4c2e-82f2-de58a38ef0ad",
        "colab": {
          "base_uri": "https://localhost:8080/",
          "height": 0
        }
      },
      "source": [
        "m, n = training_images[0].shape[0], training_images[0].shape[1]\n",
        "print('The image is ({0}*{1})'.format(m,n))"
      ],
      "execution_count": 5,
      "outputs": [
        {
          "output_type": "stream",
          "text": [
            "The image is (28*28)\n"
          ],
          "name": "stdout"
        }
      ]
    },
    {
      "cell_type": "markdown",
      "metadata": {
        "id": "bArV3ziG77mX"
      },
      "source": [
        "##Preprocess Data and generate train,validation,test"
      ]
    },
    {
      "cell_type": "markdown",
      "metadata": {
        "id": "B2iH76eT0yg1"
      },
      "source": [
        "Normalize images --> map value into (0,1)"
      ]
    },
    {
      "cell_type": "code",
      "metadata": {
        "id": "DKk-v34vyqRr"
      },
      "source": [
        "training_images = np.array(training_images,np.float64)*(1/255)\n",
        "test_images = np.array(test_images,np.float64)*(1/255)"
      ],
      "execution_count": 6,
      "outputs": []
    },
    {
      "cell_type": "markdown",
      "metadata": {
        "id": "1uM9gCkZ0iny"
      },
      "source": [
        "Flatten original image --> suitable for output of the network."
      ]
    },
    {
      "cell_type": "code",
      "metadata": {
        "id": "_hyog7sv0dIJ"
      },
      "source": [
        "x_train = np.reshape(training_images,(training_images.shape[0],m*n))\n",
        "test_images = np.reshape(test_images,(test_images.shape[0],m*n))"
      ],
      "execution_count": 7,
      "outputs": []
    },
    {
      "cell_type": "code",
      "metadata": {
        "id": "kb6Nzqop3zeN"
      },
      "source": [
        "x_test, x_val, y_test, y_val = train_test_split(test_images, test_labels, test_size=0.4, random_state=42)"
      ],
      "execution_count": 8,
      "outputs": []
    },
    {
      "cell_type": "code",
      "metadata": {
        "id": "FS45sc-j1CP8",
        "outputId": "717f50a6-98a9-4b0f-a287-a5546bff723f",
        "colab": {
          "base_uri": "https://localhost:8080/",
          "height": 0
        }
      },
      "source": [
        "print('train shape:',x_train.shape[0])\n",
        "print('train shape:',x_val.shape[0])\n",
        "print('test shape:',x_test.shape[0])"
      ],
      "execution_count": 9,
      "outputs": [
        {
          "output_type": "stream",
          "text": [
            "train shape: 60000\n",
            "train shape: 4000\n",
            "test shape: 6000\n"
          ],
          "name": "stdout"
        }
      ]
    },
    {
      "cell_type": "markdown",
      "metadata": {
        "id": "BW2WLNjzwuSN"
      },
      "source": [
        "##Add noise"
      ]
    },
    {
      "cell_type": "code",
      "metadata": {
        "id": "qUpjR6qUq30E"
      },
      "source": [
        "def make_noisydata(data,model,var,portion):\n",
        "  noisy_data = np.empty(data.shape)\n",
        "  if model == 'gaussian':\n",
        "    for i in range(data.shape[0]):\n",
        "      noisy_data[i] = random_noise(data[i],model,var = var)\n",
        "  elif model == 's&p':\n",
        "    for i in range(data.shape[0]):\n",
        "      noisy_data[i] = random_noise(data[i],model,amount=portion)\n",
        "  return noisy_data"
      ],
      "execution_count": 10,
      "outputs": []
    },
    {
      "cell_type": "code",
      "metadata": {
        "id": "Du5KsQKY5Tgm"
      },
      "source": [
        "def add_noise(model,var,portion):\n",
        "  noisy_train = make_noisydata(x_train,model,var,portion)\n",
        "  noisy_val = make_noisydata(x_val,model,var,portion)\n",
        "  noisy_test = make_noisydata(x_test,model,var,portion)\n",
        "  return noisy_train, noisy_val,noisy_test"
      ],
      "execution_count": 11,
      "outputs": []
    },
    {
      "cell_type": "markdown",
      "metadata": {
        "id": "LvL5i62t8_Uc"
      },
      "source": [
        "##Generate Model\n"
      ]
    },
    {
      "cell_type": "code",
      "metadata": {
        "id": "JW6j67xiomRg"
      },
      "source": [
        "def generate_model(layers_number,layers_nodenum,dropout,optimizer,loss,accuracy):\n",
        "  layers = []\n",
        "  layers.append(tf.keras.layers.Flatten())\n",
        "  for i in range(layers_number):\n",
        "    layers.append(tf.keras.layers.Dense(layers_nodenum[i],activation=tf.nn.relu))\n",
        "    layers.append(tf.keras.layers.Dropout(dropout[i]))\n",
        "  layers.append(tf.keras.layers.Dense(m*n,activation=tf.nn.softmax))\n",
        "  model = tf.keras.models.Sequential(layers)\n",
        "  model.compile(optimizer=optimizer, loss=loss, metrics=[accuracy])\n",
        "  model.build((None,m*n))\n",
        "  model.summary()\n",
        "  return model\n"
      ],
      "execution_count": 14,
      "outputs": []
    },
    {
      "cell_type": "code",
      "metadata": {
        "id": "8Oktja194o0i"
      },
      "source": [
        "def RemoveNoise(model_info,epochs,train=True):\n",
        "  model = generate_model(model_info['layer_number'],model_info['layer_nodenum'],model_info['dropout_postion'],model_info['optimizer'],model_info['loss'],model_info['accuracy'])\n",
        "  mcp_save = tf.keras.callbacks.ModelCheckpoint(model_info['best_model_path'], save_best_only=True, monitor='val_cosine_similarity', mode='max')\n",
        "  if train:\n",
        "    history = model.fit(n_train,x_train,validation_data= (n_val,x_val), epochs=epochs,callbacks=[mcp_save] )\n",
        "  model.load_weights(model_info['best_model_path'])\n",
        "  print('best accurasy on train data is:',model.evaluate(n_train, x_train)[1],)\n",
        "  print('best accurasy on validation data is:',model.evaluate(n_val, x_val)[1],)\n",
        "  print('best accurasy on test data is:',model.evaluate(n_test, x_test)[1],)\n",
        "  return model"
      ],
      "execution_count": 38,
      "outputs": []
    },
    {
      "cell_type": "code",
      "metadata": {
        "id": "SwJZkBdIHkGq"
      },
      "source": [
        "def checktestsample(model,sample):\n",
        "  y_pred = model.predict(np.array([n_test[sample]]))\n",
        "  similarity = 1 - spatial.distance.cosine(y_pred[0], x_test[sample])\n",
        "  y_pred0 = np.reshape(y_pred[0],(m,n))\n",
        "  image_list = []\n",
        "  image_list.append([x_test[sample].reshape((m,n)), 'Original Test Image', 'img'])\n",
        "  image_list.append([n_test[sample].reshape((m,n)), 'Noisy Test Image', 'img'])\n",
        "  image_list.append([y_pred0, 'Predicted Image', 'img'])\n",
        "  print(\"cos similarity between desired and predicted is:%{0}\".format(similarity))\n",
        "  plotter(image_list,1,3 ,True,10,10)"
      ],
      "execution_count": 39,
      "outputs": []
    },
    {
      "cell_type": "markdown",
      "metadata": {
        "id": "dPVe1jbGX734"
      },
      "source": [
        "##RUN"
      ]
    },
    {
      "cell_type": "code",
      "metadata": {
        "id": "ovDnlLGJzISJ",
        "outputId": "35f6f59d-f363-4b6e-8a90-e01501708bda",
        "colab": {
          "base_uri": "https://localhost:8080/",
          "height": 550
        }
      },
      "source": [
        "noise_info ={\n",
        "    'model': 'gaussian',\n",
        "    'var': 0.5,\n",
        "    'portion': 0.2\n",
        "}\n",
        "model_info={\n",
        "    'layer_number':3,\n",
        "    'layer_nodenum' : [254,128,32],\n",
        "    'dropout_postion': [0,0.1,0],\n",
        "    'optimizer': tf.keras.optimizers.Adam(),\n",
        "    'loss': tf.keras.losses.CosineSimilarity(),\n",
        "    'accuracy':tf.keras.metrics.CosineSimilarity(name='cosine_similarity'),\n",
        "    'best_model_path':'.mdl_wts.hdf5'\n",
        "}\n",
        "n_train, n_val,n_test = add_noise(noise_info['model'],noise_info['var'],noise_info['portion'])\n",
        "best_model = RemoveNoise(model_info,epochs=35,train=False)"
      ],
      "execution_count": 40,
      "outputs": [
        {
          "output_type": "stream",
          "text": [
            "Model: \"sequential_4\"\n",
            "_________________________________________________________________\n",
            "Layer (type)                 Output Shape              Param #   \n",
            "=================================================================\n",
            "flatten_4 (Flatten)          (None, 784)               0         \n",
            "_________________________________________________________________\n",
            "dense_16 (Dense)             (None, 254)               199390    \n",
            "_________________________________________________________________\n",
            "dropout_12 (Dropout)         (None, 254)               0         \n",
            "_________________________________________________________________\n",
            "dense_17 (Dense)             (None, 128)               32640     \n",
            "_________________________________________________________________\n",
            "dropout_13 (Dropout)         (None, 128)               0         \n",
            "_________________________________________________________________\n",
            "dense_18 (Dense)             (None, 32)                4128      \n",
            "_________________________________________________________________\n",
            "dropout_14 (Dropout)         (None, 32)                0         \n",
            "_________________________________________________________________\n",
            "dense_19 (Dense)             (None, 784)               25872     \n",
            "=================================================================\n",
            "Total params: 262,030\n",
            "Trainable params: 262,030\n",
            "Non-trainable params: 0\n",
            "_________________________________________________________________\n",
            "1875/1875 [==============================] - 3s 1ms/step - loss: -0.8265 - cosine_similarity: 0.8265\n",
            "best accurasy on train data is: 0.8265052437782288\n",
            "125/125 [==============================] - 0s 1ms/step - loss: -0.8302 - cosine_similarity: 0.8302\n",
            "best accurasy on validation data is: 0.830161988735199\n",
            "188/188 [==============================] - 0s 2ms/step - loss: -0.8325 - cosine_similarity: 0.8325\n",
            "best accurasy on test data is: 0.8324647545814514\n"
          ],
          "name": "stdout"
        }
      ]
    },
    {
      "cell_type": "code",
      "metadata": {
        "id": "U9sn2Onv2yQ3",
        "outputId": "7b377a4a-86f7-4d48-aaba-286d49396fd8",
        "colab": {
          "base_uri": "https://localhost:8080/",
          "height": 0
        }
      },
      "source": [
        "checktestsample(best_model,26)"
      ],
      "execution_count": 43,
      "outputs": [
        {
          "output_type": "stream",
          "text": [
            "cos similarity between desired and predicted is:%0.7658917471877816\n"
          ],
          "name": "stdout"
        },
        {
          "output_type": "display_data",
          "data": {
            "image/png": "[encoded data removed]",
            "text/plain": [
              "<Figure size 720x720 with 3 Axes>"
            ]
          },
          "metadata": {
            "tags": []
          }
        }
      ]
    }
  ]
}