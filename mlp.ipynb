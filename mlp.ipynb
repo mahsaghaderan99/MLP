{
  "nbformat": 4,
  "nbformat_minor": 0,
  "metadata": {
    "colab": {
      "name": "mlp",
      "provenance": [],
      "authorship_tag": "ABX9TyN2d5FyHXPV85r+LFKpOdi5",
      "include_colab_link": true
    },
    "kernelspec": {
      "name": "python3",
      "display_name": "Python 3"
    },
    "accelerator": "GPU"
  },
  "cells": [
    {
      "cell_type": "markdown",
      "metadata": {
        "id": "view-in-github",
        "colab_type": "text"
      },
      "source": [
        "<a href=\"https://colab.research.google.com/github/mahsaghaderan99/MLP/blob/noise-detection/mlp.ipynb\" target=\"_parent\"><img src=\"https://colab.research.google.com/assets/colab-badge.svg\" alt=\"Open In Colab\"/></a>"
      ]
    },
    {
      "cell_type": "markdown",
      "metadata": {
        "id": "CyK4A_cco_WC"
      },
      "source": [
        "*Deep* MLP project"
      ]
    },
    {
      "cell_type": "code",
      "metadata": {
        "id": "pI1xwS3FuFq-"
      },
      "source": [
        "def plotter(img_list, r, w, gray, wr, hr, fig_name = None):\n",
        "    '''\n",
        "    Plots images' list with its' caption and saves result image if you want.\n",
        "\n",
        "    Parameters:\n",
        "        img_list (list): The list of tuples of image and its' caption.\n",
        "        r (int): The number of row(s).\n",
        "        w (int): The number of colunm(s).\n",
        "        gray (bool): The flag for plotting images in grayscale mode.\n",
        "        wr (int): The width of one figure.\n",
        "        hr (int): The height of one figure.\n",
        "        fig_name (str): The name of the image of the plot. if not set this parameter the plot doesn't save.\n",
        "    '''\n",
        "    \n",
        "    plt.rcParams['figure.figsize'] = (wr, hr)\n",
        "    for i in range(len(img_list)):\n",
        "        plt.subplot(r, w, i + 1)\n",
        "        if img_list[i][2] == 'img':\n",
        "            if gray:\n",
        "                plt.imshow(img_list[i][0], cmap = 'gray')\n",
        "            else:\n",
        "                plt.imshow(img_list[i][0])\n",
        "            plt.xticks([])\n",
        "            plt.yticks([])\n",
        "        elif img_list[i][2] == 'hist':\n",
        "            plt.bar(np.arange(len(img_list[i][0])), img_list[i][0], color = 'c')\n",
        "        else:\n",
        "            raise Exception(\"Only image or histogram. Use third parameter of tuples in img_list and set it to img or hist.\")\n",
        "        plt.title(img_list[i][1])\n",
        "    if fig_name is not None:\n",
        "        plt.savefig(fig_name + '.png')\n",
        "    plt.show()"
      ],
      "execution_count": 1,
      "outputs": []
    },
    {
      "cell_type": "markdown",
      "metadata": {
        "id": "iLbOIwajpMQ4"
      },
      "source": [
        "#PART5"
      ]
    },
    {
      "cell_type": "markdown",
      "metadata": {
        "id": "5u60272Q-IG5"
      },
      "source": [
        "##imports"
      ]
    },
    {
      "cell_type": "code",
      "metadata": {
        "id": "n5hYMfliqPnT"
      },
      "source": [
        "import tensorflow as tf\n",
        "from os import path, getcwd, chdir\n",
        "import cv2\n",
        "from skimage.util import random_noise\n",
        "import matplotlib.pyplot as plt\n",
        "import numpy as np\n",
        "from sklearn.model_selection import train_test_split\n",
        "from sklearn.metrics.pairwise import cosine_similarity\n",
        "from scipy import spatial\n"
      ],
      "execution_count": 2,
      "outputs": []
    },
    {
      "cell_type": "markdown",
      "metadata": {
        "id": "mYnqhsleqMBd"
      },
      "source": [
        "## load dataset"
      ]
    },
    {
      "cell_type": "markdown",
      "metadata": {
        "id": "zR18wvxoqIeu"
      },
      "source": [
        "load mnist dataset "
      ]
    },
    {
      "cell_type": "code",
      "metadata": {
        "id": "_eed9kzdpLhl"
      },
      "source": [
        "path = f\"{getcwd()}/mnist.npz\""
      ],
      "execution_count": 3,
      "outputs": []
    },
    {
      "cell_type": "code",
      "metadata": {
        "id": "9KdIqE9Fq1rC"
      },
      "source": [
        "mnist = tf.keras.datasets.mnist\n",
        "(training_images, training_labels), (test_images, test_labels) = mnist.load_data(path=path)\n",
        "training_images = training_images.reshape(60000,28,28)\n",
        "test_images = test_images.reshape(10000,28,28)"
      ],
      "execution_count": 4,
      "outputs": []
    },
    {
      "cell_type": "code",
      "metadata": {
        "id": "SmMf79RDz0ml",
        "outputId": "9ed2cfd6-e07b-4c2e-82f2-de58a38ef0ad",
        "colab": {
          "base_uri": "https://localhost:8080/",
          "height": 0
        }
      },
      "source": [
        "m, n = training_images[0].shape[0], training_images[0].shape[1]\n",
        "print('The image is ({0}*{1})'.format(m,n))"
      ],
      "execution_count": 5,
      "outputs": [
        {
          "output_type": "stream",
          "text": [
            "The image is (28*28)\n"
          ],
          "name": "stdout"
        }
      ]
    },
    {
      "cell_type": "markdown",
      "metadata": {
        "id": "bArV3ziG77mX"
      },
      "source": [
        "##Preprocess Data and generate train,validation,test"
      ]
    },
    {
      "cell_type": "markdown",
      "metadata": {
        "id": "B2iH76eT0yg1"
      },
      "source": [
        "Normalize images --> map value into (0,1)"
      ]
    },
    {
      "cell_type": "code",
      "metadata": {
        "id": "DKk-v34vyqRr"
      },
      "source": [
        "training_images = np.array(training_images,np.float64)*(1/255)\n",
        "test_images = np.array(test_images,np.float64)*(1/255)"
      ],
      "execution_count": 6,
      "outputs": []
    },
    {
      "cell_type": "markdown",
      "metadata": {
        "id": "1uM9gCkZ0iny"
      },
      "source": [
        "Flatten original image --> suitable for output of the network."
      ]
    },
    {
      "cell_type": "code",
      "metadata": {
        "id": "_hyog7sv0dIJ"
      },
      "source": [
        "x_train = np.reshape(training_images,(training_images.shape[0],m*n))\n",
        "test_images = np.reshape(test_images,(test_images.shape[0],m*n))"
      ],
      "execution_count": 7,
      "outputs": []
    },
    {
      "cell_type": "code",
      "metadata": {
        "id": "kb6Nzqop3zeN"
      },
      "source": [
        "x_test, x_val, y_test, y_val = train_test_split(test_images, test_labels, test_size=0.4, random_state=42)"
      ],
      "execution_count": 8,
      "outputs": []
    },
    {
      "cell_type": "code",
      "metadata": {
        "id": "FS45sc-j1CP8",
        "outputId": "717f50a6-98a9-4b0f-a287-a5546bff723f",
        "colab": {
          "base_uri": "https://localhost:8080/",
          "height": 0
        }
      },
      "source": [
        "print('train shape:',x_train.shape[0])\n",
        "print('train shape:',x_val.shape[0])\n",
        "print('test shape:',x_test.shape[0])"
      ],
      "execution_count": 9,
      "outputs": [
        {
          "output_type": "stream",
          "text": [
            "train shape: 60000\n",
            "train shape: 4000\n",
            "test shape: 6000\n"
          ],
          "name": "stdout"
        }
      ]
    },
    {
      "cell_type": "markdown",
      "metadata": {
        "id": "BW2WLNjzwuSN"
      },
      "source": [
        "##Add noise"
      ]
    },
    {
      "cell_type": "code",
      "metadata": {
        "id": "qUpjR6qUq30E"
      },
      "source": [
        "def make_noisydata(data,model,var,portion):\n",
        "  noisy_data = np.empty(data.shape)\n",
        "  if model == 'gaussian':\n",
        "    for i in range(data.shape[0]):\n",
        "      noisy_data[i] = random_noise(data[i],model,var = var)\n",
        "  elif model == 's&p':\n",
        "    for i in range(data.shape[0]):\n",
        "      noisy_data[i] = random_noise(data[i],model,amount=portion)\n",
        "  return noisy_data"
      ],
      "execution_count": 10,
      "outputs": []
    },
    {
      "cell_type": "code",
      "metadata": {
        "id": "Du5KsQKY5Tgm"
      },
      "source": [
        "def add_noise(model,var,portion):\n",
        "  noisy_train = make_noisydata(x_train,model,var,portion)\n",
        "  noisy_val = make_noisydata(x_val,model,var,portion)\n",
        "  noisy_test = make_noisydata(x_test,model,var,portion)\n",
        "  return noisy_train, noisy_val,noisy_test"
      ],
      "execution_count": 11,
      "outputs": []
    },
    {
      "cell_type": "markdown",
      "metadata": {
        "id": "LvL5i62t8_Uc"
      },
      "source": [
        "##Generate Model\n"
      ]
    },
    {
      "cell_type": "code",
      "metadata": {
        "id": "JW6j67xiomRg"
      },
      "source": [
        "def generate_model(layers_number,layers_nodenum,dropout,optimizer,loss,accuracy):\n",
        "  layers = []\n",
        "  layers.append(tf.keras.layers.Flatten())\n",
        "  for i in range(layers_number):\n",
        "    layers.append(tf.keras.layers.Dense(layers_nodenum[i],activation=tf.nn.relu))\n",
        "    layers.append(tf.keras.layers.Dropout(dropout[i]))\n",
        "  layers.append(tf.keras.layers.Dense(m*n,activation=tf.nn.softmax))\n",
        "  model = tf.keras.models.Sequential(layers)\n",
        "  model.compile(optimizer=optimizer, loss=loss, metrics=[accuracy])\n",
        "  model.build((None,m*n))\n",
        "  model.summary()\n",
        "  return model\n"
      ],
      "execution_count": 14,
      "outputs": []
    },
    {
      "cell_type": "code",
      "metadata": {
        "id": "8Oktja194o0i"
      },
      "source": [
        "def RemoveNoise(model_info,epochs):\n",
        "  model = generate_model(model_info['layer_number'],model_info['layer_nodenum'],model_info['dropout_postion'],model_info['optimizer'],model_info['loss'],model_info['accuracy'])\n",
        "  mcp_save = tf.keras.callbacks.ModelCheckpoint(model_info['best_model_path'], save_best_only=True, monitor='val_cosine_similarity', mode='max')\n",
        "  history = model.fit(n_train,x_train,validation_data= (n_val,x_val), epochs=epochs,callbacks=[mcp_save] )\n",
        "\n",
        "  model.load_weights(model_info['best_model_path'])\n",
        "  print('best accurasy on test data is:',model.evaluate(n_test, x_test)[1])\n",
        "  return model"
      ],
      "execution_count": 23,
      "outputs": []
    },
    {
      "cell_type": "code",
      "metadata": {
        "id": "SwJZkBdIHkGq"
      },
      "source": [
        "def checktestsample(model,sample):\n",
        "  y_pred = model.predict(np.array([n_test[sample]]))\n",
        "  similarity = 1 - spatial.distance.cosine(y_pred[0], x_test[sample])\n",
        "  y_pred0 = np.reshape(y_pred[0],(m,n))\n",
        "  image_list = []\n",
        "  image_list.append([x_test[sample].reshape((m,n)), 'Original Test Image', 'img'])\n",
        "  image_list.append([n_test[sample].reshape((m,n)), 'Noisy Test Image', 'img'])\n",
        "  image_list.append([y_pred0, 'Predicted Image', 'img'])\n",
        "  print(\"cos similarity between desired and predicted is:%{0}\".format(similarity))\n",
        "  plotter(image_list,1,3 ,True,10,10)"
      ],
      "execution_count": 20,
      "outputs": []
    },
    {
      "cell_type": "code",
      "metadata": {
        "id": "ovDnlLGJzISJ"
      },
      "source": [
        "noise_info ={\n",
        "    'model': 'gaussian',\n",
        "    'var': 0.1,\n",
        "    'portion': 0.2\n",
        "}\n",
        "model_info={\n",
        "    'layer_number':3,\n",
        "    'layer_nodenum' : [254,128,32],\n",
        "    'dropout_postion': [0,0.1,0],\n",
        "    'optimizer': tf.keras.optimizers.Adam(),\n",
        "    'loss': tf.keras.losses.CosineSimilarity(),\n",
        "    'accuracy':tf.keras.metrics.CosineSimilarity(name='cosine_similarity'),\n",
        "    'best_model_path':'.mdl_wts.hdf5'\n",
        "}\n",
        "n_train, n_val,n_test = add_noise(noise_info['model'],noise_info['var'],noise_info['portion'])\n",
        "# best_model = RemoveNoise(model_info,epochs=35)\n",
        "# checktestsample(best_model,30)"
      ],
      "execution_count": 25,
      "outputs": []
    },
    {
      "cell_type": "code",
      "metadata": {
        "id": "U9sn2Onv2yQ3",
        "outputId": "fce69527-26c7-48bc-fcfd-ebef0e2a073a",
        "colab": {
          "base_uri": "https://localhost:8080/",
          "height": 232
        }
      },
      "source": [
        "checktestsample(best_model,14)"
      ],
      "execution_count": 26,
      "outputs": [
        {
          "output_type": "stream",
          "text": [
            "cos similarity between desired and predicted is:%0.9312701045133116\n"
          ],
          "name": "stdout"
        },
        {
          "output_type": "display_data",
          "data": {
            "image/png": "[encoded data removed]",
            "text/plain": [
              "<Figure size 720x720 with 3 Axes>"
            ]
          },
          "metadata": {
            "tags": []
          }
        }
      ]
    }
  ]
}