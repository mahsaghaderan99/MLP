{
  "nbformat": 4,
  "nbformat_minor": 0,
  "metadata": {
    "colab": {
      "name": "mlp",
      "provenance": [],
      "authorship_tag": "ABX9TyPyxcUrDtjWrnR6HN+t2tn/",
      "include_colab_link": true
    },
    "kernelspec": {
      "name": "python3",
      "display_name": "Python 3"
    },
    "accelerator": "GPU"
  },
  "cells": [
    {
      "cell_type": "markdown",
      "metadata": {
        "id": "view-in-github",
        "colab_type": "text"
      },
      "source": [
        "<a href=\"https://colab.research.google.com/github/mahsaghaderan99/MLP/blob/cross-validation/mlp.ipynb\" target=\"_parent\"><img src=\"https://colab.research.google.com/assets/colab-badge.svg\" alt=\"Open In Colab\"/></a>"
      ]
    },
    {
      "cell_type": "markdown",
      "metadata": {
        "id": "CyK4A_cco_WC"
      },
      "source": [
        "*Deep* MLP project"
      ]
    },
    {
      "cell_type": "code",
      "metadata": {
        "id": "pI1xwS3FuFq-"
      },
      "source": [
        "def plotter(img_list, r, w, gray, wr, hr, fig_name = None):\n",
        "    '''\n",
        "    Plots images' list with its' caption and saves result image if you want.\n",
        "\n",
        "    Parameters:\n",
        "        img_list (list): The list of tuples of image and its' caption.\n",
        "        r (int): The number of row(s).\n",
        "        w (int): The number of colunm(s).\n",
        "        gray (bool): The flag for plotting images in grayscale mode.\n",
        "        wr (int): The width of one figure.\n",
        "        hr (int): The height of one figure.\n",
        "        fig_name (str): The name of the image of the plot. if not set this parameter the plot doesn't save.\n",
        "    '''\n",
        "    \n",
        "    plt.rcParams['figure.figsize'] = (wr, hr)\n",
        "    for i in range(len(img_list)):\n",
        "        plt.subplot(r, w, i + 1)\n",
        "        if img_list[i][2] == 'img':\n",
        "            if gray:\n",
        "                plt.imshow(img_list[i][0], cmap = 'gray')\n",
        "            else:\n",
        "                plt.imshow(img_list[i][0])\n",
        "            plt.xticks([])\n",
        "            plt.yticks([])\n",
        "        elif img_list[i][2] == 'hist':\n",
        "            plt.bar(np.arange(len(img_list[i][0])), img_list[i][0], color = 'c')\n",
        "        else:\n",
        "            raise Exception(\"Only image or histogram. Use third parameter of tuples in img_list and set it to img or hist.\")\n",
        "        plt.title(img_list[i][1])\n",
        "    if fig_name is not None:\n",
        "        plt.savefig(fig_name + '.png')\n",
        "    plt.show()"
      ],
      "execution_count": 59,
      "outputs": []
    },
    {
      "cell_type": "markdown",
      "metadata": {
        "id": "PjXUnWd6YBZ2"
      },
      "source": [
        "#PART4"
      ]
    },
    {
      "cell_type": "markdown",
      "metadata": {
        "id": "vZWxh5qeYELz"
      },
      "source": [
        "##Imports"
      ]
    },
    {
      "cell_type": "code",
      "metadata": {
        "id": "KEoXOhINYBM0"
      },
      "source": [
        "from sklearn.model_selection import cross_val_score\n",
        "import tensorflow as tf\n",
        "from os import path,getcwd\n",
        "import cv2\n",
        "from skimage.util import random_noise\n",
        "import matplotlib.pyplot as plt\n",
        "import numpy as np\n",
        "from sklearn.model_selection import train_test_split\n",
        "from sklearn.metrics.pairwise import cosine_similarity\n",
        "from scipy import spatial\n",
        "from sklearn.model_selection import StratifiedKFold"
      ],
      "execution_count": 60,
      "outputs": []
    },
    {
      "cell_type": "markdown",
      "metadata": {
        "id": "ttuM4LyuaBN3"
      },
      "source": [
        "## load dataset"
      ]
    },
    {
      "cell_type": "markdown",
      "metadata": {
        "id": "y2DtliMeaBN5"
      },
      "source": [
        "load mnist dataset "
      ]
    },
    {
      "cell_type": "code",
      "metadata": {
        "id": "I8SXWA4UaBN6"
      },
      "source": [
        "path = f\"{getcwd()}/mnist.npz\""
      ],
      "execution_count": 61,
      "outputs": []
    },
    {
      "cell_type": "code",
      "metadata": {
        "id": "FASQKRhSaBN-"
      },
      "source": [
        "mnist = tf.keras.datasets.mnist\n",
        "(training_images, training_labels), (test_images, test_labels) = mnist.load_data(path=path)\n",
        "training_images = training_images.reshape(60000,28,28)\n",
        "test_images = test_images.reshape(10000,28,28)"
      ],
      "execution_count": 62,
      "outputs": []
    },
    {
      "cell_type": "code",
      "metadata": {
        "id": "8meLdvI5aBOB",
        "outputId": "98d88cbe-86ea-450e-99d9-fa19b1afe385",
        "colab": {
          "base_uri": "https://localhost:8080/",
          "height": 34
        }
      },
      "source": [
        "m, n = training_images[0].shape[0], training_images[0].shape[1]\n",
        "print('The image is ({0}*{1})'.format(m,n))"
      ],
      "execution_count": 63,
      "outputs": [
        {
          "output_type": "stream",
          "text": [
            "The image is (28*28)\n"
          ],
          "name": "stdout"
        }
      ]
    },
    {
      "cell_type": "markdown",
      "metadata": {
        "id": "v4iiZwLNaHjE"
      },
      "source": [
        "##Preprocess Data"
      ]
    },
    {
      "cell_type": "markdown",
      "metadata": {
        "id": "hZ8iP4sMaHjI"
      },
      "source": [
        "Normalize images --> map value into (0,1)"
      ]
    },
    {
      "cell_type": "code",
      "metadata": {
        "id": "dDH2rkwIaHjL"
      },
      "source": [
        "training_images = np.array(training_images,np.float64)*(1/255)\n",
        "test_images = np.array(test_images,np.float64)*(1/255)"
      ],
      "execution_count": 64,
      "outputs": []
    },
    {
      "cell_type": "markdown",
      "metadata": {
        "id": "Wa_0_SONaHjX"
      },
      "source": [
        "Flatten original image --> suitable for output of the network."
      ]
    },
    {
      "cell_type": "code",
      "metadata": {
        "id": "_EsPGbfoaHjY"
      },
      "source": [
        "x_train = np.reshape(training_images,(training_images.shape[0],m*n))\n",
        "test_images = np.reshape(test_images,(test_images.shape[0],m*n))\n",
        "X = np.append(x_train,test_images,0)\n",
        "Y = np.append(training_labels,test_labels)"
      ],
      "execution_count": 65,
      "outputs": []
    },
    {
      "cell_type": "markdown",
      "metadata": {
        "id": "R7XVHZSLu-nv"
      },
      "source": [
        "##Dataset_overview\n"
      ]
    },
    {
      "cell_type": "code",
      "metadata": {
        "id": "B4cMWgvdtml_",
        "outputId": "8c558ad4-3a67-46c3-aa80-0e69e954461b",
        "colab": {
          "base_uri": "https://localhost:8080/",
          "height": 320
        }
      },
      "source": [
        "smaple = 11\n",
        "image_list = []\n",
        "for i in range(8):\n",
        "  image_list.append([X[sample+3*i].reshape(m,n), 'Image{0}'.format(Y[sample+3*i]), 'img'])\n",
        "\n",
        "plotter(image_list,2,4 ,True,10,5)"
      ],
      "execution_count": 84,
      "outputs": [
        {
          "output_type": "display_data",
          "data": {
            "image/png": "[encoded data removed]",
            "text/plain": [
              "<Figure size 720x360 with 8 Axes>"
            ]
          },
          "metadata": {
            "tags": []
          }
        }
      ]
    },
    {
      "cell_type": "markdown",
      "metadata": {
        "id": "MM4og-26aNt4"
      },
      "source": [
        "##Generate Model"
      ]
    },
    {
      "cell_type": "code",
      "metadata": {
        "id": "hy1qgV5kYtD8"
      },
      "source": [
        "def generate_model(layers_number,layers_nodenum,dropout,optimizer,loss,accuracy):\n",
        "  layers = []\n",
        "  layers.append(tf.keras.layers.Flatten())\n",
        "  for i in range(layers_number):\n",
        "    layers.append(tf.keras.layers.Dense(layers_nodenum[i],activation=tf.nn.relu))\n",
        "    layers.append(tf.keras.layers.Dropout(dropout[i]))\n",
        "  layers.append(tf.keras.layers.Dense(10,activation=tf.nn.softmax))\n",
        "  model = tf.keras.models.Sequential(layers)\n",
        "  model.compile(optimizer=optimizer, loss=loss, metrics=[accuracy],)\n",
        "  model.build((None,m*n),)\n",
        "  model.summary()\n",
        "  return model\n"
      ],
      "execution_count": 85,
      "outputs": []
    },
    {
      "cell_type": "markdown",
      "metadata": {
        "id": "zkCE-0YybupJ"
      },
      "source": [
        "##Run model: train.validation,test"
      ]
    },
    {
      "cell_type": "markdown",
      "metadata": {
        "id": "vwtCgepaslEs"
      },
      "source": [
        "seperate train, validation and test data"
      ]
    },
    {
      "cell_type": "code",
      "metadata": {
        "id": "HS48jg53spJB"
      },
      "source": [
        "x_train, x_test, y_train, y_test = train_test_split(X, Y, test_size=0.8, random_state=42)\n",
        "x_train, x_val, y_train, y_val = train_test_split(x_train, y_train, test_size=0.2, random_state=42)"
      ],
      "execution_count": 86,
      "outputs": []
    },
    {
      "cell_type": "code",
      "metadata": {
        "id": "VT7YRbRzYQ4Z",
        "outputId": "34cd799b-c248-4834-aad3-684f056fdb20",
        "colab": {
          "base_uri": "https://localhost:8080/",
          "height": 372
        }
      },
      "source": [
        "model = generate_model(layers_number=2,\n",
        "                       layers_nodenum=[20,30],\n",
        "                       dropout=[0.2,0],\n",
        "                       optimizer='adam',\n",
        "                       loss='sparse_categorical_crossentropy',\n",
        "                       accuracy='accuracy')"
      ],
      "execution_count": 102,
      "outputs": [
        {
          "output_type": "stream",
          "text": [
            "Model: \"sequential_9\"\n",
            "_________________________________________________________________\n",
            "Layer (type)                 Output Shape              Param #   \n",
            "=================================================================\n",
            "flatten_9 (Flatten)          (None, 784)               0         \n",
            "_________________________________________________________________\n",
            "dense_27 (Dense)             (None, 20)                15700     \n",
            "_________________________________________________________________\n",
            "dropout_18 (Dropout)         (None, 20)                0         \n",
            "_________________________________________________________________\n",
            "dense_28 (Dense)             (None, 30)                630       \n",
            "_________________________________________________________________\n",
            "dropout_19 (Dropout)         (None, 30)                0         \n",
            "_________________________________________________________________\n",
            "dense_29 (Dense)             (None, 10)                310       \n",
            "=================================================================\n",
            "Total params: 16,640\n",
            "Trainable params: 16,640\n",
            "Non-trainable params: 0\n",
            "_________________________________________________________________\n"
          ],
          "name": "stdout"
        }
      ]
    },
    {
      "cell_type": "code",
      "metadata": {
        "id": "jWUcAnHcXwCv",
        "outputId": "897f24cd-372f-48fc-ddc3-544551bfc4aa",
        "colab": {
          "base_uri": "https://localhost:8080/",
          "height": 1000
        }
      },
      "source": [
        "epochs  =30\n",
        "mcp_save = tf.keras.callbacks.ModelCheckpoint('.mdl_wts.hdf5', save_best_only=True, monitor='accuracy', mode='max')\n",
        "history = model.fit(x_train,y_train,validation_data=(x_val,y_val), epochs=epochs,callbacks=[mcp_save],batch_size=10)\n",
        "model.load_weights('.mdl_wts.hdf5')\n",
        "accuracy = model.evaluate(x_test,y_test)"
      ],
      "execution_count": 106,
      "outputs": [
        {
          "output_type": "stream",
          "text": [
            "Epoch 1/30\n",
            "1120/1120 [==============================] - 3s 3ms/step - loss: 0.2259 - accuracy: 0.9211 - val_loss: 0.2558 - val_accuracy: 0.9286\n",
            "Epoch 2/30\n",
            "1120/1120 [==============================] - 3s 3ms/step - loss: 0.2026 - accuracy: 0.9304 - val_loss: 0.2625 - val_accuracy: 0.9311\n",
            "Epoch 3/30\n",
            "1120/1120 [==============================] - 3s 3ms/step - loss: 0.2070 - accuracy: 0.9285 - val_loss: 0.2461 - val_accuracy: 0.9357\n",
            "Epoch 4/30\n",
            "1120/1120 [==============================] - 3s 3ms/step - loss: 0.1933 - accuracy: 0.9339 - val_loss: 0.2536 - val_accuracy: 0.9321\n",
            "Epoch 5/30\n",
            "1120/1120 [==============================] - 3s 3ms/step - loss: 0.1906 - accuracy: 0.9354 - val_loss: 0.2432 - val_accuracy: 0.9354\n",
            "Epoch 6/30\n",
            "1120/1120 [==============================] - 3s 3ms/step - loss: 0.1875 - accuracy: 0.9349 - val_loss: 0.2532 - val_accuracy: 0.9325\n",
            "Epoch 7/30\n",
            "1120/1120 [==============================] - 3s 3ms/step - loss: 0.1769 - accuracy: 0.9401 - val_loss: 0.2439 - val_accuracy: 0.9379\n",
            "Epoch 8/30\n",
            "1120/1120 [==============================] - 3s 3ms/step - loss: 0.1895 - accuracy: 0.9347 - val_loss: 0.2519 - val_accuracy: 0.9296\n",
            "Epoch 9/30\n",
            "1120/1120 [==============================] - 3s 3ms/step - loss: 0.1771 - accuracy: 0.9387 - val_loss: 0.2471 - val_accuracy: 0.9289\n",
            "Epoch 10/30\n",
            "1120/1120 [==============================] - 3s 3ms/step - loss: 0.1784 - accuracy: 0.9382 - val_loss: 0.2424 - val_accuracy: 0.9329\n",
            "Epoch 11/30\n",
            "1120/1120 [==============================] - 3s 3ms/step - loss: 0.1739 - accuracy: 0.9368 - val_loss: 0.2602 - val_accuracy: 0.9289\n",
            "Epoch 12/30\n",
            "1120/1120 [==============================] - 3s 3ms/step - loss: 0.1676 - accuracy: 0.9410 - val_loss: 0.2663 - val_accuracy: 0.9332\n",
            "Epoch 13/30\n",
            "1120/1120 [==============================] - 3s 3ms/step - loss: 0.1734 - accuracy: 0.9394 - val_loss: 0.2704 - val_accuracy: 0.9286\n",
            "Epoch 14/30\n",
            "1120/1120 [==============================] - 3s 3ms/step - loss: 0.1721 - accuracy: 0.9418 - val_loss: 0.2553 - val_accuracy: 0.9336\n",
            "Epoch 15/30\n",
            "1120/1120 [==============================] - 3s 3ms/step - loss: 0.1683 - accuracy: 0.9409 - val_loss: 0.2820 - val_accuracy: 0.9314\n",
            "Epoch 16/30\n",
            "1120/1120 [==============================] - 3s 3ms/step - loss: 0.1574 - accuracy: 0.9450 - val_loss: 0.2827 - val_accuracy: 0.9282\n",
            "Epoch 17/30\n",
            "1120/1120 [==============================] - 3s 3ms/step - loss: 0.1728 - accuracy: 0.9386 - val_loss: 0.2847 - val_accuracy: 0.9293\n",
            "Epoch 18/30\n",
            "1120/1120 [==============================] - 3s 3ms/step - loss: 0.1756 - accuracy: 0.9398 - val_loss: 0.2971 - val_accuracy: 0.9239\n",
            "Epoch 19/30\n",
            "1120/1120 [==============================] - 3s 3ms/step - loss: 0.1568 - accuracy: 0.9449 - val_loss: 0.2734 - val_accuracy: 0.9325\n",
            "Epoch 20/30\n",
            "1120/1120 [==============================] - 3s 3ms/step - loss: 0.1673 - accuracy: 0.9407 - val_loss: 0.2741 - val_accuracy: 0.9332\n",
            "Epoch 21/30\n",
            "1120/1120 [==============================] - 3s 3ms/step - loss: 0.1570 - accuracy: 0.9441 - val_loss: 0.2611 - val_accuracy: 0.9325\n",
            "Epoch 22/30\n",
            "1120/1120 [==============================] - 3s 3ms/step - loss: 0.1676 - accuracy: 0.9418 - val_loss: 0.2749 - val_accuracy: 0.9354\n",
            "Epoch 23/30\n",
            "1120/1120 [==============================] - 3s 3ms/step - loss: 0.1619 - accuracy: 0.9436 - val_loss: 0.2857 - val_accuracy: 0.9293\n",
            "Epoch 24/30\n",
            "1120/1120 [==============================] - 3s 3ms/step - loss: 0.1626 - accuracy: 0.9438 - val_loss: 0.2709 - val_accuracy: 0.9336\n",
            "Epoch 25/30\n",
            "1120/1120 [==============================] - 3s 3ms/step - loss: 0.1479 - accuracy: 0.9486 - val_loss: 0.2703 - val_accuracy: 0.9336\n",
            "Epoch 26/30\n",
            "1120/1120 [==============================] - 3s 3ms/step - loss: 0.1640 - accuracy: 0.9422 - val_loss: 0.2909 - val_accuracy: 0.9336\n",
            "Epoch 27/30\n",
            "1120/1120 [==============================] - 3s 3ms/step - loss: 0.1495 - accuracy: 0.9469 - val_loss: 0.2984 - val_accuracy: 0.9321\n",
            "Epoch 28/30\n",
            "1120/1120 [==============================] - 3s 3ms/step - loss: 0.1586 - accuracy: 0.9472 - val_loss: 0.2905 - val_accuracy: 0.9307\n",
            "Epoch 29/30\n",
            "1120/1120 [==============================] - 3s 3ms/step - loss: 0.1514 - accuracy: 0.9463 - val_loss: 0.2948 - val_accuracy: 0.9311\n",
            "Epoch 30/30\n",
            "1120/1120 [==============================] - 3s 3ms/step - loss: 0.1580 - accuracy: 0.9463 - val_loss: 0.2824 - val_accuracy: 0.9336\n",
            "1750/1750 [==============================] - 4s 2ms/step - loss: 0.2711 - accuracy: 0.9359\n"
          ],
          "name": "stdout"
        }
      ]
    },
    {
      "cell_type": "code",
      "metadata": {
        "id": "471HvA_XvT9m",
        "outputId": "1a574194-6e0c-496b-828f-cb1059b25676",
        "colab": {
          "base_uri": "https://localhost:8080/",
          "height": 320
        }
      },
      "source": [
        "plt.plot(history.history['loss'],)\n",
        "plt.plot(history.history['val_loss'],)\n",
        "plt.plot(history.history['accuracy'])\n",
        "plt.plot(history.history['val_accuracy'])\n",
        "plt.legend(['train_loss','validation_loss', 'train_accuracy','validation_accuracy'], loc='upper left')\n",
        "plt.show()"
      ],
      "execution_count": 105,
      "outputs": [
        {
          "output_type": "display_data",
          "data": {
            "image/png": "[encoded data removed]",
            "text/plain": [
              "<Figure size 720x360 with 1 Axes>"
            ]
          },
          "metadata": {
            "tags": [],
            "needs_background": "light"
          }
        }
      ]
    },
    {
      "cell_type": "markdown",
      "metadata": {
        "id": "tkDVr2DydK2Q"
      },
      "source": [
        "##Cross validation"
      ]
    },
    {
      "cell_type": "code",
      "metadata": {
        "id": "mSka17ucTlTa",
        "outputId": "d8dfaba9-adcc-4a95-98bb-06c0fff2c303",
        "colab": {
          "base_uri": "https://localhost:8080/",
          "height": 230
        }
      },
      "source": [
        "seed = 7\n",
        "np.random.seed(seed)\n",
        "kfold = StratifiedKFold(n_splits=11, shuffle=True, random_state=seed)\n",
        "\n",
        "cvscores = []\n",
        "step = 0\n",
        "for train, test in kfold.split(X, Y):\t\n",
        "  model.fit(X[train], Y[train], epochs=25, verbose=0)\n",
        "  scores = model.evaluate(X[test], Y[test], verbose=0)\n",
        "  print(\"step {0} ----- {1} is {2}\".format(step,model.metrics_names[1], scores[1]*100))\n",
        "  step += 1\n",
        "  cvscores.append(scores[1] * 100)\n",
        "print(\"The average of the model accuracy is {0} (+/- {1})\".format(np.mean(cvscores), np.std(cvscores)))"
      ],
      "execution_count": 56,
      "outputs": [
        {
          "output_type": "stream",
          "text": [
            "step 0 ----- accuracy is 96.1502194404602\n",
            "step 1 ----- accuracy is 97.29729890823364\n",
            "step 2 ----- accuracy is 97.65870571136475\n",
            "step 3 ----- accuracy is 97.54871129989624\n",
            "step 4 ----- accuracy is 97.54871129989624\n",
            "step 5 ----- accuracy is 98.05154204368591\n",
            "step 6 ----- accuracy is 98.14581871032715\n",
            "step 7 ----- accuracy is 98.4598457813263\n",
            "step 8 ----- accuracy is 98.01980257034302\n",
            "step 9 ----- accuracy is 98.06694984436035\n",
            "step 10 ----- accuracy is 97.97265529632568\n",
            "The average of the model accuracy is 97.72002371874723 (+/- 0.5891463620185596)\n"
          ],
          "name": "stdout"
        }
      ]
    },
    {
      "cell_type": "markdown",
      "metadata": {
        "id": "iLbOIwajpMQ4"
      },
      "source": [
        "#PART5"
      ]
    },
    {
      "cell_type": "markdown",
      "metadata": {
        "id": "5u60272Q-IG5"
      },
      "source": [
        "##imports"
      ]
    },
    {
      "cell_type": "code",
      "metadata": {
        "id": "n5hYMfliqPnT"
      },
      "source": [
        "import tensorflow as tf\n",
        "from os import path, getcwd, chdir\n",
        "import cv2\n",
        "from skimage.util import random_noise\n",
        "import matplotlib.pyplot as plt\n",
        "import numpy as np\n",
        "from sklearn.model_selection import train_test_split\n",
        "from sklearn.metrics.pairwise import cosine_similarity\n",
        "from scipy import spatial\n"
      ],
      "execution_count": null,
      "outputs": []
    },
    {
      "cell_type": "markdown",
      "metadata": {
        "id": "mYnqhsleqMBd"
      },
      "source": [
        "## load dataset"
      ]
    },
    {
      "cell_type": "markdown",
      "metadata": {
        "id": "zR18wvxoqIeu"
      },
      "source": [
        "load mnist dataset "
      ]
    },
    {
      "cell_type": "code",
      "metadata": {
        "id": "_eed9kzdpLhl"
      },
      "source": [
        "path = f\"{getcwd()}/mnist.npz\""
      ],
      "execution_count": null,
      "outputs": []
    },
    {
      "cell_type": "code",
      "metadata": {
        "id": "9KdIqE9Fq1rC"
      },
      "source": [
        "mnist = tf.keras.datasets.mnist\n",
        "(training_images, training_labels), (test_images, test_labels) = mnist.load_data(path=path)\n",
        "training_images = training_images.reshape(60000,28,28)\n",
        "test_images = test_images.reshape(10000,28,28)"
      ],
      "execution_count": null,
      "outputs": []
    },
    {
      "cell_type": "code",
      "metadata": {
        "id": "SmMf79RDz0ml",
        "outputId": "9ed2cfd6-e07b-4c2e-82f2-de58a38ef0ad",
        "colab": {
          "base_uri": "https://localhost:8080/"
        }
      },
      "source": [
        "m, n = training_images[0].shape[0], training_images[0].shape[1]\n",
        "print('The image is ({0}*{1})'.format(m,n))"
      ],
      "execution_count": null,
      "outputs": [
        {
          "output_type": "stream",
          "text": [
            "The image is (28*28)\n"
          ],
          "name": "stdout"
        }
      ]
    },
    {
      "cell_type": "markdown",
      "metadata": {
        "id": "bArV3ziG77mX"
      },
      "source": [
        "##Preprocess Data and generate train,validation,test"
      ]
    },
    {
      "cell_type": "markdown",
      "metadata": {
        "id": "B2iH76eT0yg1"
      },
      "source": [
        "Normalize images --> map value into (0,1)"
      ]
    },
    {
      "cell_type": "code",
      "metadata": {
        "id": "DKk-v34vyqRr"
      },
      "source": [
        "training_images = np.array(training_images,np.float64)*(1/255)\n",
        "test_images = np.array(test_images,np.float64)*(1/255)"
      ],
      "execution_count": null,
      "outputs": []
    },
    {
      "cell_type": "markdown",
      "metadata": {
        "id": "1uM9gCkZ0iny"
      },
      "source": [
        "Flatten original image --> suitable for output of the network."
      ]
    },
    {
      "cell_type": "code",
      "metadata": {
        "id": "_hyog7sv0dIJ"
      },
      "source": [
        "x_train = np.reshape(training_images,(training_images.shape[0],m*n))\n",
        "test_images = np.reshape(test_images,(test_images.shape[0],m*n))"
      ],
      "execution_count": null,
      "outputs": []
    },
    {
      "cell_type": "code",
      "metadata": {
        "id": "kb6Nzqop3zeN"
      },
      "source": [
        "x_test, x_val, y_test, y_val = train_test_split(test_images, test_labels, test_size=0.4, random_state=42)"
      ],
      "execution_count": null,
      "outputs": []
    },
    {
      "cell_type": "code",
      "metadata": {
        "id": "FS45sc-j1CP8",
        "outputId": "717f50a6-98a9-4b0f-a287-a5546bff723f",
        "colab": {
          "base_uri": "https://localhost:8080/"
        }
      },
      "source": [
        "print('train shape:',x_train.shape[0])\n",
        "print('train shape:',x_val.shape[0])\n",
        "print('test shape:',x_test.shape[0])"
      ],
      "execution_count": null,
      "outputs": [
        {
          "output_type": "stream",
          "text": [
            "train shape: 60000\n",
            "train shape: 4000\n",
            "test shape: 6000\n"
          ],
          "name": "stdout"
        }
      ]
    },
    {
      "cell_type": "markdown",
      "metadata": {
        "id": "BW2WLNjzwuSN"
      },
      "source": [
        "##Add noise"
      ]
    },
    {
      "cell_type": "code",
      "metadata": {
        "id": "qUpjR6qUq30E"
      },
      "source": [
        "def make_noisydata(data,model,var,portion):\n",
        "  noisy_data = np.empty(data.shape)\n",
        "  if model == 'gaussian':\n",
        "    for i in range(data.shape[0]):\n",
        "      noisy_data[i] = random_noise(data[i],model,var = var)\n",
        "  elif model == 's&p':\n",
        "    for i in range(data.shape[0]):\n",
        "      noisy_data[i] = random_noise(data[i],model,amount=portion)\n",
        "  return noisy_data"
      ],
      "execution_count": null,
      "outputs": []
    },
    {
      "cell_type": "code",
      "metadata": {
        "id": "Du5KsQKY5Tgm"
      },
      "source": [
        "def add_noise(model,var,portion):\n",
        "  noisy_train = make_noisydata(x_train,model,var,portion)\n",
        "  noisy_val = make_noisydata(x_val,model,var,portion)\n",
        "  noisy_test = make_noisydata(x_test,model,var,portion)\n",
        "  return noisy_train, noisy_val,noisy_test"
      ],
      "execution_count": null,
      "outputs": []
    },
    {
      "cell_type": "markdown",
      "metadata": {
        "id": "LvL5i62t8_Uc"
      },
      "source": [
        "##Generate Model\n"
      ]
    },
    {
      "cell_type": "code",
      "metadata": {
        "id": "JW6j67xiomRg"
      },
      "source": [
        "def generate_model(layers_number,layers_nodenum,dropout,optimizer,loss,accuracy):\n",
        "  layers = []\n",
        "  layers.append(tf.keras.layers.Flatten())\n",
        "  for i in range(layers_number):\n",
        "    layers.append(tf.keras.layers.Dense(layers_nodenum[i],activation=tf.nn.relu))\n",
        "    layers.append(tf.keras.layers.Dropout(dropout[i]))\n",
        "  layers.append(tf.keras.layers.Dense(m*n,activation=tf.nn.softmax))\n",
        "  model = tf.keras.models.Sequential(layers)\n",
        "  model.compile(optimizer=optimizer, loss=loss, metrics=[accuracy])\n",
        "  model.build((None,m*n))\n",
        "  model.summary()\n",
        "  return model\n"
      ],
      "execution_count": null,
      "outputs": []
    },
    {
      "cell_type": "code",
      "metadata": {
        "id": "8Oktja194o0i"
      },
      "source": [
        "def RemoveNoise(model_info,epochs,train=True):\n",
        "  model = generate_model(model_info['layer_number'],model_info['layer_nodenum'],model_info['dropout_postion'],model_info['optimizer'],model_info['loss'],model_info['accuracy'])\n",
        "  mcp_save = tf.keras.callbacks.ModelCheckpoint(model_info['best_model_path'], save_best_only=True, monitor='val_cosine_similarity', mode='max')\n",
        "  if train:\n",
        "    history = model.fit(n_train,x_train,validation_data= (n_val,x_val), epochs=epochs,callbacks=[mcp_save] )\n",
        "  model.load_weights(model_info['best_model_path'])\n",
        "  print('best accurasy on train data is:',model.evaluate(n_train, x_train)[1],)\n",
        "  print('best accurasy on validation data is:',model.evaluate(n_val, x_val)[1],)\n",
        "  print('best accurasy on test data is:',model.evaluate(n_test, x_test)[1],)\n",
        "  return model"
      ],
      "execution_count": null,
      "outputs": []
    },
    {
      "cell_type": "code",
      "metadata": {
        "id": "SwJZkBdIHkGq"
      },
      "source": [
        "def checktestsample(model,sample):\n",
        "  y_pred = model.predict(np.array([n_test[sample]]))\n",
        "  similarity = 1 - spatial.distance.cosine(y_pred[0], x_test[sample])\n",
        "  y_pred0 = np.reshape(y_pred[0],(m,n))\n",
        "  image_list = []\n",
        "  image_list.append([x_test[sample].reshape((m,n)), 'Original Test Image', 'img'])\n",
        "  image_list.append([n_test[sample].reshape((m,n)), 'Noisy Test Image', 'img'])\n",
        "  image_list.append([y_pred0, 'Predicted Image', 'img'])\n",
        "  print(\"cos similarity between desired and predicted is:%{0}\".format(similarity))\n",
        "  plotter(image_list,1,3 ,True,10,10)"
      ],
      "execution_count": null,
      "outputs": []
    },
    {
      "cell_type": "markdown",
      "metadata": {
        "id": "dPVe1jbGX734"
      },
      "source": [
        "##RUN"
      ]
    },
    {
      "cell_type": "code",
      "metadata": {
        "id": "ovDnlLGJzISJ",
        "outputId": "35f6f59d-f363-4b6e-8a90-e01501708bda",
        "colab": {
          "base_uri": "https://localhost:8080/",
          "height": 550
        }
      },
      "source": [
        "noise_info ={\n",
        "    'model': 'gaussian',\n",
        "    'var': 0.5,\n",
        "    'portion': 0.2\n",
        "}\n",
        "model_info={\n",
        "    'layer_number':3,\n",
        "    'layer_nodenum' : [254,128,32],\n",
        "    'dropout_postion': [0,0.1,0],\n",
        "    'optimizer': tf.keras.optimizers.Adam(),\n",
        "    'loss': tf.keras.losses.CosineSimilarity(),\n",
        "    'accuracy':tf.keras.metrics.CosineSimilarity(name='cosine_similarity'),\n",
        "    'best_model_path':'.mdl_wts.hdf5'\n",
        "}\n",
        "n_train, n_val,n_test = add_noise(noise_info['model'],noise_info['var'],noise_info['portion'])\n",
        "best_model = RemoveNoise(model_info,epochs=35,train=False)"
      ],
      "execution_count": null,
      "outputs": [
        {
          "output_type": "stream",
          "text": [
            "Model: \"sequential_4\"\n",
            "_________________________________________________________________\n",
            "Layer (type)                 Output Shape              Param #   \n",
            "=================================================================\n",
            "flatten_4 (Flatten)          (None, 784)               0         \n",
            "_________________________________________________________________\n",
            "dense_16 (Dense)             (None, 254)               199390    \n",
            "_________________________________________________________________\n",
            "dropout_12 (Dropout)         (None, 254)               0         \n",
            "_________________________________________________________________\n",
            "dense_17 (Dense)             (None, 128)               32640     \n",
            "_________________________________________________________________\n",
            "dropout_13 (Dropout)         (None, 128)               0         \n",
            "_________________________________________________________________\n",
            "dense_18 (Dense)             (None, 32)                4128      \n",
            "_________________________________________________________________\n",
            "dropout_14 (Dropout)         (None, 32)                0         \n",
            "_________________________________________________________________\n",
            "dense_19 (Dense)             (None, 784)               25872     \n",
            "=================================================================\n",
            "Total params: 262,030\n",
            "Trainable params: 262,030\n",
            "Non-trainable params: 0\n",
            "_________________________________________________________________\n",
            "1875/1875 [==============================] - 3s 1ms/step - loss: -0.8265 - cosine_similarity: 0.8265\n",
            "best accurasy on train data is: 0.8265052437782288\n",
            "125/125 [==============================] - 0s 1ms/step - loss: -0.8302 - cosine_similarity: 0.8302\n",
            "best accurasy on validation data is: 0.830161988735199\n",
            "188/188 [==============================] - 0s 2ms/step - loss: -0.8325 - cosine_similarity: 0.8325\n",
            "best accurasy on test data is: 0.8324647545814514\n"
          ],
          "name": "stdout"
        }
      ]
    },
    {
      "cell_type": "code",
      "metadata": {
        "id": "U9sn2Onv2yQ3",
        "outputId": "7b377a4a-86f7-4d48-aaba-286d49396fd8",
        "colab": {
          "base_uri": "https://localhost:8080/"
        }
      },
      "source": [
        "checktestsample(best_model,26)"
      ],
      "execution_count": null,
      "outputs": [
        {
          "output_type": "stream",
          "text": [
            "cos similarity between desired and predicted is:%0.7658917471877816\n"
          ],
          "name": "stdout"
        },
        {
          "output_type": "display_data",
          "data": {
            "image/png": "[encoded data removed]",
            "text/plain": [
              "<Figure size 720x720 with 3 Axes>"
            ]
          },
          "metadata": {
            "tags": []
          }
        }
      ]
    }
  ]
}