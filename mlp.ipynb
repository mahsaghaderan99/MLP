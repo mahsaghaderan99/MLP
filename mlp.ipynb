{
  "nbformat": 4,
  "nbformat_minor": 0,
  "metadata": {
    "colab": {
      "name": "mlp",
      "provenance": [],
      "authorship_tag": "ABX9TyMq1z2DDsj/1uG8u7YluTOv",
      "include_colab_link": true
    },
    "kernelspec": {
      "name": "python3",
      "display_name": "Python 3"
    },
    "accelerator": "GPU"
  },
  "cells": [
    {
      "cell_type": "markdown",
      "metadata": {
        "id": "view-in-github",
        "colab_type": "text"
      },
      "source": [
        "<a href=\"https://colab.research.google.com/github/mahsaghaderan99/MLP/blob/cross-validation/mlp.ipynb\" target=\"_parent\"><img src=\"https://colab.research.google.com/assets/colab-badge.svg\" alt=\"Open In Colab\"/></a>"
      ]
    },
    {
      "cell_type": "markdown",
      "metadata": {
        "id": "CyK4A_cco_WC"
      },
      "source": [
        "*Deep* MLP project"
      ]
    },
    {
      "cell_type": "code",
      "metadata": {
        "id": "pI1xwS3FuFq-"
      },
      "source": [
        "def plotter(img_list, r, w, gray, wr, hr, fig_name = None):\n",
        "    '''\n",
        "    Plots images' list with its' caption and saves result image if you want.\n",
        "\n",
        "    Parameters:\n",
        "        img_list (list): The list of tuples of image and its' caption.\n",
        "        r (int): The number of row(s).\n",
        "        w (int): The number of colunm(s).\n",
        "        gray (bool): The flag for plotting images in grayscale mode.\n",
        "        wr (int): The width of one figure.\n",
        "        hr (int): The height of one figure.\n",
        "        fig_name (str): The name of the image of the plot. if not set this parameter the plot doesn't save.\n",
        "    '''\n",
        "    \n",
        "    plt.rcParams['figure.figsize'] = (wr, hr)\n",
        "    for i in range(len(img_list)):\n",
        "        plt.subplot(r, w, i + 1)\n",
        "        if img_list[i][2] == 'img':\n",
        "            if gray:\n",
        "                plt.imshow(img_list[i][0], cmap = 'gray')\n",
        "            else:\n",
        "                plt.imshow(img_list[i][0])\n",
        "            plt.xticks([])\n",
        "            plt.yticks([])\n",
        "        elif img_list[i][2] == 'hist':\n",
        "            plt.bar(np.arange(len(img_list[i][0])), img_list[i][0], color = 'c')\n",
        "        else:\n",
        "            raise Exception(\"Only image or histogram. Use third parameter of tuples in img_list and set it to img or hist.\")\n",
        "        plt.title(img_list[i][1])\n",
        "    if fig_name is not None:\n",
        "        plt.savefig(fig_name + '.png')\n",
        "    plt.show()"
      ],
      "execution_count": 2,
      "outputs": []
    },
    {
      "cell_type": "markdown",
      "metadata": {
        "id": "PjXUnWd6YBZ2"
      },
      "source": [
        "#PART4"
      ]
    },
    {
      "cell_type": "markdown",
      "metadata": {
        "id": "vZWxh5qeYELz"
      },
      "source": [
        "##Imports"
      ]
    },
    {
      "cell_type": "code",
      "metadata": {
        "id": "KEoXOhINYBM0"
      },
      "source": [
        "from sklearn.model_selection import cross_val_score\n",
        "import tensorflow as tf\n",
        "from os import path,getcwd\n",
        "import cv2\n",
        "from skimage.util import random_noise\n",
        "import matplotlib.pyplot as plt\n",
        "import numpy as np\n",
        "from sklearn.model_selection import train_test_split\n",
        "from sklearn.metrics.pairwise import cosine_similarity\n",
        "from scipy import spatial\n",
        "from sklearn.model_selection import StratifiedKFold"
      ],
      "execution_count": 3,
      "outputs": []
    },
    {
      "cell_type": "markdown",
      "metadata": {
        "id": "ttuM4LyuaBN3"
      },
      "source": [
        "## load dataset"
      ]
    },
    {
      "cell_type": "markdown",
      "metadata": {
        "id": "y2DtliMeaBN5"
      },
      "source": [
        "load mnist dataset "
      ]
    },
    {
      "cell_type": "code",
      "metadata": {
        "id": "I8SXWA4UaBN6"
      },
      "source": [
        "path = f\"{getcwd()}/mnist.npz\""
      ],
      "execution_count": 4,
      "outputs": []
    },
    {
      "cell_type": "code",
      "metadata": {
        "id": "FASQKRhSaBN-",
        "outputId": "a16d89d6-7055-4fe7-f752-3575891140aa",
        "colab": {
          "base_uri": "https://localhost:8080/",
          "height": 52
        }
      },
      "source": [
        "mnist = tf.keras.datasets.mnist\n",
        "(training_images, training_labels), (test_images, test_labels) = mnist.load_data(path=path)\n",
        "training_images = training_images.reshape(60000,28,28)\n",
        "test_images = test_images.reshape(10000,28,28)"
      ],
      "execution_count": 5,
      "outputs": [
        {
          "output_type": "stream",
          "text": [
            "Downloading data from https://storage.googleapis.com/tensorflow/tf-keras-datasets/mnist.npz\n",
            "11493376/11490434 [==============================] - 0s 0us/step\n"
          ],
          "name": "stdout"
        }
      ]
    },
    {
      "cell_type": "code",
      "metadata": {
        "id": "8meLdvI5aBOB",
        "outputId": "0cb99705-cba2-41bb-d6dd-8947edd85ad7",
        "colab": {
          "base_uri": "https://localhost:8080/",
          "height": 34
        }
      },
      "source": [
        "m, n = training_images[0].shape[0], training_images[0].shape[1]\n",
        "print('The image is ({0}*{1})'.format(m,n))"
      ],
      "execution_count": 6,
      "outputs": [
        {
          "output_type": "stream",
          "text": [
            "The image is (28*28)\n"
          ],
          "name": "stdout"
        }
      ]
    },
    {
      "cell_type": "markdown",
      "metadata": {
        "id": "v4iiZwLNaHjE"
      },
      "source": [
        "##Preprocess Data"
      ]
    },
    {
      "cell_type": "markdown",
      "metadata": {
        "id": "hZ8iP4sMaHjI"
      },
      "source": [
        "Normalize images --> map value into (0,1)"
      ]
    },
    {
      "cell_type": "code",
      "metadata": {
        "id": "dDH2rkwIaHjL"
      },
      "source": [
        "training_images = np.array(training_images,np.float64)*(1/255)\n",
        "test_images = np.array(test_images,np.float64)*(1/255)"
      ],
      "execution_count": 7,
      "outputs": []
    },
    {
      "cell_type": "markdown",
      "metadata": {
        "id": "Wa_0_SONaHjX"
      },
      "source": [
        "Flatten original image --> suitable for output of the network."
      ]
    },
    {
      "cell_type": "code",
      "metadata": {
        "id": "_EsPGbfoaHjY"
      },
      "source": [
        "x_train = np.reshape(training_images,(training_images.shape[0],m*n))\n",
        "test_images = np.reshape(test_images,(test_images.shape[0],m*n))\n",
        "X = np.append(x_train,test_images,0)\n",
        "Y = np.append(training_labels,test_labels)"
      ],
      "execution_count": 8,
      "outputs": []
    },
    {
      "cell_type": "markdown",
      "metadata": {
        "id": "R7XVHZSLu-nv"
      },
      "source": [
        "##Dataset_overview\n"
      ]
    },
    {
      "cell_type": "code",
      "metadata": {
        "id": "B4cMWgvdtml_",
        "outputId": "9c0429ce-312b-403f-cca3-fde34aadb166",
        "colab": {
          "base_uri": "https://localhost:8080/",
          "height": 320
        }
      },
      "source": [
        "sample = 11\n",
        "image_list = []\n",
        "for i in range(8):\n",
        "  image_list.append([X[sample+3*i].reshape(m,n), 'Image{0}'.format(Y[sample+3*i]), 'img'])\n",
        "\n",
        "plotter(image_list,2,4 ,True,10,5)"
      ],
      "execution_count": 9,
      "outputs": [
        {
          "output_type": "display_data",
          "data": {
            "image/png": "[encoded data removed]",
            "text/plain": [
              "<Figure size 720x360 with 8 Axes>"
            ]
          },
          "metadata": {
            "tags": []
          }
        }
      ]
    },
    {
      "cell_type": "markdown",
      "metadata": {
        "id": "MM4og-26aNt4"
      },
      "source": [
        "##Generate Model"
      ]
    },
    {
      "cell_type": "code",
      "metadata": {
        "id": "hy1qgV5kYtD8"
      },
      "source": [
        "def generate_model(layers_number,layers_nodenum,dropout,optimizer,loss,accuracy):\n",
        "  layers = []\n",
        "  layers.append(tf.keras.layers.Flatten())\n",
        "  for i in range(layers_number):\n",
        "    layers.append(tf.keras.layers.Dense(layers_nodenum[i],activation=tf.nn.relu))\n",
        "    layers.append(tf.keras.layers.Dropout(dropout[i]))\n",
        "  layers.append(tf.keras.layers.Dense(10,activation=tf.nn.softmax))\n",
        "  model = tf.keras.models.Sequential(layers)\n",
        "  model.compile(optimizer=optimizer, loss=loss, metrics=[accuracy],)\n",
        "  model.build((None,m*n),)\n",
        "  model.summary()\n",
        "  return model\n"
      ],
      "execution_count": 10,
      "outputs": []
    },
    {
      "cell_type": "markdown",
      "metadata": {
        "id": "zkCE-0YybupJ"
      },
      "source": [
        "##Run model: train.validation,test"
      ]
    },
    {
      "cell_type": "markdown",
      "metadata": {
        "id": "vwtCgepaslEs"
      },
      "source": [
        "seperate train, validation and test data"
      ]
    },
    {
      "cell_type": "code",
      "metadata": {
        "id": "HS48jg53spJB"
      },
      "source": [
        "x_train, x_test, y_train, y_test = train_test_split(X, Y, test_size=0.8, random_state=42)\n",
        "x_train, x_val, y_train, y_val = train_test_split(x_train, y_train, test_size=0.2, random_state=42)"
      ],
      "execution_count": 11,
      "outputs": []
    },
    {
      "cell_type": "code",
      "metadata": {
        "id": "VT7YRbRzYQ4Z",
        "outputId": "f271988e-3853-4c52-d7ff-259a13b17ffc",
        "colab": {
          "base_uri": "https://localhost:8080/",
          "height": 372
        }
      },
      "source": [
        "model = generate_model(layers_number=2,\n",
        "                       layers_nodenum=[32,20,40],\n",
        "                       dropout=[0.2,0.1,0],\n",
        "                       optimizer='adam',\n",
        "                       loss='sparse_categorical_crossentropy',\n",
        "                       accuracy='accuracy')"
      ],
      "execution_count": 12,
      "outputs": [
        {
          "output_type": "stream",
          "text": [
            "Model: \"sequential\"\n",
            "_________________________________________________________________\n",
            "Layer (type)                 Output Shape              Param #   \n",
            "=================================================================\n",
            "flatten (Flatten)            (None, 784)               0         \n",
            "_________________________________________________________________\n",
            "dense (Dense)                (None, 32)                25120     \n",
            "_________________________________________________________________\n",
            "dropout (Dropout)            (None, 32)                0         \n",
            "_________________________________________________________________\n",
            "dense_1 (Dense)              (None, 20)                660       \n",
            "_________________________________________________________________\n",
            "dropout_1 (Dropout)          (None, 20)                0         \n",
            "_________________________________________________________________\n",
            "dense_2 (Dense)              (None, 10)                210       \n",
            "=================================================================\n",
            "Total params: 25,990\n",
            "Trainable params: 25,990\n",
            "Non-trainable params: 0\n",
            "_________________________________________________________________\n"
          ],
          "name": "stdout"
        }
      ]
    },
    {
      "cell_type": "code",
      "metadata": {
        "id": "jWUcAnHcXwCv",
        "outputId": "331a3f87-4c14-4d2a-9f84-e9030becc3be",
        "colab": {
          "base_uri": "https://localhost:8080/",
          "height": 1000
        }
      },
      "source": [
        "epochs  = 50\n",
        "mcp_save = tf.keras.callbacks.ModelCheckpoint('.mdl_wts.hdf5', save_best_only=True, monitor='accuracy', mode='max')\n",
        "history = model.fit(x_train,y_train,validation_data=(x_val,y_val), epochs=epochs,callbacks=[mcp_save],batch_size=10)\n",
        "model.load_weights('.mdl_wts.hdf5')\n",
        "accuracy = model.evaluate(x_test,y_test)"
      ],
      "execution_count": 13,
      "outputs": [
        {
          "output_type": "stream",
          "text": [
            "Epoch 1/50\n",
            "1120/1120 [==============================] - 2s 2ms/step - loss: 0.8344 - accuracy: 0.7281 - val_loss: 0.3568 - val_accuracy: 0.9018\n",
            "Epoch 2/50\n",
            "1120/1120 [==============================] - 2s 2ms/step - loss: 0.4730 - accuracy: 0.8485 - val_loss: 0.2930 - val_accuracy: 0.9118\n",
            "Epoch 3/50\n",
            "1120/1120 [==============================] - 2s 2ms/step - loss: 0.3884 - accuracy: 0.8769 - val_loss: 0.2516 - val_accuracy: 0.9250\n",
            "Epoch 4/50\n",
            "1120/1120 [==============================] - 2s 2ms/step - loss: 0.3365 - accuracy: 0.8966 - val_loss: 0.2336 - val_accuracy: 0.9282\n",
            "Epoch 5/50\n",
            "1120/1120 [==============================] - 2s 2ms/step - loss: 0.3108 - accuracy: 0.9032 - val_loss: 0.2125 - val_accuracy: 0.9386\n",
            "Epoch 6/50\n",
            "1120/1120 [==============================] - 2s 2ms/step - loss: 0.2837 - accuracy: 0.9092 - val_loss: 0.1959 - val_accuracy: 0.9443\n",
            "Epoch 7/50\n",
            "1120/1120 [==============================] - 2s 2ms/step - loss: 0.2663 - accuracy: 0.9157 - val_loss: 0.1995 - val_accuracy: 0.9414\n",
            "Epoch 8/50\n",
            "1120/1120 [==============================] - 2s 2ms/step - loss: 0.2540 - accuracy: 0.9198 - val_loss: 0.1967 - val_accuracy: 0.9404\n",
            "Epoch 9/50\n",
            "1120/1120 [==============================] - 2s 2ms/step - loss: 0.2386 - accuracy: 0.9228 - val_loss: 0.1982 - val_accuracy: 0.9404\n",
            "Epoch 10/50\n",
            "1120/1120 [==============================] - 2s 2ms/step - loss: 0.2257 - accuracy: 0.9296 - val_loss: 0.1912 - val_accuracy: 0.9482\n",
            "Epoch 11/50\n",
            "1120/1120 [==============================] - 2s 2ms/step - loss: 0.2232 - accuracy: 0.9277 - val_loss: 0.1965 - val_accuracy: 0.9411\n",
            "Epoch 12/50\n",
            "1120/1120 [==============================] - 2s 2ms/step - loss: 0.2002 - accuracy: 0.9327 - val_loss: 0.1983 - val_accuracy: 0.9475\n",
            "Epoch 13/50\n",
            "1120/1120 [==============================] - 2s 2ms/step - loss: 0.2037 - accuracy: 0.9359 - val_loss: 0.1896 - val_accuracy: 0.9486\n",
            "Epoch 14/50\n",
            "1120/1120 [==============================] - 2s 2ms/step - loss: 0.1879 - accuracy: 0.9379 - val_loss: 0.2013 - val_accuracy: 0.9486\n",
            "Epoch 15/50\n",
            "1120/1120 [==============================] - 2s 2ms/step - loss: 0.1854 - accuracy: 0.9393 - val_loss: 0.1951 - val_accuracy: 0.9461\n",
            "Epoch 16/50\n",
            "1120/1120 [==============================] - 2s 2ms/step - loss: 0.1852 - accuracy: 0.9393 - val_loss: 0.1991 - val_accuracy: 0.9475\n",
            "Epoch 17/50\n",
            "1120/1120 [==============================] - 2s 2ms/step - loss: 0.1765 - accuracy: 0.9408 - val_loss: 0.2051 - val_accuracy: 0.9479\n",
            "Epoch 18/50\n",
            "1120/1120 [==============================] - 2s 2ms/step - loss: 0.1694 - accuracy: 0.9440 - val_loss: 0.1972 - val_accuracy: 0.9446\n",
            "Epoch 19/50\n",
            "1120/1120 [==============================] - 2s 2ms/step - loss: 0.1624 - accuracy: 0.9477 - val_loss: 0.2082 - val_accuracy: 0.9450\n",
            "Epoch 20/50\n",
            "1120/1120 [==============================] - 2s 2ms/step - loss: 0.1585 - accuracy: 0.9476 - val_loss: 0.2111 - val_accuracy: 0.9471\n",
            "Epoch 21/50\n",
            "1120/1120 [==============================] - 2s 2ms/step - loss: 0.1627 - accuracy: 0.9476 - val_loss: 0.2115 - val_accuracy: 0.9454\n",
            "Epoch 22/50\n",
            "1120/1120 [==============================] - 2s 2ms/step - loss: 0.1517 - accuracy: 0.9514 - val_loss: 0.2127 - val_accuracy: 0.9464\n",
            "Epoch 23/50\n",
            "1120/1120 [==============================] - 2s 2ms/step - loss: 0.1604 - accuracy: 0.9451 - val_loss: 0.2252 - val_accuracy: 0.9454\n",
            "Epoch 24/50\n",
            "1120/1120 [==============================] - 2s 2ms/step - loss: 0.1444 - accuracy: 0.9523 - val_loss: 0.2330 - val_accuracy: 0.9464\n",
            "Epoch 25/50\n",
            "1120/1120 [==============================] - 2s 2ms/step - loss: 0.1427 - accuracy: 0.9517 - val_loss: 0.2361 - val_accuracy: 0.9454\n",
            "Epoch 26/50\n",
            "1120/1120 [==============================] - 2s 2ms/step - loss: 0.1374 - accuracy: 0.9555 - val_loss: 0.2353 - val_accuracy: 0.9479\n",
            "Epoch 27/50\n",
            "1120/1120 [==============================] - 2s 2ms/step - loss: 0.1462 - accuracy: 0.9544 - val_loss: 0.2344 - val_accuracy: 0.9425\n",
            "Epoch 28/50\n",
            "1120/1120 [==============================] - 2s 2ms/step - loss: 0.1431 - accuracy: 0.9504 - val_loss: 0.2253 - val_accuracy: 0.9468\n",
            "Epoch 29/50\n",
            "1120/1120 [==============================] - 2s 2ms/step - loss: 0.1367 - accuracy: 0.9563 - val_loss: 0.2165 - val_accuracy: 0.9486\n",
            "Epoch 30/50\n",
            "1120/1120 [==============================] - 2s 2ms/step - loss: 0.1309 - accuracy: 0.9568 - val_loss: 0.2333 - val_accuracy: 0.9479\n",
            "Epoch 31/50\n",
            "1120/1120 [==============================] - 2s 2ms/step - loss: 0.1421 - accuracy: 0.9512 - val_loss: 0.2276 - val_accuracy: 0.9461\n",
            "Epoch 32/50\n",
            "1120/1120 [==============================] - 2s 2ms/step - loss: 0.1252 - accuracy: 0.9584 - val_loss: 0.2489 - val_accuracy: 0.9464\n",
            "Epoch 33/50\n",
            "1120/1120 [==============================] - 2s 2ms/step - loss: 0.1319 - accuracy: 0.9571 - val_loss: 0.2373 - val_accuracy: 0.9443\n",
            "Epoch 34/50\n",
            "1120/1120 [==============================] - 2s 2ms/step - loss: 0.1222 - accuracy: 0.9583 - val_loss: 0.2475 - val_accuracy: 0.9475\n",
            "Epoch 35/50\n",
            "1120/1120 [==============================] - 3s 2ms/step - loss: 0.1206 - accuracy: 0.9601 - val_loss: 0.2468 - val_accuracy: 0.9471\n",
            "Epoch 36/50\n",
            "1120/1120 [==============================] - 3s 2ms/step - loss: 0.1255 - accuracy: 0.9582 - val_loss: 0.2560 - val_accuracy: 0.9439\n",
            "Epoch 37/50\n",
            "1120/1120 [==============================] - 3s 2ms/step - loss: 0.1159 - accuracy: 0.9607 - val_loss: 0.2498 - val_accuracy: 0.9496\n",
            "Epoch 38/50\n",
            "1120/1120 [==============================] - 3s 2ms/step - loss: 0.1257 - accuracy: 0.9580 - val_loss: 0.2487 - val_accuracy: 0.9468\n",
            "Epoch 39/50\n",
            "1120/1120 [==============================] - 2s 2ms/step - loss: 0.1247 - accuracy: 0.9604 - val_loss: 0.2548 - val_accuracy: 0.9457\n",
            "Epoch 40/50\n",
            "1120/1120 [==============================] - 2s 2ms/step - loss: 0.1163 - accuracy: 0.9613 - val_loss: 0.2594 - val_accuracy: 0.9454\n",
            "Epoch 41/50\n",
            "1120/1120 [==============================] - 2s 2ms/step - loss: 0.1133 - accuracy: 0.9628 - val_loss: 0.2634 - val_accuracy: 0.9421\n",
            "Epoch 42/50\n",
            "1120/1120 [==============================] - 2s 2ms/step - loss: 0.1177 - accuracy: 0.9622 - val_loss: 0.2718 - val_accuracy: 0.9439\n",
            "Epoch 43/50\n",
            "1120/1120 [==============================] - 2s 2ms/step - loss: 0.1133 - accuracy: 0.9629 - val_loss: 0.2608 - val_accuracy: 0.9461\n",
            "Epoch 44/50\n",
            "1120/1120 [==============================] - 2s 2ms/step - loss: 0.1077 - accuracy: 0.9631 - val_loss: 0.2714 - val_accuracy: 0.9429\n",
            "Epoch 45/50\n",
            "1120/1120 [==============================] - 2s 2ms/step - loss: 0.1084 - accuracy: 0.9645 - val_loss: 0.2773 - val_accuracy: 0.9457\n",
            "Epoch 46/50\n",
            "1120/1120 [==============================] - 2s 2ms/step - loss: 0.1092 - accuracy: 0.9629 - val_loss: 0.2510 - val_accuracy: 0.9461\n",
            "Epoch 47/50\n",
            "1120/1120 [==============================] - 2s 2ms/step - loss: 0.1048 - accuracy: 0.9649 - val_loss: 0.2671 - val_accuracy: 0.9425\n",
            "Epoch 48/50\n",
            "1120/1120 [==============================] - 2s 2ms/step - loss: 0.1115 - accuracy: 0.9628 - val_loss: 0.2764 - val_accuracy: 0.9471\n",
            "Epoch 49/50\n",
            "1120/1120 [==============================] - 2s 2ms/step - loss: 0.1001 - accuracy: 0.9676 - val_loss: 0.2724 - val_accuracy: 0.9493\n",
            "Epoch 50/50\n",
            "1120/1120 [==============================] - 2s 2ms/step - loss: 0.1121 - accuracy: 0.9645 - val_loss: 0.2785 - val_accuracy: 0.9450\n",
            "1750/1750 [==============================] - 3s 2ms/step - loss: 0.2878 - accuracy: 0.9402\n"
          ],
          "name": "stdout"
        }
      ]
    },
    {
      "cell_type": "code",
      "metadata": {
        "id": "471HvA_XvT9m",
        "outputId": "00d05997-4505-4963-d783-94dd722136e4",
        "colab": {
          "base_uri": "https://localhost:8080/",
          "height": 321
        }
      },
      "source": [
        "plt.plot(history.history['loss'],)\n",
        "plt.plot(history.history['val_loss'],)\n",
        "plt.plot(history.history['accuracy'])\n",
        "plt.plot(history.history['val_accuracy'])\n",
        "plt.legend(['train_loss','validation_loss', 'train_accuracy','validation_accuracy'], loc='upper left')\n",
        "plt.show()"
      ],
      "execution_count": 14,
      "outputs": [
        {
          "output_type": "display_data",
          "data": {
            "image/png": "[encoded data removed]",
            "text/plain": [
              "<Figure size 720x360 with 1 Axes>"
            ]
          },
          "metadata": {
            "tags": [],
            "needs_background": "light"
          }
        }
      ]
    },
    {
      "cell_type": "markdown",
      "metadata": {
        "id": "tkDVr2DydK2Q"
      },
      "source": [
        "##ًRun model: Cross validation"
      ]
    },
    {
      "cell_type": "code",
      "metadata": {
        "id": "mSka17ucTlTa",
        "outputId": "6b59e445-3e9f-4015-a24c-734da6caef99",
        "colab": {
          "base_uri": "https://localhost:8080/",
          "height": 123
        }
      },
      "source": [
        "seed = 7\n",
        "np.random.seed(seed)\n",
        "kfold = StratifiedKFold(n_splits=5, shuffle=True, random_state=seed)\n",
        "\n",
        "cvscores = []\n",
        "step = 0\n",
        "for train, test in kfold.split(X, Y):\t\n",
        "  model.fit(X[train], Y[train], epochs=25, verbose=0)\n",
        "  scores = model.evaluate(X[test], Y[test], verbose=0)\n",
        "  print(\"step {0} ----- {1} is {2}\".format(step,model.metrics_names[1], scores[1]*100))\n",
        "  step += 1\n",
        "  cvscores.append(scores[1] * 100)\n",
        "print(\"The average of the model accuracy is {0} (+/- {1})\".format(np.mean(cvscores), np.std(cvscores)))"
      ],
      "execution_count": 16,
      "outputs": [
        {
          "output_type": "stream",
          "text": [
            "step 0 ----- accuracy is 98.42857122421265\n",
            "step 1 ----- accuracy is 98.2785701751709\n",
            "step 2 ----- accuracy is 98.47142696380615\n",
            "step 3 ----- accuracy is 98.63571524620056\n",
            "step 4 ----- accuracy is 98.47857356071472\n",
            "The average of the model accuracy is 98.458571434021 (+/- 0.11423287240370252)\n"
          ],
          "name": "stdout"
        }
      ]
    },
    {
      "cell_type": "markdown",
      "metadata": {
        "id": "iLbOIwajpMQ4"
      },
      "source": [
        "#PART5"
      ]
    },
    {
      "cell_type": "markdown",
      "metadata": {
        "id": "5u60272Q-IG5"
      },
      "source": [
        "##imports"
      ]
    },
    {
      "cell_type": "code",
      "metadata": {
        "id": "n5hYMfliqPnT"
      },
      "source": [
        "import tensorflow as tf\n",
        "from os import path, getcwd, chdir\n",
        "import cv2\n",
        "from skimage.util import random_noise\n",
        "import matplotlib.pyplot as plt\n",
        "import numpy as np\n",
        "from sklearn.model_selection import train_test_split\n",
        "from sklearn.metrics.pairwise import cosine_similarity\n",
        "from scipy import spatial\n"
      ],
      "execution_count": null,
      "outputs": []
    },
    {
      "cell_type": "markdown",
      "metadata": {
        "id": "mYnqhsleqMBd"
      },
      "source": [
        "## load dataset"
      ]
    },
    {
      "cell_type": "markdown",
      "metadata": {
        "id": "zR18wvxoqIeu"
      },
      "source": [
        "load mnist dataset "
      ]
    },
    {
      "cell_type": "code",
      "metadata": {
        "id": "_eed9kzdpLhl"
      },
      "source": [
        "path = f\"{getcwd()}/mnist.npz\""
      ],
      "execution_count": null,
      "outputs": []
    },
    {
      "cell_type": "code",
      "metadata": {
        "id": "9KdIqE9Fq1rC"
      },
      "source": [
        "mnist = tf.keras.datasets.mnist\n",
        "(training_images, training_labels), (test_images, test_labels) = mnist.load_data(path=path)\n",
        "training_images = training_images.reshape(60000,28,28)\n",
        "test_images = test_images.reshape(10000,28,28)"
      ],
      "execution_count": null,
      "outputs": []
    },
    {
      "cell_type": "code",
      "metadata": {
        "id": "SmMf79RDz0ml",
        "outputId": "9ed2cfd6-e07b-4c2e-82f2-de58a38ef0ad",
        "colab": {
          "base_uri": "https://localhost:8080/"
        }
      },
      "source": [
        "m, n = training_images[0].shape[0], training_images[0].shape[1]\n",
        "print('The image is ({0}*{1})'.format(m,n))"
      ],
      "execution_count": null,
      "outputs": [
        {
          "output_type": "stream",
          "text": [
            "The image is (28*28)\n"
          ],
          "name": "stdout"
        }
      ]
    },
    {
      "cell_type": "markdown",
      "metadata": {
        "id": "bArV3ziG77mX"
      },
      "source": [
        "##Preprocess Data and generate train,validation,test"
      ]
    },
    {
      "cell_type": "markdown",
      "metadata": {
        "id": "B2iH76eT0yg1"
      },
      "source": [
        "Normalize images --> map value into (0,1)"
      ]
    },
    {
      "cell_type": "code",
      "metadata": {
        "id": "DKk-v34vyqRr"
      },
      "source": [
        "training_images = np.array(training_images,np.float64)*(1/255)\n",
        "test_images = np.array(test_images,np.float64)*(1/255)"
      ],
      "execution_count": null,
      "outputs": []
    },
    {
      "cell_type": "markdown",
      "metadata": {
        "id": "1uM9gCkZ0iny"
      },
      "source": [
        "Flatten original image --> suitable for output of the network."
      ]
    },
    {
      "cell_type": "code",
      "metadata": {
        "id": "_hyog7sv0dIJ"
      },
      "source": [
        "x_train = np.reshape(training_images,(training_images.shape[0],m*n))\n",
        "test_images = np.reshape(test_images,(test_images.shape[0],m*n))"
      ],
      "execution_count": null,
      "outputs": []
    },
    {
      "cell_type": "code",
      "metadata": {
        "id": "kb6Nzqop3zeN"
      },
      "source": [
        "x_test, x_val, y_test, y_val = train_test_split(test_images, test_labels, test_size=0.4, random_state=42)"
      ],
      "execution_count": null,
      "outputs": []
    },
    {
      "cell_type": "code",
      "metadata": {
        "id": "FS45sc-j1CP8",
        "outputId": "717f50a6-98a9-4b0f-a287-a5546bff723f",
        "colab": {
          "base_uri": "https://localhost:8080/"
        }
      },
      "source": [
        "print('train shape:',x_train.shape[0])\n",
        "print('train shape:',x_val.shape[0])\n",
        "print('test shape:',x_test.shape[0])"
      ],
      "execution_count": null,
      "outputs": [
        {
          "output_type": "stream",
          "text": [
            "train shape: 60000\n",
            "train shape: 4000\n",
            "test shape: 6000\n"
          ],
          "name": "stdout"
        }
      ]
    },
    {
      "cell_type": "markdown",
      "metadata": {
        "id": "BW2WLNjzwuSN"
      },
      "source": [
        "##Add noise"
      ]
    },
    {
      "cell_type": "code",
      "metadata": {
        "id": "qUpjR6qUq30E"
      },
      "source": [
        "def make_noisydata(data,model,var,portion):\n",
        "  noisy_data = np.empty(data.shape)\n",
        "  if model == 'gaussian':\n",
        "    for i in range(data.shape[0]):\n",
        "      noisy_data[i] = random_noise(data[i],model,var = var)\n",
        "  elif model == 's&p':\n",
        "    for i in range(data.shape[0]):\n",
        "      noisy_data[i] = random_noise(data[i],model,amount=portion)\n",
        "  return noisy_data"
      ],
      "execution_count": null,
      "outputs": []
    },
    {
      "cell_type": "code",
      "metadata": {
        "id": "Du5KsQKY5Tgm"
      },
      "source": [
        "def add_noise(model,var,portion):\n",
        "  noisy_train = make_noisydata(x_train,model,var,portion)\n",
        "  noisy_val = make_noisydata(x_val,model,var,portion)\n",
        "  noisy_test = make_noisydata(x_test,model,var,portion)\n",
        "  return noisy_train, noisy_val,noisy_test"
      ],
      "execution_count": null,
      "outputs": []
    },
    {
      "cell_type": "markdown",
      "metadata": {
        "id": "LvL5i62t8_Uc"
      },
      "source": [
        "##Generate Model\n"
      ]
    },
    {
      "cell_type": "code",
      "metadata": {
        "id": "JW6j67xiomRg"
      },
      "source": [
        "def generate_model(layers_number,layers_nodenum,dropout,optimizer,loss,accuracy):\n",
        "  layers = []\n",
        "  layers.append(tf.keras.layers.Flatten())\n",
        "  for i in range(layers_number):\n",
        "    layers.append(tf.keras.layers.Dense(layers_nodenum[i],activation=tf.nn.relu))\n",
        "    layers.append(tf.keras.layers.Dropout(dropout[i]))\n",
        "  layers.append(tf.keras.layers.Dense(m*n,activation=tf.nn.softmax))\n",
        "  model = tf.keras.models.Sequential(layers)\n",
        "  model.compile(optimizer=optimizer, loss=loss, metrics=[accuracy])\n",
        "  model.build((None,m*n))\n",
        "  model.summary()\n",
        "  return model\n"
      ],
      "execution_count": null,
      "outputs": []
    },
    {
      "cell_type": "code",
      "metadata": {
        "id": "8Oktja194o0i"
      },
      "source": [
        "def RemoveNoise(model_info,epochs,train=True):\n",
        "  model = generate_model(model_info['layer_number'],model_info['layer_nodenum'],model_info['dropout_postion'],model_info['optimizer'],model_info['loss'],model_info['accuracy'])\n",
        "  mcp_save = tf.keras.callbacks.ModelCheckpoint(model_info['best_model_path'], save_best_only=True, monitor='val_cosine_similarity', mode='max')\n",
        "  if train:\n",
        "    history = model.fit(n_train,x_train,validation_data= (n_val,x_val), epochs=epochs,callbacks=[mcp_save] )\n",
        "  model.load_weights(model_info['best_model_path'])\n",
        "  print('best accurasy on train data is:',model.evaluate(n_train, x_train)[1],)\n",
        "  print('best accurasy on validation data is:',model.evaluate(n_val, x_val)[1],)\n",
        "  print('best accurasy on test data is:',model.evaluate(n_test, x_test)[1],)\n",
        "  return model"
      ],
      "execution_count": null,
      "outputs": []
    },
    {
      "cell_type": "code",
      "metadata": {
        "id": "SwJZkBdIHkGq"
      },
      "source": [
        "def checktestsample(model,sample):\n",
        "  y_pred = model.predict(np.array([n_test[sample]]))\n",
        "  similarity = 1 - spatial.distance.cosine(y_pred[0], x_test[sample])\n",
        "  y_pred0 = np.reshape(y_pred[0],(m,n))\n",
        "  image_list = []\n",
        "  image_list.append([x_test[sample].reshape((m,n)), 'Original Test Image', 'img'])\n",
        "  image_list.append([n_test[sample].reshape((m,n)), 'Noisy Test Image', 'img'])\n",
        "  image_list.append([y_pred0, 'Predicted Image', 'img'])\n",
        "  print(\"cos similarity between desired and predicted is:%{0}\".format(similarity))\n",
        "  plotter(image_list,1,3 ,True,10,10)"
      ],
      "execution_count": null,
      "outputs": []
    },
    {
      "cell_type": "markdown",
      "metadata": {
        "id": "dPVe1jbGX734"
      },
      "source": [
        "##RUN"
      ]
    },
    {
      "cell_type": "code",
      "metadata": {
        "id": "ovDnlLGJzISJ",
        "outputId": "35f6f59d-f363-4b6e-8a90-e01501708bda",
        "colab": {
          "base_uri": "https://localhost:8080/",
          "height": 550
        }
      },
      "source": [
        "noise_info ={\n",
        "    'model': 'gaussian',\n",
        "    'var': 0.5,\n",
        "    'portion': 0.2\n",
        "}\n",
        "model_info={\n",
        "    'layer_number':3,\n",
        "    'layer_nodenum' : [254,128,32],\n",
        "    'dropout_postion': [0,0.1,0],\n",
        "    'optimizer': tf.keras.optimizers.Adam(),\n",
        "    'loss': tf.keras.losses.CosineSimilarity(),\n",
        "    'accuracy':tf.keras.metrics.CosineSimilarity(name='cosine_similarity'),\n",
        "    'best_model_path':'.mdl_wts.hdf5'\n",
        "}\n",
        "n_train, n_val,n_test = add_noise(noise_info['model'],noise_info['var'],noise_info['portion'])\n",
        "best_model = RemoveNoise(model_info,epochs=35,train=False)"
      ],
      "execution_count": null,
      "outputs": [
        {
          "output_type": "stream",
          "text": [
            "Model: \"sequential_4\"\n",
            "_________________________________________________________________\n",
            "Layer (type)                 Output Shape              Param #   \n",
            "=================================================================\n",
            "flatten_4 (Flatten)          (None, 784)               0         \n",
            "_________________________________________________________________\n",
            "dense_16 (Dense)             (None, 254)               199390    \n",
            "_________________________________________________________________\n",
            "dropout_12 (Dropout)         (None, 254)               0         \n",
            "_________________________________________________________________\n",
            "dense_17 (Dense)             (None, 128)               32640     \n",
            "_________________________________________________________________\n",
            "dropout_13 (Dropout)         (None, 128)               0         \n",
            "_________________________________________________________________\n",
            "dense_18 (Dense)             (None, 32)                4128      \n",
            "_________________________________________________________________\n",
            "dropout_14 (Dropout)         (None, 32)                0         \n",
            "_________________________________________________________________\n",
            "dense_19 (Dense)             (None, 784)               25872     \n",
            "=================================================================\n",
            "Total params: 262,030\n",
            "Trainable params: 262,030\n",
            "Non-trainable params: 0\n",
            "_________________________________________________________________\n",
            "1875/1875 [==============================] - 3s 1ms/step - loss: -0.8265 - cosine_similarity: 0.8265\n",
            "best accurasy on train data is: 0.8265052437782288\n",
            "125/125 [==============================] - 0s 1ms/step - loss: -0.8302 - cosine_similarity: 0.8302\n",
            "best accurasy on validation data is: 0.830161988735199\n",
            "188/188 [==============================] - 0s 2ms/step - loss: -0.8325 - cosine_similarity: 0.8325\n",
            "best accurasy on test data is: 0.8324647545814514\n"
          ],
          "name": "stdout"
        }
      ]
    },
    {
      "cell_type": "code",
      "metadata": {
        "id": "U9sn2Onv2yQ3",
        "outputId": "7b377a4a-86f7-4d48-aaba-286d49396fd8",
        "colab": {
          "base_uri": "https://localhost:8080/"
        }
      },
      "source": [
        "checktestsample(best_model,26)"
      ],
      "execution_count": null,
      "outputs": [
        {
          "output_type": "stream",
          "text": [
            "cos similarity between desired and predicted is:%0.7658917471877816\n"
          ],
          "name": "stdout"
        },
        {
          "output_type": "display_data",
          "data": {
            "image/png": "[encoded data removed]",
            "text/plain": [
              "<Figure size 720x720 with 3 Axes>"
            ]
          },
          "metadata": {
            "tags": []
          }
        }
      ]
    }
  ]
}