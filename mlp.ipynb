{
  "nbformat": 4,
  "nbformat_minor": 0,
  "metadata": {
    "colab": {
      "name": "mlp",
      "provenance": [],
      "authorship_tag": "ABX9TyOUJjLOEfWBe5WyAkIBocb/",
      "include_colab_link": true
    },
    "kernelspec": {
      "name": "python3",
      "display_name": "Python 3"
    },
    "accelerator": "GPU"
  },
  "cells": [
    {
      "cell_type": "markdown",
      "metadata": {
        "id": "view-in-github",
        "colab_type": "text"
      },
      "source": [
        "<a href=\"https://colab.research.google.com/github/mahsaghaderan99/MLP/blob/noise-detection/mlp.ipynb\" target=\"_parent\"><img src=\"https://colab.research.google.com/assets/colab-badge.svg\" alt=\"Open In Colab\"/></a>"
      ]
    },
    {
      "cell_type": "markdown",
      "metadata": {
        "id": "CyK4A_cco_WC"
      },
      "source": [
        "*Deep* MLP project"
      ]
    },
    {
      "cell_type": "code",
      "metadata": {
        "id": "pI1xwS3FuFq-"
      },
      "source": [
        "def plotter(img_list, r, w, gray, wr, hr, fig_name = None):\n",
        "    '''\n",
        "    Plots images' list with its' caption and saves result image if you want.\n",
        "\n",
        "    Parameters:\n",
        "        img_list (list): The list of tuples of image and its' caption.\n",
        "        r (int): The number of row(s).\n",
        "        w (int): The number of colunm(s).\n",
        "        gray (bool): The flag for plotting images in grayscale mode.\n",
        "        wr (int): The width of one figure.\n",
        "        hr (int): The height of one figure.\n",
        "        fig_name (str): The name of the image of the plot. if not set this parameter the plot doesn't save.\n",
        "    '''\n",
        "    \n",
        "    plt.rcParams['figure.figsize'] = (wr, hr)\n",
        "    for i in range(len(img_list)):\n",
        "        plt.subplot(r, w, i + 1)\n",
        "        if img_list[i][2] == 'img':\n",
        "            if gray:\n",
        "                plt.imshow(img_list[i][0], cmap = 'gray')\n",
        "            else:\n",
        "                plt.imshow(img_list[i][0])\n",
        "            plt.xticks([])\n",
        "            plt.yticks([])\n",
        "        elif img_list[i][2] == 'hist':\n",
        "            plt.bar(np.arange(len(img_list[i][0])), img_list[i][0], color = 'c')\n",
        "        else:\n",
        "            raise Exception(\"Only image or histogram. Use third parameter of tuples in img_list and set it to img or hist.\")\n",
        "        plt.title(img_list[i][1])\n",
        "    if fig_name is not None:\n",
        "        plt.savefig(fig_name + '.png')\n",
        "    plt.show()"
      ],
      "execution_count": null,
      "outputs": []
    },
    {
      "cell_type": "markdown",
      "metadata": {
        "id": "iLbOIwajpMQ4"
      },
      "source": [
        "#PART5"
      ]
    },
    {
      "cell_type": "markdown",
      "metadata": {
        "id": "5u60272Q-IG5"
      },
      "source": [
        "##imports"
      ]
    },
    {
      "cell_type": "code",
      "metadata": {
        "id": "n5hYMfliqPnT"
      },
      "source": [
        "import tensorflow as tf\n",
        "from os import path, getcwd, chdir\n",
        "import cv2\n",
        "from skimage.util import random_noise\n",
        "import matplotlib.pyplot as plt\n",
        "import numpy as np\n",
        "from sklearn.model_selection import train_test_split\n",
        "from sklearn.metrics.pairwise import cosine_similarity\n",
        "from scipy import spatial\n"
      ],
      "execution_count": 555,
      "outputs": []
    },
    {
      "cell_type": "markdown",
      "metadata": {
        "id": "mYnqhsleqMBd"
      },
      "source": [
        "## load dataset"
      ]
    },
    {
      "cell_type": "markdown",
      "metadata": {
        "id": "zR18wvxoqIeu"
      },
      "source": [
        "load mnist dataset "
      ]
    },
    {
      "cell_type": "code",
      "metadata": {
        "id": "_eed9kzdpLhl"
      },
      "source": [
        "path = f\"{getcwd()}/mnist.npz\""
      ],
      "execution_count": 556,
      "outputs": []
    },
    {
      "cell_type": "code",
      "metadata": {
        "id": "9KdIqE9Fq1rC"
      },
      "source": [
        "mnist = tf.keras.datasets.mnist\n",
        "(training_images, training_labels), (test_images, test_labels) = mnist.load_data(path=path)\n",
        "x_train = training_images.reshape(60000,28,28)\n",
        "x_test = test_images.reshape(10000,28,28)"
      ],
      "execution_count": 564,
      "outputs": []
    },
    {
      "cell_type": "code",
      "metadata": {
        "id": "SmMf79RDz0ml",
        "outputId": "5938724b-6f44-492a-ef8e-b4611b3bbdaf",
        "colab": {
          "base_uri": "https://localhost:8080/",
          "height": 34
        }
      },
      "source": [
        "m, n = x_train[0].shape[0], x_train[0].shape[1]\n",
        "print('The image is ({0}*{1})'.format(m,n))"
      ],
      "execution_count": 565,
      "outputs": [
        {
          "output_type": "stream",
          "text": [
            "The image is (28*28)\n"
          ],
          "name": "stdout"
        }
      ]
    },
    {
      "cell_type": "markdown",
      "metadata": {
        "id": "bArV3ziG77mX"
      },
      "source": [
        "##Preprocess Data and generate train,validation,test"
      ]
    },
    {
      "cell_type": "markdown",
      "metadata": {
        "id": "B2iH76eT0yg1"
      },
      "source": [
        "Normalize images --> map value into (0,1)"
      ]
    },
    {
      "cell_type": "code",
      "metadata": {
        "id": "DKk-v34vyqRr"
      },
      "source": [
        "x_train = np.array(x_train,np.float64)*(1/255)\n",
        "x_test = np.array(x_test,np.float64)*(1/255)"
      ],
      "execution_count": 571,
      "outputs": []
    },
    {
      "cell_type": "markdown",
      "metadata": {
        "id": "1uM9gCkZ0iny"
      },
      "source": [
        "Flatten original image --> suitable for output of the network."
      ]
    },
    {
      "cell_type": "code",
      "metadata": {
        "id": "_hyog7sv0dIJ"
      },
      "source": [
        "x_train = np.reshape(x_train,(x_train.shape[0],m*n))\n",
        "x_test = np.reshape(x_test,(x_test.shape[0],m*n))"
      ],
      "execution_count": 572,
      "outputs": []
    },
    {
      "cell_type": "code",
      "metadata": {
        "id": "kb6Nzqop3zeN"
      },
      "source": [
        "x_test, x_val, y_test, y_val = train_test_split(noisy_test, origin_test, test_size=0.4, random_state=42)"
      ],
      "execution_count": 573,
      "outputs": []
    },
    {
      "cell_type": "code",
      "metadata": {
        "id": "FS45sc-j1CP8",
        "outputId": "0f292890-4082-4f2c-de38-4a82de255452",
        "colab": {
          "base_uri": "https://localhost:8080/",
          "height": 70
        }
      },
      "source": [
        "print('train shape:',x_train.shape[0])\n",
        "print('train shape:',x_val.shape[0])\n",
        "print('test shape:',x_test.shape[0])"
      ],
      "execution_count": 574,
      "outputs": [
        {
          "output_type": "stream",
          "text": [
            "train shape: 60000\n",
            "train shape: 4000\n",
            "test shape: 6000\n"
          ],
          "name": "stdout"
        }
      ]
    },
    {
      "cell_type": "markdown",
      "metadata": {
        "id": "BW2WLNjzwuSN"
      },
      "source": [
        "##Add noise"
      ]
    },
    {
      "cell_type": "code",
      "metadata": {
        "id": "qUpjR6qUq30E"
      },
      "source": [
        "def make_noisydata(data,model,var,portion):\n",
        "  noisy_data = np.empty(data.shape)\n",
        "  if model == 'gaussian':\n",
        "    for i in range(data.shape[0]):\n",
        "      noisy_data[i] = random_noise(data[i],model,var = var)\n",
        "  elif model == 's&p':\n",
        "    for i in range(data.shape[0]):\n",
        "      noisy_data[i] = random_noise(data[i],model,amount=portion)\n",
        "  return noisy_data"
      ],
      "execution_count": 548,
      "outputs": []
    },
    {
      "cell_type": "code",
      "metadata": {
        "id": "Du5KsQKY5Tgm"
      },
      "source": [
        "def add_noise(model,var,portion):\n",
        "  noisy_train = make_noisydata(x_train,model,var,portion)\n",
        "  noisy_val = make_noisydata(x_val,model,var,portion)\n",
        "  noisy_test = make_noisydata(x_test,model,var,portion)\n",
        "  return noisy_train, noisy_val,noisy_test"
      ],
      "execution_count": 543,
      "outputs": []
    },
    {
      "cell_type": "markdown",
      "metadata": {
        "id": "LvL5i62t8_Uc"
      },
      "source": [
        "##Generate Model\n"
      ]
    },
    {
      "cell_type": "code",
      "metadata": {
        "id": "JW6j67xiomRg"
      },
      "source": [
        "import tensorflow as tf \n",
        "class Mycallback(tf.keras.callbacks.Callback):\n",
        "  def on_epoch_end(self, epoch,logs={}):\n",
        "      if logs.get('accuracy')>=0.998:\n",
        "          self.model.stop_training = True\n",
        "\n",
        "callbacks = Mycallback() \n",
        "\n",
        "model = tf.keras.models.Sequential([\n",
        "        tf.keras.layers.Flatten(),\n",
        "        tf.keras.layers.Dense(m*n,activation=tf.nn.relu),\n",
        "        tf.keras.layers.Dense(128,activation=tf.nn.relu),\n",
        "        tf.keras.layers.Dropout(0.2),\n",
        "        tf.keras.layers.Dense(32,activation=tf.nn.softsign),\n",
        "        tf.keras.layers.Dense(m*n,activation=tf.nn.softmax)\n",
        "])\n",
        "mcp_save = tf.keras.callbacks.ModelCheckpoint('.mdl_wts.hdf5', save_best_only=True, monitor='val_cosine_similarity', mode='max')\n",
        "optimizer = tf.keras.optimizers.Adam()\n",
        "loss = tf.keras.losses.CosineSimilarity()\n",
        "model.compile(optimizer=optimizer, loss=loss, metrics=[tf.keras.metrics.CosineSimilarity(name='cosine_similarity')])\n",
        "history = model.fit(x_train,y_train,validation_data= (x_val,y_val), epochs=85,callbacks=[mcp_save] )\n",
        "\n",
        "model.load_weights('.mdl_wts.hdf5')\n",
        "print(model.evaluate(x_test, x_test))"
      ],
      "execution_count": null,
      "outputs": []
    },
    {
      "cell_type": "code",
      "metadata": {
        "id": "8Oktja194o0i"
      },
      "source": [
        "def RemoveNoise(noise_info,model_info):\n",
        "  add_noise(noise_info['model'],noise_info['var'],noise_info['portion'])\n",
        "  # generate_model()"
      ],
      "execution_count": 545,
      "outputs": []
    },
    {
      "cell_type": "code",
      "metadata": {
        "id": "SwJZkBdIHkGq"
      },
      "source": [
        "def checktestsample(model,sample):\n",
        "  y_pred = model.predict(np.array([x_test[sample]]))\n",
        "  similarity = 1 - spatial.distance.cosine(y_pred[0], y_test[sample])\n",
        "  y_pred0 = np.reshape(y_pred[0],(m,n))\n",
        "  image_list = []\n",
        "  image_list.append([y_test[sample].reshape((m,n)), 'Original Test Image', 'img'])\n",
        "  image_list.append([x_test[sample].reshape((m,n)), 'Noisy Test Image', 'img'])\n",
        "  image_list.append([y_pred0, 'Predicted Image', 'img'])\n",
        "  print(\"cos similarity between desired and predicted is:%{0}\".format(similarity))\n",
        "  plotter(image_list,1,3 ,True,10,10)"
      ],
      "execution_count": 525,
      "outputs": []
    },
    {
      "cell_type": "code",
      "metadata": {
        "id": "ovDnlLGJzISJ",
        "outputId": "9ea39362-c99e-4cf8-8276-5cbff240034c",
        "colab": {
          "base_uri": "https://localhost:8080/",
          "height": 70
        }
      },
      "source": [
        "noise_dict ={\n",
        "    'model': 'gaussian',\n",
        "    'var': 0.1,\n",
        "    'portion': 0.2\n",
        "}\n",
        "model_info={\n",
        "    'layer_number':2,\n",
        "    'layer_nodenum' : [128,32],\n",
        "    'dropout_postion': 0.1,\n",
        "    'optimizer': 'adam',\n",
        "    'loss': '',\n",
        "    'accuracy':'',\n",
        "    'best_model_path':''\n",
        "}\n",
        "best_model = RemoveNoise(noise_dict,model_info)\n",
        "# checktestsample(best_model,30)"
      ],
      "execution_count": 575,
      "outputs": [
        {
          "output_type": "stream",
          "text": [
            "(60000, 784)\n",
            "(4000, 784)\n",
            "(6000, 784)\n"
          ],
          "name": "stdout"
        }
      ]
    },
    {
      "cell_type": "code",
      "metadata": {
        "id": "U9sn2Onv2yQ3",
        "outputId": "57fe6620-f8c9-4046-a6dd-5d029a61dbdf",
        "colab": {
          "base_uri": "https://localhost:8080/",
          "height": 232
        }
      },
      "source": [
        "checktestsample(model,14)"
      ],
      "execution_count": 526,
      "outputs": [
        {
          "output_type": "stream",
          "text": [
            "cos similarity between desired and predicted is:%0.9243289905537699\n"
          ],
          "name": "stdout"
        },
        {
          "output_type": "display_data",
          "data": {
            "image/png": "[encoded data removed]",
            "text/plain": [
              "<Figure size 720x720 with 3 Axes>"
            ]
          },
          "metadata": {
            "tags": []
          }
        }
      ]
    }
  ]
}