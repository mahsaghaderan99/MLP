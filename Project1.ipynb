{
  "nbformat": 4,
  "nbformat_minor": 0,
  "metadata": {
    "colab": {
      "name": "Project1.ipynb",
      "provenance": [],
      "authorship_tag": "ABX9TyNEcBQzyt1n5NPv89lyqPQs",
      "include_colab_link": true
    },
    "kernelspec": {
      "name": "python3",
      "display_name": "Python 3"
    },
    "accelerator": "GPU"
  },
  "cells": [
    {
      "cell_type": "markdown",
      "metadata": {
        "id": "view-in-github",
        "colab_type": "text"
      },
      "source": [
        "<a href=\"https://colab.research.google.com/github/mahsaghaderan99/MLP/blob/noise-detection/Project1.ipynb\" target=\"_parent\"><img src=\"https://colab.research.google.com/assets/colab-badge.svg\" alt=\"Open In Colab\"/></a>"
      ]
    },
    {
      "cell_type": "markdown",
      "metadata": {
        "id": "CyK4A_cco_WC"
      },
      "source": [
        "*Deep* MLP project"
      ]
    },
    {
      "cell_type": "code",
      "metadata": {
        "id": "pI1xwS3FuFq-"
      },
      "source": [
        "def plotter(img_list, r, w, gray, wr, hr, fig_name = None):\n",
        "    '''\n",
        "    Plots images' list with its' caption and saves result image if you want.\n",
        "\n",
        "    Parameters:\n",
        "        img_list (list): The list of tuples of image and its' caption.\n",
        "        r (int): The number of row(s).\n",
        "        w (int): The number of colunm(s).\n",
        "        gray (bool): The flag for plotting images in grayscale mode.\n",
        "        wr (int): The width of one figure.\n",
        "        hr (int): The height of one figure.\n",
        "        fig_name (str): The name of the image of the plot. if not set this parameter the plot doesn't save.\n",
        "    '''\n",
        "    \n",
        "    plt.rcParams['figure.figsize'] = (wr, hr)\n",
        "    for i in range(len(img_list)):\n",
        "        plt.subplot(r, w, i + 1)\n",
        "        if img_list[i][2] == 'img':\n",
        "            if gray:\n",
        "                plt.imshow(img_list[i][0], cmap = 'gray')\n",
        "            else:\n",
        "                plt.imshow(img_list[i][0])\n",
        "            plt.xticks([])\n",
        "            plt.yticks([])\n",
        "        elif img_list[i][2] == 'hist':\n",
        "            plt.bar(np.arange(len(img_list[i][0])), img_list[i][0], color = 'c')\n",
        "        else:\n",
        "            raise Exception(\"Only image or histogram. Use third parameter of tuples in img_list and set it to img or hist.\")\n",
        "        plt.title(img_list[i][1])\n",
        "    if fig_name is not None:\n",
        "        plt.savefig(fig_name + '.png')\n",
        "    plt.show()"
      ],
      "execution_count": 434,
      "outputs": []
    },
    {
      "cell_type": "markdown",
      "metadata": {
        "id": "iLbOIwajpMQ4"
      },
      "source": [
        "#PART5"
      ]
    },
    {
      "cell_type": "code",
      "metadata": {
        "id": "n5hYMfliqPnT"
      },
      "source": [
        "import tensorflow as tf\n",
        "from os import path, getcwd, chdir\n",
        "import cv2\n",
        "from skimage.util import random_noise\n",
        "import matplotlib.pyplot as plt\n",
        "import numpy as np\n",
        "from sklearn.model_selection import train_test_split"
      ],
      "execution_count": 435,
      "outputs": []
    },
    {
      "cell_type": "markdown",
      "metadata": {
        "id": "mYnqhsleqMBd"
      },
      "source": [
        "## load dataset"
      ]
    },
    {
      "cell_type": "markdown",
      "metadata": {
        "id": "zR18wvxoqIeu"
      },
      "source": [
        "load mnist dataset "
      ]
    },
    {
      "cell_type": "code",
      "metadata": {
        "id": "_eed9kzdpLhl"
      },
      "source": [
        "path = f\"{getcwd()}/mnist.npz\""
      ],
      "execution_count": 436,
      "outputs": []
    },
    {
      "cell_type": "code",
      "metadata": {
        "id": "9KdIqE9Fq1rC"
      },
      "source": [
        "mnist = tf.keras.datasets.mnist\n",
        "(training_images, training_labels), (test_images, test_labels) = mnist.load_data(path=path)\n",
        "x_train = training_images.reshape(60000,28,28)\n",
        "x_test = test_images.reshape(10000,28,28)"
      ],
      "execution_count": 437,
      "outputs": []
    },
    {
      "cell_type": "markdown",
      "metadata": {
        "id": "BW2WLNjzwuSN"
      },
      "source": [
        "##Add noise"
      ]
    },
    {
      "cell_type": "code",
      "metadata": {
        "id": "qUpjR6qUq30E"
      },
      "source": [
        "def add_noise(data): \n",
        "  noisy_data = np.empty(data.shape)\n",
        "  for i in range(data.shape[0]):\n",
        "    noisy_data[i] = random_noise(data[i],'gaussian',var=0.1)\n",
        "  return noisy_data"
      ],
      "execution_count": 438,
      "outputs": []
    },
    {
      "cell_type": "code",
      "metadata": {
        "id": "ABO1Dk0XscoL"
      },
      "source": [
        "noisy_train = add_noise(x_train)\n",
        "noisy_test = add_noise(x_test)"
      ],
      "execution_count": 439,
      "outputs": []
    },
    {
      "cell_type": "code",
      "metadata": {
        "id": "vTsJYof3uHM7",
        "outputId": "3c58e2cd-307b-4653-f4b5-ff32faeeed7c",
        "colab": {
          "base_uri": "https://localhost:8080/",
          "height": 304
        }
      },
      "source": [
        "image_list = []\n",
        "image_list.append([x_train[0], 'Original Image', 'img'])\n",
        "image_list.append([noisy_train[0], 'Noisy Image', 'img'])\n",
        "plotter(image_list,1,2,True,10,10)"
      ],
      "execution_count": 440,
      "outputs": [
        {
          "output_type": "display_data",
          "data": {
            "image/png": "[encoded data removed]",
            "text/plain": [
              "<Figure size 720x720 with 2 Axes>"
            ]
          },
          "metadata": {
            "tags": []
          }
        }
      ]
    },
    {
      "cell_type": "markdown",
      "metadata": {
        "id": "B2iH76eT0yg1"
      },
      "source": [
        "Normalize images --> map value into (0,1)"
      ]
    },
    {
      "cell_type": "code",
      "metadata": {
        "id": "DKk-v34vyqRr"
      },
      "source": [
        "noisy_train /= 255\n",
        "origin_train = x_train/255\n",
        "noisy_test /= 255\n",
        "origin_test = x_test/255"
      ],
      "execution_count": 441,
      "outputs": []
    },
    {
      "cell_type": "code",
      "metadata": {
        "id": "SmMf79RDz0ml",
        "outputId": "70a06149-28a4-4598-c762-a678870545aa",
        "colab": {
          "base_uri": "https://localhost:8080/",
          "height": 34
        }
      },
      "source": [
        "m, n = x_train[0].shape[0], x_train[0].shape[1]\n",
        "print(m,n)"
      ],
      "execution_count": 442,
      "outputs": [
        {
          "output_type": "stream",
          "text": [
            "28 28\n"
          ],
          "name": "stdout"
        }
      ]
    },
    {
      "cell_type": "markdown",
      "metadata": {
        "id": "1uM9gCkZ0iny"
      },
      "source": [
        "Flatten original image --> suitable for output of the network."
      ]
    },
    {
      "cell_type": "code",
      "metadata": {
        "id": "_hyog7sv0dIJ"
      },
      "source": [
        "x_train = np.reshape(noisy_train,(noisy_train.shape[0],m*n))\n",
        "noisy_test = np.reshape(noisy_test,(noisy_test.shape[0],m*n))\n",
        "y_train = np.reshape(origin_train,(origin_train.shape[0],m*n))\n",
        "origin_test = np.reshape(origin_test,(origin_test.shape[0],m*n))"
      ],
      "execution_count": 443,
      "outputs": []
    },
    {
      "cell_type": "code",
      "metadata": {
        "id": "kb6Nzqop3zeN"
      },
      "source": [
        "x_test, x_val, y_test, y_val = train_test_split(noisy_test, origin_test, test_size=0.4, random_state=42)"
      ],
      "execution_count": 444,
      "outputs": []
    },
    {
      "cell_type": "code",
      "metadata": {
        "id": "FS45sc-j1CP8",
        "outputId": "8e46716b-8221-403d-b3dc-2e55d248b4c9",
        "colab": {
          "base_uri": "https://localhost:8080/",
          "height": 70
        }
      },
      "source": [
        "print('train shape:',x_train.shape)\n",
        "print('train shape:',x_val.shape)\n",
        "print('test shape:',x_test.shape)"
      ],
      "execution_count": 445,
      "outputs": [
        {
          "output_type": "stream",
          "text": [
            "train shape: (60000, 784)\n",
            "train shape: (4000, 784)\n",
            "test shape: (6000, 784)\n"
          ],
          "name": "stdout"
        }
      ]
    },
    {
      "cell_type": "code",
      "metadata": {
        "id": "JW6j67xiomRg",
        "outputId": "05ef5f7f-01ea-4bd8-b8c7-1e5ea1263962",
        "colab": {
          "base_uri": "https://localhost:8080/",
          "height": 1000
        }
      },
      "source": [
        "import tensorflow as tf \n",
        "class Mycallback(tf.keras.callbacks.Callback):\n",
        "  def on_epoch_end(self, epoch,logs={}):\n",
        "      if logs.get('accuracy')>=0.998:\n",
        "          self.model.stop_training = True\n",
        "\n",
        "callbacks = Mycallback() \n",
        "\n",
        "model = tf.keras.models.Sequential([\n",
        "        tf.keras.layers.Flatten(),\n",
        "        tf.keras.layers.Dense(m*n,activation=tf.nn.relu),\n",
        "        tf.keras.layers.Dense(128,activation=tf.nn.relu),\n",
        "        tf.keras.layers.Dropout(0.2),\n",
        "        tf.keras.layers.Dense(32,activation=tf.nn.softsign),\n",
        "        tf.keras.layers.Dense(m*n,activation=tf.nn.softmax)\n",
        "])\n",
        "mcp_save = tf.keras.callbacks.ModelCheckpoint('.mdl_wts.hdf5', save_best_only=True, monitor='val_cosine_similarity', mode='max')\n",
        "optimizer = tf.keras.optimizers.Adam()\n",
        "loss = tf.keras.losses.CosineSimilarity()\n",
        "model.compile(optimizer=optimizer, loss=loss, metrics=[tf.keras.metrics.CosineSimilarity(name='cosine_similarity')])\n",
        "history = model.fit(x_train,y_train,validation_data= (x_val,y_val), epochs=85,callbacks=[mcp_save] )\n",
        "\n"
      ],
      "execution_count": 446,
      "outputs": [
        {
          "output_type": "stream",
          "text": [
            "Epoch 1/85\n",
            "1875/1875 [==============================] - 4s 2ms/step - loss: -0.6634 - cosine_similarity: 0.6634 - val_loss: -0.7355 - val_cosine_similarity: 0.7355\n",
            "Epoch 2/85\n",
            "1875/1875 [==============================] - 4s 2ms/step - loss: -0.7650 - cosine_similarity: 0.7650 - val_loss: -0.8016 - val_cosine_similarity: 0.8016\n",
            "Epoch 3/85\n",
            "1875/1875 [==============================] - 4s 2ms/step - loss: -0.8087 - cosine_similarity: 0.8087 - val_loss: -0.8295 - val_cosine_similarity: 0.8295\n",
            "Epoch 4/85\n",
            "1875/1875 [==============================] - 4s 2ms/step - loss: -0.8282 - cosine_similarity: 0.8282 - val_loss: -0.8458 - val_cosine_similarity: 0.8458\n",
            "Epoch 5/85\n",
            "1875/1875 [==============================] - 4s 2ms/step - loss: -0.8396 - cosine_similarity: 0.8396 - val_loss: -0.8556 - val_cosine_similarity: 0.8556\n",
            "Epoch 6/85\n",
            "1875/1875 [==============================] - 4s 2ms/step - loss: -0.8481 - cosine_similarity: 0.8481 - val_loss: -0.8652 - val_cosine_similarity: 0.8652\n",
            "Epoch 7/85\n",
            "1875/1875 [==============================] - 4s 2ms/step - loss: -0.8548 - cosine_similarity: 0.8548 - val_loss: -0.8713 - val_cosine_similarity: 0.8713\n",
            "Epoch 8/85\n",
            "1875/1875 [==============================] - 4s 2ms/step - loss: -0.8597 - cosine_similarity: 0.8597 - val_loss: -0.8764 - val_cosine_similarity: 0.8764\n",
            "Epoch 9/85\n",
            "1875/1875 [==============================] - 4s 2ms/step - loss: -0.8639 - cosine_similarity: 0.8639 - val_loss: -0.8812 - val_cosine_similarity: 0.8812\n",
            "Epoch 10/85\n",
            "1875/1875 [==============================] - 4s 2ms/step - loss: -0.8672 - cosine_similarity: 0.8672 - val_loss: -0.8848 - val_cosine_similarity: 0.8848\n",
            "Epoch 11/85\n",
            "1875/1875 [==============================] - 4s 2ms/step - loss: -0.8705 - cosine_similarity: 0.8705 - val_loss: -0.8875 - val_cosine_similarity: 0.8875\n",
            "Epoch 12/85\n",
            "1875/1875 [==============================] - 4s 2ms/step - loss: -0.8730 - cosine_similarity: 0.8730 - val_loss: -0.8910 - val_cosine_similarity: 0.8910\n",
            "Epoch 13/85\n",
            "1875/1875 [==============================] - 4s 2ms/step - loss: -0.8753 - cosine_similarity: 0.8753 - val_loss: -0.8938 - val_cosine_similarity: 0.8938\n",
            "Epoch 14/85\n",
            "1875/1875 [==============================] - 4s 2ms/step - loss: -0.8772 - cosine_similarity: 0.8772 - val_loss: -0.8957 - val_cosine_similarity: 0.8957\n",
            "Epoch 15/85\n",
            "1875/1875 [==============================] - 4s 2ms/step - loss: -0.8789 - cosine_similarity: 0.8789 - val_loss: -0.8970 - val_cosine_similarity: 0.8970\n",
            "Epoch 16/85\n",
            "1875/1875 [==============================] - 4s 2ms/step - loss: -0.8804 - cosine_similarity: 0.8804 - val_loss: -0.8990 - val_cosine_similarity: 0.8990\n",
            "Epoch 17/85\n",
            "1875/1875 [==============================] - 4s 2ms/step - loss: -0.8815 - cosine_similarity: 0.8815 - val_loss: -0.9003 - val_cosine_similarity: 0.9003\n",
            "Epoch 18/85\n",
            "1875/1875 [==============================] - 4s 2ms/step - loss: -0.8828 - cosine_similarity: 0.8828 - val_loss: -0.9019 - val_cosine_similarity: 0.9019\n",
            "Epoch 19/85\n",
            "1875/1875 [==============================] - 4s 2ms/step - loss: -0.8840 - cosine_similarity: 0.8840 - val_loss: -0.9026 - val_cosine_similarity: 0.9026\n",
            "Epoch 20/85\n",
            "1875/1875 [==============================] - 4s 2ms/step - loss: -0.8850 - cosine_similarity: 0.8850 - val_loss: -0.9036 - val_cosine_similarity: 0.9036\n",
            "Epoch 21/85\n",
            "1875/1875 [==============================] - 4s 2ms/step - loss: -0.8860 - cosine_similarity: 0.8860 - val_loss: -0.9041 - val_cosine_similarity: 0.9041\n",
            "Epoch 22/85\n",
            "1875/1875 [==============================] - 4s 2ms/step - loss: -0.8869 - cosine_similarity: 0.8869 - val_loss: -0.9055 - val_cosine_similarity: 0.9055\n",
            "Epoch 23/85\n",
            "1875/1875 [==============================] - 4s 2ms/step - loss: -0.8877 - cosine_similarity: 0.8877 - val_loss: -0.9062 - val_cosine_similarity: 0.9062\n",
            "Epoch 24/85\n",
            "1875/1875 [==============================] - 4s 2ms/step - loss: -0.8885 - cosine_similarity: 0.8885 - val_loss: -0.9068 - val_cosine_similarity: 0.9068\n",
            "Epoch 25/85\n",
            "1875/1875 [==============================] - 4s 2ms/step - loss: -0.8892 - cosine_similarity: 0.8892 - val_loss: -0.9073 - val_cosine_similarity: 0.9073\n",
            "Epoch 26/85\n",
            "1875/1875 [==============================] - 4s 2ms/step - loss: -0.8897 - cosine_similarity: 0.8897 - val_loss: -0.9091 - val_cosine_similarity: 0.9091\n",
            "Epoch 27/85\n",
            "1875/1875 [==============================] - 4s 2ms/step - loss: -0.8904 - cosine_similarity: 0.8904 - val_loss: -0.9092 - val_cosine_similarity: 0.9092\n",
            "Epoch 28/85\n",
            "1875/1875 [==============================] - 4s 2ms/step - loss: -0.8909 - cosine_similarity: 0.8909 - val_loss: -0.9096 - val_cosine_similarity: 0.9096\n",
            "Epoch 29/85\n",
            "1875/1875 [==============================] - 4s 2ms/step - loss: -0.8915 - cosine_similarity: 0.8915 - val_loss: -0.9102 - val_cosine_similarity: 0.9102\n",
            "Epoch 30/85\n",
            "1875/1875 [==============================] - 4s 2ms/step - loss: -0.8921 - cosine_similarity: 0.8921 - val_loss: -0.9108 - val_cosine_similarity: 0.9108\n",
            "Epoch 31/85\n",
            "1875/1875 [==============================] - 4s 2ms/step - loss: -0.8928 - cosine_similarity: 0.8928 - val_loss: -0.9111 - val_cosine_similarity: 0.9111\n",
            "Epoch 32/85\n",
            "1875/1875 [==============================] - 4s 2ms/step - loss: -0.8932 - cosine_similarity: 0.8932 - val_loss: -0.9116 - val_cosine_similarity: 0.9116\n",
            "Epoch 33/85\n",
            "1875/1875 [==============================] - 4s 2ms/step - loss: -0.8938 - cosine_similarity: 0.8938 - val_loss: -0.9119 - val_cosine_similarity: 0.9119\n",
            "Epoch 34/85\n",
            "1875/1875 [==============================] - 4s 2ms/step - loss: -0.8941 - cosine_similarity: 0.8941 - val_loss: -0.9125 - val_cosine_similarity: 0.9125\n",
            "Epoch 35/85\n",
            "1875/1875 [==============================] - 4s 2ms/step - loss: -0.8947 - cosine_similarity: 0.8947 - val_loss: -0.9128 - val_cosine_similarity: 0.9128\n",
            "Epoch 36/85\n",
            "1875/1875 [==============================] - 4s 2ms/step - loss: -0.8951 - cosine_similarity: 0.8951 - val_loss: -0.9135 - val_cosine_similarity: 0.9135\n",
            "Epoch 37/85\n",
            "1875/1875 [==============================] - 4s 2ms/step - loss: -0.8953 - cosine_similarity: 0.8953 - val_loss: -0.9139 - val_cosine_similarity: 0.9139\n",
            "Epoch 38/85\n",
            "1875/1875 [==============================] - 4s 2ms/step - loss: -0.8959 - cosine_similarity: 0.8959 - val_loss: -0.9143 - val_cosine_similarity: 0.9143\n",
            "Epoch 39/85\n",
            "1875/1875 [==============================] - 4s 2ms/step - loss: -0.8962 - cosine_similarity: 0.8962 - val_loss: -0.9144 - val_cosine_similarity: 0.9144\n",
            "Epoch 40/85\n",
            "1875/1875 [==============================] - 4s 2ms/step - loss: -0.8966 - cosine_similarity: 0.8966 - val_loss: -0.9140 - val_cosine_similarity: 0.9140\n",
            "Epoch 41/85\n",
            "1875/1875 [==============================] - 4s 2ms/step - loss: -0.8970 - cosine_similarity: 0.8970 - val_loss: -0.9150 - val_cosine_similarity: 0.9150\n",
            "Epoch 42/85\n",
            "1875/1875 [==============================] - 4s 2ms/step - loss: -0.8972 - cosine_similarity: 0.8972 - val_loss: -0.9151 - val_cosine_similarity: 0.9151\n",
            "Epoch 43/85\n",
            "1875/1875 [==============================] - 4s 2ms/step - loss: -0.8975 - cosine_similarity: 0.8975 - val_loss: -0.9154 - val_cosine_similarity: 0.9154\n",
            "Epoch 44/85\n",
            "1875/1875 [==============================] - 4s 2ms/step - loss: -0.8979 - cosine_similarity: 0.8979 - val_loss: -0.9161 - val_cosine_similarity: 0.9161\n",
            "Epoch 45/85\n",
            "1875/1875 [==============================] - 4s 2ms/step - loss: -0.8983 - cosine_similarity: 0.8983 - val_loss: -0.9165 - val_cosine_similarity: 0.9165\n",
            "Epoch 46/85\n",
            "1875/1875 [==============================] - 4s 2ms/step - loss: -0.8986 - cosine_similarity: 0.8986 - val_loss: -0.9166 - val_cosine_similarity: 0.9166\n",
            "Epoch 47/85\n",
            "1875/1875 [==============================] - 4s 2ms/step - loss: -0.8989 - cosine_similarity: 0.8989 - val_loss: -0.9165 - val_cosine_similarity: 0.9165\n",
            "Epoch 48/85\n",
            "1875/1875 [==============================] - 4s 2ms/step - loss: -0.8993 - cosine_similarity: 0.8993 - val_loss: -0.9168 - val_cosine_similarity: 0.9168\n",
            "Epoch 49/85\n",
            "1875/1875 [==============================] - 4s 2ms/step - loss: -0.8993 - cosine_similarity: 0.8993 - val_loss: -0.9170 - val_cosine_similarity: 0.9170\n",
            "Epoch 50/85\n",
            "1875/1875 [==============================] - 4s 2ms/step - loss: -0.8997 - cosine_similarity: 0.8997 - val_loss: -0.9175 - val_cosine_similarity: 0.9175\n",
            "Epoch 51/85\n",
            "1875/1875 [==============================] - 4s 2ms/step - loss: -0.9000 - cosine_similarity: 0.9000 - val_loss: -0.9174 - val_cosine_similarity: 0.9174\n",
            "Epoch 52/85\n",
            "1875/1875 [==============================] - 4s 2ms/step - loss: -0.9001 - cosine_similarity: 0.9001 - val_loss: -0.9178 - val_cosine_similarity: 0.9178\n",
            "Epoch 53/85\n",
            "1875/1875 [==============================] - 4s 2ms/step - loss: -0.9005 - cosine_similarity: 0.9005 - val_loss: -0.9183 - val_cosine_similarity: 0.9183\n",
            "Epoch 54/85\n",
            "1875/1875 [==============================] - 4s 2ms/step - loss: -0.9009 - cosine_similarity: 0.9009 - val_loss: -0.9184 - val_cosine_similarity: 0.9184\n",
            "Epoch 55/85\n",
            "1875/1875 [==============================] - 4s 2ms/step - loss: -0.9009 - cosine_similarity: 0.9009 - val_loss: -0.9185 - val_cosine_similarity: 0.9185\n",
            "Epoch 56/85\n",
            "1875/1875 [==============================] - 4s 2ms/step - loss: -0.9011 - cosine_similarity: 0.9011 - val_loss: -0.9185 - val_cosine_similarity: 0.9185\n",
            "Epoch 57/85\n",
            "1875/1875 [==============================] - 4s 2ms/step - loss: -0.9014 - cosine_similarity: 0.9014 - val_loss: -0.9188 - val_cosine_similarity: 0.9188\n",
            "Epoch 58/85\n",
            "1875/1875 [==============================] - 4s 2ms/step - loss: -0.9014 - cosine_similarity: 0.9014 - val_loss: -0.9187 - val_cosine_similarity: 0.9187\n",
            "Epoch 59/85\n",
            "1875/1875 [==============================] - 4s 2ms/step - loss: -0.9017 - cosine_similarity: 0.9017 - val_loss: -0.9189 - val_cosine_similarity: 0.9189\n",
            "Epoch 60/85\n",
            "1875/1875 [==============================] - 4s 2ms/step - loss: -0.9020 - cosine_similarity: 0.9020 - val_loss: -0.9189 - val_cosine_similarity: 0.9189\n",
            "Epoch 61/85\n",
            "1875/1875 [==============================] - 4s 2ms/step - loss: -0.9021 - cosine_similarity: 0.9021 - val_loss: -0.9196 - val_cosine_similarity: 0.9196\n",
            "Epoch 62/85\n",
            "1875/1875 [==============================] - 4s 2ms/step - loss: -0.9024 - cosine_similarity: 0.9024 - val_loss: -0.9194 - val_cosine_similarity: 0.9194\n",
            "Epoch 63/85\n",
            "1875/1875 [==============================] - 4s 2ms/step - loss: -0.9025 - cosine_similarity: 0.9025 - val_loss: -0.9193 - val_cosine_similarity: 0.9193\n",
            "Epoch 64/85\n",
            "1875/1875 [==============================] - 4s 2ms/step - loss: -0.9025 - cosine_similarity: 0.9025 - val_loss: -0.9195 - val_cosine_similarity: 0.9195\n",
            "Epoch 65/85\n",
            "1875/1875 [==============================] - 4s 2ms/step - loss: -0.9027 - cosine_similarity: 0.9027 - val_loss: -0.9201 - val_cosine_similarity: 0.9201\n",
            "Epoch 66/85\n",
            "1875/1875 [==============================] - 4s 2ms/step - loss: -0.9028 - cosine_similarity: 0.9028 - val_loss: -0.9195 - val_cosine_similarity: 0.9195\n",
            "Epoch 67/85\n",
            "1875/1875 [==============================] - 4s 2ms/step - loss: -0.9031 - cosine_similarity: 0.9031 - val_loss: -0.9201 - val_cosine_similarity: 0.9201\n",
            "Epoch 68/85\n",
            "1875/1875 [==============================] - 4s 2ms/step - loss: -0.9033 - cosine_similarity: 0.9033 - val_loss: -0.9203 - val_cosine_similarity: 0.9203\n",
            "Epoch 69/85\n",
            "1875/1875 [==============================] - 4s 2ms/step - loss: -0.9033 - cosine_similarity: 0.9033 - val_loss: -0.9201 - val_cosine_similarity: 0.9201\n",
            "Epoch 70/85\n",
            "1875/1875 [==============================] - 4s 2ms/step - loss: -0.9034 - cosine_similarity: 0.9034 - val_loss: -0.9208 - val_cosine_similarity: 0.9208\n",
            "Epoch 71/85\n",
            "1875/1875 [==============================] - 4s 2ms/step - loss: -0.9036 - cosine_similarity: 0.9036 - val_loss: -0.9204 - val_cosine_similarity: 0.9204\n",
            "Epoch 72/85\n",
            "1875/1875 [==============================] - 4s 2ms/step - loss: -0.9037 - cosine_similarity: 0.9037 - val_loss: -0.9208 - val_cosine_similarity: 0.9208\n",
            "Epoch 73/85\n",
            "1875/1875 [==============================] - 4s 2ms/step - loss: -0.9039 - cosine_similarity: 0.9039 - val_loss: -0.9206 - val_cosine_similarity: 0.9206\n",
            "Epoch 74/85\n",
            "1875/1875 [==============================] - 4s 2ms/step - loss: -0.9040 - cosine_similarity: 0.9040 - val_loss: -0.9205 - val_cosine_similarity: 0.9205\n",
            "Epoch 75/85\n",
            "1875/1875 [==============================] - 4s 2ms/step - loss: -0.9042 - cosine_similarity: 0.9042 - val_loss: -0.9210 - val_cosine_similarity: 0.9210\n",
            "Epoch 76/85\n",
            "1875/1875 [==============================] - 4s 2ms/step - loss: -0.9043 - cosine_similarity: 0.9043 - val_loss: -0.9210 - val_cosine_similarity: 0.9210\n",
            "Epoch 77/85\n",
            "1875/1875 [==============================] - 4s 2ms/step - loss: -0.9044 - cosine_similarity: 0.9044 - val_loss: -0.9213 - val_cosine_similarity: 0.9213\n",
            "Epoch 78/85\n",
            "1875/1875 [==============================] - 4s 2ms/step - loss: -0.9044 - cosine_similarity: 0.9044 - val_loss: -0.9215 - val_cosine_similarity: 0.9215\n",
            "Epoch 79/85\n",
            "1875/1875 [==============================] - 4s 2ms/step - loss: -0.9046 - cosine_similarity: 0.9046 - val_loss: -0.9216 - val_cosine_similarity: 0.9216\n",
            "Epoch 80/85\n",
            "1875/1875 [==============================] - 4s 2ms/step - loss: -0.9046 - cosine_similarity: 0.9046 - val_loss: -0.9217 - val_cosine_similarity: 0.9217\n",
            "Epoch 81/85\n",
            "1875/1875 [==============================] - 4s 2ms/step - loss: -0.9049 - cosine_similarity: 0.9049 - val_loss: -0.9213 - val_cosine_similarity: 0.9213\n",
            "Epoch 82/85\n",
            "1875/1875 [==============================] - 4s 2ms/step - loss: -0.9048 - cosine_similarity: 0.9048 - val_loss: -0.9218 - val_cosine_similarity: 0.9218\n",
            "Epoch 83/85\n",
            "1875/1875 [==============================] - 4s 2ms/step - loss: -0.9050 - cosine_similarity: 0.9050 - val_loss: -0.9218 - val_cosine_similarity: 0.9218\n",
            "Epoch 84/85\n",
            "1875/1875 [==============================] - 4s 2ms/step - loss: -0.9052 - cosine_similarity: 0.9052 - val_loss: -0.9218 - val_cosine_similarity: 0.9218\n",
            "Epoch 85/85\n",
            "1875/1875 [==============================] - 4s 2ms/step - loss: -0.9052 - cosine_similarity: 0.9052 - val_loss: -0.9219 - val_cosine_similarity: 0.9219\n"
          ],
          "name": "stdout"
        }
      ]
    },
    {
      "cell_type": "code",
      "metadata": {
        "id": "pbtP-a7lIreP"
      },
      "source": [
        "model.load_weights('.mdl_wts.hdf5')"
      ],
      "execution_count": 447,
      "outputs": []
    },
    {
      "cell_type": "code",
      "metadata": {
        "id": "gag2ZxtXzQ4e",
        "outputId": "ab278ef1-c225-409e-e163-861ccfebf534",
        "colab": {
          "base_uri": "https://localhost:8080/",
          "height": 52
        }
      },
      "source": [
        "print(model.evaluate(x_test, x_test))"
      ],
      "execution_count": 448,
      "outputs": [
        {
          "output_type": "stream",
          "text": [
            "188/188 [==============================] - 0s 2ms/step - loss: -0.7683 - cosine_similarity: 0.7683\n",
            "[-0.7683223485946655, 0.7683223485946655]\n"
          ],
          "name": "stdout"
        }
      ]
    },
    {
      "cell_type": "code",
      "metadata": {
        "id": "P_OeaO9n7-4G"
      },
      "source": [
        "y_pred = model.predict(x_test)\n",
        "y_pred0 = np.reshape(y_pred,(y_pred.shape[0],m,n))"
      ],
      "execution_count": 449,
      "outputs": []
    },
    {
      "cell_type": "code",
      "metadata": {
        "id": "HFmwlO9XywJ1"
      },
      "source": [
        "s = 3822"
      ],
      "execution_count": 450,
      "outputs": []
    },
    {
      "cell_type": "code",
      "metadata": {
        "id": "SwJZkBdIHkGq",
        "outputId": "a9f85251-b648-42b4-8418-498bbffc6306",
        "colab": {
          "base_uri": "https://localhost:8080/",
          "height": 214
        }
      },
      "source": [
        "image_list = []\n",
        "image_list.append([y_test[s].reshape((m,n)), 'Original Test Image', 'img'])\n",
        "image_list.append([x_test[s].reshape((m,n)), 'Noisy Test Image', 'img'])\n",
        "image_list.append([y_pred0[s], 'Predicted Image', 'img'])\n",
        "plotter(image_list,1,3 ,True,10,10)"
      ],
      "execution_count": 451,
      "outputs": [
        {
          "output_type": "display_data",
          "data": {
            "image/png": "[encoded data removed]",
            "text/plain": [
              "<Figure size 720x720 with 3 Axes>"
            ]
          },
          "metadata": {
            "tags": []
          }
        }
      ]
    },
    {
      "cell_type": "code",
      "metadata": {
        "id": "oOdjRIS2GP2N",
        "outputId": "1dd9a514-1b85-415e-805f-c128308f6152",
        "colab": {
          "base_uri": "https://localhost:8080/",
          "height": 34
        }
      },
      "source": [
        "np.max(y_val)"
      ],
      "execution_count": 452,
      "outputs": [
        {
          "output_type": "execute_result",
          "data": {
            "text/plain": [
              "1.0"
            ]
          },
          "metadata": {
            "tags": []
          },
          "execution_count": 452
        }
      ]
    }
  ]
}